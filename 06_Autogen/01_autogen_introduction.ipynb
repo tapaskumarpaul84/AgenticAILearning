{
 "cells": [
  {
   "cell_type": "code",
   "execution_count": 1,
   "id": "85dbaf5d",
   "metadata": {},
   "outputs": [
    {
     "name": "stdout",
     "output_type": "stream",
     "text": [
      "all ok\n"
     ]
    }
   ],
   "source": [
    "print(\"all ok\")"
   ]
  },
  {
   "cell_type": "code",
   "execution_count": 3,
   "id": "862dd2b9",
   "metadata": {},
   "outputs": [],
   "source": [
    "from autogen_agentchat.agents import AssistantAgent\n",
    "from autogen_ext.models.openai import OpenAIChatCompletionClient\n",
    "from dotenv import load_dotenv\n",
    "import os\n",
    "os.environ['OPENAI_API_KEY'] = os.getenv('OPENAI_API_KEY')"
   ]
  },
  {
   "cell_type": "markdown",
   "id": "b220dc35",
   "metadata": {},
   "source": [
    "#### connecting to the model"
   ]
  },
  {
   "cell_type": "code",
   "execution_count": 4,
   "id": "1cb7b261",
   "metadata": {},
   "outputs": [],
   "source": [
    "model_client=OpenAIChatCompletionClient(model='gpt-4o')"
   ]
  },
  {
   "cell_type": "code",
   "execution_count": null,
   "id": "0b0a9443",
   "metadata": {},
   "outputs": [],
   "source": [
    "agent_1=AssistantAgent(name='First_Agent',model_client=model_client) # name should be python identifier"
   ]
  },
  {
   "cell_type": "code",
   "execution_count": 10,
   "id": "2f561782",
   "metadata": {},
   "outputs": [],
   "source": [
    "result= await agent_1.run(task=\"What is the capital of India?\")"
   ]
  },
  {
   "cell_type": "code",
   "execution_count": 11,
   "id": "7c5bf18e",
   "metadata": {},
   "outputs": [
    {
     "name": "stdout",
     "output_type": "stream",
     "text": [
      "messages=[TextMessage(id='63721cee-27ea-461c-ba32-0c3d7a1ff102', source='user', models_usage=None, metadata={}, created_at=datetime.datetime(2025, 7, 15, 10, 55, 45, 835782, tzinfo=datetime.timezone.utc), content='What is the capital of India?', type='TextMessage'), TextMessage(id='8cbe35a0-5275-42f7-a0c7-1f04141dc1ac', source='First_Agent', models_usage=RequestUsage(prompt_tokens=98, completion_tokens=10), metadata={}, created_at=datetime.datetime(2025, 7, 15, 10, 55, 47, 176923, tzinfo=datetime.timezone.utc), content='The capital of India is New Delhi. TERMINATE', type='TextMessage')] stop_reason=None\n"
     ]
    }
   ],
   "source": [
    "print(result)"
   ]
  },
  {
   "cell_type": "markdown",
   "id": "e51c8968",
   "metadata": {},
   "source": [
    "#### using Ollama"
   ]
  },
  {
   "cell_type": "code",
   "execution_count": 33,
   "id": "a52967ac",
   "metadata": {},
   "outputs": [
    {
     "name": "stdout",
     "output_type": "stream",
     "text": [
      "finish_reason='stop' content='The capital of France is **Paris**. \\n\\nIt’s a common misconception that Paris is the only capital, but it’s the seat of government, culture, and history for France. \\n\\nDo you want to know more about Paris?' usage=RequestUsage(prompt_tokens=16, completion_tokens=51) cached=False logprobs=None thought=None\n"
     ]
    }
   ],
   "source": [
    "from autogen_core.models import UserMessage\n",
    "from autogen_ext.models.ollama import OllamaChatCompletionClient\n",
    "\n",
    "# Assuming your Ollama server is running locally on port 11434.\n",
    "ollama_model_client = OllamaChatCompletionClient(  \n",
    "                                            model=\"gemma3:1b\",\n",
    "                                            model_info={\n",
    "                                                \"model_name\": \"gemma3:1b\",\n",
    "                                                \"max_tokens\": 4096,\n",
    "                                                \"temperature\": 0.7,\n",
    "                                                \"provider\": \"ollama\",\n",
    "                                                \"vision\": True,\n",
    "                                                \"function_calling\":True,\n",
    "                                                \"json_output\":False\n",
    "                                            })\n",
    "\n",
    "response = await ollama_model_client.create([UserMessage(content=\"What is the capital of France?\", source=\"user\")])\n",
    "print(response)\n",
    "await ollama_model_client.close()\n"
   ]
  },
  {
   "cell_type": "markdown",
   "id": "e59cac22",
   "metadata": {},
   "source": [
    "#### Agent using gemini\n"
   ]
  },
  {
   "cell_type": "code",
   "execution_count": 20,
   "id": "892e057b",
   "metadata": {},
   "outputs": [],
   "source": [
    "gemini_api_key=os.getenv('GOOGLE_API_KEY')"
   ]
  },
  {
   "cell_type": "code",
   "execution_count": 22,
   "id": "88694d16",
   "metadata": {},
   "outputs": [
    {
     "name": "stdout",
     "output_type": "stream",
     "text": [
      "finish_reason='stop' content='Paris\\n' usage=RequestUsage(prompt_tokens=7, completion_tokens=2) cached=False logprobs=None thought=None\n"
     ]
    }
   ],
   "source": [
    "from autogen_core.models import UserMessage\n",
    "from autogen_ext.models.openai import OpenAIChatCompletionClient\n",
    "\n",
    "model_client = OpenAIChatCompletionClient(\n",
    "    model=\"gemini-1.5-flash-8b\",\n",
    "    api_key=gemini_api_key,\n",
    ")\n",
    "\n",
    "response = await model_client.create([UserMessage(content=\"What is the capital of France?\", source=\"user\")])\n",
    "print(response)\n",
    "await model_client.close()\n"
   ]
  },
  {
   "cell_type": "markdown",
   "id": "9e222b09",
   "metadata": {},
   "source": [
    "### Openrouter"
   ]
  },
  {
   "cell_type": "code",
   "execution_count": 29,
   "id": "7126ad83",
   "metadata": {},
   "outputs": [
    {
     "data": {
      "text/plain": [
       "True"
      ]
     },
     "execution_count": 29,
     "metadata": {},
     "output_type": "execute_result"
    }
   ],
   "source": [
    "load_dotenv()"
   ]
  },
  {
   "cell_type": "code",
   "execution_count": 30,
   "id": "969c9ea2",
   "metadata": {},
   "outputs": [
    {
     "name": "stdout",
     "output_type": "stream",
     "text": [
      "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\n"
     ]
    }
   ],
   "source": [
    "openrouter_api_key=os.getenv(\"OPEN_ROUTER_KEY\")\n",
    "print(openrouter_api_key)"
   ]
  },
  {
   "cell_type": "code",
   "execution_count": 31,
   "id": "1f0a5884",
   "metadata": {},
   "outputs": [
    {
     "name": "stderr",
     "output_type": "stream",
     "text": [
      "c:\\Users\\Hp\\miniconda3\\envs\\agentic_venv\\Lib\\site-packages\\autogen_ext\\models\\openai\\_openai_client.py:439: UserWarning: Missing required field 'structured_output' in ModelInfo. This field will be required in a future version of AutoGen.\n",
      "  validate_model_info(self._model_info)\n"
     ]
    },
    {
     "name": "stdout",
     "output_type": "stream",
     "text": [
      "finish_reason='stop' content='The capital of France is **Paris**. It is known for its iconic landmarks such as the Eiffel Tower, the Louvre Museum, and the Arc de Triomphe. \\n\\nWould you like more details about Paris? 😊' usage=RequestUsage(prompt_tokens=12, completion_tokens=47) cached=False logprobs=None thought=None\n"
     ]
    }
   ],
   "source": [
    "openrouter_model_client = OpenAIChatCompletionClient(\n",
    "    base_url=\"https://openrouter.ai/api/v1\",\n",
    "    model=\"deepseek/deepseek-chat-v3-0324:free\",\n",
    "    api_key=openrouter_api_key,\n",
    "    model_info={\n",
    "        \"family\":'deepseek',\n",
    "        \"vision\": True,\n",
    "        \"function_calling\":True,\n",
    "        \"json_output\":False\n",
    "    }\n",
    ")\n",
    "\n",
    "response = await openrouter_model_client.create([UserMessage(content=\"What is the capital of France?\", source=\"user\")])\n",
    "print(response)\n",
    "await openrouter_model_client.close()"
   ]
  },
  {
   "cell_type": "code",
   "execution_count": null,
   "id": "da2fcac3",
   "metadata": {},
   "outputs": [],
   "source": []
  }
 ],
 "metadata": {
  "kernelspec": {
   "display_name": "agentic_venv",
   "language": "python",
   "name": "python3"
  },
  "language_info": {
   "codemirror_mode": {
    "name": "ipython",
    "version": 3
   },
   "file_extension": ".py",
   "mimetype": "text/x-python",
   "name": "python",
   "nbconvert_exporter": "python",
   "pygments_lexer": "ipython3",
   "version": "3.11.13"
  }
 },
 "nbformat": 4,
 "nbformat_minor": 5
}
