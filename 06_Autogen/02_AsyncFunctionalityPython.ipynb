{
 "cells": [
  {
   "cell_type": "code",
   "execution_count": 1,
   "id": "623f69cf",
   "metadata": {},
   "outputs": [
    {
     "name": "stdout",
     "output_type": "stream",
     "text": [
      "all ok\n"
     ]
    }
   ],
   "source": [
    "print('all ok')"
   ]
  },
  {
   "cell_type": "markdown",
   "id": "336b780c",
   "metadata": {},
   "source": [
    "## Synchronous way"
   ]
  },
  {
   "cell_type": "code",
   "execution_count": null,
   "id": "36ca1c57",
   "metadata": {},
   "outputs": [
    {
     "name": "stdout",
     "output_type": "stream",
     "text": [
      "This is from function 1\n",
      "This is from function 2\n",
      "Function calling done\n"
     ]
    }
   ],
   "source": [
    "# synchronous or Normal way of coding/sequential based\n",
    "def fun1():\n",
    "    print(\"This is from function 1\")\n",
    "\n",
    "def fun2():\n",
    "    print(\"This is from function 2\")\n",
    "\n",
    "fun1()\n",
    "fun2()\n",
    "print(\"Function calling done\")"
   ]
  },
  {
   "cell_type": "code",
   "execution_count": 4,
   "id": "2d87158a",
   "metadata": {},
   "outputs": [
    {
     "name": "stdout",
     "output_type": "stream",
     "text": [
      "Brewing coffee\n",
      "coffee ready\n",
      "toasting begal\n",
      "begal ready\n",
      "Time taken: 5.00 minutes.\n"
     ]
    }
   ],
   "source": [
    "import time\n",
    "\n",
    "def brew_coffee():\n",
    "    print(\"Brewing coffee\")\n",
    "    time.sleep(3)\n",
    "    print(\"coffee ready\")\n",
    "\n",
    "def toast_begal():\n",
    "    print(\"toasting begal\")\n",
    "    time.sleep(2)\n",
    "    print(\"begal ready\")\n",
    "\n",
    "def main():\n",
    "    start=time.time()\n",
    "    brew_coffee()\n",
    "    toast_begal()\n",
    "    end=time.time()\n",
    "    print(f\"Time taken: {end-start:.2f} minutes.\")\n",
    "\n",
    "\n",
    "main()"
   ]
  },
  {
   "cell_type": "markdown",
   "id": "c18b02f1",
   "metadata": {},
   "source": [
    "### Asynchronous way"
   ]
  },
  {
   "cell_type": "code",
   "execution_count": 10,
   "id": "f4ffce8d",
   "metadata": {},
   "outputs": [
    {
     "name": "stdout",
     "output_type": "stream",
     "text": [
      "Brewing coffee\n",
      "toasting begal\n",
      "begal ready\n",
      "coffee ready\n",
      "Time taken: 3.01 minutes.\n"
     ]
    }
   ],
   "source": [
    "import time\n",
    "import asyncio\n",
    "\n",
    "async def brew_coffee():\n",
    "    print(\"Brewing coffee\")\n",
    "    await asyncio.sleep(3)\n",
    "    print(\"coffee ready\")\n",
    "\n",
    "async def toast_begal():\n",
    "    print(\"toasting begal\")\n",
    "    await asyncio.sleep(2)\n",
    "    print(\"begal ready\")\n",
    "\n",
    "\n",
    "async def main():\n",
    "    start=time.time()\n",
    "    coffee=brew_coffee()\n",
    "    toast=toast_begal()\n",
    "    result=await asyncio.gather(coffee,toast)\n",
    "    end= time.time()\n",
    "    print(f\"Time taken: {end-start:.2f} minutes.\")\n",
    "\n",
    "\n",
    "await main()\n",
    "\n",
    "\n"
   ]
  },
  {
   "cell_type": "code",
   "execution_count": 13,
   "id": "255110c1",
   "metadata": {},
   "outputs": [
    {
     "name": "stdout",
     "output_type": "stream",
     "text": [
      "Brewing coffee\n",
      "toasting begal\n",
      "coffee ready\n",
      "begal ready\n",
      "Time taken: 4.01 minutes.\n"
     ]
    }
   ],
   "source": [
    "import time\n",
    "import asyncio\n",
    "\n",
    "async def brew_coffee():\n",
    "    print(\"Brewing coffee\")\n",
    "    await asyncio.sleep(3)\n",
    "    print(\"coffee ready\")\n",
    "\n",
    "async def toast_begal():\n",
    "    print(\"toasting begal\")\n",
    "    await asyncio.sleep(2)\n",
    "    print(\"begal ready\")\n",
    "\n",
    "\n",
    "async def main():\n",
    "    start=time.time()\n",
    "    coffee=asyncio.create_task(brew_coffee())\n",
    "    await asyncio.sleep(2)\n",
    "    toast=asyncio.create_task(toast_begal())\n",
    "    result=await asyncio.gather(coffee,toast)\n",
    "    end= time.time()\n",
    "    print(f\"Time taken: {end-start:.2f} minutes.\")\n",
    "\n",
    "\n",
    "await main()"
   ]
  },
  {
   "cell_type": "code",
   "execution_count": null,
   "id": "1100437b",
   "metadata": {},
   "outputs": [],
   "source": []
  }
 ],
 "metadata": {
  "kernelspec": {
   "display_name": "agentic_venv",
   "language": "python",
   "name": "python3"
  },
  "language_info": {
   "codemirror_mode": {
    "name": "ipython",
    "version": 3
   },
   "file_extension": ".py",
   "mimetype": "text/x-python",
   "name": "python",
   "nbconvert_exporter": "python",
   "pygments_lexer": "ipython3",
   "version": "3.11.13"
  }
 },
 "nbformat": 4,
 "nbformat_minor": 5
}
