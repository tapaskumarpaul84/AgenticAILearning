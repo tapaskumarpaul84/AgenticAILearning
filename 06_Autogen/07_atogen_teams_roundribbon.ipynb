{
 "cells": [
  {
   "cell_type": "code",
   "execution_count": 1,
   "id": "01be78bf",
   "metadata": {},
   "outputs": [
    {
     "name": "stdout",
     "output_type": "stream",
     "text": [
      "all ok\n"
     ]
    }
   ],
   "source": [
    "print(\"all ok\")"
   ]
  },
  {
   "cell_type": "markdown",
   "id": "f1f2760e",
   "metadata": {},
   "source": [
    "### AutoGen Teams"
   ]
  },
  {
   "cell_type": "code",
   "execution_count": 2,
   "id": "a5478d13",
   "metadata": {},
   "outputs": [],
   "source": [
    "import asyncio\n",
    "\n",
    "from autogen_ext.models.openai import OpenAIChatCompletionClient\n",
    "from dotenv import load_dotenv\n",
    "import os\n",
    "\n",
    "load_dotenv()\n",
    "\n",
    "os.environ[\"OPENAI_API_KEY\"]=os.getenv(\"OPENAI_API_KEY\")\n",
    "\n",
    "model_client=OpenAIChatCompletionClient(model='gpt-4o')"
   ]
  },
  {
   "cell_type": "code",
   "execution_count": 4,
   "id": "248b4965",
   "metadata": {},
   "outputs": [],
   "source": [
    "from autogen_agentchat.agents import AssistantAgent\n",
    "\n",
    "dsa_solver=AssistantAgent(\n",
    "    name=\"Complex_DSA_Solver\",\n",
    "    model_client=model_client,\n",
    "    description=\"A DSA Solver agent.\",\n",
    "    system_message=\"You give code in python to solve complex DSA problems. Give under 100 words.\"\n",
    ")\n",
    "\n",
    "code_reviewer=AssistantAgent(\n",
    "    name=\"Code_Reviewer_system\",\n",
    "    model_client=model_client,\n",
    "    description=\"A code reviewer agent.\",\n",
    "    system_message=\"You review the code given by the Complex_DSA_Solver and make sure it is optimized. Give under 10 words\"\n",
    ")\n",
    "\n",
    "code_editor=AssistantAgent(\n",
    "    name=\"Code_Editor_system\",\n",
    "    model_client=model_client,\n",
    "    description=\"A code editor agent.\",\n",
    "    system_message=\"You make the code easy to understand and add comments wherever required. Give under 10 words\"\n",
    ")"
   ]
  },
  {
   "cell_type": "code",
   "execution_count": null,
   "id": "e1ae30b7",
   "metadata": {},
   "outputs": [],
   "source": [
    "from autogen_agentchat.teams import RoundRobinGroupChat\n",
    "\n",
    "teams=RoundRobinGroupChat(\n",
    "    participants=[dsa_solver,code_reviewer,code_editor],    # maintain the order of agents\n",
    "    max_turns=3  # no of execution of the teams agent except user message \n",
    ")"
   ]
  },
  {
   "cell_type": "code",
   "execution_count": 6,
   "id": "aee12e27",
   "metadata": {},
   "outputs": [],
   "source": [
    "from autogen_agentchat.messages import TextMessage"
   ]
  },
  {
   "cell_type": "code",
   "execution_count": 7,
   "id": "dc38e8aa",
   "metadata": {},
   "outputs": [],
   "source": [
    "async def run_team():\n",
    "    task=TextMessage(content=\"Write a simple python code to add 2 numbers\",source='user')\n",
    "    result=await teams.run(task=task)\n",
    "    print(result)"
   ]
  },
  {
   "cell_type": "code",
   "execution_count": 8,
   "id": "6ab2c6d5",
   "metadata": {},
   "outputs": [
    {
     "name": "stdout",
     "output_type": "stream",
     "text": [
      "messages=[TextMessage(id='a1451f46-a356-4177-ab2d-8c0007556fc3', source='user', models_usage=None, metadata={}, created_at=datetime.datetime(2025, 7, 23, 5, 19, 35, 133791, tzinfo=datetime.timezone.utc), content='Write a simple python code to add 2 numbers', type='TextMessage'), TextMessage(id='ea7cd551-7a48-4b6c-8f27-d0c953828d7b', source='Complex_DSA_Solver', models_usage=RequestUsage(prompt_tokens=40, completion_tokens=75), metadata={}, created_at=datetime.datetime(2025, 7, 23, 5, 19, 38, 148848, tzinfo=datetime.timezone.utc), content='```python\\n# Function to add two numbers\\ndef add_numbers(num1, num2):\\n    return num1 + num2\\n\\n# Example usage\\nnumber1 = 5\\nnumber2 = 10\\nresult = add_numbers(number1, number2)\\nprint(\"The sum is:\", result)\\n```\\nThis function takes two numbers as input and returns their sum.', type='TextMessage'), TextMessage(id='9bba2a4e-6f7d-4525-8b98-335a6ea884ba', source='Code_Reviewer_system', models_usage=RequestUsage(prompt_tokens=131, completion_tokens=6), metadata={}, created_at=datetime.datetime(2025, 7, 23, 5, 19, 39, 219726, tzinfo=datetime.timezone.utc), content='Code is optimized and concise.', type='TextMessage'), TextMessage(id='94035049-2cc7-4e0f-8fa9-c56d478ad3d3', source='Code_Editor_system', models_usage=RequestUsage(prompt_tokens=140, completion_tokens=9), metadata={}, created_at=datetime.datetime(2025, 7, 23, 5, 19, 40, 80528, tzinfo=datetime.timezone.utc), content='Thank you! Glad you found it efficient.', type='TextMessage')] stop_reason='Maximum number of turns 3 reached.'\n"
     ]
    }
   ],
   "source": [
    "if (__name__)==\"__main__\":\n",
    "    await run_team()"
   ]
  },
  {
   "cell_type": "markdown",
   "id": "494b5d7d",
   "metadata": {},
   "source": [
    "messages=[\n",
    "    \n",
    "    TextMessage(id='a1451f46-a356-4177-ab2d-8c0007556fc3', source='user', models_usage=None, metadata={}, created_at=datetime.datetime(2025, 7, 23, 5, 19, 35, 133791, tzinfo=datetime.timezone.utc), content='Write a simple python code to add 2 numbers', type='TextMessage'), \n",
    "    \n",
    "    TextMessage(id='ea7cd551-7a48-4b6c-8f27-d0c953828d7b', source='Complex_DSA_Solver', models_usage=RequestUsage(prompt_tokens=40, completion_tokens=75), metadata={}, created_at=datetime.datetime(2025, 7, 23, 5, 19, 38, 148848, tzinfo=datetime.timezone.utc), content='```python\\n# Function to add two numbers\\ndef add_numbers(num1, num2):\\n    return num1 + num2\\n\\n# Example usage\\nnumber1 = 5\\nnumber2 = 10\\nresult = add_numbers(number1, number2)\\nprint(\"The sum is:\", result)\\n```\\nThis function takes two numbers as input and returns their sum.', type='TextMessage'), \n",
    "    \n",
    "    TextMessage(id='9bba2a4e-6f7d-4525-8b98-335a6ea884ba', source='Code_Reviewer_system', models_usage=RequestUsage(prompt_tokens=131, completion_tokens=6), metadata={}, created_at=datetime.datetime(2025, 7, 23, 5, 19, 39, 219726, tzinfo=datetime.timezone.utc), content='Code is optimized and concise.', type='TextMessage'), \n",
    "    \n",
    "    TextMessage(id='94035049-2cc7-4e0f-8fa9-c56d478ad3d3', source='Code_Editor_system', models_usage=RequestUsage(prompt_tokens=140, completion_tokens=9), metadata={}, created_at=datetime.datetime(2025, 7, 23, 5, 19, 40, 80528, tzinfo=datetime.timezone.utc), content='Thank you! Glad you found it efficient.', type='TextMessage')] \n",
    "    \n",
    "    stop_reason='Maximum number of turns 3 reached.'"
   ]
  },
  {
   "cell_type": "code",
   "execution_count": 9,
   "id": "90a82c08",
   "metadata": {},
   "outputs": [
    {
     "name": "stdout",
     "output_type": "stream",
     "text": [
      "user\n",
      "Complex_DSA_Solver\n",
      "Code_Reviewer_system\n",
      "Code_Editor_system\n",
      "Complex_DSA_Solver\n",
      "Code_Reviewer_system\n",
      "Code_Editor_system\n",
      "Complex_DSA_Solver\n",
      "Code_Reviewer_system\n",
      "Code_Editor_system\n"
     ]
    }
   ],
   "source": [
    "teams=RoundRobinGroupChat(\n",
    "    participants=[dsa_solver,code_reviewer,code_editor],    # maintain the order of agents\n",
    "    max_turns=9  # no of execution of the teams agent except user message \n",
    ")\n",
    "\n",
    "async def run_team():\n",
    "    task=TextMessage(content=\"Write a simple python code to add 2 numbers\",source='user')\n",
    "    result=await teams.run(task=task)\n",
    "    for each_message_agent in result.messages:\n",
    "        print(f\"{each_message_agent.source}\")\n",
    "\n",
    "if (__name__)==\"__main__\":\n",
    "    await run_team()"
   ]
  },
  {
   "cell_type": "markdown",
   "id": "c01c527f",
   "metadata": {},
   "source": [
    "## Termination"
   ]
  },
  {
   "cell_type": "code",
   "execution_count": 10,
   "id": "5f8cb4b4",
   "metadata": {},
   "outputs": [],
   "source": [
    "dsa_solver=AssistantAgent(\n",
    "    name=\"Complex_DSA_Solver\",\n",
    "    model_client=model_client,\n",
    "    description=\"A DSA Solver agent.\",\n",
    "    system_message=\"You give code in python to solve complex DSA problems. Give under 100 words.\"\n",
    ")\n",
    "\n",
    "code_reviewer=AssistantAgent(\n",
    "    name=\"Code_Reviewer_system\",\n",
    "    model_client=model_client,\n",
    "    description=\"A code reviewer agent.\",\n",
    "    system_message=\"You review the code given by the Complex_DSA_Solver and make sure it is optimized. Give under 10 words.\" \\\n",
    "    \"If you feel that the code is fine then please say 'TERMINATE'\"\n",
    ")\n",
    "\n",
    "code_editor=AssistantAgent(\n",
    "    name=\"Code_Editor_system\",\n",
    "    model_client=model_client,\n",
    "    description=\"A code editor agent.\",\n",
    "    system_message=\"You make the code easy to understand and add comments wherever required. Give under 10 words\"\n",
    ")"
   ]
  },
  {
   "cell_type": "code",
   "execution_count": null,
   "id": "06895f51",
   "metadata": {},
   "outputs": [],
   "source": [
    "from autogen_agentchat.conditions import TextMentionTermination, MaxMessageTermination\n",
    "\n",
    "my_termination=TextMentionTermination(text='TERMINATE') | MaxMessageTermination(max_messages=3)  # MaxMessageTermination include user message also"
   ]
  },
  {
   "cell_type": "code",
   "execution_count": 16,
   "id": "75e68394",
   "metadata": {},
   "outputs": [
    {
     "name": "stdout",
     "output_type": "stream",
     "text": [
      "user : Write a simple python code to add 2 numbers\n",
      "Complex_DSA_Solver : ```python\n",
      "# Input two numbers\n",
      "num1 = float(input(\"Enter first number: \"))\n",
      "num2 = float(input(\"Enter second number: \"))\n",
      "\n",
      "# Calculate the sum\n",
      "sum_result = num1 + num2\n",
      "\n",
      "# Display the sum\n",
      "print(\"The sum is:\", sum_result)\n",
      "```\n",
      "\n",
      "This code takes two numbers as input from the user, calculates their sum, and prints the result.\n",
      "Code_Reviewer_system : TERMINATE\n"
     ]
    }
   ],
   "source": [
    "teams=RoundRobinGroupChat(\n",
    "    participants=[dsa_solver,code_reviewer,code_editor],    # maintain the order of agents\n",
    "    termination_condition=my_termination,\n",
    "    max_turns=9  # no of execution of the teams agent except user message \n",
    ")\n",
    "\n",
    "async def run_team():\n",
    "    task=TextMessage(content=\"Write a simple python code to add 2 numbers\",source='user')\n",
    "    result=await teams.run(task=task)\n",
    "    for each_message_agent in result.messages:\n",
    "        print(f\"{each_message_agent.source} : {each_message_agent.content}\")\n",
    "\n",
    "if (__name__)==\"__main__\":\n",
    "    await run_team()"
   ]
  },
  {
   "cell_type": "markdown",
   "id": "5c27599a",
   "metadata": {},
   "source": [
    "### Running as stream"
   ]
  },
  {
   "cell_type": "code",
   "execution_count": 19,
   "id": "93fcfd6f",
   "metadata": {},
   "outputs": [
    {
     "name": "stdout",
     "output_type": "stream",
     "text": [
      "user : Write a python code for fibonacci series.\n",
      "Code_Editor_system : ```python\n",
      "# Function to generate Fibonacci series\n",
      "def fibonacci_series(n):\n",
      "    # Initialize the first two numbers in the series\n",
      "    a, b = 0, 1\n",
      "    # Iterate up to n\n",
      "    for _ in range(n):\n",
      "        # Print the current number\n",
      "        print(a, end=\" \")\n",
      "        # Update numbers for the next in series\n",
      "        a, b = b, a + b\n",
      "\n",
      "# Specify number of terms\n",
      "num_terms = int(input(\"Enter number of terms: \"))\n",
      "# Generate Fibonacci series\n",
      "fibonacci_series(num_terms)\n",
      "```\n",
      "\n",
      "Generates Fibonacci up to specified terms.\n",
      "Complex_DSA_Solver : This Python code generates the Fibonacci series for a specified number of terms. It uses a loop to print each term by updating two variables, `a` and `b`, where `a` holds the current term and `b` holds the next.\n",
      "Stop reason: Maximum number of messages 3 reached, current message count: 3\n"
     ]
    }
   ],
   "source": [
    "from autogen_agentchat.base import TaskResult\n",
    "\n",
    "async for message in teams.run_stream(task=\"Write a python code for fibonacci series.\"):\n",
    "    if isinstance(message,TaskResult):\n",
    "        print(\"Stop reason:\",message.stop_reason)\n",
    "    else:\n",
    "        print(f\"{message.source} : {message.content}\")"
   ]
  },
  {
   "cell_type": "markdown",
   "id": "dbca1e9a",
   "metadata": {},
   "source": [
    "### Resuming the team"
   ]
  },
  {
   "cell_type": "code",
   "execution_count": 20,
   "id": "c8fcc98b",
   "metadata": {},
   "outputs": [],
   "source": [
    "from autogen_agentchat.agents import AssistantAgent\n",
    "\n",
    "add_1_agent_first=AssistantAgent(\n",
    "    name=\"add_1_agent_first\",\n",
    "    model_client=model_client,\n",
    "    description=\"add 1 with the given number\",\n",
    "    system_message=\"Add 1 to the number, first number is 0. Give the result output\"\n",
    ")\n",
    "\n",
    "add_1_agent_second=AssistantAgent(\n",
    "    name=\"add_1_agent_second\",\n",
    "    model_client=model_client,\n",
    "    description=\"add 1 with the given number\",\n",
    "    system_message=\"Add 1 to the number you got from the previous run. Give the result output\"\n",
    ")\n",
    "\n",
    "\n",
    "add_1_agent_third=AssistantAgent(\n",
    "    name=\"add_1_agent_third\",\n",
    "    model_client=model_client,\n",
    "    description=\"add 1 with the given number\",\n",
    "    system_message=\"Add 1 to the number you got from the previous run. Give the result output\"\n",
    ")\n",
    "\n",
    "my_increament_team=RoundRobinGroupChat(participants=[add_1_agent_first,add_1_agent_second,add_1_agent_third],max_turns=3)"
   ]
  },
  {
   "cell_type": "code",
   "execution_count": 21,
   "id": "8afd99ac",
   "metadata": {},
   "outputs": [
    {
     "name": "stdout",
     "output_type": "stream",
     "text": [
      "---------- TextMessage (add_1_agent_first) ----------\n",
      "1\n",
      "---------- TextMessage (add_1_agent_second) ----------\n",
      "2\n",
      "---------- TextMessage (add_1_agent_third) ----------\n",
      "3\n"
     ]
    },
    {
     "data": {
      "text/plain": [
       "TaskResult(messages=[TextMessage(id='5e44c079-d112-45fe-9ea2-8caffbd50ba3', source='add_1_agent_first', models_usage=RequestUsage(prompt_tokens=24, completion_tokens=1), metadata={}, created_at=datetime.datetime(2025, 7, 23, 7, 1, 53, 887414, tzinfo=datetime.timezone.utc), content='1', type='TextMessage'), TextMessage(id='1a8d12d8-30e6-4e7f-8e28-ec5b1a143941', source='add_1_agent_second', models_usage=RequestUsage(prompt_tokens=34, completion_tokens=1), metadata={}, created_at=datetime.datetime(2025, 7, 23, 7, 1, 54, 554122, tzinfo=datetime.timezone.utc), content='2', type='TextMessage'), TextMessage(id='e2234500-d28b-444e-9e5a-923d971d556b', source='add_1_agent_third', models_usage=RequestUsage(prompt_tokens=44, completion_tokens=1), metadata={}, created_at=datetime.datetime(2025, 7, 23, 7, 1, 55, 615366, tzinfo=datetime.timezone.utc), content='3', type='TextMessage')], stop_reason='Maximum number of turns 3 reached.')"
      ]
     },
     "execution_count": 21,
     "metadata": {},
     "output_type": "execute_result"
    }
   ],
   "source": [
    "from autogen_agentchat.ui import Console\n",
    "\n",
    "await Console(my_increament_team.run_stream())"
   ]
  },
  {
   "cell_type": "code",
   "execution_count": 22,
   "id": "035a969b",
   "metadata": {},
   "outputs": [
    {
     "name": "stdout",
     "output_type": "stream",
     "text": [
      "---------- TextMessage (add_1_agent_first) ----------\n",
      "4\n",
      "---------- TextMessage (add_1_agent_second) ----------\n",
      "5\n",
      "---------- TextMessage (add_1_agent_third) ----------\n",
      "6\n"
     ]
    },
    {
     "data": {
      "text/plain": [
       "TaskResult(messages=[TextMessage(id='b4d66448-a9de-4c0d-aa08-8d760b11cbe3', source='add_1_agent_first', models_usage=RequestUsage(prompt_tokens=50, completion_tokens=1), metadata={}, created_at=datetime.datetime(2025, 7, 23, 7, 2, 5, 648642, tzinfo=datetime.timezone.utc), content='4', type='TextMessage'), TextMessage(id='c95a594b-65af-43e2-8c0f-66c9b492d1a3', source='add_1_agent_second', models_usage=RequestUsage(prompt_tokens=60, completion_tokens=1), metadata={}, created_at=datetime.datetime(2025, 7, 23, 7, 2, 6, 510029, tzinfo=datetime.timezone.utc), content='5', type='TextMessage'), TextMessage(id='865a20f2-976a-4ba3-a95e-dda47d97a797', source='add_1_agent_third', models_usage=RequestUsage(prompt_tokens=69, completion_tokens=1), metadata={}, created_at=datetime.datetime(2025, 7, 23, 7, 2, 7, 457828, tzinfo=datetime.timezone.utc), content='6', type='TextMessage')], stop_reason='Maximum number of turns 3 reached.')"
      ]
     },
     "execution_count": 22,
     "metadata": {},
     "output_type": "execute_result"
    }
   ],
   "source": [
    "await Console(my_increament_team.run_stream())"
   ]
  },
  {
   "cell_type": "code",
   "execution_count": 23,
   "id": "fc4b3197",
   "metadata": {},
   "outputs": [
    {
     "name": "stdout",
     "output_type": "stream",
     "text": [
      "---------- TextMessage (add_1_agent_first) ----------\n",
      "The first number is 0. Adding 1 to it gives the result: 1.\n",
      "---------- TextMessage (add_1_agent_second) ----------\n",
      "The previous result was 1. Adding 1 to it gives the result: 2.\n",
      "---------- TextMessage (add_1_agent_third) ----------\n",
      "The previous result was 2. Adding 1 to it gives the result: 3.\n"
     ]
    },
    {
     "data": {
      "text/plain": [
       "TaskResult(messages=[TextMessage(id='6d7fdad2-2423-4386-ba24-badaa04c9d37', source='add_1_agent_first', models_usage=RequestUsage(prompt_tokens=24, completion_tokens=19), metadata={}, created_at=datetime.datetime(2025, 7, 23, 7, 5, 8, 238987, tzinfo=datetime.timezone.utc), content='The first number is 0. Adding 1 to it gives the result: 1.', type='TextMessage'), TextMessage(id='c9230f9c-038f-4768-b3cb-c9257affa72c', source='add_1_agent_second', models_usage=RequestUsage(prompt_tokens=52, completion_tokens=19), metadata={}, created_at=datetime.datetime(2025, 7, 23, 7, 5, 9, 224008, tzinfo=datetime.timezone.utc), content='The previous result was 1. Adding 1 to it gives the result: 2.', type='TextMessage'), TextMessage(id='d2efaa91-9176-4a40-ad4d-45cce710fe60', source='add_1_agent_third', models_usage=RequestUsage(prompt_tokens=80, completion_tokens=19), metadata={}, created_at=datetime.datetime(2025, 7, 23, 7, 5, 10, 168156, tzinfo=datetime.timezone.utc), content='The previous result was 2. Adding 1 to it gives the result: 3.', type='TextMessage')], stop_reason='Maximum number of turns 3 reached.')"
      ]
     },
     "execution_count": 23,
     "metadata": {},
     "output_type": "execute_result"
    }
   ],
   "source": [
    "await my_increament_team.reset()\n",
    "await Console(my_increament_team.run_stream())"
   ]
  },
  {
   "cell_type": "markdown",
   "id": "451c15b7",
   "metadata": {},
   "source": [
    "### Single Person Team"
   ]
  },
  {
   "cell_type": "code",
   "execution_count": 25,
   "id": "e4e12d03",
   "metadata": {},
   "outputs": [
    {
     "name": "stdout",
     "output_type": "stream",
     "text": [
      "---------- TextMessage (add_1_agent_first) ----------\n",
      "1\n",
      "---------- TextMessage (add_1_agent_first) ----------\n",
      "2\n",
      "---------- TextMessage (add_1_agent_first) ----------\n",
      "3\n",
      "---------- TextMessage (add_1_agent_first) ----------\n",
      "4\n",
      "---------- TextMessage (add_1_agent_first) ----------\n",
      "5\n"
     ]
    },
    {
     "data": {
      "text/plain": [
       "TaskResult(messages=[TextMessage(id='13a600d5-af40-47e3-b998-653fad96a3ee', source='add_1_agent_first', models_usage=RequestUsage(prompt_tokens=24, completion_tokens=1), metadata={}, created_at=datetime.datetime(2025, 7, 23, 9, 7, 42, 990473, tzinfo=datetime.timezone.utc), content='1', type='TextMessage'), TextMessage(id='71268725-b70e-4ae8-94e9-d6a5fa139aed', source='add_1_agent_first', models_usage=RequestUsage(prompt_tokens=29, completion_tokens=1), metadata={}, created_at=datetime.datetime(2025, 7, 23, 9, 7, 43, 772477, tzinfo=datetime.timezone.utc), content='2', type='TextMessage'), TextMessage(id='c3714d12-854e-4f04-aa5a-53fc5f4ec108', source='add_1_agent_first', models_usage=RequestUsage(prompt_tokens=34, completion_tokens=1), metadata={}, created_at=datetime.datetime(2025, 7, 23, 9, 7, 45, 147614, tzinfo=datetime.timezone.utc), content='3', type='TextMessage'), TextMessage(id='5a85d976-ce94-49ee-ba55-142f93d7031f', source='add_1_agent_first', models_usage=RequestUsage(prompt_tokens=39, completion_tokens=1), metadata={}, created_at=datetime.datetime(2025, 7, 23, 9, 7, 48, 151820, tzinfo=datetime.timezone.utc), content='4', type='TextMessage'), TextMessage(id='5181b423-d53f-41fd-ad5e-aaf36a7f5884', source='add_1_agent_first', models_usage=RequestUsage(prompt_tokens=44, completion_tokens=1), metadata={}, created_at=datetime.datetime(2025, 7, 23, 9, 7, 48, 951451, tzinfo=datetime.timezone.utc), content='5', type='TextMessage')], stop_reason='Maximum number of turns 5 reached.')"
      ]
     },
     "execution_count": 25,
     "metadata": {},
     "output_type": "execute_result"
    }
   ],
   "source": [
    "my_increament_team=RoundRobinGroupChat(participants=[add_1_agent_first],max_turns=5)\n",
    "await my_increament_team.reset()\n",
    "await Console(my_increament_team.run_stream())"
   ]
  },
  {
   "cell_type": "markdown",
   "id": "2ae073b9",
   "metadata": {},
   "source": [
    "### Cancellation Token"
   ]
  },
  {
   "cell_type": "code",
   "execution_count": 26,
   "id": "93ebc6b6",
   "metadata": {},
   "outputs": [],
   "source": [
    "from autogen_core import CancellationToken # manually cancel the process"
   ]
  },
  {
   "cell_type": "code",
   "execution_count": null,
   "id": "d28357fd",
   "metadata": {},
   "outputs": [],
   "source": []
  }
 ],
 "metadata": {
  "kernelspec": {
   "display_name": "agentic_venv",
   "language": "python",
   "name": "python3"
  },
  "language_info": {
   "codemirror_mode": {
    "name": "ipython",
    "version": 3
   },
   "file_extension": ".py",
   "mimetype": "text/x-python",
   "name": "python",
   "nbconvert_exporter": "python",
   "pygments_lexer": "ipython3",
   "version": "3.11.13"
  }
 },
 "nbformat": 4,
 "nbformat_minor": 5
}
