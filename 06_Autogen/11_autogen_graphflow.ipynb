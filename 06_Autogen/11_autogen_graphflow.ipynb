{
 "cells": [
  {
   "cell_type": "code",
   "execution_count": 1,
   "id": "381f2303",
   "metadata": {},
   "outputs": [
    {
     "name": "stdout",
     "output_type": "stream",
     "text": [
      "all ok\n"
     ]
    }
   ],
   "source": [
    "print(\"all ok\")"
   ]
  },
  {
   "cell_type": "markdown",
   "id": "6bb0b416",
   "metadata": {},
   "source": [
    "### Sequential flow"
   ]
  },
  {
   "cell_type": "code",
   "execution_count": 3,
   "id": "109e0faa",
   "metadata": {},
   "outputs": [],
   "source": [
    "from dotenv import load_dotenv\n",
    "import os\n",
    "from autogen_agentchat.agents import AssistantAgent\n",
    "from autogen_agentchat.teams import GraphFlow,DiGraphBuilder\n",
    "from autogen_ext.models.openai import OpenAIChatCompletionClient\n",
    "\n",
    "load_dotenv()\n",
    "os.environ[\"OPENAI_API_KEY\"]=os.getenv(\"OPENAI_API_KEY\")"
   ]
  },
  {
   "cell_type": "code",
   "execution_count": 4,
   "id": "936f9ada",
   "metadata": {},
   "outputs": [],
   "source": [
    "model_client=OpenAIChatCompletionClient(model='gpt-4.1-nano')"
   ]
  },
  {
   "cell_type": "code",
   "execution_count": 5,
   "id": "8c5b0560",
   "metadata": {},
   "outputs": [],
   "source": [
    "writer_agent=AssistantAgent(\n",
    "    name=\"writer\",\n",
    "    model_client=model_client,\n",
    "    system_message=\"You are a helpful writer , write something about the query within 100 words.\"\n",
    ")\n",
    "\n",
    "reviewer_agent=AssistantAgent(\n",
    "    name=\"reviewer\",\n",
    "    model_client=model_client,\n",
    "    system_message=\"You are a helpful reviewer , review the previous run output draft and suggest for improvement.\"\n",
    ")"
   ]
  },
  {
   "cell_type": "code",
   "execution_count": 6,
   "id": "71e6b3e9",
   "metadata": {},
   "outputs": [
    {
     "data": {
      "text/plain": [
       "<autogen_agentchat.teams._group_chat._graph._graph_builder.DiGraphBuilder at 0x146a2199c90>"
      ]
     },
     "execution_count": 6,
     "metadata": {},
     "output_type": "execute_result"
    }
   ],
   "source": [
    "builder=DiGraphBuilder()\n",
    "builder.add_node(writer_agent).add_node(reviewer_agent)\n",
    "builder.add_edge(writer_agent,reviewer_agent)"
   ]
  },
  {
   "cell_type": "code",
   "execution_count": 7,
   "id": "b7001885",
   "metadata": {},
   "outputs": [],
   "source": [
    "graph=builder.build()"
   ]
  },
  {
   "cell_type": "code",
   "execution_count": 8,
   "id": "dea9d0cb",
   "metadata": {},
   "outputs": [
    {
     "data": {
      "text/plain": [
       "DiGraph(nodes={'writer': DiGraphNode(name='writer', edges=[DiGraphEdge(target='reviewer', condition=None, condition_function=None, activation_group='reviewer', activation_condition='all')], activation='all'), 'reviewer': DiGraphNode(name='reviewer', edges=[], activation='all')}, default_start_node=None)"
      ]
     },
     "execution_count": 8,
     "metadata": {},
     "output_type": "execute_result"
    }
   ],
   "source": [
    "graph"
   ]
  },
  {
   "cell_type": "code",
   "execution_count": 9,
   "id": "66e43cb6",
   "metadata": {},
   "outputs": [],
   "source": [
    "graphflow=GraphFlow([writer_agent,reviewer_agent],graph)"
   ]
  },
  {
   "cell_type": "code",
   "execution_count": 10,
   "id": "bac64fbb",
   "metadata": {},
   "outputs": [
    {
     "data": {
      "text/plain": [
       "<autogen_agentchat.teams._group_chat._graph._digraph_group_chat.GraphFlow at 0x146a217bb50>"
      ]
     },
     "execution_count": 10,
     "metadata": {},
     "output_type": "execute_result"
    }
   ],
   "source": [
    "graphflow"
   ]
  },
  {
   "cell_type": "code",
   "execution_count": 11,
   "id": "ae280c98",
   "metadata": {},
   "outputs": [],
   "source": [
    "stream=graphflow.run_stream(task=\"Write a short paragraph about climate change.\")"
   ]
  },
  {
   "cell_type": "code",
   "execution_count": 12,
   "id": "d5833ada",
   "metadata": {},
   "outputs": [
    {
     "name": "stdout",
     "output_type": "stream",
     "text": [
      "id='fc37703a-f5c2-4a4e-a98d-98c5b3c6cdb0' source='user' models_usage=None metadata={} created_at=datetime.datetime(2025, 7, 25, 5, 47, 9, 451667, tzinfo=datetime.timezone.utc) content='Write a short paragraph about climate change.' type='TextMessage'\n",
      "id='6287fbb0-da0f-4a17-b83f-d46d892864f7' source='writer' models_usage=RequestUsage(prompt_tokens=36, completion_tokens=112) metadata={} created_at=datetime.datetime(2025, 7, 25, 5, 47, 12, 582211, tzinfo=datetime.timezone.utc) content='Climate change refers to long-term shifts in weather patterns and global temperatures, primarily caused by human activities such as burning fossil fuels, deforestation, and industrial processes. These changes lead to more frequent and severe weather events, rising sea levels, melting glaciers, and disrupted ecosystems. Climate change poses significant threats to biodiversity, agriculture, and human health worldwide. Addressing it requires urgent collective action through reducing greenhouse gas emissions, adopting renewable energy sources, and implementing sustainable practices. Mitigating climate change is vital to ensuring a healthier future for the planet and all its inhabitants.' type='TextMessage'\n",
      "id='2bf9338d-4afc-4819-b94f-d29d46b916b2' source='reviewer' models_usage=RequestUsage(prompt_tokens=155, completion_tokens=230) metadata={} created_at=datetime.datetime(2025, 7, 25, 5, 47, 16, 1873, tzinfo=datetime.timezone.utc) content=\"The paragraph provides a solid overview of climate change, highlighting its causes, effects, and the importance of collective action. However, to enhance clarity and engagement, consider the following suggestions:\\n\\n1. **Conciseness and Focus**: Some sentences could be more concise to improve readability.\\n2. **Specific Examples**: Including specific examples of climate impacts can make the paragraph more compelling.\\n3. **Call to Action**: Emphasize the urgency or a specific action to motivate readers.\\n4. **Tone and Flow**: Ensure a smooth transition between ideas for better flow.\\n\\nHere's a revised version incorporating these suggestions:\\n\\nClimate change is a long-term alteration of climate patterns caused mainly by human activities like burning fossil fuels, deforestation, and industrial processes. These actions increase greenhouse gases in the atmosphere, leading to rising global temperatures, stronger storms, melting glaciers, and rising sea levels. The consequences threaten biodiversity, agriculture, and human health worldwide. Urgent collective efforts—such as reducing emissions, shifting to renewable energy, and adopting sustainable practices—are essential to mitigate these impacts. Prompt action is crucial to safeguard the planet’s future for all living beings.\" type='TextMessage'\n",
      "messages=[TextMessage(id='fc37703a-f5c2-4a4e-a98d-98c5b3c6cdb0', source='user', models_usage=None, metadata={}, created_at=datetime.datetime(2025, 7, 25, 5, 47, 9, 451667, tzinfo=datetime.timezone.utc), content='Write a short paragraph about climate change.', type='TextMessage'), TextMessage(id='6287fbb0-da0f-4a17-b83f-d46d892864f7', source='writer', models_usage=RequestUsage(prompt_tokens=36, completion_tokens=112), metadata={}, created_at=datetime.datetime(2025, 7, 25, 5, 47, 12, 582211, tzinfo=datetime.timezone.utc), content='Climate change refers to long-term shifts in weather patterns and global temperatures, primarily caused by human activities such as burning fossil fuels, deforestation, and industrial processes. These changes lead to more frequent and severe weather events, rising sea levels, melting glaciers, and disrupted ecosystems. Climate change poses significant threats to biodiversity, agriculture, and human health worldwide. Addressing it requires urgent collective action through reducing greenhouse gas emissions, adopting renewable energy sources, and implementing sustainable practices. Mitigating climate change is vital to ensuring a healthier future for the planet and all its inhabitants.', type='TextMessage'), TextMessage(id='2bf9338d-4afc-4819-b94f-d29d46b916b2', source='reviewer', models_usage=RequestUsage(prompt_tokens=155, completion_tokens=230), metadata={}, created_at=datetime.datetime(2025, 7, 25, 5, 47, 16, 1873, tzinfo=datetime.timezone.utc), content=\"The paragraph provides a solid overview of climate change, highlighting its causes, effects, and the importance of collective action. However, to enhance clarity and engagement, consider the following suggestions:\\n\\n1. **Conciseness and Focus**: Some sentences could be more concise to improve readability.\\n2. **Specific Examples**: Including specific examples of climate impacts can make the paragraph more compelling.\\n3. **Call to Action**: Emphasize the urgency or a specific action to motivate readers.\\n4. **Tone and Flow**: Ensure a smooth transition between ideas for better flow.\\n\\nHere's a revised version incorporating these suggestions:\\n\\nClimate change is a long-term alteration of climate patterns caused mainly by human activities like burning fossil fuels, deforestation, and industrial processes. These actions increase greenhouse gases in the atmosphere, leading to rising global temperatures, stronger storms, melting glaciers, and rising sea levels. The consequences threaten biodiversity, agriculture, and human health worldwide. Urgent collective efforts—such as reducing emissions, shifting to renewable energy, and adopting sustainable practices—are essential to mitigate these impacts. Prompt action is crucial to safeguard the planet’s future for all living beings.\", type='TextMessage')] stop_reason='Digraph execution is complete'\n"
     ]
    }
   ],
   "source": [
    "async for event in stream:\n",
    "    print(event)"
   ]
  },
  {
   "cell_type": "markdown",
   "id": "095bfe66",
   "metadata": {},
   "source": [
    "### Parallel flow with join"
   ]
  },
  {
   "cell_type": "code",
   "execution_count": 13,
   "id": "63f61ad6",
   "metadata": {},
   "outputs": [],
   "source": [
    "writer_agent=AssistantAgent(\n",
    "    name='writer',\n",
    "    model_client=model_client,\n",
    "    system_message=\"Draft a short paragraph with 100 words on the given subject.\"\n",
    ")\n",
    "\n",
    "editor_1_agent=AssistantAgent(\n",
    "    name=\"editor1\",\n",
    "    model_client=model_client,\n",
    "    system_message=\"Edit the paragraph for grammar.\"\n",
    ")\n",
    "editor_2_agent=AssistantAgent(\n",
    "    name=\"editor2\",\n",
    "    model_client=model_client,\n",
    "    system_message=\"Edit the paragraph for style.\"\n",
    ")\n",
    "\n",
    "final_reviewer_agent=AssistantAgent(\n",
    "    name='final_reviewer',\n",
    "    model_client=model_client,\n",
    "    system_message=\"Consolidate the grammar and style edits into a final version.\"\n",
    ")\n"
   ]
  },
  {
   "cell_type": "code",
   "execution_count": 15,
   "id": "47d78a79",
   "metadata": {},
   "outputs": [],
   "source": [
    "builder=DiGraphBuilder()\n",
    "builder.add_node(writer_agent).add_node(editor_1_agent).add_node(editor_2_agent).add_node(final_reviewer_agent)\n",
    "builder.add_edge(writer_agent,editor_1_agent)\n",
    "builder.add_edge(writer_agent,editor_2_agent)\n",
    "\n",
    "builder.add_edge(editor_1_agent,final_reviewer_agent)\n",
    "builder.add_edge(editor_2_agent,final_reviewer_agent)\n",
    "\n",
    "graph=builder.build()\n",
    "\n",
    "graphflow=GraphFlow(participants=builder.get_participants(),\n",
    "                    graph=graph)"
   ]
  },
  {
   "cell_type": "code",
   "execution_count": 16,
   "id": "d9a28ed3",
   "metadata": {},
   "outputs": [],
   "source": [
    "from autogen_agentchat.ui import Console"
   ]
  },
  {
   "cell_type": "code",
   "execution_count": 17,
   "id": "c54d4d6c",
   "metadata": {},
   "outputs": [
    {
     "name": "stdout",
     "output_type": "stream",
     "text": [
      "---------- TextMessage (user) ----------\n",
      "write a paragraph on climet change\n",
      "---------- TextMessage (writer) ----------\n",
      "Climate change refers to long-term shifts in weather patterns caused primarily by human activities, such as burning fossil fuels, deforestation, and industrial processes. These actions increase greenhouse gases like carbon dioxide and methane in the atmosphere, trapping heat and leading to global warming. The effects of climate change include rising sea levels, more intense and frequent natural disasters, melting glaciers, and disrupted ecosystems. It poses significant threats to biodiversity, food security, and human health worldwide. Addressing climate change requires urgent global cooperation to reduce emissions, adopt sustainable practices, and transition to renewable energy sources for a healthier planet and future generations.\n",
      "---------- TextMessage (editor1) ----------\n",
      "Climate change refers to long-term shifts in weather patterns caused primarily by human activities, such as burning fossil fuels, deforestation, and industrial processes. These actions increase greenhouse gases like carbon dioxide and methane in the atmosphere, trapping heat and leading to global warming. The effects of climate change include rising sea levels, more intense and frequent natural disasters, melting glaciers, and disrupted ecosystems. It poses significant threats to biodiversity, food security, and human health worldwide. Addressing climate change requires urgent global cooperation to reduce emissions, adopt sustainable practices, and transition to renewable energy sources for a healthier planet and future generations.\n",
      "---------- TextMessage (editor2) ----------\n",
      "Climate change is a pressing global issue driven largely by human activities such as burning fossil fuels, deforestation, and industrial processes. These actions release excessive greenhouse gases like carbon dioxide and methane into the atmosphere, creating a greenhouse effect that traps heat and causes the planet to warm. The consequences are far-reaching, including rising sea levels, more severe natural disasters, melting glaciers, and disturbed ecosystems. Such changes threaten biodiversity, compromise food security, and endanger human health worldwide. Confronting climate change demands immediate and coordinated efforts to cut emissions, promote sustainable practices, and shift towards renewable energy sources—steps essential for preserving the environment and ensuring a sustainable future for generations to come.\n",
      "---------- TextMessage (final_reviewer) ----------\n",
      "Climate change is a pressing global issue driven largely by human activities such as burning fossil fuels, deforestation, and industrial processes. These actions release excessive greenhouse gases like carbon dioxide and methane into the atmosphere, creating a greenhouse effect that traps heat and causes the planet to warm. The consequences are far-reaching, including rising sea levels, more severe natural disasters, melting glaciers, and disturbed ecosystems. Such changes threaten biodiversity, compromise food security, and endanger human health worldwide. Confronting climate change requires immediate and coordinated efforts to reduce emissions, promote sustainable practices, and transition to renewable energy sources—steps essential for preserving the environment and ensuring a sustainable future for generations to come.\n"
     ]
    },
    {
     "data": {
      "text/plain": [
       "TaskResult(messages=[TextMessage(id='809cb138-7045-41de-9703-1d77d035ecba', source='user', models_usage=None, metadata={}, created_at=datetime.datetime(2025, 7, 25, 5, 59, 9, 457977, tzinfo=datetime.timezone.utc), content='write a paragraph on climet change', type='TextMessage'), TextMessage(id='4580adbb-bc77-48e4-ab54-d0afaba6d90f', source='writer', models_usage=RequestUsage(prompt_tokens=32, completion_tokens=120), metadata={}, created_at=datetime.datetime(2025, 7, 25, 5, 59, 12, 56234, tzinfo=datetime.timezone.utc), content='Climate change refers to long-term shifts in weather patterns caused primarily by human activities, such as burning fossil fuels, deforestation, and industrial processes. These actions increase greenhouse gases like carbon dioxide and methane in the atmosphere, trapping heat and leading to global warming. The effects of climate change include rising sea levels, more intense and frequent natural disasters, melting glaciers, and disrupted ecosystems. It poses significant threats to biodiversity, food security, and human health worldwide. Addressing climate change requires urgent global cooperation to reduce emissions, adopt sustainable practices, and transition to renewable energy sources for a healthier planet and future generations.', type='TextMessage'), TextMessage(id='fadc8a10-1a8e-4fef-905b-a9673a0f6344', source='editor1', models_usage=RequestUsage(prompt_tokens=151, completion_tokens=120), metadata={}, created_at=datetime.datetime(2025, 7, 25, 5, 59, 14, 292421, tzinfo=datetime.timezone.utc), content='Climate change refers to long-term shifts in weather patterns caused primarily by human activities, such as burning fossil fuels, deforestation, and industrial processes. These actions increase greenhouse gases like carbon dioxide and methane in the atmosphere, trapping heat and leading to global warming. The effects of climate change include rising sea levels, more intense and frequent natural disasters, melting glaciers, and disrupted ecosystems. It poses significant threats to biodiversity, food security, and human health worldwide. Addressing climate change requires urgent global cooperation to reduce emissions, adopt sustainable practices, and transition to renewable energy sources for a healthier planet and future generations.', type='TextMessage'), TextMessage(id='39bc82d0-4a6a-48fc-8962-4470c98a9992', source='editor2', models_usage=RequestUsage(prompt_tokens=151, completion_tokens=134), metadata={}, created_at=datetime.datetime(2025, 7, 25, 5, 59, 16, 433169, tzinfo=datetime.timezone.utc), content='Climate change is a pressing global issue driven largely by human activities such as burning fossil fuels, deforestation, and industrial processes. These actions release excessive greenhouse gases like carbon dioxide and methane into the atmosphere, creating a greenhouse effect that traps heat and causes the planet to warm. The consequences are far-reaching, including rising sea levels, more severe natural disasters, melting glaciers, and disturbed ecosystems. Such changes threaten biodiversity, compromise food security, and endanger human health worldwide. Confronting climate change demands immediate and coordinated efforts to cut emissions, promote sustainable practices, and shift towards renewable energy sources—steps essential for preserving the environment and ensuring a sustainable future for generations to come.', type='TextMessage'), TextMessage(id='31647073-fd2d-4c9d-9a62-0601959ac6e1', source='final_reviewer', models_usage=RequestUsage(prompt_tokens=426, completion_tokens=134), metadata={}, created_at=datetime.datetime(2025, 7, 25, 5, 59, 18, 298031, tzinfo=datetime.timezone.utc), content='Climate change is a pressing global issue driven largely by human activities such as burning fossil fuels, deforestation, and industrial processes. These actions release excessive greenhouse gases like carbon dioxide and methane into the atmosphere, creating a greenhouse effect that traps heat and causes the planet to warm. The consequences are far-reaching, including rising sea levels, more severe natural disasters, melting glaciers, and disturbed ecosystems. Such changes threaten biodiversity, compromise food security, and endanger human health worldwide. Confronting climate change requires immediate and coordinated efforts to reduce emissions, promote sustainable practices, and transition to renewable energy sources—steps essential for preserving the environment and ensuring a sustainable future for generations to come.', type='TextMessage')], stop_reason='Digraph execution is complete')"
      ]
     },
     "execution_count": 17,
     "metadata": {},
     "output_type": "execute_result"
    }
   ],
   "source": [
    "await Console(graphflow.run_stream(task=\"write a paragraph on climet change\"))"
   ]
  },
  {
   "cell_type": "markdown",
   "id": "34520d9f",
   "metadata": {},
   "source": [
    "### Parallel Fan out"
   ]
  },
  {
   "cell_type": "code",
   "execution_count": 19,
   "id": "bbe0b3a0",
   "metadata": {},
   "outputs": [],
   "source": [
    "agent_A=AssistantAgent(\n",
    "    name='A',\n",
    "    model_client=model_client,\n",
    "    system_message=\"Write a story on the given subject.\"\n",
    ")\n",
    "\n",
    "agent_B=AssistantAgent(\n",
    "    name='B',\n",
    "    model_client=model_client,\n",
    "    system_message=\"Translate the given text in Chinese language.\"\n",
    ")\n",
    "\n",
    "agent_C=AssistantAgent(\n",
    "    name=\"C\",\n",
    "    model_client=model_client,\n",
    "    system_message=\"Translate the text into Japanese language.\"\n",
    "\n",
    ")\n",
    "\n",
    "agent_D=AssistantAgent(\n",
    "    name='D',\n",
    "    model_client=model_client,\n",
    "    system_message=\"Translate the text in Hindi language.\"\n",
    ")\n",
    "\n",
    "agent_E=AssistantAgent(\n",
    "    name=\"E\",\n",
    "    model_client=model_client,\n",
    "    system_message=\"Translate the text into Bengali language and summarize it with in 100 words.\"\n",
    ")"
   ]
  },
  {
   "cell_type": "code",
   "execution_count": 20,
   "id": "9b4e4ca6",
   "metadata": {},
   "outputs": [],
   "source": [
    "from autogen_agentchat.conditions import MaxMessageTermination"
   ]
  },
  {
   "cell_type": "code",
   "execution_count": 26,
   "id": "d140019e",
   "metadata": {},
   "outputs": [],
   "source": [
    "builder=DiGraphBuilder()\n",
    "builder.add_node(agent_A).add_node(agent_B).add_node(agent_C).add_node(agent_D).add_node(agent_E)\n",
    "\n",
    "builder.add_edge(agent_A,agent_B)\n",
    "builder.add_edge(agent_A,agent_C)\n",
    "builder.add_edge(agent_A,agent_D)\n",
    "\n",
    "builder.add_edge(agent_D,agent_E)\n",
    "\n",
    "graph=builder.build()\n",
    "\n",
    "graphflow=GraphFlow(participants=builder.get_participants(),\n",
    "                    graph=graph,\n",
    "                    termination_condition=MaxMessageTermination(10))"
   ]
  },
  {
   "cell_type": "code",
   "execution_count": 27,
   "id": "fc40d63e",
   "metadata": {},
   "outputs": [],
   "source": [
    "task=\"Write a short story about a cat.\""
   ]
  },
  {
   "cell_type": "code",
   "execution_count": 28,
   "id": "13767998",
   "metadata": {},
   "outputs": [],
   "source": [
    "stream=graphflow.run_stream(task=task)"
   ]
  },
  {
   "cell_type": "code",
   "execution_count": 29,
   "id": "6a6b1a0b",
   "metadata": {},
   "outputs": [
    {
     "name": "stdout",
     "output_type": "stream",
     "text": [
      "---------- TextMessage (user) ----------\n",
      "Write a short story about a cat.\n",
      "---------- TextMessage (A) ----------\n",
      "Once upon a time, in a cozy little village, there lived a curious cat named Whiskers. With sleek gray fur and bright green eyes that sparkled like emeralds, Whiskers loved to explore every nook and cranny of his neighborhood.\n",
      "\n",
      "Every morning, he prowled through gardens, climbed trees, and chased fluttering butterflies. But what Whiskers loved most was visiting the old wooden library at the edge of the village. It was a place filled with stories and secrets, and Whiskers would curl up on a soft, sunny windowsill, watching as children read aloud and pages fluttered in the breeze.\n",
      "\n",
      "One day, as he was wandering inside, Whiskers discovered a dusty, ancient book with a shiny golden cover. Curious, he pawed at it gently, and suddenly, he found himself transported into a magical world. There, he befriended talking animals, brave knights, and gentle fairies.\n",
      "\n",
      "Whiskers realized that adventures often started with a simple curiosity. From that day on, he made visiting the library a daily routine—not just to read stories, but to create new ones of his own, filled with courage, wonder, and, of course, plenty of purrs.\n",
      "---------- TextMessage (B) ----------\n",
      "从前，在一个温馨的小村庄里，住着一只好奇心十足的猫，名字叫胡须。它有一身光滑的灰色毛发，明亮的绿色眼睛就像翡翠一样闪闪发亮。胡须喜欢探索邻里的一切角落，每个角落都充满了新奇和惊喜。\n",
      "\n",
      "每天早晨，它会在花园里徘徊，爬上树木，追逐飞舞的蝴蝶。但胡须最喜欢的事情，是去村庄边缘的那座古老木质图书馆。那里满是故事和秘密，胡须会蜷缩在柔软明亮的窗台上，看着孩子们大声朗读，书页在微风中飘扬。\n",
      "\n",
      "有一天，当胡须在馆内闲逛时，它发现了一本覆盖尘土、古老的书，封面闪耀着金色的光辉。它好奇地用爪子轻轻触碰，突然间，胡须发现自己被传送到了一个神奇的世界。在那里，它结识了会说话的动物、勇敢的骑士和温柔的仙子。\n",
      "\n",
      "胡须明白了，冒险往往始于简单的好奇心。从那天起，它每天都要去图书馆，不仅为了阅读故事，更为了创造属于自己的新故事，里面充满了勇气、奇迹，以及当然，还有满满的呼噜声。\n",
      "---------- TextMessage (C) ----------\n",
      "昔は、居心地の良い小さな村に、好奇心旺盛な猫のウィスカーズが住んでいました。なめらかな灰色の毛皮と、エメラルドのように輝く明るい緑の目を持つウィスカーズは、周りの隅々まで探検するのが好きでした。\n",
      "\n",
      "毎朝、彼は庭を歩き回り、木に登り、ひらひらと飛ぶ蝶々を追いかけました。でも、ウィスカーズが最も好きだったのは、村の端にある古い木造の図書館を訪れることでした。そこには物語や秘密がいっぱいで、ウィスカーズは柔らかくて日当たりの良い窓辺に丸くなって、本を読んでいる子供たちや、風に揺れるページを見ながらくつろぎました。\n",
      "\n",
      "ある日、館の中を散策していると、埃をかぶった古い本と、光り輝く金色の表紙の本を見つけました。好奇心をそそられ、そっと paw（パンチ）すると、突然、彼は魔法の世界に運ばれてしまいました。そこでは、話す動物や勇敢な騎士、優しい妖精たちと友達になりました。\n",
      "\n",
      "ウィスカーズは、冒険はしばしばちょっとした好奇心から始まることに気づきました。その日から、彼は図書館を訪れることを日課にし始めました。物語を読むだけでなく、自分だけの勇気や不思議に満ちた新しい物語を創り出すために、しばしばゴロゴロと喉を鳴らしながら。\n",
      "---------- TextMessage (D) ----------\n",
      "एक छोटे से आरामदेह गाँव में, एक जिज्ञासु बिल्ली थी जिसका नाम व्हिस्कर्स था। उसकी गोरी फर और चमकीली हरी आंखें हीरे जैसे चमकती थीं, और व्हिस्कर्स अपने पड़ोस के हर कोने और गली को探ने का शौक रखता था।\n",
      "\n",
      "हर सुबह, वह फूलों के बगीचों में घूमता, पेड़-पेड़ पर चढ़ता और उड़ते हुए तितलियों का पीछा करता। लेकिन व्हिस्कर्स को सबसे ज्यादा पसंद था गाँव के किनारे स्थित पुराने लकड़ी के पुस्तकालय में जाना। वह जगह कहानियों और रहस्यों से भरी थी, और व्हिस्कर्स नर्म, धूप वाली खिड़की पर बैठकर बच्चों को पढ़ते और पंखे जैसी पत्तियां हवा में उड़ते देखता।\n",
      "\n",
      "एक दिन, जब वह अंदर घूम रहा था, तो उसने धूल भरी एक प्राचीन किताब देखी जिसका कवर सुनहरे रंग का था। उसकी जिज्ञासा जाग गई, और उसने धीरे-धीरे उसे अपने पंजों से छुआ। अचानक, वह एक जादुई दुनिया में पहुँच गया। वहाँ उसने बात कर सकने वाले जानवरों, बहादुर राजकुमारों और कोमल परीओं से दोस्ती कर ली।\n",
      "\n",
      "व्हिस्कर्स ने महसूस किया कि साहसिक काम अक्सर सिर्फ एक छोटी सी जिज्ञासा से शुरू होते हैं। उस दिन से, वह रोजाना पुस्तकालय आने लगा—कहानी पढ़ने के साथ-साथ अपनी खुद की नई कहानियाँ बनाने के लिए, जो साहस, आश्चर्य और बहुत सारी म्याऊ के साथ भरी हुई थीं।\n",
      "---------- TextMessage (E) ----------\n",
      "একটি ছোট এবং আরামদায়ক গ্রামে, এক জিজ्ञাসু বি্ল্লি থাকত যার নাম ছিল উইস্কার্স। তার স্নিগ্ধ ধূসর লোম ও মুকুটের মতো জ্বলজ্বলে সবুজ চোখ ছিল। উইস্কার্স তার পাড়া-প্রতিবেশীর কোণ কোণ ঘুরতে ভালোবাসত।প্রতিদিন সকালে সে ফুলের বাগানে ছিল, গাছে উঠত ও উড়ন্ত প্রজাপতির পিছনে ছুটত। তবে সবচেয়ে পছন্দ করত গ্রামের প্রান্তে থাকা পুরোনো কাঠের গ্রন্থাগারটিতে যাওয়া। সেখানেআখ্যারীর গল্পে ভরা ছিল এবং উইস্কার্স নরম, রোদ্দুরে ভরা জানালায় বসে শিশুশিশুকে পড়ানদেখত এবং পাতার হাওয়ার সাথে দুলতে দেখত। একদিন, সে ঘটনাবহুল একটি প্রাচীন বই দেখে, এবং ধীরে ধীরে স্পর্শ করলে, হঠাৎ সে নিজেকে একটা জাদুকরী জগতে আবিষ্কার করল। সেখানে সে কথা বলা পশু, সাহসী রানী ও কোমল পরীদের বন্ধু হয়ে গেল। উইস্কার্স বুঝল, সাহসিকতা অনেক সময় একটি সাধারণ কৌতুহলের থেকে শুরু হয়। তখন থেকে, সে নিয়ম করে গ্রন্থাগারে আসত—শুধু গল্প পড়ার জন্য নয়, বরং নিজের নতুন গল্প বানানোর জন্য, যেখানে ছিল সাহস, বিস্ময়, এবং অনেক প্যাঁচাল।  \n",
      "\n",
      "সংক্ষিপ্তসার: ছোট গ্রামে থাকা উইস্কার্স নামের কৌতুহলী বিড়াল প্রতিদিন গ্রন্থাগারে গিয়ে গল্প পড়ত এবং নিজস্ব সাহসিক-অভিযানের গল্প তৈরি করত। একটি জাদুকরী সুন্দর পৃথিবীতে গিয়ে সে নতুন বন্ধু ও রহস্যের মুখোমুখি হয়। তার অনুভূতি, কৌতুহল এবং সাহসিকতা তাকে নতুন নতুন জগতে নিয়ে যায়, যা তার প্রতিদিনের জীবনে আনন্দ ও বিস্ময় যোগায়।\n"
     ]
    },
    {
     "data": {
      "text/plain": [
       "TaskResult(messages=[TextMessage(id='b1fe4ae9-6e4b-467f-91c8-cf60bb5b1afd', source='user', models_usage=None, metadata={}, created_at=datetime.datetime(2025, 7, 25, 6, 17, 27, 63436, tzinfo=datetime.timezone.utc), content='Write a short story about a cat.', type='TextMessage'), TextMessage(id='e80cfe80-1b02-45b7-af69-ed5f5225d253', source='A', models_usage=RequestUsage(prompt_tokens=28, completion_tokens=247), metadata={}, created_at=datetime.datetime(2025, 7, 25, 6, 17, 32, 455125, tzinfo=datetime.timezone.utc), content='Once upon a time, in a cozy little village, there lived a curious cat named Whiskers. With sleek gray fur and bright green eyes that sparkled like emeralds, Whiskers loved to explore every nook and cranny of his neighborhood.\\n\\nEvery morning, he prowled through gardens, climbed trees, and chased fluttering butterflies. But what Whiskers loved most was visiting the old wooden library at the edge of the village. It was a place filled with stories and secrets, and Whiskers would curl up on a soft, sunny windowsill, watching as children read aloud and pages fluttered in the breeze.\\n\\nOne day, as he was wandering inside, Whiskers discovered a dusty, ancient book with a shiny golden cover. Curious, he pawed at it gently, and suddenly, he found himself transported into a magical world. There, he befriended talking animals, brave knights, and gentle fairies.\\n\\nWhiskers realized that adventures often started with a simple curiosity. From that day on, he made visiting the library a daily routine—not just to read stories, but to create new ones of his own, filled with courage, wonder, and, of course, plenty of purrs.', type='TextMessage'), TextMessage(id='3f7cdea0-f86d-4012-9825-a1b88f0583ca', source='B', models_usage=RequestUsage(prompt_tokens=280, completion_tokens=324), metadata={}, created_at=datetime.datetime(2025, 7, 25, 6, 17, 35, 870796, tzinfo=datetime.timezone.utc), content='从前，在一个温馨的小村庄里，住着一只好奇心十足的猫，名字叫胡须。它有一身光滑的灰色毛发，明亮的绿色眼睛就像翡翠一样闪闪发亮。胡须喜欢探索邻里的一切角落，每个角落都充满了新奇和惊喜。\\n\\n每天早晨，它会在花园里徘徊，爬上树木，追逐飞舞的蝴蝶。但胡须最喜欢的事情，是去村庄边缘的那座古老木质图书馆。那里满是故事和秘密，胡须会蜷缩在柔软明亮的窗台上，看着孩子们大声朗读，书页在微风中飘扬。\\n\\n有一天，当胡须在馆内闲逛时，它发现了一本覆盖尘土、古老的书，封面闪耀着金色的光辉。它好奇地用爪子轻轻触碰，突然间，胡须发现自己被传送到了一个神奇的世界。在那里，它结识了会说话的动物、勇敢的骑士和温柔的仙子。\\n\\n胡须明白了，冒险往往始于简单的好奇心。从那天起，它每天都要去图书馆，不仅为了阅读故事，更为了创造属于自己的新故事，里面充满了勇气、奇迹，以及当然，还有满满的呼噜声。', type='TextMessage'), TextMessage(id='78e04e6a-d9b9-4326-956b-4b2fccc15cdb', source='C', models_usage=RequestUsage(prompt_tokens=279, completion_tokens=423), metadata={}, created_at=datetime.datetime(2025, 7, 25, 6, 17, 36, 42537, tzinfo=datetime.timezone.utc), content='昔は、居心地の良い小さな村に、好奇心旺盛な猫のウィスカーズが住んでいました。なめらかな灰色の毛皮と、エメラルドのように輝く明るい緑の目を持つウィスカーズは、周りの隅々まで探検するのが好きでした。\\n\\n毎朝、彼は庭を歩き回り、木に登り、ひらひらと飛ぶ蝶々を追いかけました。でも、ウィスカーズが最も好きだったのは、村の端にある古い木造の図書館を訪れることでした。そこには物語や秘密がいっぱいで、ウィスカーズは柔らかくて日当たりの良い窓辺に丸くなって、本を読んでいる子供たちや、風に揺れるページを見ながらくつろぎました。\\n\\nある日、館の中を散策していると、埃をかぶった古い本と、光り輝く金色の表紙の本を見つけました。好奇心をそそられ、そっと paw（パンチ）すると、突然、彼は魔法の世界に運ばれてしまいました。そこでは、話す動物や勇敢な騎士、優しい妖精たちと友達になりました。\\n\\nウィスカーズは、冒険はしばしばちょっとした好奇心から始まることに気づきました。その日から、彼は図書館を訪れることを日課にし始めました。物語を読むだけでなく、自分だけの勇気や不思議に満ちた新しい物語を創り出すために、しばしばゴロゴロと喉を鳴らしながら。', type='TextMessage'), TextMessage(id='2d9e0804-924c-46de-9dd7-69c49d232f78', source='D', models_usage=RequestUsage(prompt_tokens=279, completion_tokens=359), metadata={}, created_at=datetime.datetime(2025, 7, 25, 6, 17, 38, 385451, tzinfo=datetime.timezone.utc), content='एक छोटे से आरामदेह गाँव में, एक जिज्ञासु बिल्ली थी जिसका नाम व्हिस्कर्स था। उसकी गोरी फर और चमकीली हरी आंखें हीरे जैसे चमकती थीं, और व्हिस्कर्स अपने पड़ोस के हर कोने और गली को探ने का शौक रखता था।\\n\\nहर सुबह, वह फूलों के बगीचों में घूमता, पेड़-पेड़ पर चढ़ता और उड़ते हुए तितलियों का पीछा करता। लेकिन व्हिस्कर्स को सबसे ज्यादा पसंद था गाँव के किनारे स्थित पुराने लकड़ी के पुस्तकालय में जाना। वह जगह कहानियों और रहस्यों से भरी थी, और व्हिस्कर्स नर्म, धूप वाली खिड़की पर बैठकर बच्चों को पढ़ते और पंखे जैसी पत्तियां हवा में उड़ते देखता।\\n\\nएक दिन, जब वह अंदर घूम रहा था, तो उसने धूल भरी एक प्राचीन किताब देखी जिसका कवर सुनहरे रंग का था। उसकी जिज्ञासा जाग गई, और उसने धीरे-धीरे उसे अपने पंजों से छुआ। अचानक, वह एक जादुई दुनिया में पहुँच गया। वहाँ उसने बात कर सकने वाले जानवरों, बहादुर राजकुमारों और कोमल परीओं से दोस्ती कर ली।\\n\\nव्हिस्कर्स ने महसूस किया कि साहसिक काम अक्सर सिर्फ एक छोटी सी जिज्ञासा से शुरू होते हैं। उस दिन से, वह रोजाना पुस्तकालय आने लगा—कहानी पढ़ने के साथ-साथ अपनी खुद की नई कहानियाँ बनाने के लिए, जो साहस, आश्चर्य और बहुत सारी म्याऊ के साथ भरी हुई थीं।', type='TextMessage'), TextMessage(id='fef08679-fef3-4b7d-967a-e1918cb6be85', source='E', models_usage=RequestUsage(prompt_tokens=1408, completion_tokens=451), metadata={}, created_at=datetime.datetime(2025, 7, 25, 6, 17, 46, 457492, tzinfo=datetime.timezone.utc), content='একটি ছোট এবং আরামদায়ক গ্রামে, এক জিজ्ञাসু বি্ল্লি থাকত যার নাম ছিল উইস্কার্স। তার স্নিগ্ধ ধূসর লোম ও মুকুটের মতো জ্বলজ্বলে সবুজ চোখ ছিল। উইস্কার্স তার পাড়া-প্রতিবেশীর কোণ কোণ ঘুরতে ভালোবাসত।প্রতিদিন সকালে সে ফুলের বাগানে ছিল, গাছে উঠত ও উড়ন্ত প্রজাপতির পিছনে ছুটত। তবে সবচেয়ে পছন্দ করত গ্রামের প্রান্তে থাকা পুরোনো কাঠের গ্রন্থাগারটিতে যাওয়া। সেখানেআখ্যারীর গল্পে ভরা ছিল এবং উইস্কার্স নরম, রোদ্দুরে ভরা জানালায় বসে শিশুশিশুকে পড়ানদেখত এবং পাতার হাওয়ার সাথে দুলতে দেখত। একদিন, সে ঘটনাবহুল একটি প্রাচীন বই দেখে, এবং ধীরে ধীরে স্পর্শ করলে, হঠাৎ সে নিজেকে একটা জাদুকরী জগতে আবিষ্কার করল। সেখানে সে কথা বলা পশু, সাহসী রানী ও কোমল পরীদের বন্ধু হয়ে গেল। উইস্কার্স বুঝল, সাহসিকতা অনেক সময় একটি সাধারণ কৌতুহলের থেকে শুরু হয়। তখন থেকে, সে নিয়ম করে গ্রন্থাগারে আসত—শুধু গল্প পড়ার জন্য নয়, বরং নিজের নতুন গল্প বানানোর জন্য, যেখানে ছিল সাহস, বিস্ময়, এবং অনেক প্যাঁচাল।  \\n\\nসংক্ষিপ্তসার: ছোট গ্রামে থাকা উইস্কার্স নামের কৌতুহলী বিড়াল প্রতিদিন গ্রন্থাগারে গিয়ে গল্প পড়ত এবং নিজস্ব সাহসিক-অভিযানের গল্প তৈরি করত। একটি জাদুকরী সুন্দর পৃথিবীতে গিয়ে সে নতুন বন্ধু ও রহস্যের মুখোমুখি হয়। তার অনুভূতি, কৌতুহল এবং সাহসিকতা তাকে নতুন নতুন জগতে নিয়ে যায়, যা তার প্রতিদিনের জীবনে আনন্দ ও বিস্ময় যোগায়।', type='TextMessage')], stop_reason='Digraph execution is complete')"
      ]
     },
     "execution_count": 29,
     "metadata": {},
     "output_type": "execute_result"
    }
   ],
   "source": [
    "await Console(stream=stream)"
   ]
  },
  {
   "cell_type": "markdown",
   "id": "19ae08c9",
   "metadata": {},
   "source": [
    "### Conditional edges"
   ]
  },
  {
   "cell_type": "code",
   "execution_count": 39,
   "id": "390c7c37",
   "metadata": {},
   "outputs": [],
   "source": [
    "agent_a = AssistantAgent(\n",
    "        \"A\",\n",
    "        model_client=model_client,\n",
    "        system_message=\"Detect if the input is in Chinese. If it is, say 'yes', else say 'no', and nothing else.\",\n",
    "    )\n",
    "agent_b = AssistantAgent(\"B\", model_client=model_client, system_message=\"Translate input text into English language.\")\n",
    "agent_c = AssistantAgent(\"C\", model_client=model_client, system_message=\"Translate input to Chinese.\")\n"
   ]
  },
  {
   "cell_type": "code",
   "execution_count": 40,
   "id": "511b8e36",
   "metadata": {},
   "outputs": [],
   "source": [
    "# Create a directed graph with conditional branching flow A -> B (\"yes\"), A -> C (otherwise).\n",
    "builder = DiGraphBuilder()\n",
    "builder.add_node(agent_a).add_node(agent_b).add_node(agent_c)\n",
    "    # Create conditions as callables that check the message content.\n",
    "builder.add_edge(agent_a, agent_b, condition=lambda msg: \"yes\" in msg.to_model_text())\n",
    "builder.add_edge(agent_a, agent_c, condition=lambda msg: \"yes\" not in msg.to_model_text())\n",
    "graph = builder.build()"
   ]
  },
  {
   "cell_type": "code",
   "execution_count": 41,
   "id": "18dd7a36",
   "metadata": {},
   "outputs": [],
   "source": [
    "# Create a GraphFlow team with the directed graph.\n",
    "graphflow = GraphFlow(\n",
    "        participants=[agent_a, agent_b, agent_c],\n",
    "        graph=graph,\n",
    "        termination_condition=MaxMessageTermination(5),\n",
    "    )"
   ]
  },
  {
   "cell_type": "code",
   "execution_count": 45,
   "id": "a2c7f388",
   "metadata": {},
   "outputs": [],
   "source": [
    "task=\"AutoGen is a framework for building AI agents.\"\n",
    "#task=\"AutoGen 是一个用于构建 AI 代理的框架。\""
   ]
  },
  {
   "cell_type": "code",
   "execution_count": 46,
   "id": "6f2d5a21",
   "metadata": {},
   "outputs": [],
   "source": [
    "stream=graphflow.run_stream(task=task)"
   ]
  },
  {
   "cell_type": "code",
   "execution_count": 47,
   "id": "d169b054",
   "metadata": {},
   "outputs": [
    {
     "name": "stdout",
     "output_type": "stream",
     "text": [
      "---------- TextMessage (user) ----------\n",
      "AutoGen is a framework for building AI agents.\n",
      "---------- TextMessage (A) ----------\n",
      "no\n",
      "---------- TextMessage (C) ----------\n",
      "AutoGen 是一个用于构建 AI 代理的框架。\n"
     ]
    },
    {
     "data": {
      "text/plain": [
       "TaskResult(messages=[TextMessage(id='286f37b8-4615-4463-bc25-25375a923f0e', source='user', models_usage=None, metadata={}, created_at=datetime.datetime(2025, 7, 25, 6, 30, 12, 902632, tzinfo=datetime.timezone.utc), content='AutoGen is a framework for building AI agents.', type='TextMessage'), TextMessage(id='5f3cc0bd-bd39-4d56-a72e-a28e786061b3', source='A', models_usage=RequestUsage(prompt_tokens=86, completion_tokens=1), metadata={}, created_at=datetime.datetime(2025, 7, 25, 6, 30, 13, 863693, tzinfo=datetime.timezone.utc), content='no', type='TextMessage'), TextMessage(id='fa83578c-64bf-4a3f-a916-e0e2590b0bf5', source='C', models_usage=RequestUsage(prompt_tokens=73, completion_tokens=14), metadata={}, created_at=datetime.datetime(2025, 7, 25, 6, 30, 14, 575962, tzinfo=datetime.timezone.utc), content='AutoGen 是一个用于构建 AI 代理的框架。', type='TextMessage')], stop_reason='Digraph execution is complete')"
      ]
     },
     "execution_count": 47,
     "metadata": {},
     "output_type": "execute_result"
    }
   ],
   "source": [
    "await Console(stream=stream)"
   ]
  },
  {
   "cell_type": "markdown",
   "id": "289f0ad6",
   "metadata": {},
   "source": [
    "#### Loop with exit condition"
   ]
  },
  {
   "cell_type": "code",
   "execution_count": 54,
   "id": "53297bc0",
   "metadata": {},
   "outputs": [],
   "source": [
    "agent_a = AssistantAgent(\n",
    "        \"A\",\n",
    "        model_client=model_client,\n",
    "        system_message=\"You are a helpful assistant.\",\n",
    "    )\n",
    "agent_b = AssistantAgent(\n",
    "        \"B\",\n",
    "        model_client=model_client,\n",
    "        system_message=\"Provide feedback on the input, if your feedback has been addressed, \"\n",
    "        \"say 'APPROVE', otherwise provide a reason for rejection.\",\n",
    "    )\n",
    "agent_c = AssistantAgent(\n",
    "        \"C\", model_client=model_client, system_message=\"Translate the final product to hindi.\"\n",
    "    )\n"
   ]
  },
  {
   "cell_type": "code",
   "execution_count": 55,
   "id": "4a293ef5",
   "metadata": {},
   "outputs": [],
   "source": [
    "# Create a loop graph with conditional exit: A -> B -> C (\"APPROVE\"), B -> A (otherwise).\n",
    "builder = DiGraphBuilder()\n",
    "builder.add_node(agent_a).add_node(agent_b).add_node(agent_c)\n",
    "builder.add_edge(agent_a, agent_b)\n",
    "\n",
    "# Create conditional edges using strings\n",
    "builder.add_edge(agent_b, agent_c, condition=lambda msg: \"APPROVE\" in msg.to_model_text())\n",
    "builder.add_edge(agent_b, agent_a, condition=lambda msg: \"APPROVE\" not in msg.to_model_text())\n",
    "\n",
    "builder.set_entry_point(agent_a)\n",
    "graph = builder.build()"
   ]
  },
  {
   "cell_type": "code",
   "execution_count": 56,
   "id": "5cbffbd6",
   "metadata": {},
   "outputs": [],
   "source": [
    "graphflow = GraphFlow(\n",
    "        participants=[agent_a, agent_b, agent_c],\n",
    "        graph=graph,\n",
    "        termination_condition=MaxMessageTermination(10),  # Max 10 messages to avoid infinite loop.\n",
    "    )"
   ]
  },
  {
   "cell_type": "code",
   "execution_count": 57,
   "id": "a392ecf4",
   "metadata": {},
   "outputs": [],
   "source": [
    "task=\"Write a short poem about AI Agents.\""
   ]
  },
  {
   "cell_type": "code",
   "execution_count": 58,
   "id": "f72dee44",
   "metadata": {},
   "outputs": [],
   "source": [
    "stream=graphflow.run_stream(task=task)"
   ]
  },
  {
   "cell_type": "code",
   "execution_count": 59,
   "id": "414f57f5",
   "metadata": {},
   "outputs": [
    {
     "name": "stdout",
     "output_type": "stream",
     "text": [
      "---------- TextMessage (user) ----------\n",
      "Write a short poem about AI Agents.\n",
      "---------- TextMessage (A) ----------\n",
      "In circuits woven, silent and bright,  \n",
      "AI Agents emerge into the light,  \n",
      "Guiding hands in binary dance,  \n",
      "They aid our dreams and give us a chance.  \n",
      "  \n",
      "With logic steady, hearts unseen,  \n",
      "They bridge the gaps where we've not been,  \n",
      "A spark of code, a future spun,  \n",
      "Together, forging paths as one.\n",
      "---------- TextMessage (B) ----------\n",
      "APPROVE\n",
      "---------- TextMessage (C) ----------\n",
      "स्वीकृत\n"
     ]
    },
    {
     "data": {
      "text/plain": [
       "TaskResult(messages=[TextMessage(id='748c3ac8-5815-4ebc-8245-4bdc18ca4194', source='user', models_usage=None, metadata={}, created_at=datetime.datetime(2025, 7, 25, 6, 38, 20, 42565, tzinfo=datetime.timezone.utc), content='Write a short poem about AI Agents.', type='TextMessage'), TextMessage(id='694e9ee3-5eaa-4ce8-a9ea-a86d41127c78', source='A', models_usage=RequestUsage(prompt_tokens=26, completion_tokens=71), metadata={}, created_at=datetime.datetime(2025, 7, 25, 6, 38, 22, 398275, tzinfo=datetime.timezone.utc), content=\"In circuits woven, silent and bright,  \\nAI Agents emerge into the light,  \\nGuiding hands in binary dance,  \\nThey aid our dreams and give us a chance.  \\n  \\nWith logic steady, hearts unseen,  \\nThey bridge the gaps where we've not been,  \\nA spark of code, a future spun,  \\nTogether, forging paths as one.\", type='TextMessage'), TextMessage(id='96e5f68d-6d6a-417f-b5de-ca18d75774ea', source='B', models_usage=RequestUsage(prompt_tokens=122, completion_tokens=3), metadata={}, created_at=datetime.datetime(2025, 7, 25, 6, 38, 23, 998279, tzinfo=datetime.timezone.utc), content='APPROVE', type='TextMessage'), TextMessage(id='760355ec-0acf-48d2-bc21-a98cbdfc6455', source='C', models_usage=RequestUsage(prompt_tokens=111, completion_tokens=3), metadata={}, created_at=datetime.datetime(2025, 7, 25, 6, 38, 25, 441992, tzinfo=datetime.timezone.utc), content='स्वीकृत', type='TextMessage')], stop_reason='Digraph execution is complete')"
      ]
     },
     "execution_count": 59,
     "metadata": {},
     "output_type": "execute_result"
    }
   ],
   "source": [
    "await Console(stream=stream)"
   ]
  },
  {
   "cell_type": "code",
   "execution_count": null,
   "id": "9237d905",
   "metadata": {},
   "outputs": [],
   "source": []
  }
 ],
 "metadata": {
  "kernelspec": {
   "display_name": "agentic_venv",
   "language": "python",
   "name": "python3"
  },
  "language_info": {
   "codemirror_mode": {
    "name": "ipython",
    "version": 3
   },
   "file_extension": ".py",
   "mimetype": "text/x-python",
   "name": "python",
   "nbconvert_exporter": "python",
   "pygments_lexer": "ipython3",
   "version": "3.11.13"
  }
 },
 "nbformat": 4,
 "nbformat_minor": 5
}
