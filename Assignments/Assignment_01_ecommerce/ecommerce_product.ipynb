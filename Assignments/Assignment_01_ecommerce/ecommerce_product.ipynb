{
 "cells": [
  {
   "cell_type": "markdown",
   "id": "013e42aa",
   "metadata": {},
   "source": [
    "Make an Assistant which can provide the ecommerce product details if someone ask for a product.\n",
    "1. Use Pydantic technics for output string format\n",
    "2. Any LLM\n",
    "3. Output format will be a. Product Name, b. Product details, c. Tentative Price in $"
   ]
  },
  {
   "cell_type": "code",
   "execution_count": 1,
   "id": "f240fb45",
   "metadata": {},
   "outputs": [],
   "source": [
    "from pydantic import BaseModel,Field\n",
    "from typing import Dict,Any\n",
    "from langchain_core.output_parsers import JsonOutputParser\n",
    "import requests\n",
    "from langchain_core.output_parsers import StrOutputParser\n",
    "from langchain_google_genai import ChatGoogleGenerativeAI\n",
    "from langchain_core.prompts import ChatPromptTemplate\n",
    "from langchain_core.prompts import PromptTemplate"
   ]
  },
  {
   "cell_type": "code",
   "execution_count": 2,
   "id": "b4d3c8bc",
   "metadata": {},
   "outputs": [],
   "source": [
    "class product_item_details(BaseModel):\n",
    "    product_name: str=Field(description=\"Product Name\")\n",
    "    product_details: Dict[str, Any]=Field(description=\"Product details\")\n",
    "    tentative_price: str=Field(description=\"This is tentative price of the product in $\")\n",
    "    rating: str=Field(description=\"Rating of the product out of 5\")"
   ]
  },
  {
   "cell_type": "code",
   "execution_count": 3,
   "id": "9006e2f2",
   "metadata": {},
   "outputs": [],
   "source": [
    "\n",
    "\n",
    "details_output_parser=JsonOutputParser(pydantic_object=product_item_details)"
   ]
  },
  {
   "cell_type": "code",
   "execution_count": 4,
   "id": "9fabb8da",
   "metadata": {},
   "outputs": [],
   "source": [
    "model=ChatGoogleGenerativeAI(model='gemini-1.5-flash')"
   ]
  },
  {
   "cell_type": "code",
   "execution_count": 20,
   "id": "46c2ef30",
   "metadata": {},
   "outputs": [],
   "source": [
    "details_prompt=ChatPromptTemplate.from_messages([\n",
    "    (\"system\", \"\"\"You are a helpful shopping assistant that answers questions using data provided by a custom function \n",
    "     when available. If the function returns relevant data, use it to form a clear, complete, and human-like response. \n",
    "     If the function output is missing or incomplete or No product found then use your own reasoning to provide the best possible answer. Product\n",
    "     details will be in dictionary format. If multiple products are available for in custom function call provide the\n",
    "     best rating and most sell and best price product details.\n",
    "     Please exclude the price section from product details part.\n",
    "     Product details will be like dimensions, ram size, disk size,product url etc its fully depends on product. If custom functions\n",
    "     output do not have that much informations then check your own data and provide best and complete details information.\n",
    "    ## Function Output:\n",
    "    {function_output}\n",
    "    ## User Question:\n",
    "    {user_input}\n",
    "    ## Your Answer:\n",
    "    {format_instruction}\"\"\"),\n",
    "    (\"human\",\"{user_input}\")\n",
    "\n",
    "]\n",
    ")"
   ]
  },
  {
   "cell_type": "code",
   "execution_count": 6,
   "id": "589f6265",
   "metadata": {},
   "outputs": [],
   "source": [
    "details_chain=details_prompt.partial(format_instruction=details_output_parser.get_format_instructions()) | model | details_output_parser"
   ]
  },
  {
   "cell_type": "code",
   "execution_count": 7,
   "id": "4c374d9e",
   "metadata": {},
   "outputs": [],
   "source": [
    "def real_time_product(product_name):\n",
    "    url = \"https://real-time-amazon-data.p.rapidapi.com/search\"\n",
    "    querystring = {\"query\":product_name,\"country\":\"US\"}\n",
    "\n",
    "    headers = {\n",
    "\t    \"x-rapidapi-key\": \"8d2c3fac9emshdb7e04ae201905ep12a1e0jsn4d4b4f089f6c\",\n",
    "\t    \"x-rapidapi-host\": \"real-time-amazon-data.p.rapidapi.com\"\n",
    "        }\n",
    "\n",
    "    response = requests.get(url, headers=headers, params=querystring)\n",
    "\n",
    "    return response.json()"
   ]
  },
  {
   "cell_type": "code",
   "execution_count": 8,
   "id": "d8783c32",
   "metadata": {},
   "outputs": [],
   "source": [
    "extract_prompt=PromptTemplate(\n",
    "    template=\"\"\"\n",
    "        You are an assistant that extracts product names from user questions.\n",
    "        Extract the exact name of the product mentioned in the following {query}. Respond with only the product name and nothing else. If there is no product name in the query provide response as None\"\"\",\n",
    "        input_variables=\"{query}\"     \n",
    ")"
   ]
  },
  {
   "cell_type": "code",
   "execution_count": 9,
   "id": "ed858703",
   "metadata": {},
   "outputs": [],
   "source": [
    "str_output_parser=StrOutputParser()"
   ]
  },
  {
   "cell_type": "code",
   "execution_count": 10,
   "id": "dbde870d",
   "metadata": {},
   "outputs": [],
   "source": [
    "extract_chain=extract_prompt | model | str_output_parser\n",
    "\n"
   ]
  },
  {
   "cell_type": "code",
   "execution_count": 11,
   "id": "07c3c215",
   "metadata": {},
   "outputs": [],
   "source": [
    "def product_details_output(product_name):\n",
    "    if product_name=='None':\n",
    "        return 'No product found'\n",
    "    else:\n",
    "        product_details=real_time_product(product_name)\n",
    "        return product_details"
   ]
  },
  {
   "cell_type": "code",
   "execution_count": 12,
   "id": "0dd715ef",
   "metadata": {},
   "outputs": [],
   "source": [
    "def fetch_product_details(user_text):\n",
    "    product_name=extract_chain.invoke(user_text)\n",
    "    print(product_name)\n",
    "    result=details_chain.invoke({\"function_output\":product_details_output(product_name),\"user_input\":product_name})\n",
    "    return result"
   ]
  },
  {
   "cell_type": "code",
   "execution_count": null,
   "id": "8aa1e64b",
   "metadata": {},
   "outputs": [
    {
     "name": "stdout",
     "output_type": "stream",
     "text": [
      "samsung tv\n",
      "{'product_name': 'Samsung 50-Inch Class QLED Q60C Series Quantum HDR Smart TV', 'product_details': {'Resolution': '4K', 'Features': 'Quantum HDR, Dual LED, Object Tracking Sound Lite, Q-Symphony, Motion Xcelerator, Gaming Hub, Alexa Built-in', 'Model': 'QN50Q60C', 'Year': '2023', 'Product URL': 'https://www.amazon.com/dp/B0BVMXYB92'}, 'tentative_price': 'Unavailable', 'rating': '4.5'}\n"
     ]
    }
   ],
   "source": [
    "# Real time product details from Amazon\n",
    "result=fetch_product_details('I want to buy a samsung tv. can you suggest best price') \n",
    "print(result)"
   ]
  },
  {
   "cell_type": "code",
   "execution_count": 32,
   "id": "b28fbfeb",
   "metadata": {},
   "outputs": [],
   "source": [
    "prompt=ChatPromptTemplate.from_messages([\n",
    "    (\"system\", \"\"\"You are a shopping assistant. Please extract the product in {user_input}. \n",
    "      use your own reasoning to provide the details of given product. Desired response will be like \n",
    "     {format_instruction}. Product price will be in USD value. If multiple products are available provide the\n",
    "     best rating and most sell and best price product details.\n",
    "     Product details will be like dimensions, ram size, disk size,product url etc its fully depends on product.\n",
    "     if product is not available please tell that you do not have real time information , for more details asked to check\n",
    "     few ecommerce sites.\n",
    "    ## User Question:\n",
    "    {user_input}\n",
    "    ## Your Answer:\n",
    "    {format_instruction}\"\"\"),\n",
    "    (\"human\",\"{user_input}\")])\n"
   ]
  },
  {
   "cell_type": "code",
   "execution_count": 33,
   "id": "87f6addf",
   "metadata": {},
   "outputs": [],
   "source": [
    "chain=prompt.partial(format_instruction=details_output_parser.get_format_instructions()) | model | details_output_parser"
   ]
  },
  {
   "cell_type": "code",
   "execution_count": null,
   "id": "806af53b",
   "metadata": {},
   "outputs": [
    {
     "data": {
      "text/plain": [
       "{'product_name': 'iPhone 15 Pro Max',\n",
       " 'product_details': {'storage_options': ['256GB', '512GB', '1TB'],\n",
       "  'colors': ['Space Black', 'Silver', 'Gold', 'Deep Purple'],\n",
       "  'display': '6.7-inch Super Retina XDR display',\n",
       "  'chip': 'A17 Pro chip',\n",
       "  'camera': '48MP Main camera with advanced features',\n",
       "  'ram': '6GB',\n",
       "  'battery': 'All-day battery life',\n",
       "  'dimensions': 'Approximately 6.28 x 3.02 x 0.32 inches',\n",
       "  'weight': 'Approximately 8.28 ounces',\n",
       "  'operating_system': 'iOS 17'},\n",
       " 'tentative_price': '$1199',\n",
       " 'rating': '4.8'}"
      ]
     },
     "execution_count": 36,
     "metadata": {},
     "output_type": "execute_result"
    }
   ],
   "source": [
    "# trained LLM model output this is not real time details\n",
    "result=chain.invoke({\"user_input\":\"I want to buy a iphone 15 pro max\"})\n",
    "result"
   ]
  },
  {
   "cell_type": "code",
   "execution_count": null,
   "id": "8c3f3573",
   "metadata": {},
   "outputs": [],
   "source": []
  }
 ],
 "metadata": {
  "kernelspec": {
   "display_name": "agentic_venv",
   "language": "python",
   "name": "python3"
  },
  "language_info": {
   "codemirror_mode": {
    "name": "ipython",
    "version": 3
   },
   "file_extension": ".py",
   "mimetype": "text/x-python",
   "name": "python",
   "nbconvert_exporter": "python",
   "pygments_lexer": "ipython3",
   "version": "3.11.13"
  }
 },
 "nbformat": 4,
 "nbformat_minor": 5
}
