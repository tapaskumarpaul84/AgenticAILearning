{
 "cells": [
  {
   "cell_type": "code",
   "execution_count": 2,
   "id": "ba6fc58d",
   "metadata": {},
   "outputs": [],
   "source": [
    "from dataclasses import dataclass"
   ]
  },
  {
   "cell_type": "code",
   "execution_count": 3,
   "id": "849b08ee",
   "metadata": {},
   "outputs": [],
   "source": [
    "@dataclass\n",
    "class Person():\n",
    "    name: str\n",
    "    age: int\n",
    "    city: str"
   ]
  },
  {
   "cell_type": "code",
   "execution_count": 4,
   "id": "e83c513f",
   "metadata": {},
   "outputs": [
    {
     "name": "stdout",
     "output_type": "stream",
     "text": [
      "Person(name='Tapas', age=29, city='Kolkata')\n"
     ]
    }
   ],
   "source": [
    "person=Person(name=\"Tapas\",age=29,city=\"Kolkata\")\n",
    "print(person)"
   ]
  },
  {
   "cell_type": "code",
   "execution_count": 5,
   "id": "20e1f16c",
   "metadata": {},
   "outputs": [
    {
     "name": "stdout",
     "output_type": "stream",
     "text": [
      "Person(name='Tapas', age=29, city=29)\n"
     ]
    }
   ],
   "source": [
    "person=Person(name=\"Tapas\",age=29,city=29)\n",
    "print(person)"
   ]
  },
  {
   "cell_type": "code",
   "execution_count": 6,
   "id": "a23ad2e8",
   "metadata": {},
   "outputs": [],
   "source": [
    "from pydantic import BaseModel"
   ]
  },
  {
   "cell_type": "code",
   "execution_count": 7,
   "id": "7509aa75",
   "metadata": {},
   "outputs": [
    {
     "name": "stdout",
     "output_type": "stream",
     "text": [
      "name='Tapas' age=29 city='Kolkata'\n"
     ]
    }
   ],
   "source": [
    "class Person1(BaseModel):\n",
    "    name: str\n",
    "    age: int\n",
    "    city: str\n",
    "\n",
    "person1=Person1(name=\"Tapas\",age=29,city=\"Kolkata\")\n",
    "print(person1)"
   ]
  },
  {
   "cell_type": "code",
   "execution_count": 38,
   "id": "39b5745e",
   "metadata": {},
   "outputs": [
    {
     "name": "stdout",
     "output_type": "stream",
     "text": [
      "1 validation error for Person1\n",
      "city\n",
      "  Input should be a valid string [type=string_type, input_value=25, input_type=int]\n",
      "    For further information visit https://errors.pydantic.dev/2.11/v/string_type\n"
     ]
    }
   ],
   "source": [
    "try:\n",
    "    person2=Person1(name=\"Tapas\",age=29,city=25)\n",
    "    print(person2)\n",
    "except Exception as e:\n",
    "    print(e)"
   ]
  },
  {
   "cell_type": "code",
   "execution_count": 10,
   "id": "fe75e1df",
   "metadata": {},
   "outputs": [],
   "source": [
    "from typing import Optional\n",
    "\n",
    "class Emplpyee(BaseModel):\n",
    "    id: int\n",
    "    name: str\n",
    "    department: str\n",
    "    salary: Optional[float]=None #Optional value with default is None\n",
    "    is_active: Optional[bool]=True # Optional value with default True"
   ]
  },
  {
   "cell_type": "code",
   "execution_count": 11,
   "id": "34714207",
   "metadata": {},
   "outputs": [
    {
     "name": "stdout",
     "output_type": "stream",
     "text": [
      "id=1 name='Tapas' department='ML' salary=None is_active=True\n"
     ]
    }
   ],
   "source": [
    "emp1=Emplpyee(id= 1,name='Tapas',department='ML')\n",
    "print(emp1)"
   ]
  },
  {
   "cell_type": "code",
   "execution_count": 13,
   "id": "7e03c3cb",
   "metadata": {},
   "outputs": [
    {
     "name": "stdout",
     "output_type": "stream",
     "text": [
      "id=2 name='Kumar' department='ML' salary=45000.0 is_active=True\n"
     ]
    }
   ],
   "source": [
    "emp2=Emplpyee(id= 2,name='Kumar',department='ML',salary='45000')\n",
    "print(emp2)"
   ]
  },
  {
   "cell_type": "code",
   "execution_count": 14,
   "id": "c6c41a6f",
   "metadata": {},
   "outputs": [],
   "source": [
    "class Classroom(BaseModel):\n",
    "    room_number: str\n",
    "    students: list[str]\n",
    "    capacity: int"
   ]
  },
  {
   "cell_type": "code",
   "execution_count": 15,
   "id": "00e12fa4",
   "metadata": {},
   "outputs": [],
   "source": [
    "cls1=Classroom(\n",
    "    room_number=\"A101\",\n",
    "    students=(\"Tapas\",\"Kumar\",\"Paul\"),\n",
    "    capacity=30\n",
    ")"
   ]
  },
  {
   "cell_type": "code",
   "execution_count": 16,
   "id": "c2cc968b",
   "metadata": {},
   "outputs": [
    {
     "name": "stdout",
     "output_type": "stream",
     "text": [
      "room_number='A101' students=['Tapas', 'Kumar', 'Paul'] capacity=30\n"
     ]
    }
   ],
   "source": [
    "print(cls1)"
   ]
  },
  {
   "cell_type": "code",
   "execution_count": 37,
   "id": "404cd780",
   "metadata": {},
   "outputs": [
    {
     "name": "stdout",
     "output_type": "stream",
     "text": [
      "1 validation error for Classroom\n",
      "students.1\n",
      "  Input should be a valid string [type=string_type, input_value=123, input_type=int]\n",
      "    For further information visit https://errors.pydantic.dev/2.11/v/string_type\n"
     ]
    }
   ],
   "source": [
    "try:\n",
    "    cls2=Classroom(\n",
    "    room_number=\"A102\",\n",
    "    students=(\"Tapas\",123,\"Paul\"),\n",
    "    capacity=30\n",
    "    )\n",
    "except Exception as e:\n",
    "    print(e)"
   ]
  },
  {
   "cell_type": "code",
   "execution_count": 18,
   "id": "dff69d86",
   "metadata": {},
   "outputs": [
    {
     "name": "stdout",
     "output_type": "stream",
     "text": [
      "1 validation error for Classroom\n",
      "students.1\n",
      "  Input should be a valid string [type=string_type, input_value=157, input_type=int]\n",
      "    For further information visit https://errors.pydantic.dev/2.11/v/string_type\n"
     ]
    }
   ],
   "source": [
    "try:\n",
    "    cls3=Classroom(room_number='A103',students=['Tapas',157],capacity=25)\n",
    "    print(cls3)\n",
    "except Exception as e:\n",
    "    print(e)"
   ]
  },
  {
   "cell_type": "code",
   "execution_count": 19,
   "id": "eb5b1de5",
   "metadata": {},
   "outputs": [
    {
     "name": "stdout",
     "output_type": "stream",
     "text": [
      "room_number='A103' students=['Tapas', 'Kumar'] capacity=25\n"
     ]
    }
   ],
   "source": [
    "try:\n",
    "    cls3=Classroom(room_number='A103',students=['Tapas','Kumar'],capacity=25)\n",
    "    print(cls3)\n",
    "except Exception as e:\n",
    "    print(e)"
   ]
  },
  {
   "cell_type": "code",
   "execution_count": 20,
   "id": "f42c1022",
   "metadata": {},
   "outputs": [],
   "source": [
    "class Address(BaseModel):\n",
    "    street: str\n",
    "    city: str\n",
    "    pin_code: str\n",
    "\n",
    "class Customer(BaseModel):\n",
    "    customer_id: int\n",
    "    name: str\n",
    "    address: Address"
   ]
  },
  {
   "cell_type": "code",
   "execution_count": 23,
   "id": "2105cfd6",
   "metadata": {},
   "outputs": [
    {
     "name": "stdout",
     "output_type": "stream",
     "text": [
      "customer_id=1 name='Tapas' address=Address(street='Newtown', city='Kolkata', pin_code='700102')\n"
     ]
    }
   ],
   "source": [
    "cus_1=Customer(customer_id=1,name=\"Tapas\",address={'street':'Newtown','city':'Kolkata','pin_code':'700102'})# need to mention the variable name as street, city, pin_code\n",
    "\n",
    "print(cus_1)"
   ]
  },
  {
   "cell_type": "code",
   "execution_count": 24,
   "id": "ba88f43c",
   "metadata": {},
   "outputs": [],
   "source": [
    "from pydantic import Field\n",
    "\n",
    "class Item(BaseModel):\n",
    "    name: str=Field(min_length=4,max_length=50)\n",
    "    price: float=Field(gt=0,le=1000)\n",
    "    quantity: int=Field(gt=0)"
   ]
  },
  {
   "cell_type": "code",
   "execution_count": 25,
   "id": "fd87c2a7",
   "metadata": {},
   "outputs": [
    {
     "name": "stdout",
     "output_type": "stream",
     "text": [
      "name='Ml book' price=500.0 quantity=10\n"
     ]
    }
   ],
   "source": [
    "itm1=Item(name='Ml book',price=500,quantity=10)\n",
    "print(itm1)"
   ]
  },
  {
   "cell_type": "code",
   "execution_count": 27,
   "id": "b4ee3f6c",
   "metadata": {},
   "outputs": [
    {
     "name": "stdout",
     "output_type": "stream",
     "text": [
      "2 validation errors for Item\n",
      "name\n",
      "  String should have at least 4 characters [type=string_too_short, input_value='Ml', input_type=str]\n",
      "    For further information visit https://errors.pydantic.dev/2.11/v/string_too_short\n",
      "price\n",
      "  Input should be less than or equal to 1000 [type=less_than_equal, input_value=5000, input_type=int]\n",
      "    For further information visit https://errors.pydantic.dev/2.11/v/less_than_equal\n"
     ]
    }
   ],
   "source": [
    "try:\n",
    "    itm2=Item(name='Ml',price=5000,quantity=10)\n",
    "    print(itm2)\n",
    "except Exception as e:\n",
    "    print(e)"
   ]
  },
  {
   "cell_type": "code",
   "execution_count": 28,
   "id": "3ba973d0",
   "metadata": {},
   "outputs": [],
   "source": [
    "class User(BaseModel):\n",
    "    username: str=Field(description=\"Unique username for the user\")\n",
    "    age: int=Field(default=18,ge=18,description=\"Age should be equal or more than 18\")\n",
    "    email: str=Field(default_factory=lambda: 'user@example.com', description=\"Default email address\")"
   ]
  },
  {
   "cell_type": "code",
   "execution_count": 34,
   "id": "05e2801f",
   "metadata": {},
   "outputs": [
    {
     "name": "stdout",
     "output_type": "stream",
     "text": [
      "username='tapas12' age=25 email='user@example.com'\n"
     ]
    }
   ],
   "source": [
    "try:\n",
    "    user1=User(username='tapas12',age=25)\n",
    "    print(user1)\n",
    "except Exception as e:\n",
    "    print(e)"
   ]
  },
  {
   "cell_type": "code",
   "execution_count": 32,
   "id": "e11c8052",
   "metadata": {},
   "outputs": [
    {
     "name": "stdout",
     "output_type": "stream",
     "text": [
      "1 validation error for User\n",
      "age\n",
      "  Input should be greater than or equal to 18 [type=greater_than_equal, input_value=12, input_type=int]\n",
      "    For further information visit https://errors.pydantic.dev/2.11/v/greater_than_equal\n"
     ]
    }
   ],
   "source": [
    "try:\n",
    "    user1=User(username='tapas12',age=12)\n",
    "    print(user1)\n",
    "except Exception as e:\n",
    "    print(e)"
   ]
  },
  {
   "cell_type": "code",
   "execution_count": 36,
   "id": "20ee90b5",
   "metadata": {},
   "outputs": [
    {
     "data": {
      "text/plain": [
       "{'properties': {'username': {'description': 'Unique username for the user',\n",
       "   'title': 'Username',\n",
       "   'type': 'string'},\n",
       "  'age': {'default': 18,\n",
       "   'description': 'Age should be equal or more than 18',\n",
       "   'minimum': 18,\n",
       "   'title': 'Age',\n",
       "   'type': 'integer'},\n",
       "  'email': {'description': 'Default email address',\n",
       "   'title': 'Email',\n",
       "   'type': 'string'}},\n",
       " 'required': ['username'],\n",
       " 'title': 'User',\n",
       " 'type': 'object'}"
      ]
     },
     "execution_count": 36,
     "metadata": {},
     "output_type": "execute_result"
    }
   ],
   "source": [
    "User.model_json_schema()"
   ]
  },
  {
   "cell_type": "code",
   "execution_count": 48,
   "id": "ad4501eb",
   "metadata": {},
   "outputs": [
    {
     "name": "stdout",
     "output_type": "stream",
     "text": [
      "username='Tapas@123' age=25 email_id='tapas@gmail.com'\n"
     ]
    }
   ],
   "source": [
    "from pydantic import AfterValidator\n",
    "from typing import Annotated\n",
    "import re\n",
    "\n",
    "def valid_email(value : str)-> str:\n",
    "    if not value.endswith(\"@gmail.com\"):\n",
    "        raise ValueError(\"Email should ends with '@gmail.com'.\")\n",
    "    return value\n",
    "\n",
    "def valid_username(value : str)-> str:\n",
    "    if not len(value)>8:\n",
    "        raise ValueError(\"Unique username length should be more than 8 characters.\")\n",
    "    if not re.search(r'[A-Z]',value):\n",
    "        raise ValueError(\"Atleast One uppercase character should be available.\")\n",
    "    if not re.search(r'\\d',value):\n",
    "        raise ValueError(\"Atleast one number should be available\")\n",
    "    if not re.search(r'[!@#$%^&*(),.?\":{}|<>]', value):\n",
    "        raise ValueError(\"Atleast one special character should be available\")\n",
    "    return value\n",
    "\n",
    "class UserDetails(BaseModel):\n",
    "    username: Annotated[str ,AfterValidator(valid_username)]\n",
    "    age: int=Field(gt=18)\n",
    "    email_id: Annotated[str, AfterValidator(valid_email)]\n",
    "\n",
    "try:\n",
    "    user1=UserDetails(username='Tapas@123',age=25,email_id='tapas@gmail.com')\n",
    "    print(user1)\n",
    "except Exception as e:\n",
    "    print(e)"
   ]
  },
  {
   "cell_type": "code",
   "execution_count": null,
   "id": "6bec9df4",
   "metadata": {},
   "outputs": [],
   "source": []
  }
 ],
 "metadata": {
  "kernelspec": {
   "display_name": "agentic_venv",
   "language": "python",
   "name": "python3"
  },
  "language_info": {
   "codemirror_mode": {
    "name": "ipython",
    "version": 3
   },
   "file_extension": ".py",
   "mimetype": "text/x-python",
   "name": "python",
   "nbconvert_exporter": "python",
   "pygments_lexer": "ipython3",
   "version": "3.11.13"
  }
 },
 "nbformat": 4,
 "nbformat_minor": 5
}
