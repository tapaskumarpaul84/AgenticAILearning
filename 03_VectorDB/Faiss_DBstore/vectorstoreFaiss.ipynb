{
 "cells": [
  {
   "cell_type": "code",
   "execution_count": 1,
   "id": "5b2be454",
   "metadata": {},
   "outputs": [
    {
     "data": {
      "text/plain": [
       "True"
      ]
     },
     "execution_count": 1,
     "metadata": {},
     "output_type": "execute_result"
    }
   ],
   "source": [
    "import os\n",
    "from dotenv import load_dotenv\n",
    "\n",
    "load_dotenv()"
   ]
  },
  {
   "cell_type": "code",
   "execution_count": 2,
   "id": "66cfda02",
   "metadata": {},
   "outputs": [],
   "source": [
    "os.environ[\"HUGGINGFACE_TOKEN\"]= os.getenv(\"HUGGINGFACE_TOKEN\")"
   ]
  },
  {
   "cell_type": "code",
   "execution_count": 3,
   "id": "acf0d3f5",
   "metadata": {},
   "outputs": [
    {
     "name": "stderr",
     "output_type": "stream",
     "text": [
      "c:\\Users\\Hp\\miniconda3\\envs\\agentic_venv\\Lib\\site-packages\\tqdm\\auto.py:21: TqdmWarning: IProgress not found. Please update jupyter and ipywidgets. See https://ipywidgets.readthedocs.io/en/stable/user_install.html\n",
      "  from .autonotebook import tqdm as notebook_tqdm\n"
     ]
    }
   ],
   "source": [
    "from langchain_huggingface import HuggingFaceEmbeddings\n",
    "\n",
    "embeddings=HuggingFaceEmbeddings(model_name='all-MiniLM-L6-v2')"
   ]
  },
  {
   "cell_type": "code",
   "execution_count": 4,
   "id": "1b5a6996",
   "metadata": {},
   "outputs": [],
   "source": [
    "from sklearn.metrics.pairwise import cosine_similarity"
   ]
  },
  {
   "cell_type": "code",
   "execution_count": 5,
   "id": "62bb17a1",
   "metadata": {},
   "outputs": [],
   "source": [
    "documents=[\n",
    "    \"Who is president of USA?\",\n",
    "    \"What is the capital of USA?\",\n",
    "    \"What is the capital of India?\",\n",
    "    \"Who is prime minister of India?\"\n",
    "]\n",
    "\n",
    "my_response=\"Delhi is capital of India.\""
   ]
  },
  {
   "cell_type": "code",
   "execution_count": 6,
   "id": "f0384f8b",
   "metadata": {},
   "outputs": [],
   "source": [
    "embed_documents=embeddings.embed_documents(documents)"
   ]
  },
  {
   "cell_type": "code",
   "execution_count": 7,
   "id": "f1913f10",
   "metadata": {},
   "outputs": [],
   "source": [
    "embed_res=embeddings.embed_query(my_response)"
   ]
  },
  {
   "cell_type": "code",
   "execution_count": 9,
   "id": "edc1bdbc",
   "metadata": {},
   "outputs": [
    {
     "data": {
      "text/plain": [
       "array([[0.07971492, 0.38933573, 0.75157214, 0.39382577]])"
      ]
     },
     "execution_count": 9,
     "metadata": {},
     "output_type": "execute_result"
    }
   ],
   "source": [
    "cosine_similarity([embed_res],embed_documents)"
   ]
  },
  {
   "cell_type": "code",
   "execution_count": 10,
   "id": "f25805f3",
   "metadata": {},
   "outputs": [
    {
     "data": {
      "text/plain": [
       "array([[1.35667624, 1.10513743, 0.70487998, 1.10106703]])"
      ]
     },
     "execution_count": 10,
     "metadata": {},
     "output_type": "execute_result"
    }
   ],
   "source": [
    "from sklearn.metrics.pairwise import euclidean_distances\n",
    "\n",
    "euclidean_distances([embed_res],embed_documents)"
   ]
  },
  {
   "cell_type": "code",
   "execution_count": null,
   "id": "744fee4f",
   "metadata": {},
   "outputs": [],
   "source": [
    "#In Memory Database\n",
    "import faiss\n",
    "from langchain_community.vectorstores import FAISS\n",
    "from langchain_community.docstore.in_memory import InMemoryDocstore"
   ]
  },
  {
   "cell_type": "code",
   "execution_count": 15,
   "id": "8b219852",
   "metadata": {},
   "outputs": [],
   "source": [
    "index=faiss.IndexFlatL2(384)"
   ]
  },
  {
   "cell_type": "code",
   "execution_count": 16,
   "id": "db2f60f2",
   "metadata": {},
   "outputs": [],
   "source": [
    "faissstore=FAISS(embeddings,index=index,docstore=InMemoryDocstore(),\n",
    "                 index_to_docstore_id={})"
   ]
  },
  {
   "cell_type": "code",
   "execution_count": 17,
   "id": "b7e5be94",
   "metadata": {},
   "outputs": [
    {
     "data": {
      "text/plain": [
       "['48aead18-ef49-4ba0-a659-662dd1ccf23a',\n",
       " 'cb446737-ebdf-4569-bbf7-52b75e7624b8',\n",
       " '6b491780-dc11-4e7c-9f3d-c3e651a92b97',\n",
       " '77eae621-28fa-45ba-9a8f-41d427a58500']"
      ]
     },
     "execution_count": 17,
     "metadata": {},
     "output_type": "execute_result"
    }
   ],
   "source": [
    "faissstore.add_texts(documents)"
   ]
  },
  {
   "cell_type": "code",
   "execution_count": 19,
   "id": "27e3581e",
   "metadata": {},
   "outputs": [
    {
     "data": {
      "text/plain": [
       "[Document(id='6b491780-dc11-4e7c-9f3d-c3e651a92b97', metadata={}, page_content='What is the capital of India?')]"
      ]
     },
     "execution_count": 19,
     "metadata": {},
     "output_type": "execute_result"
    }
   ],
   "source": [
    "faissstore.similarity_search(\"Delhi is capital of India\",k=1)"
   ]
  },
  {
   "cell_type": "code",
   "execution_count": 22,
   "id": "458f5d94",
   "metadata": {},
   "outputs": [],
   "source": [
    "from langchain_core.documents import Document\n",
    "document_1 = Document(\n",
    "    page_content=\"I had chocolate chip pancakes and scrambled eggs for breakfast this morning.\",\n",
    "    metadata={\"source\": \"tweet\"},\n",
    ")\n",
    "\n",
    "document_2 = Document(\n",
    "    page_content=\"The weather forecast for tomorrow is cloudy and overcast, with a high of 62 degrees.\",\n",
    "    metadata={\"source\": \"news\"},\n",
    ")\n",
    "\n",
    "document_3 = Document(\n",
    "    page_content=\"Building an exciting new project with LangChain - come check it out!\",\n",
    "    metadata={\"source\": \"tweet\"},\n",
    ")\n",
    "\n",
    "document_4 = Document(\n",
    "    page_content=\"Robbers broke into the city bank and stole $1 million in cash.\",\n",
    "    metadata={\"source\": \"news\"},\n",
    ")\n",
    "\n",
    "document_5 = Document(\n",
    "    page_content=\"Wow! That was an amazing movie. I can't wait to see it again.\",\n",
    "    metadata={\"source\": \"tweet\"},\n",
    ")\n",
    "\n",
    "document_6 = Document(\n",
    "    page_content=\"Is the new iPhone worth the price? Read this review to find out.\",\n",
    "    metadata={\"source\": \"website\"},\n",
    ")\n",
    "\n",
    "document_7 = Document(\n",
    "    page_content=\"The top 10 soccer players in the world right now.\",\n",
    "    metadata={\"source\": \"website\"},\n",
    ")\n",
    "\n",
    "document_8 = Document(\n",
    "    page_content=\"LangGraph is the best framework for building stateful, agentic applications!\",\n",
    "    metadata={\"source\": \"tweet\"},\n",
    ")\n",
    "\n",
    "document_9 = Document(\n",
    "    page_content=\"The stock market is down 500 points today due to fears of a recession.\",\n",
    "    metadata={\"source\": \"news\"},\n",
    ")\n",
    "\n",
    "document_10 = Document(\n",
    "    page_content=\"I have a bad feeling I am going to get deleted :(\",\n",
    "    metadata={\"source\": \"tweet\"},\n",
    ")\n",
    "\n",
    "documents = [\n",
    "    document_1,\n",
    "    document_2,\n",
    "    document_3,\n",
    "    document_4,\n",
    "    document_5,\n",
    "    document_6,\n",
    "    document_7,\n",
    "    document_8,\n",
    "    document_9,\n",
    "    document_10,\n",
    "]"
   ]
  },
  {
   "cell_type": "code",
   "execution_count": 27,
   "id": "87c7b4c8",
   "metadata": {},
   "outputs": [
    {
     "data": {
      "text/plain": [
       "[Document(metadata={'source': 'tweet'}, page_content='I had chocolate chip pancakes and scrambled eggs for breakfast this morning.'),\n",
       " Document(metadata={'source': 'news'}, page_content='The weather forecast for tomorrow is cloudy and overcast, with a high of 62 degrees.'),\n",
       " Document(metadata={'source': 'tweet'}, page_content='Building an exciting new project with LangChain - come check it out!'),\n",
       " Document(metadata={'source': 'news'}, page_content='Robbers broke into the city bank and stole $1 million in cash.'),\n",
       " Document(metadata={'source': 'tweet'}, page_content=\"Wow! That was an amazing movie. I can't wait to see it again.\"),\n",
       " Document(metadata={'source': 'website'}, page_content='Is the new iPhone worth the price? Read this review to find out.'),\n",
       " Document(metadata={'source': 'website'}, page_content='The top 10 soccer players in the world right now.'),\n",
       " Document(metadata={'source': 'tweet'}, page_content='LangGraph is the best framework for building stateful, agentic applications!'),\n",
       " Document(metadata={'source': 'news'}, page_content='The stock market is down 500 points today due to fears of a recession.'),\n",
       " Document(metadata={'source': 'tweet'}, page_content='I have a bad feeling I am going to get deleted :(')]"
      ]
     },
     "execution_count": 27,
     "metadata": {},
     "output_type": "execute_result"
    }
   ],
   "source": [
    "documents"
   ]
  },
  {
   "cell_type": "code",
   "execution_count": 24,
   "id": "9acae8d6",
   "metadata": {},
   "outputs": [],
   "source": [
    "index=faiss.IndexFlatIP(384)\n",
    "\n",
    "vectorstore=FAISS(\n",
    "    embedding_function=embeddings,\n",
    "    index=index,\n",
    "    docstore=InMemoryDocstore(),\n",
    "    index_to_docstore_id={}\n",
    ")"
   ]
  },
  {
   "cell_type": "code",
   "execution_count": 28,
   "id": "327b97b9",
   "metadata": {},
   "outputs": [
    {
     "data": {
      "text/plain": [
       "['9fd8d51c-8532-42e0-a82a-c1734c046523',\n",
       " '12a99509-71d8-40ae-a423-81797468df34',\n",
       " '93ace0ca-5014-4775-9c65-7111d5b23302',\n",
       " 'c7d6fbc2-3b44-4bbf-b21f-6f23677190f0',\n",
       " '43422ac1-e6bd-4154-915e-7b459288dd74',\n",
       " '2cda5e25-d104-4203-8ff7-b670b8ee86a3',\n",
       " '9be8e8b5-5796-4010-8ed8-435bc2752027',\n",
       " '1551c7f3-f879-4f31-a2e9-2e332e712043',\n",
       " 'ba0693bb-38c8-4f56-8818-bc0c453333a6',\n",
       " 'a2a713c5-6df1-4b99-9b79-cb626fe54444']"
      ]
     },
     "execution_count": 28,
     "metadata": {},
     "output_type": "execute_result"
    }
   ],
   "source": [
    "vectorstore.add_documents(documents=documents)"
   ]
  },
  {
   "cell_type": "code",
   "execution_count": 31,
   "id": "d79de263",
   "metadata": {},
   "outputs": [
    {
     "data": {
      "text/plain": [
       "[Document(id='93ace0ca-5014-4775-9c65-7111d5b23302', metadata={'source': 'tweet'}, page_content='Building an exciting new project with LangChain - come check it out!'),\n",
       " Document(id='1551c7f3-f879-4f31-a2e9-2e332e712043', metadata={'source': 'tweet'}, page_content='LangGraph is the best framework for building stateful, agentic applications!'),\n",
       " Document(id='a2a713c5-6df1-4b99-9b79-cb626fe54444', metadata={'source': 'tweet'}, page_content='I have a bad feeling I am going to get deleted :('),\n",
       " Document(id='c7d6fbc2-3b44-4bbf-b21f-6f23677190f0', metadata={'source': 'news'}, page_content='Robbers broke into the city bank and stole $1 million in cash.')]"
      ]
     },
     "execution_count": 31,
     "metadata": {},
     "output_type": "execute_result"
    }
   ],
   "source": [
    "vectorstore.similarity_search(\n",
    "    \"LangChain provides abstractions to make working with LLMs easy\"\n",
    ")  # Default search 4 items"
   ]
  },
  {
   "cell_type": "code",
   "execution_count": 32,
   "id": "ae3696d0",
   "metadata": {},
   "outputs": [
    {
     "data": {
      "text/plain": [
       "[Document(id='93ace0ca-5014-4775-9c65-7111d5b23302', metadata={'source': 'tweet'}, page_content='Building an exciting new project with LangChain - come check it out!'),\n",
       " Document(id='1551c7f3-f879-4f31-a2e9-2e332e712043', metadata={'source': 'tweet'}, page_content='LangGraph is the best framework for building stateful, agentic applications!')]"
      ]
     },
     "execution_count": 32,
     "metadata": {},
     "output_type": "execute_result"
    }
   ],
   "source": [
    "vectorstore.similarity_search(\n",
    "    \"LangChain provides abstractions to make working with LLMs easy\",k=2\n",
    ")"
   ]
  },
  {
   "cell_type": "code",
   "execution_count": 34,
   "id": "e7776dca",
   "metadata": {},
   "outputs": [
    {
     "data": {
      "text/plain": [
       "[Document(id='93ace0ca-5014-4775-9c65-7111d5b23302', metadata={'source': 'tweet'}, page_content='Building an exciting new project with LangChain - come check it out!'),\n",
       " Document(id='1551c7f3-f879-4f31-a2e9-2e332e712043', metadata={'source': 'tweet'}, page_content='LangGraph is the best framework for building stateful, agentic applications!'),\n",
       " Document(id='a2a713c5-6df1-4b99-9b79-cb626fe54444', metadata={'source': 'tweet'}, page_content='I have a bad feeling I am going to get deleted :(')]"
      ]
     },
     "execution_count": 34,
     "metadata": {},
     "output_type": "execute_result"
    }
   ],
   "source": [
    "vectorstore.similarity_search(\n",
    "    \"LangChain provides abstractions to make working with LLMs easy\",k=3,filter={\"source\":{\"$eq\":\"tweet\"}}\n",
    ")"
   ]
  },
  {
   "cell_type": "code",
   "execution_count": 35,
   "id": "c209d87e",
   "metadata": {},
   "outputs": [
    {
     "data": {
      "text/plain": [
       "[Document(id='c7d6fbc2-3b44-4bbf-b21f-6f23677190f0', metadata={'source': 'news'}, page_content='Robbers broke into the city bank and stole $1 million in cash.'),\n",
       " Document(id='12a99509-71d8-40ae-a423-81797468df34', metadata={'source': 'news'}, page_content='The weather forecast for tomorrow is cloudy and overcast, with a high of 62 degrees.'),\n",
       " Document(id='ba0693bb-38c8-4f56-8818-bc0c453333a6', metadata={'source': 'news'}, page_content='The stock market is down 500 points today due to fears of a recession.')]"
      ]
     },
     "execution_count": 35,
     "metadata": {},
     "output_type": "execute_result"
    }
   ],
   "source": [
    "vectorstore.similarity_search(\n",
    "    \"LangChain provides abstractions to make working with LLMs easy\",k=3,filter={\"source\":{\"$eq\":\"news\"}}\n",
    ")"
   ]
  },
  {
   "cell_type": "code",
   "execution_count": 39,
   "id": "ca88e088",
   "metadata": {},
   "outputs": [],
   "source": [
    "#RAG process\n",
    "\n",
    "retriver=vectorstore.as_retriever(search_kwargs={\"k\":3})"
   ]
  },
  {
   "cell_type": "code",
   "execution_count": 40,
   "id": "cff3a262",
   "metadata": {},
   "outputs": [
    {
     "data": {
      "text/plain": [
       "[Document(id='93ace0ca-5014-4775-9c65-7111d5b23302', metadata={'source': 'tweet'}, page_content='Building an exciting new project with LangChain - come check it out!'),\n",
       " Document(id='1551c7f3-f879-4f31-a2e9-2e332e712043', metadata={'source': 'tweet'}, page_content='LangGraph is the best framework for building stateful, agentic applications!'),\n",
       " Document(id='a2a713c5-6df1-4b99-9b79-cb626fe54444', metadata={'source': 'tweet'}, page_content='I have a bad feeling I am going to get deleted :(')]"
      ]
     },
     "execution_count": 40,
     "metadata": {},
     "output_type": "execute_result"
    }
   ],
   "source": [
    "retriver.invoke(\"LangChain provides abstractions to make working with LLMs easy\")"
   ]
  },
  {
   "cell_type": "code",
   "execution_count": 41,
   "id": "c29d5794",
   "metadata": {},
   "outputs": [],
   "source": [
    "retriver=vectorstore.as_retriever(search_kwargs={\"k\":3,\"source\":\"news\"})"
   ]
  },
  {
   "cell_type": "code",
   "execution_count": 42,
   "id": "a24c3be7",
   "metadata": {},
   "outputs": [
    {
     "data": {
      "text/plain": [
       "[Document(id='12a99509-71d8-40ae-a423-81797468df34', metadata={'source': 'news'}, page_content='The weather forecast for tomorrow is cloudy and overcast, with a high of 62 degrees.'),\n",
       " Document(id='c7d6fbc2-3b44-4bbf-b21f-6f23677190f0', metadata={'source': 'news'}, page_content='Robbers broke into the city bank and stole $1 million in cash.'),\n",
       " Document(id='ba0693bb-38c8-4f56-8818-bc0c453333a6', metadata={'source': 'news'}, page_content='The stock market is down 500 points today due to fears of a recession.')]"
      ]
     },
     "execution_count": 42,
     "metadata": {},
     "output_type": "execute_result"
    }
   ],
   "source": [
    "retriver.invoke(\"How is the weather today in the city?\")"
   ]
  },
  {
   "cell_type": "code",
   "execution_count": 43,
   "id": "418660a7",
   "metadata": {},
   "outputs": [],
   "source": [
    "vectorstore.save_local(\"local_faiss_vs\")\n"
   ]
  },
  {
   "cell_type": "code",
   "execution_count": 44,
   "id": "ce7c5fb8",
   "metadata": {},
   "outputs": [],
   "source": [
    "new_vectorstore=FAISS.load_local('local_faiss_vs',embeddings,allow_dangerous_deserialization=True)"
   ]
  },
  {
   "cell_type": "code",
   "execution_count": 45,
   "id": "c1d8a718",
   "metadata": {},
   "outputs": [
    {
     "data": {
      "text/plain": [
       "[Document(id='93ace0ca-5014-4775-9c65-7111d5b23302', metadata={'source': 'tweet'}, page_content='Building an exciting new project with LangChain - come check it out!'),\n",
       " Document(id='1551c7f3-f879-4f31-a2e9-2e332e712043', metadata={'source': 'tweet'}, page_content='LangGraph is the best framework for building stateful, agentic applications!'),\n",
       " Document(id='43422ac1-e6bd-4154-915e-7b459288dd74', metadata={'source': 'tweet'}, page_content=\"Wow! That was an amazing movie. I can't wait to see it again.\")]"
      ]
     },
     "execution_count": 45,
     "metadata": {},
     "output_type": "execute_result"
    }
   ],
   "source": [
    "new_vectorstore.similarity_search(\"Langchain\",k=3)"
   ]
  },
  {
   "cell_type": "code",
   "execution_count": 46,
   "id": "fe6eb3a0",
   "metadata": {},
   "outputs": [],
   "source": [
    "retriver=new_vectorstore.as_retriever(search_kwargs={\"k\":3})"
   ]
  },
  {
   "cell_type": "code",
   "execution_count": 47,
   "id": "5ace4577",
   "metadata": {},
   "outputs": [
    {
     "data": {
      "text/plain": [
       "[Document(id='93ace0ca-5014-4775-9c65-7111d5b23302', metadata={'source': 'tweet'}, page_content='Building an exciting new project with LangChain - come check it out!'),\n",
       " Document(id='1551c7f3-f879-4f31-a2e9-2e332e712043', metadata={'source': 'tweet'}, page_content='LangGraph is the best framework for building stateful, agentic applications!'),\n",
       " Document(id='43422ac1-e6bd-4154-915e-7b459288dd74', metadata={'source': 'tweet'}, page_content=\"Wow! That was an amazing movie. I can't wait to see it again.\")]"
      ]
     },
     "execution_count": 47,
     "metadata": {},
     "output_type": "execute_result"
    }
   ],
   "source": [
    "retriver.invoke(\"langchain\")"
   ]
  },
  {
   "cell_type": "code",
   "execution_count": null,
   "id": "ca11af29",
   "metadata": {},
   "outputs": [],
   "source": []
  }
 ],
 "metadata": {
  "kernelspec": {
   "display_name": "agentic_venv",
   "language": "python",
   "name": "python3"
  },
  "language_info": {
   "codemirror_mode": {
    "name": "ipython",
    "version": 3
   },
   "file_extension": ".py",
   "mimetype": "text/x-python",
   "name": "python",
   "nbconvert_exporter": "python",
   "pygments_lexer": "ipython3",
   "version": "3.11.13"
  }
 },
 "nbformat": 4,
 "nbformat_minor": 5
}
