{
 "cells": [
  {
   "cell_type": "code",
   "execution_count": null,
   "id": "162340e8",
   "metadata": {},
   "outputs": [],
   "source": [
    "import os\n",
    "from dotenv import load_dotenv\n",
    "\n",
    "load_dotenv()\n",
    "\n",
    "os.environ[\"OPENAI_API_KEY\"]=os.getenv(\"OPENAI_API_KEY\")\n",
    "os.environ[\"GROQ_API_KEY\"]=os.getenv(\"GROQ_API_KEY\")\n",
    "os.environ[\"LANGCHAIN_API_KEY\"]=os.getenv(\"LANGCHAIN_API_KEY\")\n",
    "os.environ[\"LANGSMITH_PROJECT\"]=os.getenv(\"LANGSMITH_PROJECT\")\n",
    "os.environ[\"LANGCHAIN_TRACING_V2\"]=\"true\"\n"
   ]
  },
  {
   "cell_type": "code",
   "execution_count": 4,
   "id": "ee640df6",
   "metadata": {},
   "outputs": [
    {
     "name": "stdout",
     "output_type": "stream",
     "text": [
      "client=<openai.resources.chat.completions.completions.Completions object at 0x000002B945D2A490> async_client=<openai.resources.chat.completions.completions.AsyncCompletions object at 0x000002B947EBDED0> root_client=<openai.OpenAI object at 0x000002B947A07F10> root_async_client=<openai.AsyncOpenAI object at 0x000002B947EBDB50> model_name='o1-mini' temperature=1.0 model_kwargs={} openai_api_key=SecretStr('**********')\n"
     ]
    }
   ],
   "source": [
    "from langchain_openai import ChatOpenAI\n",
    "\n",
    "llm=ChatOpenAI(model=\"o1-mini\")\n",
    "\n",
    "print(llm)"
   ]
  },
  {
   "cell_type": "code",
   "execution_count": 6,
   "id": "93f883dc",
   "metadata": {},
   "outputs": [
    {
     "name": "stdout",
     "output_type": "stream",
     "text": [
      "**Agentic AI** refers to artificial intelligence systems designed to operate as autonomous agents capable of performing tasks, making decisions, and achieving goals with minimal human intervention. The concept of \"agency\" in this context implies that the AI possesses a degree of independence, initiative, and adaptability in interacting with its environment to fulfill specific objectives.\n",
      "\n",
      "### **Key Characteristics of Agentic AI**\n",
      "\n",
      "1. **Autonomy**\n",
      "   - **Independent Operation:** Agentic AI can function without continuous human oversight, making decisions based on its programming and learned experiences.\n",
      "   \n",
      "2. **Goal-Oriented Behavior**\n",
      "   - **Objective-Driven:** These AI systems are designed with specific goals in mind and can plan and execute actions to achieve those objectives.\n",
      "\n",
      "3. **Adaptability and Learning**\n",
      "   - **Continuous Improvement:** Utilizing machine learning and other adaptive algorithms, agentic AI can learn from interactions and experiences, improving its performance over time.\n",
      "\n",
      "4. **Perception and Interaction**\n",
      "   - **Environmental Awareness:** Equipped with sensors or data inputs, agentic AI can perceive its environment and interact with it, whether physically (as in robotics) or virtually (as in software agents).\n",
      "\n",
      "5. **Decision-Making Capability**\n",
      "   - **Informed Choices:** These systems analyze data and scenarios to make informed decisions, often employing complex algorithms to weigh options and predict outcomes.\n",
      "\n",
      "### **Applications of Agentic AI**\n",
      "\n",
      "- **Autonomous Vehicles:** Self-driving cars that navigate, make real-time decisions, and respond to dynamic road conditions without human input.\n",
      "  \n",
      "- **Robotics:** Industrial robots that perform manufacturing tasks, surgical robots assisting in medical procedures, or service robots interacting with customers.\n",
      "\n",
      "- **Virtual Assistants:** Advanced AI assistants that manage schedules, handle communications, and perform tasks autonomously based on user preferences and behaviors.\n",
      "\n",
      "- **Smart Home Systems:** Systems that control lighting, heating, security, and appliances autonomously by learning from user habits and environmental data.\n",
      "\n",
      "- **Financial Trading Bots:** AI agents that analyze market data and execute trades automatically to optimize investment strategies.\n",
      "\n",
      "### **Implications and Considerations**\n",
      "\n",
      "While agentic AI offers numerous benefits, such as increased efficiency, scalability, and the ability to handle complex tasks, it also raises important ethical and practical considerations:\n",
      "\n",
      "1. **Accountability and Responsibility**\n",
      "   - **Decision Oversight:** Determining who is responsible for the actions and decisions made by autonomous AI systems can be challenging.\n",
      "\n",
      "2. **Ethical Concerns**\n",
      "   - **Bias and Fairness:** Ensuring that AI agents make unbiased decisions and operate fairly across different contexts and populations.\n",
      "\n",
      "3. **Security Risks**\n",
      "   - **Vulnerability to Attacks:** Autonomous systems must be safeguarded against hacking, malicious manipulation, and other cybersecurity threats.\n",
      "\n",
      "4. **Job Displacement**\n",
      "   - **Automation Impact:** The rise of agentic AI may lead to the displacement of jobs, necessitating strategies for workforce transition and reskilling.\n",
      "\n",
      "5. **Regulatory and Legal Frameworks**\n",
      "   - **Policy Development:** Establishing laws and regulations to govern the deployment and operation of autonomous AI systems is crucial for ensuring safety and ethical compliance.\n",
      "\n",
      "### **Future Outlook**\n",
      "\n",
      "The development of agentic AI is a rapidly evolving field, with ongoing research focused on enhancing autonomy, improving decision-making capabilities, and ensuring ethical alignment with human values. As these systems become more integrated into various aspects of daily life and industry, collaborative efforts between technologists, policymakers, and ethicists will be essential to maximize benefits while mitigating potential risks.\n",
      "\n",
      "---\n",
      "\n",
      "**References:**\n",
      "- While the above information is based on current understanding as of October 2023, for the latest developments and detailed studies, consulting academic journals, industry reports, and official publications on artificial intelligence is recommended.\n"
     ]
    }
   ],
   "source": [
    "response=llm.invoke(\"What is Agentic AI?\")\n",
    "print(response.content)"
   ]
  },
  {
   "cell_type": "code",
   "execution_count": 8,
   "id": "d6557d59",
   "metadata": {},
   "outputs": [
    {
     "name": "stdout",
     "output_type": "stream",
     "text": [
      "\n",
      "<think>\n",
      "Okay, the user is asking, \"What is Machine Learning?\" I need to explain this clearly. Let's start with a simple definition. Machine Learning is a subset of AI that focuses on algorithms learning from data. But I should break that down more.\n",
      "\n",
      "First, maybe mention that it's about machines learning from data without being explicitly programmed. Wait, that's important. Traditional programming uses predefined instructions, but ML algorithms improve with experience. Hmm, maybe use an example like email spam filters getting better over time.\n",
      "\n",
      "I should categorize the types. There's supervised learning, unsupervised learning, and reinforcement learning. Let me explain each briefly. Supervised uses labeled data, like predicting house prices. Unsupervised finds patterns without labels, like customer segmentation. Reinforcement is about rewards, like training a robot to walk.\n",
      "\n",
      "Applications are key. People want to know real-world uses. So mention things like recommendation systems (Netflix, Spotify), image recognition (facial recognition), NLP (voice assistants), healthcare (disease detection), and autonomous vehicles.\n",
      "\n",
      "Also, touch on how it works in general terms: data preparation, choosing algorithms, training the model, evaluation, and deployment. Maybe explain terms like training data, models, and predictions.\n",
      "\n",
      "I should highlight the importance of data quality and quantity. Garbage in, garbage out. Also, mention overfitting and underfitting as challenges, but maybe keep that brief unless the user asks more.\n",
      "\n",
      "Differentiate between AI, ML, and deep learning. ML is part of AI, and deep learning is a subset of ML using neural networks. Not sure if the user needs that distinction, but it might help clarify.\n",
      "\n",
      "Use simple language, avoid jargon. Maybe start with a definition, then types, how it works, applications, and a summary. Keep it structured but conversational.\n",
      "\n",
      "Wait, did I miss anything? Maybe a real-life example to make it relatable? Like how Netflix suggests shows based on your viewing history. That's supervised learning with classification.\n",
      "\n",
      "Also, maybe mention the role of big data and computational power in recent advancements. Since ML requires a lot of data and processing, the current boom is partly due to better infrastructure.\n",
      "\n",
      "Oh, and the difference between training and testing data? Maybe not necessary here unless needed for understanding. Since the user is asking for a basic definition, perhaps keep it high-level.\n",
      "\n",
      "Okay, structure the answer with a clear definition first, then explain how it's different from traditional programming. Then go into types, maybe bullet points. List some applications, and conclude with its importance today. Make sure it's easy to follow without technical terms overwhelming the reader.\n",
      "</think>\n",
      "\n",
      "**Machine Learning (ML)** is a subset of **Artificial Intelligence (AI)** that focuses on developing algorithms and statistical models that enable computers to improve their performance on a task over time by learning from data, rather than relying solely on explicit programming. Essentially, it allows systems to automatically learn patterns, make decisions, or predict outcomes based on input data without being explicitly told how to do so.\n",
      "\n",
      "### Key Concepts:\n",
      "1. **Learning from Data**: \n",
      "   - Instead of being programmed with fixed instructions, ML models analyze and learn from large datasets to identify patterns, trends, or relationships. \n",
      "   - Example: A spam filter learns to distinguish spam emails from legitimate ones by analyzing labeled examples of both.\n",
      "\n",
      "2. **Improvement Over Time**:\n",
      "   - As the model is exposed to more data, its accuracy and performance typically improve.\n",
      "\n",
      "3. **Types of Machine Learning**:\n",
      "   - **Supervised Learning**: Uses labeled data (input-output pairs) to train models. The algorithm learns to map inputs to outputs.  \n",
      "     *Examples*: Predicting house prices (regression) or classifying emails as spam/not spam (classification).\n",
      "   \n",
      "   - **Unsupervised Learning**: Works with unlabeled data to find hidden patterns or groupings.  \n",
      "     *Examples*: Customer segmentation in marketing or clustering similar news articles.\n",
      "   \n",
      "   - **Reinforcement Learning**: Learns by trial and error through rewards/penalties in an environment.  \n",
      "     *Examples*: Training AI to play games (e.g., AlphaGo) or optimizing robot movements.\n",
      "\n",
      "4. **How It Works**:\n",
      "   - **Data Preparation**: Cleaning and formatting raw data.\n",
      "   - **Choosing a Model**: Selecting an algorithm (e.g., decision trees, neural networks).\n",
      "   - **Training**: The model learns from the training data to build a mathematical representation of the problem.\n",
      "   - **Evaluation**: Testing the model on unseen data to assess its accuracy.\n",
      "   - **Deployment**: Using the trained model to make predictions or decisions in real-world scenarios.\n",
      "\n",
      "### Applications of Machine Learning:\n",
      "- **Recommendation Systems**: Netflix, Spotify, or Amazon suggesting content/products.\n",
      "- **Image/Video Recognition**: Facial recognition, medical imaging analysis.\n",
      "- **Natural Language Processing (NLP)**: Voice assistants (Siri, Alexa), chatbots, language translation.\n",
      "- **Healthcare**: Predicting diseases, drug discovery, and diagnostics.\n",
      "- **Autonomous Vehicles**: Self-driving cars interpreting sensor data.\n",
      "- **Fraud Detection**: Identifying unusual patterns in financial transactions.\n",
      "\n",
      "### Why It Matters:\n",
      "- **Automation**: Reduces human effort in repetitive tasks.\n",
      "- **Scalability**: Handles vast amounts of data efficiently.\n",
      "- **Adaptability**: Models can continuously update as new data becomes available.\n",
      "\n",
      "### Key Challenges:\n",
      "- **Data Quality**: Garbage in, garbage out—models rely on high-quality, relevant data.\n",
      "- **Overfitting/Underfitting**: Models might memorize training data (overfitting) or fail to capture patterns (underfitting).\n",
      "- **Bias**: Models can inherit biases present in training data, leading to unfair outcomes.\n",
      "\n",
      "### Relationship to AI and Deep Learning:\n",
      "- **AI** is the broader field of creating systems that mimic human intelligence.\n",
      "- **ML** is a method within AI focused on learning from data.\n",
      "- **Deep Learning** is a subset of ML that uses artificial neural networks (with many layers) to solve complex problems, like image or speech recognition.\n",
      "\n",
      "In essence, Machine Learning empowers systems to make intelligent decisions and uncover insights from data, driving innovations in fields like healthcare, finance, and robotics. It’s a foundational technology shaping the modern digital world.\n"
     ]
    }
   ],
   "source": [
    "from langchain_groq import ChatGroq\n",
    "\n",
    "model=ChatGroq(model=\"qwen-qwq-32b\")\n",
    "\n",
    "result=model.invoke(\"What is Machine Learning?\")\n",
    "print(result.content)"
   ]
  },
  {
   "cell_type": "code",
   "execution_count": 1,
   "id": "94d10b3e",
   "metadata": {},
   "outputs": [
    {
     "name": "stdout",
     "output_type": "stream",
     "text": [
      "\n",
      "<think>\n",
      "Okay, the user is asking, \"What is twiter?\" I notice there's a typo in \"Twitter.\" First, I should correct that to make sure they know the proper spelling. But maybe they just made a typo, so I should start by clarifying that.\n",
      "\n",
      "Next, I need to explain what Twitter is. Let me start with the basics: it's a social media platform. When was it created? Founded in 2006 by Jack Dorsey and others. Acquired by Elon Musk in 2022, that's a key point now.\n",
      "\n",
      "What's Twitter primarily used for? Sharing short messages called tweets, up to 280 characters. That's a main feature. Users can post text, images, videos, links, etc. It's real-time, so people use it for news, updates, discussions, and connecting with others. \n",
      "\n",
      "I should mention key features: hashtags for grouping topics, retweets to share others' content, replies for conversations, mentions to tag people, and direct messages for private chats. \n",
      "\n",
      "Twitter's role in society: a platform for public figures, celebrities, journalists, and activists to communicate directly with followers. It's been significant in events like social movements, political discourse, and real-time news coverage. \n",
      "\n",
      "Also, the interface: users have profiles, followers, following, and can engage through likes, retweets, and replies. They can follow others to see their tweets in a feed. \n",
      "\n",
      "Mentioning the X change might be important since Elon Musk renamed it to X, but the user might still refer to it as Twitter. Should I include that? Probably, to keep the info up-to-date.\n",
      "\n",
      "Maybe also touch on its impact, like how it's used for trending topics, viral content, and even misinformation. \n",
      "\n",
      "Wait, the user might be asking for a simple explanation, so I should keep it concise but cover the essentials. Make sure to structure it clearly, maybe bullet points for features, but since the user might want a straightforward answer, I'll use paragraphs with clear sections.\n",
      "\n",
      "Check for any other aspects: user base size, maybe? Or how it's different from other platforms like Facebook or Instagram? Maybe not necessary unless the user asks for comparisons, but the question is just \"what is,\" so stick to the basics.\n",
      "\n",
      "Also, ensure that the explanation is easy to understand, avoiding jargon. Since the user might be new to Twitter, clarify terms like hashtags, retweets, etc.\n",
      "\n",
      "Okay, putting it all together in a clear, friendly response. Start with the correction, then the basics, key features, purpose, and recent changes like the name to X. Make sure it's comprehensive but not too technical.\n",
      "</think>\n",
      "\n",
      "Twitter (often misspelled as \"twiter\") is a social media platform that allows users to post short messages, known as **tweets**, up to 280 characters in length. Here’s a concise overview:\n",
      "\n",
      "### **Key Features**:\n",
      "1. **Tweets**: Users share thoughts, news, links, images, videos, and more in real time.\n",
      "2. **Connections**: You can follow other users (public figures, friends, brands, etc.) to see their tweets in your feed.\n",
      "3. **Engagement**: \n",
      "   - **Retweets (RT)**: Share others' tweets with your followers.\n",
      "   - **Likes**: Express approval with a heart icon.\n",
      "   - **Replies**: Engage in conversations by replying to tweets.\n",
      "   - **DMs (Direct Messages)**: Private messaging between users.\n",
      "4. **Hashtags (#)**: Topics or themes tagged with \"#\" to categorize content and trends.\n",
      "5. **Trends**: Popular topics or hashtags highlighted on the homepage.\n",
      "\n",
      "### **Purpose**:\n",
      "- **Real-Time News**: Breaking news, live events, and updates often appear first on Twitter.\n",
      "- **Public Dialogue**: A space for debates, activism, and cultural discussions.\n",
      "- **Networking**: Professionals, celebrities, and influencers use it to connect with audiences.\n",
      "- **Entertainment**: Memes, humor, and viral content are common.\n",
      "\n",
      "### **History & Evolution**:\n",
      "- **Founded in 2006** by Jack Dorsey, Noah Glass, Biz Stone, and Evan Williams.\n",
      "- **Acquired by Elon Musk in 2022**, who rebranded it as **X** in November 2023 (though many still refer to it as Twitter).\n",
      "- Over **350 million active users** as of recent estimates.\n",
      "\n",
      "### **Impact**:\n",
      "- **Global Influence**: Shapes public opinion, influences politics (e.g., Arab Spring, Black Lives Matter), and drives trends.\n",
      "- **Controversies**: Issues like misinformation, hate speech, and privacy concerns have sparked debates about its role in society.\n",
      "\n",
      "### **Why Use It?**:\n",
      "- Stay updated on current events.\n",
      "- Engage directly with public figures.\n",
      "- Join trending conversations.\n",
      "- Promote personal or business content.\n",
      "\n",
      "If you meant \"Twitter,\" you can explore it at **[x.com](https://x.com)** (its new URL) or search for profiles of people/brands you follow. Let me know if you need more details!\n"
     ]
    }
   ],
   "source": [
    "from langchain_groq import ChatGroq\n",
    "\n",
    "model=ChatGroq(model=\"qwen-qwq-32b\")\n",
    "\n",
    "response=model.invoke(\"What is twiter\")\n",
    "print(response.content)"
   ]
  },
  {
   "cell_type": "code",
   "execution_count": 4,
   "id": "4b13e2f0",
   "metadata": {},
   "outputs": [
    {
     "data": {
      "text/plain": [
       "ChatPromptTemplate(input_variables=['input'], input_types={}, partial_variables={}, messages=[HumanMessagePromptTemplate(prompt=PromptTemplate(input_variables=['input'], input_types={}, partial_variables={}, template='{input}'), additional_kwargs={}), SystemMessagePromptTemplate(prompt=PromptTemplate(input_variables=[], input_types={}, partial_variables={}, template='You are an expert AI Engineer. Please tell me answer based on the provided question.'), additional_kwargs={})])"
      ]
     },
     "execution_count": 4,
     "metadata": {},
     "output_type": "execute_result"
    }
   ],
   "source": [
    "from langchain_core.prompts import ChatPromptTemplate\n",
    "\n",
    "prompt=ChatPromptTemplate(\n",
    "    {\n",
    "        (\"system\",\"You are an expert AI Engineer. Please tell me answer based on the provided question.\"),\n",
    "        (\"user\",\"{input}\")\n",
    "    }\n",
    ")\n",
    "\n",
    "prompt"
   ]
  },
  {
   "cell_type": "code",
   "execution_count": 5,
   "id": "ce2f1a15",
   "metadata": {},
   "outputs": [
    {
     "data": {
      "text/plain": [
       "ChatGroq(client=<groq.resources.chat.completions.Completions object at 0x0000020A77EFA790>, async_client=<groq.resources.chat.completions.AsyncCompletions object at 0x0000020A77EEC250>, model_name='gemma2-9b-it', model_kwargs={}, groq_api_key=SecretStr('**********'))"
      ]
     },
     "execution_count": 5,
     "metadata": {},
     "output_type": "execute_result"
    }
   ],
   "source": [
    "model=ChatGroq(model=\"gemma2-9b-it\")\n",
    "model"
   ]
  },
  {
   "cell_type": "code",
   "execution_count": 6,
   "id": "84550235",
   "metadata": {},
   "outputs": [
    {
     "name": "stdout",
     "output_type": "stream",
     "text": [
      "LangSmith is an open-source platform developed by **Google DeepMind** designed to make it easier for researchers and developers to **build and experiment with large language models (LLMs).**\n",
      "\n",
      "Here are some key features of LangSmith:\n",
      "\n",
      "* **Simplified LLM development:** It provides a user-friendly interface and pre-built components to streamline the process of training, evaluating, and deploying LLMs.\n",
      "* **Collaborative environment:** LangSmith fosters collaboration by allowing multiple users to work on the same project simultaneously.\n",
      "* **Experiment tracking and management:** It offers tools for tracking experiments, comparing results, and managing different model versions.\n",
      "* **Integration with other tools:** LangSmith integrates with popular machine learning frameworks like TensorFlow and PyTorch, as well as other tools for data processing and visualization.\n",
      "\n",
      "Essentially, LangSmith aims to democratize access to LLM development by providing a comprehensive and accessible platform for researchers and developers of all levels.\n",
      "\n"
     ]
    }
   ],
   "source": [
    "chain=prompt | model\n",
    "response=chain.invoke({\"input\":\"What is langsmith?\"})\n",
    "print(response.content)"
   ]
  },
  {
   "cell_type": "code",
   "execution_count": 7,
   "id": "a12f4ed2",
   "metadata": {},
   "outputs": [
    {
     "name": "stdout",
     "output_type": "stream",
     "text": [
      "The owner of Facebook is **Meta Platforms, Inc.** \n",
      "\n",
      "Facebook is a subsidiary of Meta Platforms, Inc., which was formerly known as Facebook, Inc. \n",
      "\n",
      "\n"
     ]
    }
   ],
   "source": [
    "response=chain.invoke({\"input\":\"Who is the onwer of Facebook?\"})\n",
    "print(response.content)"
   ]
  },
  {
   "cell_type": "code",
   "execution_count": 8,
   "id": "5b405bb2",
   "metadata": {},
   "outputs": [],
   "source": [
    "from langchain_core.output_parsers import StrOutputParser\n",
    "output_parser=StrOutputParser()\n",
    "\n",
    "chain=prompt | model | output_parser\n",
    "\n"
   ]
  },
  {
   "cell_type": "code",
   "execution_count": 9,
   "id": "214b790c",
   "metadata": {},
   "outputs": [
    {
     "name": "stdout",
     "output_type": "stream",
     "text": [
      "Let's talk about Langsmith!\n",
      "\n",
      "Langsmith is a powerful open-source tool designed to simplify the process of fine-tuning large language models (LLMs). Developed by the Hugging Face community, it streamlines the workflow, making it more accessible for researchers, developers, and anyone looking to customize LLMs for specific tasks.\n",
      "\n",
      "**Here's a breakdown of what makes Langsmith special:**\n",
      "\n",
      "* **User-Friendly Interface:** Langsmith provides a web-based interface that removes the complexity of traditional fine-tuning methods. You can easily upload your data, select a pre-trained LLM, and configure fine-tuning parameters without extensive coding knowledge.\n",
      "\n",
      "* **Efficient Training:** It leverages techniques like gradient accumulation and mixed precision training to optimize the fine-tuning process, reducing the required computational resources and training time.\n",
      "\n",
      "* **Built-in Evaluation:** Langsmith incorporates built-in evaluation metrics, allowing you to track the performance of your fine-tuned model and make informed decisions about hyperparameter tuning.\n",
      "\n",
      "* **Community-Driven:** As an open-source project, Langsmith benefits from the contributions and support of a vibrant community of developers. This fosters collaboration, innovation, and continuous improvement.\n",
      "\n",
      "**Key Features:**\n",
      "\n",
      "* **Data Management:**  Langsmith supports various data formats and provides tools for data preprocessing, cleaning, and splitting.\n",
      "* **Hyperparameter Tuning:** Easily experiment with different fine-tuning settings to optimize model performance.\n",
      "* **Model Visualization:**  Gain insights into your fine-tuned model's behavior through visualizations of attention weights and other relevant metrics.\n",
      "* **Integration with Hugging Face:** Seamlessly integrates with the Hugging Face Model Hub, allowing you to access a vast library of pre-trained LLMs and share your fine-tuned models with the community.\n",
      "\n",
      "**Use Cases:**\n",
      "\n",
      "* **Text Generation:** Fine-tune LLMs for tasks like creative writing, summarization, dialogue generation, and code completion.\n",
      "* **Question Answering:**  Train models to answer questions accurately and comprehensively from a given context.\n",
      "* **Sentiment Analysis:**  Develop models capable of understanding and classifying the emotional tone of text.\n",
      "* **Chatbots:**  Create more engaging and context-aware chatbots for customer service or entertainment purposes.\n",
      "\n",
      "**Getting Started:**\n",
      "\n",
      "* Visit the official Langsmith website: [https://github.com/huggingface/langsmith](https://github.com/huggingface/langsmith)\n",
      "* Explore the documentation and tutorials for detailed instructions on using Langsmith.\n",
      "\n",
      "Langsmith empowers you to harness the potential of LLMs and tailor them to your specific needs, opening up a world of possibilities for innovation and problem-solving.\n",
      "\n"
     ]
    }
   ],
   "source": [
    "response=chain.invoke({\"input\": \"can you tell me about Langsmith\"})\n",
    "print(response)"
   ]
  },
  {
   "cell_type": "code",
   "execution_count": 12,
   "id": "bf6c56e1",
   "metadata": {},
   "outputs": [],
   "source": [
    "from langchain_core.output_parsers import JsonOutputParser\n",
    "from langchain_core.prompts import PromptTemplate\n",
    "output_parser=JsonOutputParser()\n",
    "prompt=PromptTemplate(\n",
    "    template=\"Answer the user query \\n {format_instruction} \\n {query}\\n\",\n",
    "    input_variables=[\"query\"],\n",
    "    partial_variables={\"format_instruction\":output_parser.get_format_instructions}\n",
    "\n",
    ")\n",
    "\n",
    "chain=prompt | model | output_parser"
   ]
  },
  {
   "cell_type": "code",
   "execution_count": 13,
   "id": "680bc6d0",
   "metadata": {},
   "outputs": [
    {
     "name": "stdout",
     "output_type": "stream",
     "text": [
      "{'name': 'Facebook', 'description': 'A social networking service where users can connect with friends and family, share updates, photos, videos, and join groups.', 'founded': 2004, 'founder': 'Mark Zuckerberg', 'parent_company': 'Meta Platforms, Inc.', 'features': ['News Feed', 'Profile Pages', 'Groups', 'Events', 'Messenger', 'Marketplace', 'Watch'], 'website': 'https://www.facebook.com/'}\n"
     ]
    }
   ],
   "source": [
    "response=chain.invoke({\"query\":\"what is facebook\"})\n",
    "print(response)"
   ]
  },
  {
   "cell_type": "code",
   "execution_count": 15,
   "id": "3b110b4c",
   "metadata": {},
   "outputs": [],
   "source": [
    "from langchain_core.output_parsers import JsonOutputParser\n",
    "\n",
    "output_parser=JsonOutputParser()\n",
    "prompt=ChatPromptTemplate(\n",
    "    {(\"system\",\"You are an expert AI engineer, please provide the answer in Json format of the given question.\"),\n",
    "    (\"user\",\"{input}\")}\n",
    "\n",
    ")\n",
    "\n",
    "chain=prompt | model | output_parser"
   ]
  },
  {
   "cell_type": "code",
   "execution_count": 17,
   "id": "ef51ed92",
   "metadata": {},
   "outputs": [
    {
     "name": "stdout",
     "output_type": "stream",
     "text": [
      "{'name': 'Facebook', 'official_name': 'Meta Platforms, Inc.', 'type': 'Social networking service', 'founded': '2004', 'founder': 'Mark Zuckerberg', 'description': 'A social media platform that enables users to connect with friends, family, and others, share content, join groups, and engage in online communities. It has evolved to encompass various features, including messaging, video calling, and newsfeed algorithms.', 'features': ['Profile pages', 'Newsfeed', 'Groups', 'Events', 'Pages', 'Messenger', 'Instagram', 'WhatsApp'], 'impact': ['Revolutionized social interaction', 'Enabled global communication', 'Created new advertising revenue models', 'Faced controversies regarding privacy, misinformation, and content moderation']}\n"
     ]
    }
   ],
   "source": [
    "response=chain.invoke({\"input\":\"what is facebook\"})\n",
    "print(response)"
   ]
  },
  {
   "cell_type": "code",
   "execution_count": 20,
   "id": "07cbe9b8",
   "metadata": {},
   "outputs": [],
   "source": [
    "from langchain_core.output_parsers import XMLOutputParser\n",
    "\n",
    "output_parser=XMLOutputParser(tags=[\"movie name\",\"year\",\"co-actors\",\"genre\",\"writer\",\"director\"])\n",
    "\n",
    "prompt=PromptTemplate(\n",
    "    template=\"You are film expert. Based on the provided actor name provide top 10 \\n {format_instruction} \\n {query}\\n\",\n",
    "    input_variables=[\"query\"],\n",
    "    partial_variables={\"format_instruction\":output_parser.get_format_instructions}\n",
    ")"
   ]
  },
  {
   "cell_type": "code",
   "execution_count": 21,
   "id": "6b2d2291",
   "metadata": {},
   "outputs": [],
   "source": [
    "chain=prompt | model | output_parser"
   ]
  },
  {
   "cell_type": "code",
   "execution_count": 24,
   "id": "4479f93d",
   "metadata": {},
   "outputs": [
    {
     "name": "stdout",
     "output_type": "stream",
     "text": [
      "{'actor_films': [{'film': [{'movie_name': 'Bajrangi Bhaijaan'}, {'year': '2015'}, {'co_actors': 'Kareena Kapoor Khan, Nawazuddin Siddiqui'}, {'genre': 'Drama, Romance'}, {'writer': 'K. V. Vijayendra Prasad'}, {'director': 'Kabir Khan'}]}, {'film': [{'movie_name': 'Sultan'}, {'year': '2016'}, {'co_actors': 'Anushka Sharma'}, {'genre': 'Sports Drama, Romance'}, {'writer': 'Neelesh Misra'}, {'director': 'Ali Abbas Zafar'}]}, {'film': [{'movie_name': 'Tiger Zinda Hai'}, {'year': '2017'}, {'co_actors': 'Katrina Kaif'}, {'genre': 'Action, Thriller'}, {'writer': 'Shridhar Raghavan'}, {'director': 'Ali Abbas Zafar'}]}, {'film': [{'movie_name': 'Dabangg'}, {'year': '2010'}, {'co_actors': 'Sonakshi Sinha, Arbaaz Khan'}, {'genre': 'Action, Comedy'}, {'writer': 'Abhinav Kashyap'}, {'director': 'Abhinav Kashyap'}]}, {'film': [{'movie_name': 'Kick'}, {'year': '2014'}, {'co_actors': 'Jacqueline Fernandez'}, {'genre': 'Action, Comedy'}, {'writer': 'Sajid-Farhad'}, {'director': 'Sajid Nadiadwala'}]}, {'film': [{'movie_name': 'Ready'}, {'year': '2011'}, {'co_actors': 'Asin Thottumkal'}, {'genre': 'Action, Comedy'}, {'writer': 'Raj Nidimoru, Krishna D.K.'}, {'director': 'Anees Bazmee'}]}, {'film': [{'movie_name': 'Bodyguard'}, {'year': '2011'}, {'co_actors': 'Kareena Kapoor Khan'}, {'genre': 'Action, Romance'}, {'writer': 'Siddique'}, {'director': 'Siddique'}]}, {'film': [{'movie_name': 'Wanted'}, {'year': '2009'}, {'co_actors': 'Ayesha Takia'}, {'genre': 'Action'}, {'writer': 'Raj Nidimoru, Krishna D.K.'}, {'director': 'Prabhu Deva'}]}, {'film': [{'movie_name': 'Tere Naam'}, {'year': '2003'}, {'co_actors': 'Bhumika Chawla'}, {'genre': 'Romance, Drama'}, {'writer': 'K. V. Vijayendra Prasad'}, {'director': 'Satish Kaushik'}]}, {'film': [{'movie_name': 'Maine Pyar Kyun Kiya'}, {'year': '2005'}, {'co_actors': 'Katrina Kaif'}, {'genre': 'Romance, Comedy'}, {'writer': 'Anees Bazmee'}, {'director': 'Anees Bazmee'}]}]}\n"
     ]
    }
   ],
   "source": [
    "response=chain.invoke({\"query\":\"salman khan\"})\n",
    "print(response)"
   ]
  },
  {
   "cell_type": "code",
   "execution_count": 25,
   "id": "8e28e606",
   "metadata": {},
   "outputs": [
    {
     "data": {
      "text/plain": [
       "PromptTemplate(input_variables=['query'], input_types={}, partial_variables={'format_instruction': <bound method XMLOutputParser.get_format_instructions of XMLOutputParser(tags=['movie name', 'year', 'co-actors', 'genre', 'writer', 'director'])>}, template='You are film expert. Based on the provided actor name provide top 10 \\n {format_instruction} \\n {query}\\n')"
      ]
     },
     "execution_count": 25,
     "metadata": {},
     "output_type": "execute_result"
    }
   ],
   "source": [
    "prompt"
   ]
  },
  {
   "cell_type": "code",
   "execution_count": 29,
   "id": "1607c7d8",
   "metadata": {},
   "outputs": [],
   "source": [
    "from langchain_core.prompts import PromptTemplate\n",
    "from langchain_core.output_parsers import JsonOutputParser\n",
    "from pydantic import BaseModel,Field\n",
    "\n",
    "class Joke(BaseModel):\n",
    "    set_up: str=Field(description=\"joke object\")\n",
    "    punchline: str=Field(description=\"This is the joke on given object\")\n",
    "\n",
    "output_parser=JsonOutputParser(pydantic_object=Joke)\n",
    "\n",
    "prompt=PromptTemplate(\n",
    "    template=\"You are a master of Jokes. provide a funny joke on given object \\n {format_instruction} \\n {query}\\n\",\n",
    "    input_variables=[\"query\"],\n",
    "    partial_variables={\"format_instruction\":output_parser.get_format_instructions}\n",
    ")\n",
    "\n",
    "chain=prompt | model | output_parser"
   ]
  },
  {
   "cell_type": "code",
   "execution_count": 33,
   "id": "b21f9581",
   "metadata": {},
   "outputs": [
    {
     "name": "stdout",
     "output_type": "stream",
     "text": [
      "{'set_up': 'Why did the bicycle fall over?', 'punchline': 'Because it was two tired!'}\n"
     ]
    }
   ],
   "source": [
    "response=chain.invoke({\"query\":\"cycle\"})\n",
    "\n",
    "print(response)"
   ]
  },
  {
   "cell_type": "code",
   "execution_count": 8,
   "id": "ea932e7b",
   "metadata": {},
   "outputs": [
    {
     "name": "stdout",
     "output_type": "stream",
     "text": [
      "{\"status\":\"OK\",\"request_id\":\"f3863f82-fb19-4eb8-a3e3-7491322ed430\",\"parameters\":{\"query\":\"iPhone 15\",\"country\":\"US\",\"sort_by\":\"RELEVANCE\",\"page\":1},\"data\":{\"total_products\":235,\"country\":\"US\",\"domain\":\"www.amazon.com\",\"products\":[{\"asin\":\"B0CMPMY9ZZ\",\"product_title\":\"Apple iPhone 15, 128GB, Black - Unlocked (Renewed)\",\"product_price\":\"$514.95\",\"product_original_price\":null,\"currency\":\"USD\",\"product_star_rating\":\"4.2\",\"product_num_ratings\":1634,\"product_url\":\"https://www.amazon.com/dp/B0CMPMY9ZZ\",\"product_photo\":\"https://m.media-amazon.com/images/I/51PtFHUPjBL._AC_UY654_FMwebp_QL65_.jpg\",\"product_num_offers\":41,\"product_minimum_offer_price\":\"$465.41\",\"is_best_seller\":false,\"is_amazon_choice\":false,\"is_prime\":false,\"climate_pledge_friendly\":false,\"sales_volume\":\"1K+ bought in past month\",\"delivery\":\"FREE delivery Fri, Jun 13Arrives before Father's Day\",\"has_variations\":true},{\"asin\":\"B0CRJ1JNNS\",\"product_title\":\"Apple iPhone 15, 128GB, Blue - Unlocked (Renewed Premium)\",\"product_price\":\"$559.97\",\"product_original_price\":null,\"currency\":\"USD\",\"product_star_rating\":\"4.3\",\"product_num_ratings\":474,\"product_url\":\"https://www.amazon.com/dp/B0CRJ1JNNS\",\"product_photo\":\"https://m.media-amazon.com/images/I/51fQUkGbMML._AC_UY654_FMwebp_QL65_.jpg\",\"product_num_offers\":1,\"product_minimum_offer_price\":\"$559.97\",\"is_best_seller\":false,\"is_amazon_choice\":false,\"is_prime\":false,\"product_availability\":\"Only 12 left in stock - order soon.\",\"climate_pledge_friendly\":false,\"sales_volume\":\"400+ bought in past month\",\"delivery\":\"FREE delivery Fri, Jun 13Arrives before Father's DayOnly 12 left in stock - order soon.\",\"has_variations\":true},{\"asin\":\"B0CMSZ7XB6\",\"product_title\":\"Apple iPhone 15 Plus, 128GB, Pink - AT&amp;T (Renewed)\",\"product_price\":\"$421.13\",\"product_original_price\":null,\"currency\":\"USD\",\"product_star_rating\":\"4.2\",\"product_num_ratings\":925,\"product_url\":\"https://www.amazon.com/dp/B0CMSZ7XB6\",\"product_photo\":\"https://m.media-amazon.com/images/I/61E3eOImi2L._AC_UY654_FMwebp_QL65_.jpg\",\"product_num_offers\":13,\"product_minimum_offer_price\":\"$419.99\",\"is_best_seller\":false,\"is_amazon_choice\":false,\"is_prime\":false,\"climate_pledge_friendly\":false,\"sales_volume\":\"200+ bought in past month\",\"delivery\":\"FREE delivery Sat, Jun 14Or fastest delivery Fri, Jun 13Arrives before Father's Day\",\"has_variations\":true},{\"asin\":\"B0BN733951\",\"product_title\":\"Apple iPhone 14, 128GB, Blue - Unlocked (Renewed)\",\"product_price\":\"$359.95\",\"product_original_price\":\"$389.00\",\"currency\":\"USD\",\"product_star_rating\":\"4\",\"product_num_ratings\":5211,\"product_url\":\"https://www.amazon.com/dp/B0BN733951\",\"product_photo\":\"https://m.media-amazon.com/images/I/61aEBeER-+L._AC_UY654_FMwebp_QL65_.jpg\",\"product_num_offers\":43,\"product_minimum_offer_price\":\"$310.86\",\"is_best_seller\":false,\"is_amazon_choice\":false,\"is_prime\":false,\"product_availability\":\"Only 8 left in stock - order soon.\",\"climate_pledge_friendly\":false,\"sales_volume\":\"2K+ bought in past month\",\"delivery\":\"FREE delivery Fri, Jun 13Arrives before Father's DayOnly 8 left in stock - order soon.\",\"has_variations\":true},{\"asin\":\"B0CMYXFK3R\",\"product_title\":\"Apple iPhone 15 Pro, 256GB, Blue Titanium - Unlocked (Renewed)\",\"product_price\":\"$696.50\",\"product_original_price\":null,\"currency\":\"USD\",\"product_star_rating\":\"4.1\",\"product_num_ratings\":1431,\"product_url\":\"https://www.amazon.com/dp/B0CMYXFK3R\",\"product_photo\":\"https://m.media-amazon.com/images/I/71Yp3z87X4L._AC_UY654_FMwebp_QL65_.jpg\",\"product_num_offers\":12,\"product_minimum_offer_price\":\"$671.59\",\"is_best_seller\":false,\"is_amazon_choice\":false,\"is_prime\":false,\"product_availability\":\"Only 16 left in stock - order soon.\",\"climate_pledge_friendly\":false,\"sales_volume\":\"400+ bought in past month\",\"delivery\":\"FREE delivery Mon, Jun 16Only 16 left in stock - order soon.\",\"has_variations\":true},{\"asin\":\"B0CMZC6S2F\",\"product_title\":\"Apple iPhone 15 Pro Max, 512GB, Natural Titanium - Unlocked (Renewed)\",\"product_price\":\"$835.70\",\"product_original_price\":\"$879.00\",\"currency\":\"USD\",\"product_star_rating\":\"3.9\",\"product_num_ratings\":1351,\"product_url\":\"https://www.amazon.com/dp/B0CMZC6S2F\",\"product_photo\":\"https://m.media-amazon.com/images/I/616mZZm8-7L._AC_UY654_FMwebp_QL65_.jpg\",\"product_num_offers\":16,\"product_minimum_offer_price\":\"$778.41\",\"is_best_seller\":false,\"is_amazon_choice\":false,\"is_prime\":false,\"product_availability\":\"Only 5 left in stock - order soon.\",\"climate_pledge_friendly\":false,\"sales_volume\":\"400+ bought in past month\",\"delivery\":\"FREE delivery Mon, Jun 16Or fastest delivery Overnight 4 AM - 8 AMArrives before Father's DayOnly 5 left in stock - order soon.\",\"has_variations\":true},{\"asin\":\"B09LNFRHGN\",\"product_title\":\"Apple iPhone 13, 256GB, Blue - Unlocked (Renewed)\",\"product_price\":\"$333.00\",\"product_original_price\":null,\"currency\":\"USD\",\"product_star_rating\":\"4\",\"product_num_ratings\":17066,\"product_url\":\"https://www.amazon.com/dp/B09LNFRHGN\",\"product_photo\":\"https://m.media-amazon.com/images/I/61hGhagsIoL._AC_UY654_FMwebp_QL65_.jpg\",\"product_num_offers\":12,\"product_minimum_offer_price\":\"$276.86\",\"is_best_seller\":true,\"is_amazon_choice\":false,\"is_prime\":false,\"product_availability\":\"Only 1 left in stock - order soon.\",\"climate_pledge_friendly\":false,\"sales_volume\":\"500+ bought in past month\",\"delivery\":\"FREE delivery Mon, Jun 16Only 1 left in stock - order soon.\",\"has_variations\":true,\"product_badge\":\"Best Seller\"},{\"asin\":\"B0CRJTCW3S\",\"product_title\":\"Apple iPhone 15 Plus, 128GB, Blue - Unlocked (Renewed Premium)\",\"product_price\":\"$644.97\",\"product_original_price\":null,\"currency\":\"USD\",\"product_star_rating\":\"4.3\",\"product_num_ratings\":164,\"product_url\":\"https://www.amazon.com/dp/B0CRJTCW3S\",\"product_photo\":\"https://m.media-amazon.com/images/I/51-RPOw693L._AC_UY654_FMwebp_QL65_.jpg\",\"product_num_offers\":1,\"product_minimum_offer_price\":\"$644.97\",\"is_best_seller\":false,\"is_amazon_choice\":false,\"is_prime\":false,\"product_availability\":\"Only 7 left in stock - order soon.\",\"climate_pledge_friendly\":false,\"sales_volume\":\"50+ bought in past month\",\"delivery\":\"FREE delivery Fri, Jun 13Arrives before Father's DayOnly 7 left in stock - order soon.\",\"has_variations\":true},{\"asin\":\"B0DLQV1QX1\",\"product_title\":\"Apple iPhone 16, US Version, 128GB, Pink for T-Mobile (Renewed)\",\"product_price\":\"$534.95\",\"product_original_price\":\"$599.90\",\"currency\":\"USD\",\"product_star_rating\":\"4.2\",\"product_num_ratings\":17,\"product_url\":\"https://www.amazon.com/dp/B0DLQV1QX1\",\"product_photo\":\"https://m.media-amazon.com/images/I/31BVQroLBUL._AC_UY545_FMwebp_QL65_.jpg\",\"product_num_offers\":1,\"product_minimum_offer_price\":\"$534.95\",\"is_best_seller\":false,\"is_amazon_choice\":false,\"is_prime\":false,\"product_availability\":\"Only 1 left in stock - order soon.\",\"climate_pledge_friendly\":false,\"sales_volume\":\"100+ bought in past month\",\"delivery\":\"FREE delivery Sat, Jun 14Or fastest delivery Fri, Jun 13Arrives before Father's DayOnly 1 left in stock - order soon.\",\"has_variations\":true},{\"asin\":\"B0BN95FRW9\",\"product_title\":\"Apple iPhone 14 Pro, 128GB, Space Black - Unlocked (Renewed)\",\"product_price\":\"$480.00\",\"product_original_price\":\"$509.00\",\"currency\":\"USD\",\"product_star_rating\":\"4\",\"product_num_ratings\":3414,\"product_url\":\"https://www.amazon.com/dp/B0BN95FRW9\",\"product_photo\":\"https://m.media-amazon.com/images/I/61XO4bORHUL._AC_UY654_FMwebp_QL65_.jpg\",\"product_num_offers\":25,\"product_minimum_offer_price\":\"$429.28\",\"is_best_seller\":false,\"is_amazon_choice\":false,\"is_prime\":false,\"product_availability\":\"Only 1 left in stock - order soon.\",\"climate_pledge_friendly\":false,\"sales_volume\":\"500+ bought in past month\",\"delivery\":\"FREE delivery Fri, Jun 13Or fastest delivery Tomorrow, Jun 12Arrives before Father's DayOnly 1 left in stock - order soon.\",\"has_variations\":true},{\"asin\":\"B0BN9426PP\",\"product_title\":\"Apple iPhone 14 Plus, 128GB, Midnight - Unlocked (Renewed)\",\"product_price\":\"$407.00\",\"product_original_price\":\"$506.00\",\"currency\":\"USD\",\"product_star_rating\":\"4.1\",\"product_num_ratings\":2440,\"product_url\":\"https://www.amazon.com/dp/B0BN9426PP\",\"product_photo\":\"https://m.media-amazon.com/images/I/513-nH35+UL._AC_UY654_FMwebp_QL65_.jpg\",\"product_num_offers\":39,\"product_minimum_offer_price\":\"$336.50\",\"is_best_seller\":false,\"is_amazon_choice\":false,\"is_prime\":false,\"product_availability\":\"Only 16 left in stock - order soon.\",\"climate_pledge_friendly\":false,\"sales_volume\":\"1K+ bought in past month\",\"delivery\":\"FREE delivery Fri, Jun 13Arrives before Father's DayOnly 16 left in stock - order soon.\",\"has_variations\":true},{\"asin\":\"B0BYLLR7QZ\",\"product_title\":\"Apple iPhone 14, 128GB, Purple - Unlocked (Renewed Premium)\",\"product_price\":\"$407.21\",\"product_original_price\":\"$449.00\",\"currency\":\"USD\",\"product_star_rating\":\"4.2\",\"product_num_ratings\":1139,\"product_url\":\"https://www.amazon.com/dp/B0BYLLR7QZ\",\"product_photo\":\"https://m.media-amazon.com/images/I/619f09kK7tL._AC_UY654_FMwebp_QL65_.jpg\",\"product_num_offers\":8,\"product_minimum_offer_price\":\"$399.99\",\"is_best_seller\":false,\"is_amazon_choice\":false,\"is_prime\":false,\"climate_pledge_friendly\":false,\"sales_volume\":\"300+ bought in past month\",\"delivery\":\"FREE delivery Fri, Jun 13Or fastest delivery Tomorrow, Jun 12Arrives before Father's Day\",\"has_variations\":true},{\"asin\":\"B0CRJRNTNS\",\"product_title\":\"Apple iPhone 15 Pro, 256GB, Black Titanium - Unlocked (Renewed Premium)\",\"product_price\":\"$779.97\",\"product_original_price\":null,\"currency\":\"USD\",\"product_star_rating\":\"4.1\",\"product_num_ratings\":535,\"product_url\":\"https://www.amazon.com/dp/B0CRJRNTNS\",\"product_photo\":\"https://m.media-amazon.com/images/I/41sUe-UEorL._AC_UY654_FMwebp_QL65_.jpg\",\"product_num_offers\":5,\"product_minimum_offer_price\":\"$774.00\",\"is_best_seller\":false,\"is_amazon_choice\":false,\"is_prime\":false,\"product_availability\":\"Only 1 left in stock - order soon.\",\"climate_pledge_friendly\":false,\"sales_volume\":\"100+ bought in past month\",\"delivery\":\"FREE delivery Fri, Jun 13Arrives before Father's DayOnly 1 left in stock - order soon.\",\"has_variations\":true},{\"asin\":\"B08PNZDM7L\",\"product_title\":\"Apple iPhone 12, 128GB, Green - Fully Unlocked (Renewed)\",\"product_price\":\"$252.00\",\"product_original_price\":\"$279.00\",\"currency\":\"USD\",\"product_star_rating\":\"4.1\",\"product_num_ratings\":30830,\"product_url\":\"https://www.amazon.com/dp/B08PNZDM7L\",\"product_photo\":\"https://m.media-amazon.com/images/I/51ugi3mMBgL._AC_UY654_FMwebp_QL65_.jpg\",\"product_num_offers\":19,\"product_minimum_offer_price\":\"$215.44\",\"is_best_seller\":false,\"is_amazon_choice\":false,\"is_prime\":false,\"product_availability\":\"Only 11 left in stock - order soon.\",\"climate_pledge_friendly\":false,\"sales_volume\":\"300+ bought in past month\",\"delivery\":\"FREE delivery Fri, Jun 13Arrives before Father's DayOnly 11 left in stock - order soon.\",\"has_variations\":true},{\"asin\":\"B0BYLBVLL3\",\"product_title\":\"Apple iPhone 14 Pro, 256GB, Silver - Unlocked (Renewed Premium)\",\"product_price\":\"$664.97\",\"product_original_price\":null,\"currency\":\"USD\",\"product_star_rating\":\"4.2\",\"product_num_ratings\":1115,\"product_url\":\"https://www.amazon.com/dp/B0BYLBVLL3\",\"product_photo\":\"https://m.media-amazon.com/images/I/51xiCpbirGL._AC_UY654_FMwebp_QL65_.jpg\",\"product_num_offers\":1,\"product_minimum_offer_price\":\"$664.97\",\"is_best_seller\":false,\"is_amazon_choice\":false,\"is_prime\":false,\"product_availability\":\"Only 1 left in stock - order soon.\",\"climate_pledge_friendly\":false,\"sales_volume\":\"100+ bought in past month\",\"delivery\":\"FREE delivery Fri, Jun 13Arrives before Father's DayOnly 1 left in stock - order soon.\",\"has_variations\":true},{\"asin\":\"B0DHJGKNT1\",\"product_title\":\"Apple iPhone 16, US Version, 128GB, Ultramarine - Unlocked (Renewed)\",\"product_price\":\"$707.63\",\"product_original_price\":null,\"currency\":\"USD\",\"product_star_rating\":\"4.5\",\"product_num_ratings\":267,\"product_url\":\"https://www.amazon.com/dp/B0DHJGKNT1\",\"product_photo\":\"https://m.media-amazon.com/images/I/71Ecl1RS5jL._AC_UY654_FMwebp_QL65_.jpg\",\"product_num_offers\":8,\"product_minimum_offer_price\":\"$679.97\",\"is_best_seller\":false,\"is_amazon_choice\":false,\"is_prime\":false,\"product_availability\":\"Only 1 left in stock - order soon.\",\"climate_pledge_friendly\":false,\"sales_volume\":\"100+ bought in past month\",\"delivery\":\"FREE delivery Fri, Jun 13Or fastest delivery Tomorrow, Jun 12Arrives before Father's DayOnly 1 left in stock - order soon.\",\"has_variations\":true}]}}\n"
     ]
    }
   ],
   "source": [
    "import requests\n",
    "\n",
    "url = \"https://real-time-amazon-data.p.rapidapi.com/search\"\n",
    "\n",
    "querystring = {\"query\":\"iPhone 15\",\"country\":\"US\"}\n",
    "\n",
    "headers = {\n",
    "\t\"x-rapidapi-key\": \"8d2c3fac9emshdb7e04ae201905ep12a1e0jsn4d4b4f089f6c\",\n",
    "\t\"x-rapidapi-host\": \"real-time-amazon-data.p.rapidapi.com\"\n",
    "}\n",
    "\n",
    "response = requests.get(url, headers=headers, params=querystring)\n",
    "\n",
    "print(response.text)"
   ]
  },
  {
   "cell_type": "code",
   "execution_count": null,
   "id": "57823edb",
   "metadata": {},
   "outputs": [],
   "source": []
  }
 ],
 "metadata": {
  "kernelspec": {
   "display_name": "agentic_venv",
   "language": "python",
   "name": "python3"
  },
  "language_info": {
   "codemirror_mode": {
    "name": "ipython",
    "version": 3
   },
   "file_extension": ".py",
   "mimetype": "text/x-python",
   "name": "python",
   "nbconvert_exporter": "python",
   "pygments_lexer": "ipython3",
   "version": "3.11.13"
  }
 },
 "nbformat": 4,
 "nbformat_minor": 5
}
