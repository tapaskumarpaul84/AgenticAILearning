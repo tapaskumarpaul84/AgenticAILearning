{
 "cells": [
  {
   "cell_type": "code",
   "execution_count": 1,
   "id": "97ccab50",
   "metadata": {},
   "outputs": [],
   "source": [
    "import os\n",
    "from dotenv import load_dotenv\n",
    "\n",
    "load_dotenv()\n",
    "\n",
    "os.environ[\"GROQ_API_KEY\"]=os.getenv(\"GROQ_API_KEY\")"
   ]
  },
  {
   "cell_type": "code",
   "execution_count": 2,
   "id": "92c5fe38",
   "metadata": {},
   "outputs": [],
   "source": [
    "from langchain_groq import ChatGroq\n",
    "\n",
    "llm=ChatGroq(model_name=\"deepseek-r1-distill-llama-70b\",temperature=0)"
   ]
  },
  {
   "cell_type": "code",
   "execution_count": 3,
   "id": "345e4bb5",
   "metadata": {},
   "outputs": [
    {
     "data": {
      "text/plain": [
       "AIMessage(content=\"<think>\\nOkay, so I need to figure out the length of the Great Wall of China. I've heard it's really long, but I'm not exactly sure how long. I remember seeing some numbers in the past, but I think they might vary. Let me try to break this down step by step.\\n\\nFirst, I know the Great Wall is an ancient series of fortifications built across several Chinese dynasties. It was constructed to protect the borders of China from invasions. So, it's not just one continuous wall but a collection of walls built over time. That probably means the total length isn't straightforward because it includes multiple sections built in different periods.\\n\\nI've heard people say it's about 13,000 miles long, but I also recall that this number might not be accurate. Maybe it's a common misconception. I think the actual length is less than that. I remember reading somewhere that a more precise measurement was done, possibly using satellite imagery or some advanced mapping techniques.\\n\\nWait, I think the Chinese government did a survey a few years back. They measured the wall in detail, including all the branches and sections. If I recall correctly, the total length came out to be around 13,171 miles. But I'm not entirely sure if that's the exact figure or if it's been updated since then.\\n\\nI should also consider that the wall isn't just in one place. It spans across multiple provinces in China, so each section might have been measured separately. Some parts are more touristy and well-known, like the sections near Beijing, while others are more remote and maybe harder to measure accurately.\\n\\nAnother thing to think about is how the wall was built. It wasn't constructed all at once, so different dynasties added their own sections. The Qin Dynasty, for example, is famous for starting the wall, but the most well-known and extended versions were built during the Ming Dynasty. Each section might have been measured differently, contributing to the total length.\\n\\nI also wonder if the measurement includes all the watchtowers, beacon towers, and other structures, or if it's just the wall itself. That could affect the total length. Plus, some parts of the wall have been damaged or eroded over time, so maybe the current length is different from the original.\\n\\nI should check if there's a consensus on the exact figure. I think the most recent and accurate measurement is around 13,171 miles, but I'm not 100% certain. It's possible that different sources might have slightly varying numbers due to how they measure and what they include in the total length.\\n\\nSo, putting it all together, the Great Wall of China is approximately 13,171 miles long, according to the most recent surveys. This includes all the branches and sections, not just the main ones. It's important to note that this number can vary slightly depending on the source and the methodology used for measurement.\\n</think>\\n\\nThe Great Wall of China, an ancient series of fortifications built over several dynasties, is approximately 13,171 miles (21,196 kilometers) long. This measurement, based on recent surveys that included all branches and sections, accounts for the various segments constructed during different periods, including those built during the Qin and Ming dynasties. The total length includes all parts of the wall, including watchtowers and beacon towers, and reflects the most accurate current assessment.\", additional_kwargs={}, response_metadata={'token_usage': {'completion_tokens': 691, 'prompt_tokens': 13, 'total_tokens': 704, 'completion_time': 2.876089775, 'prompt_time': 0.000412245, 'queue_time': 0.053181854, 'total_time': 2.87650202}, 'model_name': 'deepseek-r1-distill-llama-70b', 'system_fingerprint': 'fp_1bbe7845ec', 'finish_reason': 'stop', 'logprobs': None}, id='run--ef15cd2b-1346-4c5b-95ef-c61d23158f75-0', usage_metadata={'input_tokens': 13, 'output_tokens': 691, 'total_tokens': 704})"
      ]
     },
     "execution_count": 3,
     "metadata": {},
     "output_type": "execute_result"
    }
   ],
   "source": [
    "response=llm.invoke(\"What is the length of great chaina wall?\")\n",
    "response"
   ]
  },
  {
   "cell_type": "code",
   "execution_count": 4,
   "id": "b84d8aae",
   "metadata": {},
   "outputs": [],
   "source": [
    "from langchain.tools import tool"
   ]
  },
  {
   "cell_type": "markdown",
   "id": "64583475",
   "metadata": {},
   "source": [
    "## This is custom tool building"
   ]
  },
  {
   "cell_type": "code",
   "execution_count": 5,
   "id": "9470e7ad",
   "metadata": {},
   "outputs": [],
   "source": [
    "@tool\n",
    "def addition(a:int,b:int)-> int:\n",
    "    \"\"\"\n",
    "    Add two integer numbers.\n",
    "    Args:\n",
    "        a (int): the first integer\n",
    "        b (int): the second integer\n",
    "\n",
    "    Returns:\n",
    "        int: the addition of a and b.\n",
    "\n",
    "    \"\"\"\n",
    "    return a+b\n",
    "\n",
    "@tool\n",
    "def multiply(a:int,b:int)-> int:\n",
    "    \"\"\"\n",
    "    Multiplication of two integer numbers.\n",
    "    Args:\n",
    "        a (int): the first integer\n",
    "        b (int): the second integer\n",
    "\n",
    "    Returns:\n",
    "        int: the product of a and b.\n",
    "\n",
    "    \"\"\"\n",
    "    return a*b\n",
    "\n",
    "@tool\n",
    "def devide(a:int,b:int)->float:\n",
    "    \"\"\"\n",
    "    Division of two integer numbers.\n",
    "    Args:\n",
    "        a (int): the first integer that is numerator\n",
    "        b (int): the second integer that is denomenator must not be 0.\n",
    "\n",
    "    Returns:\n",
    "        float: integer a divided by the another integer number b.\n",
    "\n",
    "    \"\"\"\n",
    "    if b==0:\n",
    "        raise ValueError(\"Denomenator can not be zero.\")\n",
    "    return a/b\n",
    "\n",
    "\n"
   ]
  },
  {
   "cell_type": "markdown",
   "id": "1a5d8299",
   "metadata": {},
   "source": [
    "### Importing some inbuilt tools"
   ]
  },
  {
   "cell_type": "code",
   "execution_count": 6,
   "id": "eefb9c9f",
   "metadata": {},
   "outputs": [],
   "source": [
    "from langchain_community.tools import DuckDuckGoSearchRun\n",
    "\n",
    "web_search=DuckDuckGoSearchRun()"
   ]
  },
  {
   "cell_type": "code",
   "execution_count": 7,
   "id": "bded727a",
   "metadata": {},
   "outputs": [
    {
     "data": {
      "text/plain": [
       "\"This was the 11th time that Stokes has opted to bowl first, and England have won eight of those games; they have lost only twice, a narrow defeat at Lord's in the 2023 Ashes and a 423-run ... The match is on a knife edge with India needing 10 wickets to win while England are 350 runs away. According to AccuWeather , rain could interrupt play multiple times during the day. England on brink of staggering victory over India Fri 20 Jun 2025 - Tue 24 Jun 2025 , Men's International Test Match Series - 1st Test - Day 5 of 5 England (batting) vs India, in play IND vs ENG LIVE Cricket Score, 1st Test Day 5: Potential epic coming up as final session begins; England 275/4, need 96 to win IND vs ENG 1st Test Day 5 LIVE Cricket Score, India vs England Test Match Today Live Score Updates: India looked down and out but Prasidh Krishna and Shardul Thakur struck out of nowhere to give the visitors a chance that looked improbable for much of the second session. India require 10 wickets to win the 1st Test of the 5-match series whereas England need 350 runs on the last day to take away the match from the Indian side. After Day 4 Stumps, England openers Zak Crawley and Ben Duckett were at the crease and team's score read 21/0, requiring 350 more runs on the fifth day.\""
      ]
     },
     "execution_count": 7,
     "metadata": {},
     "output_type": "execute_result"
    }
   ],
   "source": [
    "web_search.invoke(\"Who won the last match of IND vs ENG?\")"
   ]
  },
  {
   "cell_type": "code",
   "execution_count": 8,
   "id": "802da15d",
   "metadata": {},
   "outputs": [
    {
     "data": {
      "text/plain": [
       "10"
      ]
     },
     "execution_count": 8,
     "metadata": {},
     "output_type": "execute_result"
    }
   ],
   "source": [
    "multiply.invoke({'a':5,'b':2})"
   ]
  },
  {
   "cell_type": "code",
   "execution_count": 9,
   "id": "05af8059",
   "metadata": {},
   "outputs": [],
   "source": [
    "tools=[addition,multiply,devide,web_search]"
   ]
  },
  {
   "cell_type": "code",
   "execution_count": 10,
   "id": "9b8b07b9",
   "metadata": {},
   "outputs": [],
   "source": [
    "llm_bind_tools=llm.bind_tools(tools)"
   ]
  },
  {
   "cell_type": "code",
   "execution_count": 11,
   "id": "2f6167dc",
   "metadata": {},
   "outputs": [],
   "source": [
    "response=llm_bind_tools.invoke(\"hi\")"
   ]
  },
  {
   "cell_type": "code",
   "execution_count": 12,
   "id": "bd14d1e7",
   "metadata": {},
   "outputs": [
    {
     "data": {
      "text/plain": [
       "'Hello! How can I assist you today?'"
      ]
     },
     "execution_count": 12,
     "metadata": {},
     "output_type": "execute_result"
    }
   ],
   "source": [
    "response.content"
   ]
  },
  {
   "cell_type": "code",
   "execution_count": 13,
   "id": "f4460255",
   "metadata": {},
   "outputs": [
    {
     "data": {
      "text/plain": [
       "[]"
      ]
     },
     "execution_count": 13,
     "metadata": {},
     "output_type": "execute_result"
    }
   ],
   "source": [
    "response.tool_calls"
   ]
  },
  {
   "cell_type": "code",
   "execution_count": 14,
   "id": "4085979d",
   "metadata": {},
   "outputs": [],
   "source": [
    "response=llm_bind_tools.invoke(\"What is 5+2?\")"
   ]
  },
  {
   "cell_type": "code",
   "execution_count": 15,
   "id": "0d10f0bc",
   "metadata": {},
   "outputs": [
    {
     "data": {
      "text/plain": [
       "''"
      ]
     },
     "execution_count": 15,
     "metadata": {},
     "output_type": "execute_result"
    }
   ],
   "source": [
    "response.content"
   ]
  },
  {
   "cell_type": "code",
   "execution_count": 16,
   "id": "0ffde6c4",
   "metadata": {},
   "outputs": [
    {
     "data": {
      "text/plain": [
       "[{'name': 'addition',\n",
       "  'args': {'a': 5, 'b': 2},\n",
       "  'id': 'zzp943ebr',\n",
       "  'type': 'tool_call'}]"
      ]
     },
     "execution_count": 16,
     "metadata": {},
     "output_type": "execute_result"
    }
   ],
   "source": [
    "response.tool_calls"
   ]
  },
  {
   "cell_type": "code",
   "execution_count": 17,
   "id": "8e7a9d60",
   "metadata": {},
   "outputs": [],
   "source": [
    "response=llm_bind_tools.invoke(\"What is age of TATA group till now?\")"
   ]
  },
  {
   "cell_type": "code",
   "execution_count": 18,
   "id": "c90cfc09",
   "metadata": {},
   "outputs": [
    {
     "data": {
      "text/plain": [
       "''"
      ]
     },
     "execution_count": 18,
     "metadata": {},
     "output_type": "execute_result"
    }
   ],
   "source": [
    "response.content"
   ]
  },
  {
   "cell_type": "code",
   "execution_count": 19,
   "id": "d0020664",
   "metadata": {},
   "outputs": [
    {
     "data": {
      "text/plain": [
       "[{'name': 'duckduckgo_search',\n",
       "  'args': {'query': 'TATA group founding year'},\n",
       "  'id': 'j29t6psef',\n",
       "  'type': 'tool_call'}]"
      ]
     },
     "execution_count": 19,
     "metadata": {},
     "output_type": "execute_result"
    }
   ],
   "source": [
    "response.tool_calls"
   ]
  },
  {
   "cell_type": "code",
   "execution_count": 20,
   "id": "5c8f8a07",
   "metadata": {},
   "outputs": [],
   "source": [
    "from langgraph.graph import StateGraph,START,END,MessagesState"
   ]
  },
  {
   "cell_type": "code",
   "execution_count": null,
   "id": "f536534f",
   "metadata": {},
   "outputs": [],
   "source": []
  },
  {
   "cell_type": "code",
   "execution_count": null,
   "id": "669ab4a9",
   "metadata": {},
   "outputs": [],
   "source": [
    "syatem_prompt=\"\"\"You are a helpful assistant tasked with using search and arithmetic operation on a set of given input\"\"\""
   ]
  },
  {
   "cell_type": "code",
   "execution_count": 44,
   "id": "e6508316",
   "metadata": {},
   "outputs": [],
   "source": [
    "def llm_call(state:MessagesState):\n",
    "    question=state['messages']\n",
    "    input_question=[syatem_prompt] + question\n",
    "    response=llm_bind_tools.invoke(input_question)\n",
    "    return {\"messages\":[response]}"
   ]
  },
  {
   "cell_type": "code",
   "execution_count": 46,
   "id": "95a42b93",
   "metadata": {},
   "outputs": [],
   "source": [
    "workflow=StateGraph(MessagesState)"
   ]
  },
  {
   "cell_type": "code",
   "execution_count": 47,
   "id": "a8e29145",
   "metadata": {},
   "outputs": [
    {
     "data": {
      "text/plain": [
       "<langgraph.graph.state.StateGraph at 0x20ef56a41d0>"
      ]
     },
     "execution_count": 47,
     "metadata": {},
     "output_type": "execute_result"
    }
   ],
   "source": [
    "workflow.add_node('llm_decision_step',llm_call)"
   ]
  },
  {
   "cell_type": "code",
   "execution_count": null,
   "id": "87b045d8",
   "metadata": {},
   "outputs": [],
   "source": []
  },
  {
   "cell_type": "code",
   "execution_count": 48,
   "id": "683fb7ff",
   "metadata": {},
   "outputs": [
    {
     "data": {
      "text/plain": [
       "<langgraph.graph.state.StateGraph at 0x20ef56a41d0>"
      ]
     },
     "execution_count": 48,
     "metadata": {},
     "output_type": "execute_result"
    }
   ],
   "source": [
    "from langgraph.prebuilt import ToolNode\n",
    "workflow.add_node(ToolNode(tools))"
   ]
  },
  {
   "cell_type": "code",
   "execution_count": 49,
   "id": "08b226a7",
   "metadata": {},
   "outputs": [
    {
     "data": {
      "text/plain": [
       "<langgraph.graph.state.StateGraph at 0x20ef56a41d0>"
      ]
     },
     "execution_count": 49,
     "metadata": {},
     "output_type": "execute_result"
    }
   ],
   "source": [
    "workflow.add_edge(START,'llm_decision_step')"
   ]
  },
  {
   "cell_type": "code",
   "execution_count": 50,
   "id": "914032c5",
   "metadata": {},
   "outputs": [
    {
     "data": {
      "text/plain": [
       "<langgraph.graph.state.StateGraph at 0x20ef56a41d0>"
      ]
     },
     "execution_count": 50,
     "metadata": {},
     "output_type": "execute_result"
    }
   ],
   "source": [
    "from langgraph.prebuilt import tools_condition\n",
    "workflow.add_conditional_edges('llm_decision_step',tools_condition)"
   ]
  },
  {
   "cell_type": "code",
   "execution_count": 51,
   "id": "51751473",
   "metadata": {},
   "outputs": [
    {
     "data": {
      "text/plain": [
       "<langgraph.graph.state.StateGraph at 0x20ef56a41d0>"
      ]
     },
     "execution_count": 51,
     "metadata": {},
     "output_type": "execute_result"
    }
   ],
   "source": [
    "workflow.add_edge('tools','llm_decision_step')"
   ]
  },
  {
   "cell_type": "code",
   "execution_count": 52,
   "id": "9b403b7c",
   "metadata": {},
   "outputs": [],
   "source": [
    "app=workflow.compile()"
   ]
  },
  {
   "cell_type": "code",
   "execution_count": 53,
   "id": "79853e74",
   "metadata": {},
   "outputs": [
    {
     "data": {
      "image/png": "[encoded data removed]",
      "text/plain": [
       "<IPython.core.display.Image object>"
      ]
     },
     "metadata": {},
     "output_type": "display_data"
    }
   ],
   "source": [
    "from IPython.display import display,Image\n",
    "display(Image(app.get_graph().draw_mermaid_png()))"
   ]
  },
  {
   "cell_type": "code",
   "execution_count": 54,
   "id": "6360624a",
   "metadata": {},
   "outputs": [
    {
     "name": "stdout",
     "output_type": "stream",
     "text": [
      "This is from node:  llm_decision_step\n",
      "--------\n",
      "{'messages': [AIMessage(content='', additional_kwargs={'tool_calls': [{'id': 'tbzcab6p4', 'function': {'arguments': '{\"a\":5,\"b\":8}', 'name': 'addition'}, 'type': 'function'}]}, response_metadata={'token_usage': {'completion_tokens': 270, 'prompt_tokens': 431, 'total_tokens': 701, 'completion_time': 1.120161939, 'prompt_time': 0.034648771, 'queue_time': 0.054003538, 'total_time': 1.15481071}, 'model_name': 'deepseek-r1-distill-llama-70b', 'system_fingerprint': 'fp_1bbe7845ec', 'finish_reason': 'tool_calls', 'logprobs': None}, id='run--cfa0e72e-6a2e-44d4-ad54-db15772ddcfd-0', tool_calls=[{'name': 'addition', 'args': {'a': 5, 'b': 8}, 'id': 'tbzcab6p4', 'type': 'tool_call'}], usage_metadata={'input_tokens': 431, 'output_tokens': 270, 'total_tokens': 701})]}\n",
      "\n",
      "\n",
      "This is from node:  tools\n",
      "--------\n",
      "{'messages': [ToolMessage(content='13', name='addition', id='dee1da64-ca9d-4fbb-a813-f6f06456b608', tool_call_id='tbzcab6p4')]}\n",
      "\n",
      "\n",
      "This is from node:  llm_decision_step\n",
      "--------\n",
      "{'messages': [AIMessage(content='The result of 5 + 8 is **13**.', additional_kwargs={}, response_metadata={'token_usage': {'completion_tokens': 179, 'prompt_tokens': 485, 'total_tokens': 664, 'completion_time': 0.84130393, 'prompt_time': 0.031978849, 'queue_time': 0.06233135, 'total_time': 0.873282779}, 'model_name': 'deepseek-r1-distill-llama-70b', 'system_fingerprint': 'fp_1bbe7845ec', 'finish_reason': 'stop', 'logprobs': None}, id='run--afc27b58-433e-4ff0-825f-d8f97ac64482-0', usage_metadata={'input_tokens': 485, 'output_tokens': 179, 'total_tokens': 664})]}\n",
      "\n",
      "\n"
     ]
    }
   ],
   "source": [
    "for output in app.stream({\"messages\":[\"What is the 5+8?\"]}):\n",
    "\n",
    "    for key,value in output.items():\n",
    "        print(\"This is from node: \",key)\n",
    "        print(\"--------\")\n",
    "        print(value)\n",
    "        print(\"\\n\")"
   ]
  },
  {
   "cell_type": "code",
   "execution_count": 55,
   "id": "3840489c",
   "metadata": {},
   "outputs": [
    {
     "name": "stdout",
     "output_type": "stream",
     "text": [
      "This is from node:  llm_decision_step\n",
      "--------\n",
      "{'messages': [AIMessage(content='', additional_kwargs={'tool_calls': [{'id': 'cmxz3jf6a', 'function': {'arguments': '{\"query\":\"IND vs ENG last test match result\"}', 'name': 'duckduckgo_search'}, 'type': 'function'}]}, response_metadata={'token_usage': {'completion_tokens': 133, 'prompt_tokens': 433, 'total_tokens': 566, 'completion_time': 0.516688656, 'prompt_time': 0.02771572, 'queue_time': 0.058167720000000006, 'total_time': 0.544404376}, 'model_name': 'deepseek-r1-distill-llama-70b', 'system_fingerprint': 'fp_1bbe7845ec', 'finish_reason': 'tool_calls', 'logprobs': None}, id='run--581acf71-dcc5-42d3-9b1a-aad18eb66dcc-0', tool_calls=[{'name': 'duckduckgo_search', 'args': {'query': 'IND vs ENG last test match result'}, 'id': 'cmxz3jf6a', 'type': 'tool_call'}], usage_metadata={'input_tokens': 433, 'output_tokens': 133, 'total_tokens': 566})]}\n",
      "\n",
      "\n",
      "This is from node:  tools\n",
      "--------\n",
      "{'messages': [ToolMessage(content=\"Follow our live cricket update for in-depth match coverage and exciting highlights from England vs India 1st Test at Leeds on ESPNcricinfo. Catch live and detailed score report of England vs India 1st Test 2025, India tour of England only on ESPN.in. Find the complete scorecard of England vs India 1st Test Online First Test, day five, Headingley. England chase down 371 to beat India by five wickets and take 1-0 lead in five-match series. Duckett strikes magnificent 149; Crawley (65), Root (53*) and Smith ... India's KL Rahul hit his ninth Test century whilst Rishabh Pant became the first Indian to score centuries in both innings of a Test against England as the hosts closed day four on 21-0, chasing ... Shubman Gill has played 3 Test Matches in England, 2 of which were WTC Finals, but hasn't played up to his reputation yet. Prior to this match, he had scored a meagerly 88 runs, averaging just 14.7, with a highest of 28. Josh Tongue returns. 11-0-45-0 so far. He has been quick today, but not necessarily got his radar right.\", name='duckduckgo_search', id='0f0af8fc-5cd4-451f-a2d9-fb69e740be6e', tool_call_id='cmxz3jf6a')]}\n",
      "\n",
      "\n",
      "This is from node:  llm_decision_step\n",
      "--------\n",
      "{'messages': [AIMessage(content=\"The last test match between India and England was won by England. They successfully chased a target of 371 runs, winning by five wickets and taking a 1-0 lead in the series. This match took place at Headingley in 2025, with notable performances from England's Duckett, Crawley, and Root, and India's Rahul and Pant.\", additional_kwargs={}, response_metadata={'token_usage': {'completion_tokens': 407, 'prompt_tokens': 747, 'total_tokens': 1154, 'completion_time': 1.7748398829999998, 'prompt_time': 0.055447, 'queue_time': 0.05380834, 'total_time': 1.8302868829999999}, 'model_name': 'deepseek-r1-distill-llama-70b', 'system_fingerprint': 'fp_1bbe7845ec', 'finish_reason': 'stop', 'logprobs': None}, id='run--fc99b5d5-57c5-4364-8aca-3570ca03ef72-0', usage_metadata={'input_tokens': 747, 'output_tokens': 407, 'total_tokens': 1154})]}\n",
      "\n",
      "\n"
     ]
    }
   ],
   "source": [
    "for output in app.stream({\"messages\":[\"Who won the last test match IND vs ENG?\"]}):\n",
    "\n",
    "    for key,value in output.items():\n",
    "        print(\"This is from node: \",key)\n",
    "        print(\"--------\")\n",
    "        print(value)\n",
    "        print(\"\\n\")"
   ]
  },
  {
   "cell_type": "code",
   "execution_count": 56,
   "id": "1b8b73cf",
   "metadata": {},
   "outputs": [],
   "source": [
    "from langchain_core.messages import HumanMessage"
   ]
  },
  {
   "cell_type": "code",
   "execution_count": 58,
   "id": "dcb59a37",
   "metadata": {},
   "outputs": [],
   "source": [
    "messages=[HumanMessage(content=\"What is the net worth of Elon Musk and what will be the 50% of his wealth?\")]"
   ]
  },
  {
   "cell_type": "code",
   "execution_count": 59,
   "id": "f322c9ff",
   "metadata": {},
   "outputs": [
    {
     "name": "stdout",
     "output_type": "stream",
     "text": [
      "This is from node:  llm_decision_step\n",
      "--------\n",
      "{'messages': [AIMessage(content='', additional_kwargs={'tool_calls': [{'id': 'f1yamvsz4', 'function': {'arguments': '{\"query\":\"Elon Musk net worth 2023\"}', 'name': 'duckduckgo_search'}, 'type': 'function'}]}, response_metadata={'token_usage': {'completion_tokens': 334, 'prompt_tokens': 443, 'total_tokens': 777, 'completion_time': 1.397803929, 'prompt_time': 0.036047626, 'queue_time': 0.052407763999999996, 'total_time': 1.433851555}, 'model_name': 'deepseek-r1-distill-llama-70b', 'system_fingerprint': 'fp_1bbe7845ec', 'finish_reason': 'tool_calls', 'logprobs': None}, id='run--6b2b9c7f-9f6a-4ba7-be8d-ccb63749c737-0', tool_calls=[{'name': 'duckduckgo_search', 'args': {'query': 'Elon Musk net worth 2023'}, 'id': 'f1yamvsz4', 'type': 'tool_call'}], usage_metadata={'input_tokens': 443, 'output_tokens': 334, 'total_tokens': 777})]}\n",
      "\n",
      "\n",
      "This is from node:  tools\n",
      "--------\n",
      "{'messages': [ToolMessage(content=\"Musk owns an estimated 54% of xAI, which he founded in 2023. Private investors valued the company at a reported $50 billion in November 2024. ... Elon Musk's net worth fell by the equivalent of ... Elon Musk's net worth jumped by $19 billion after Tesla launched robotaxis in Austin. Tesla stock surged 8% on Monday as fans took their first rides for $4.20. The wealthiest among them is Elon Musk, CEO of Tesla and SpaceX. ... Net Worth: $379 billion; Tesla Ownership Stake: 13% ($142 billion) ... Musk founded xAI in 2023. It is an artificial ... As of December 2024, Musk is the richest person in the world with an estimated net worth of over $400 billion, according to Bloomberg. His fortune comes from his stakes in Tesla, SpaceX, X, and xAI, among other companies. Elon Musk's net worth climbed to a peak of over $420 billion in December. Since then, Tesla's poor stock market performance has dragged on Musk's fortune. ... When it last raised capital in December 2023, SpaceX was valued at $180 billion. More recently, Bloomberg reported on a prospective tender offer that valued the company at $210 billion.\", name='duckduckgo_search', id='ef8762e6-725e-4d4d-be90-46acb630239d', tool_call_id='f1yamvsz4')]}\n",
      "\n",
      "\n",
      "This is from node:  llm_decision_step\n",
      "--------\n",
      "{'messages': [AIMessage(content='', additional_kwargs={'tool_calls': [{'id': 'ce19tq8xw', 'function': {'arguments': '{\"a\":400000000000,\"b\":2}', 'name': 'devide'}, 'type': 'function'}]}, response_metadata={'token_usage': {'completion_tokens': 211, 'prompt_tokens': 1517, 'total_tokens': 1728, 'completion_time': 0.767272727, 'prompt_time': 0.113193542, 'queue_time': -1.306584951, 'total_time': 0.880466269}, 'model_name': 'deepseek-r1-distill-llama-70b', 'system_fingerprint': 'fp_1bbe7845ec', 'finish_reason': 'tool_calls', 'logprobs': None}, id='run--ff1b767f-462a-4aef-9f03-8196f017737c-0', tool_calls=[{'name': 'devide', 'args': {'a': 400000000000, 'b': 2}, 'id': 'ce19tq8xw', 'type': 'tool_call'}], usage_metadata={'input_tokens': 1517, 'output_tokens': 211, 'total_tokens': 1728})]}\n",
      "\n",
      "\n",
      "This is from node:  tools\n",
      "--------\n",
      "{'messages': [ToolMessage(content='200000000000.0', name='devide', id='b394eb7a-17f9-4f34-8ec4-5dd88d0e9da2', tool_call_id='ce19tq8xw')]}\n",
      "\n",
      "\n",
      "This is from node:  llm_decision_step\n",
      "--------\n",
      "{'messages': [AIMessage(content=\"As of the latest available data, Elon Musk's net worth is estimated to be over **$400 billion**. \\n\\nTo find 50% of his wealth, we perform the following calculation:\\n\\n\\\\[\\n\\\\text{50\\\\% of Elon Musk's net worth} = \\\\frac{400,000,000,000}{2} = 200,000,000,000\\n\\\\]\\n\\nTherefore, **50% of Elon Musk's wealth is \\\\$200 billion**.\", additional_kwargs={}, response_metadata={'token_usage': {'completion_tokens': 261, 'prompt_tokens': 822, 'total_tokens': 1083, 'completion_time': 1.085400862, 'prompt_time': 0.060660718, 'queue_time': 0.053646031999999996, 'total_time': 1.14606158}, 'model_name': 'deepseek-r1-distill-llama-70b', 'system_fingerprint': 'fp_1bbe7845ec', 'finish_reason': 'stop', 'logprobs': None}, id='run--dd907139-4cda-41f7-8b81-5432ce3320f6-0', usage_metadata={'input_tokens': 822, 'output_tokens': 261, 'total_tokens': 1083})]}\n",
      "\n",
      "\n"
     ]
    }
   ],
   "source": [
    "for output in app.stream({\"messages\":messages}):\n",
    "\n",
    "    for key,value in output.items():\n",
    "        print(\"This is from node: \",key)\n",
    "        print(\"--------\")\n",
    "        print(value)\n",
    "        print(\"\\n\")"
   ]
  },
  {
   "cell_type": "code",
   "execution_count": 60,
   "id": "806403cb",
   "metadata": {},
   "outputs": [],
   "source": [
    "messages=[HumanMessage(content=\"What is the speed of light in m/s and multiply the speed by 10?\")]"
   ]
  },
  {
   "cell_type": "code",
   "execution_count": 62,
   "id": "84c716b5",
   "metadata": {},
   "outputs": [
    {
     "name": "stdout",
     "output_type": "stream",
     "text": [
      "This is from node:  llm_decision_step\n",
      "--------\n",
      "{'messages': [AIMessage(content='The speed of light in meters per second is approximately **299,792,458 m/s**. When multiplied by 10, the result is **2,997,924,580 m/s**.', additional_kwargs={}, response_metadata={'token_usage': {'completion_tokens': 197, 'prompt_tokens': 440, 'total_tokens': 637, 'completion_time': 0.716363636, 'prompt_time': 0.03689541, 'queue_time': 0.0573716, 'total_time': 0.753259046}, 'model_name': 'deepseek-r1-distill-llama-70b', 'system_fingerprint': 'fp_1bbe7845ec', 'finish_reason': 'stop', 'logprobs': None}, id='run--61fcba25-a505-4e87-af21-72c5726a1d94-0', usage_metadata={'input_tokens': 440, 'output_tokens': 197, 'total_tokens': 637})]}\n",
      "\n",
      "\n"
     ]
    }
   ],
   "source": [
    "for output in app.stream({\"messages\":messages}):\n",
    "\n",
    "    for key,value in output.items():\n",
    "        print(\"This is from node: \",key)\n",
    "        print(\"--------\")\n",
    "        print(value)\n",
    "        print(\"\\n\")"
   ]
  },
  {
   "cell_type": "code",
   "execution_count": 63,
   "id": "98a38d40",
   "metadata": {},
   "outputs": [],
   "source": [
    "import yfinance as yf"
   ]
  },
  {
   "cell_type": "code",
   "execution_count": 64,
   "id": "e88b1c2d",
   "metadata": {},
   "outputs": [],
   "source": [
    "@tool\n",
    "def get_stock_price(ticker:str)->str:\n",
    "    \"\"\"\n",
    "    Fetches the previous closing stock price of a given stock ticker from the Yahoo Finance.\n",
    "    Args:\n",
    "        ticker(str): The stock ticker symbol (e.g. 'AAPL', 'TSLA', 'NIFTY.BO' etc)\n",
    "\n",
    "    Returns:\n",
    "        str: A message with the stock's previous closing price. \n",
    "    \"\"\"\n",
    "    try:\n",
    "        stock=yf.Ticker(ticker)\n",
    "        price=stock.info.get('previousClose')\n",
    "        if price is None:\n",
    "            return f\"Could not fetch the price for ticker: {ticker}\"\n",
    "        return f\"The last closing price of {ticker.upper()} was ${price:.2f}.\"\n",
    "    except Exception as e:\n",
    "        return f\"An error occured while fetching stock data: {str(e)}.\""
   ]
  },
  {
   "cell_type": "code",
   "execution_count": 65,
   "id": "20318ab0",
   "metadata": {},
   "outputs": [
    {
     "name": "stderr",
     "output_type": "stream",
     "text": [
      "C:\\Users\\Hp\\AppData\\Local\\Temp\\ipykernel_320\\3955064537.py:1: LangChainDeprecationWarning: The method `BaseTool.__call__` was deprecated in langchain-core 0.1.47 and will be removed in 1.0. Use :meth:`~invoke` instead.\n",
      "  get_stock_price('AAPL')\n"
     ]
    },
    {
     "data": {
      "text/plain": [
       "'The last closing price of AAPL was $201.50.'"
      ]
     },
     "execution_count": 65,
     "metadata": {},
     "output_type": "execute_result"
    }
   ],
   "source": [
    "get_stock_price('AAPL')"
   ]
  },
  {
   "cell_type": "code",
   "execution_count": 66,
   "id": "97fb2269",
   "metadata": {},
   "outputs": [
    {
     "data": {
      "text/plain": [
       "'The last closing price of TSLA was $348.68.'"
      ]
     },
     "execution_count": 66,
     "metadata": {},
     "output_type": "execute_result"
    }
   ],
   "source": [
    "get_stock_price.invoke('TSLA')"
   ]
  },
  {
   "cell_type": "code",
   "execution_count": 67,
   "id": "4aab4207",
   "metadata": {},
   "outputs": [],
   "source": [
    "tools=[addition,multiply,devide,web_search,get_stock_price]"
   ]
  },
  {
   "cell_type": "code",
   "execution_count": 68,
   "id": "808f1bb1",
   "metadata": {},
   "outputs": [],
   "source": [
    "llm_bind_tools=llm.bind_tools(tools)"
   ]
  },
  {
   "cell_type": "code",
   "execution_count": 69,
   "id": "a612b02d",
   "metadata": {},
   "outputs": [],
   "source": [
    "response=llm_bind_tools.invoke(\"What is the stock price of Adani green energy?\")"
   ]
  },
  {
   "cell_type": "code",
   "execution_count": 70,
   "id": "ed54c80e",
   "metadata": {},
   "outputs": [
    {
     "data": {
      "text/plain": [
       "''"
      ]
     },
     "execution_count": 70,
     "metadata": {},
     "output_type": "execute_result"
    }
   ],
   "source": [
    "response.content"
   ]
  },
  {
   "cell_type": "code",
   "execution_count": 71,
   "id": "05a48e2d",
   "metadata": {},
   "outputs": [
    {
     "data": {
      "text/plain": [
       "[{'name': 'get_stock_price',\n",
       "  'args': {'ticker': 'ADANIGREEN.NS'},\n",
       "  'id': '788vbkyq4',\n",
       "  'type': 'tool_call'}]"
      ]
     },
     "execution_count": 71,
     "metadata": {},
     "output_type": "execute_result"
    }
   ],
   "source": [
    "response.tool_calls"
   ]
  },
  {
   "cell_type": "code",
   "execution_count": 82,
   "id": "7a67f725",
   "metadata": {},
   "outputs": [],
   "source": [
    "syatem_prompt=\"\"\"You are a helpful assistant tasked with search in duckduckgo,stock price from yahoo finance,arithmetic operations of given numbers .\"\"\"\n",
    "def llm_call(state:MessagesState):\n",
    "    question=state['messages']\n",
    "    input_question=[syatem_prompt] + question\n",
    "    response=llm_bind_tools.invoke(input_question)\n",
    "    return {\"messages\":[response]}"
   ]
  },
  {
   "cell_type": "code",
   "execution_count": 83,
   "id": "f894121e",
   "metadata": {},
   "outputs": [],
   "source": [
    "workflow=StateGraph(MessagesState)\n",
    "workflow.add_node('llm_decision_step',llm_call)\n",
    "workflow.add_node(ToolNode(tools))\n",
    "workflow.add_edge(START,'llm_decision_step')\n",
    "workflow.add_conditional_edges('llm_decision_step',tools_condition)\n",
    "workflow.add_edge('tools','llm_decision_step')\n",
    "app=workflow.compile()"
   ]
  },
  {
   "cell_type": "code",
   "execution_count": 84,
   "id": "43cb5b20",
   "metadata": {},
   "outputs": [
    {
     "data": {
      "image/png": "[encoded data removed]",
      "text/plain": [
       "<IPython.core.display.Image object>"
      ]
     },
     "metadata": {},
     "output_type": "display_data"
    }
   ],
   "source": [
    "display(Image(app.get_graph().draw_mermaid_png()))"
   ]
  },
  {
   "cell_type": "code",
   "execution_count": 85,
   "id": "126eb9b2",
   "metadata": {},
   "outputs": [
    {
     "name": "stdout",
     "output_type": "stream",
     "text": [
      "This is from node:  llm_decision_step\n",
      "--------\n",
      "{'messages': [AIMessage(content='', additional_kwargs={'tool_calls': [{'id': 'y3fe5xajn', 'function': {'arguments': '{\"ticker\":\"AAPL\"}', 'name': 'get_stock_price'}, 'type': 'function'}]}, response_metadata={'token_usage': {'completion_tokens': 140, 'prompt_tokens': 541, 'total_tokens': 681, 'completion_time': 0.58043664, 'prompt_time': 0.042898986, 'queue_time': 0.302020049, 'total_time': 0.623335626}, 'model_name': 'deepseek-r1-distill-llama-70b', 'system_fingerprint': 'fp_1bbe7845ec', 'finish_reason': 'tool_calls', 'logprobs': None}, id='run--84d4b0fe-86a1-4e14-aa70-711f30e753cd-0', tool_calls=[{'name': 'get_stock_price', 'args': {'ticker': 'AAPL'}, 'id': 'y3fe5xajn', 'type': 'tool_call'}], usage_metadata={'input_tokens': 541, 'output_tokens': 140, 'total_tokens': 681})]}\n",
      "\n",
      "\n",
      "This is from node:  tools\n",
      "--------\n",
      "{'messages': [ToolMessage(content='The last closing price of AAPL was $201.50.', name='get_stock_price', id='472c205f-c927-4aff-adc8-eb8af27217d7', tool_call_id='y3fe5xajn')]}\n",
      "\n",
      "\n",
      "This is from node:  llm_decision_step\n",
      "--------\n",
      "{'messages': [AIMessage(content='', additional_kwargs={'tool_calls': [{'id': 'gce7bm1vd', 'function': {'arguments': '{\"a\":1000,\"b\":201}', 'name': 'addition'}, 'type': 'function'}]}, response_metadata={'token_usage': {'completion_tokens': 213, 'prompt_tokens': 1209, 'total_tokens': 1422, 'completion_time': 0.774545455, 'prompt_time': 0.09359974, 'queue_time': -0.96703625, 'total_time': 0.868145195}, 'model_name': 'deepseek-r1-distill-llama-70b', 'system_fingerprint': 'fp_1bbe7845ec', 'finish_reason': 'tool_calls', 'logprobs': None}, id='run--e6766c5e-8fcd-4b87-bd5f-5e0c0eea06a0-0', tool_calls=[{'name': 'addition', 'args': {'a': 1000, 'b': 201}, 'id': 'gce7bm1vd', 'type': 'tool_call'}], usage_metadata={'input_tokens': 1209, 'output_tokens': 213, 'total_tokens': 1422})]}\n",
      "\n",
      "\n",
      "This is from node:  tools\n",
      "--------\n",
      "{'messages': [ToolMessage(content='1201', name='addition', id='ce7e9174-747f-43ca-8742-a7ba720d45ec', tool_call_id='gce7bm1vd')]}\n",
      "\n",
      "\n",
      "This is from node:  llm_decision_step\n",
      "--------\n",
      "{'messages': [AIMessage(content='The sum of 1000 and the current stock price of AAPL (which is $201.50) is:\\n\\n**1201**', additional_kwargs={}, response_metadata={'token_usage': {'completion_tokens': 273, 'prompt_tokens': 661, 'total_tokens': 934, 'completion_time': 1.236963743, 'prompt_time': 0.05233949, 'queue_time': 0.05835205, 'total_time': 1.289303233}, 'model_name': 'deepseek-r1-distill-llama-70b', 'system_fingerprint': 'fp_1bbe7845ec', 'finish_reason': 'stop', 'logprobs': None}, id='run--2d191f9f-e294-444a-914c-e528c1dacb77-0', usage_metadata={'input_tokens': 661, 'output_tokens': 273, 'total_tokens': 934})]}\n",
      "\n",
      "\n"
     ]
    }
   ],
   "source": [
    "messages=[HumanMessage(content=\"add 1000 with the current stock price of AAPL.\")]\n",
    "for output in app.stream({\"messages\":messages}):\n",
    "\n",
    "    for key,value in output.items():\n",
    "        print(\"This is from node: \",key)\n",
    "        print(\"--------\")\n",
    "        print(value)\n",
    "        print(\"\\n\")"
   ]
  },
  {
   "cell_type": "code",
   "execution_count": 90,
   "id": "9891350c",
   "metadata": {},
   "outputs": [],
   "source": [
    "messages=[HumanMessage(content=\"the current stock price of Apple and latest news about apple.\")]\n",
    "response=app.invoke({\"messages\":messages})"
   ]
  },
  {
   "cell_type": "code",
   "execution_count": 91,
   "id": "77a54511",
   "metadata": {},
   "outputs": [
    {
     "name": "stdout",
     "output_type": "stream",
     "text": [
      "================================\u001b[1m Human Message \u001b[0m=================================\n",
      "\n",
      "the current stock price of Apple and latest news about apple.\n",
      "==================================\u001b[1m Ai Message \u001b[0m==================================\n",
      "Tool Calls:\n",
      "  get_stock_price (spfeatn00)\n",
      " Call ID: spfeatn00\n",
      "  Args:\n",
      "    ticker: AAPL\n",
      "=================================\u001b[1m Tool Message \u001b[0m=================================\n",
      "Name: get_stock_price\n",
      "\n",
      "The last closing price of AAPL was $201.50.\n",
      "==================================\u001b[1m Ai Message \u001b[0m==================================\n",
      "Tool Calls:\n",
      "  duckduckgo_search (s1kpzax8f)\n",
      " Call ID: s1kpzax8f\n",
      "  Args:\n",
      "    query: latest news about Apple\n",
      "=================================\u001b[1m Tool Message \u001b[0m=================================\n",
      "Name: duckduckgo_search\n",
      "\n",
      "At today's WWDC 2025 keynote event, Apple unveiled a new design that will inform the next decade of iOS, iPadOS, and macOS development, so needless to say, it was a busy day. Apple also unveiled a ... Find news about Apple Company News in the Apple Newsroom archive. Access press releases, updates, photos, videos and more. ... Latest News. Company News. PRESS RELEASE. Apple reports second quarter results. May 1, 2025. PRESS RELEASE. Apple will spend more than $500 billion in the U.S. over the next four years. Get the latest news and share tips for making better decisions for your financial future. ... Apple's \"gorgeous new design,\" for all its platforms is the first major overhaul since iOS 7. It's ... The Apple Watch, which just turned 10 (hbd, buddy), has some new updates powered by Apple Intelligence. There is a new wrist flick gesture, a pimped out Liquid Glass overhaul, and live ... Today's Apple deals are now ready to roll starting off with another shot at saving $150 off the sticker price on Apple's latest 24GB M4 Mac mini with the 512GB SSD.\n",
      "==================================\u001b[1m Ai Message \u001b[0m==================================\n",
      "\n",
      "Here’s the information you requested:\n",
      "\n",
      "**Stock Price:**\n",
      "- The last closing price of Apple (AAPL) was **$201.50**.\n",
      "\n",
      "**Latest News About Apple:**\n",
      "- At today's WWDC 2025 keynote event, Apple unveiled a new design that will inform the next decade of iOS, iPadOS, and macOS development.\n",
      "- Apple also announced updates to the Apple Watch, including a new wrist flick gesture, a pimped-up Liquid Glass overhaul, and live updates powered by Apple Intelligence.\n",
      "- Apple reported its second-quarter results and announced plans to spend more than $500 billion in the U.S. over the next four years.\n",
      "- Current deals include savings of $150 off the sticker price on Apple's latest 24GB M4 Mac mini with a 512GB SSD.\n",
      "\n",
      "Let me know if you'd like more details!\n"
     ]
    }
   ],
   "source": [
    "for m in response[\"messages\"]:\n",
    "    m.pretty_print()"
   ]
  },
  {
   "cell_type": "code",
   "execution_count": null,
   "id": "ecb103a7",
   "metadata": {},
   "outputs": [],
   "source": []
  }
 ],
 "metadata": {
  "kernelspec": {
   "display_name": "agentic_venv",
   "language": "python",
   "name": "python3"
  },
  "language_info": {
   "codemirror_mode": {
    "name": "ipython",
    "version": 3
   },
   "file_extension": ".py",
   "mimetype": "text/x-python",
   "name": "python",
   "nbconvert_exporter": "python",
   "pygments_lexer": "ipython3",
   "version": "3.11.13"
  }
 },
 "nbformat": 4,
 "nbformat_minor": 5
}
