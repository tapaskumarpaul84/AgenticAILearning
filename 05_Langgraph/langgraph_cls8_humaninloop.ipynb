{
 "cells": [
  {
   "cell_type": "code",
   "execution_count": 1,
   "id": "83367469",
   "metadata": {},
   "outputs": [
    {
     "name": "stdout",
     "output_type": "stream",
     "text": [
      "all ok\n"
     ]
    }
   ],
   "source": [
    "print(\"all ok\")"
   ]
  },
  {
   "cell_type": "code",
   "execution_count": 1,
   "id": "4add9ae3",
   "metadata": {},
   "outputs": [
    {
     "data": {
      "text/plain": [
       "True"
      ]
     },
     "execution_count": 1,
     "metadata": {},
     "output_type": "execute_result"
    }
   ],
   "source": [
    "from dotenv import load_dotenv\n",
    "\n",
    "load_dotenv()"
   ]
  },
  {
   "cell_type": "code",
   "execution_count": 2,
   "id": "83e58732",
   "metadata": {},
   "outputs": [],
   "source": [
    "from langchain_groq import ChatGroq"
   ]
  },
  {
   "cell_type": "code",
   "execution_count": 3,
   "id": "f2dde797",
   "metadata": {},
   "outputs": [],
   "source": [
    "model=ChatGroq(model_name=\"deepseek-r1-distill-llama-70b\")"
   ]
  },
  {
   "cell_type": "code",
   "execution_count": 4,
   "id": "303091d8",
   "metadata": {},
   "outputs": [
    {
     "data": {
      "text/plain": [
       "AIMessage(content=\"<think>\\nOkay, so I need to figure out what the capital of India is. Hmm, I'm not entirely sure, but I'll try to think through it. Let me start by recalling what I know about India. India is a country in South Asia, right? It's a pretty big country with a rich history. I remember learning that it's a republic and has a parliamentary system of government.\\n\\nNow, capitals are the administrative centers where the government is located. So, the capital isn't necessarily the largest city or the most populous one, although sometimes they can be the same. I think in some countries, like Brazil, the capital is a city that's not the biggest, so maybe India is similar.\\n\\nWait, I think the capital of India is Delhi. But is that correct? I'm a bit confused because sometimes people talk about Mumbai as a major city. Mumbai is the financial hub, I believe, so it's a big city, but is it the capital? I don't think so. Then there's Bangalore, which is known for technology, and Kolkata, which has historical significance. But none of these are capitals, I think.\\n\\nLet me try to remember any landmarks or government buildings. The President of India has a residence, maybe called Rashtrapati Bhavan? That sounds familiar. And I think that's in Delhi. Also, there's the India Gate in Delhi, which is a war memorial. So that makes me more confident that Delhi is the capital.\\n\\nWait, but sometimes I've heard of a city called New Delhi. Is that the same as Delhi? I think New Delhi is the part of Delhi where the central government is located. So, technically, New Delhi is the capital, but people often refer to it as Delhi. That might be why I'm a bit confused.\\n\\nI should also consider the structure of the Indian government. The Parliament of India is in Delhi, right? The Lok Sabha and Rajya Sabha are both there. So that would make sense for the capital to be where the parliament is situated.\\n\\nAnother way to check is to think about international embassies. Most countries have their embassies in the capital. I'm pretty sure the U.S. Embassy in India is in New Delhi, which supports the idea that the capital is there.\\n\\nI might also remember that some states in India have their own capitals, but the national capital is separate. So, for example, Mumbai is the capital of Maharashtra, but that's different from the national capital.\\n\\nTo sum up, I think the capital of India is Delhi, specifically New Delhi, where the central government is located. It's where important buildings like the Rashtrapati Bhavan and the Parliament are, and it's where most foreign embassies are situated. So, even though other cities like Mumbai are significant, Delhi is the capital.\\n</think>\\n\\nThe capital of India is New Delhi. It serves as the administrative center where key government institutions, such as the Parliament and the President's residence, are located. While Mumbai is a major financial hub, New Delhi is specifically designated as the national capital.\", additional_kwargs={}, response_metadata={'token_usage': {'completion_tokens': 629, 'prompt_tokens': 10, 'total_tokens': 639, 'completion_time': 2.69991819, 'prompt_time': 0.000223645, 'queue_time': 0.283950614, 'total_time': 2.700141835}, 'model_name': 'deepseek-r1-distill-llama-70b', 'system_fingerprint': 'fp_87eae35036', 'finish_reason': 'stop', 'logprobs': None}, id='run--76c3a95a-8622-457f-a9e8-e7ca1d402ed9-0', usage_metadata={'input_tokens': 10, 'output_tokens': 629, 'total_tokens': 639})"
      ]
     },
     "execution_count": 4,
     "metadata": {},
     "output_type": "execute_result"
    }
   ],
   "source": [
    "model.invoke(\"What is the capital of India?\")"
   ]
  },
  {
   "cell_type": "code",
   "execution_count": 6,
   "id": "b0a54db7",
   "metadata": {},
   "outputs": [],
   "source": [
    "from langchain_core.tools import tool\n",
    "from langchain_community.tools.tavily_search import TavilySearchResults"
   ]
  },
  {
   "cell_type": "code",
   "execution_count": 51,
   "id": "9ca2b46d",
   "metadata": {},
   "outputs": [],
   "source": [
    "@tool\n",
    "def multiply(a:int,b:int)-> int:\n",
    "    \"this is a multiplication tool\"\n",
    "    return a*b"
   ]
  },
  {
   "cell_type": "code",
   "execution_count": 52,
   "id": "506735b8",
   "metadata": {},
   "outputs": [],
   "source": [
    "@tool\n",
    "def search(query: str):\n",
    "    \"\"\"search the web for a query and return the results\"\"\"\n",
    "    tavily=TavilySearchResults()\n",
    "    result=tavily.invoke(query)\n",
    "    return f\"Result for {query} is: \\n{result}\""
   ]
  },
  {
   "cell_type": "code",
   "execution_count": 53,
   "id": "4da0440a",
   "metadata": {},
   "outputs": [
    {
     "name": "stdout",
     "output_type": "stream",
     "text": [
      "Result for What is the capital of France? is: \n",
      "[{'title': 'Paris facts: the capital of France in history', 'url': 'https://home.adelphi.edu/~ca19535/page%204.html', 'content': 'page 4\\n\\n===============\\n\\nHomeSpainSydneySan FranciscoParisLas VegasMaui\\n\\n Paris, France\\n\\nImage 1\\n\\nParis facts: Paris, the capital of France\\n---------------------------------------------\\n\\nParis is the capital of France, the largest country of Europe with 550 000 km2 (65 millions inhabitants).\\n\\nParis has 2.234 million inhabitants end 2011. She is the core of Ile de France region (12 million people). [...] Before Paris, the capital of France was Lyon (under the Romans). Paris first became the capital of France in 508 under King Clovis. After centuries with no unique capital of France, Paris retrieved its status of capital of France under King Philippe Auguste, who reigned between 1180 and 1223. You can see remains of the Philippe August Paris walls in the passageway between the Louvre parking and Louvre Museum [...] Paris remained the capital of France until today, with one four year interruption. During German occupation (WW2 , 1940-1944), the capital of France was Vichy.\\n\\ngo to top\\n\\nReference:', 'score': 0.89166987}, {'title': 'Paris - Simple English Wikipedia, the free encyclopedia', 'url': 'https://simple.wikipedia.org/wiki/Paris', 'content': 'Wikipedia\\n\\n# Paris\\n\\nParis (nicknamed the \"City of light\") is the capital city \"Capital (city)\") of France, and the largest city in France. The area is 105 square kilometres (41 square miles), and around 2.15 million people live there. If suburbs are counted, the population of the Paris area rises to 10.7 million people. It is the most densely populated city in the European Union, with 20.653 people per square kilometer.', 'score': 0.88372874}, {'title': 'Paris - Wikipedia', 'url': 'https://en.wikipedia.org/wiki/Paris', 'content': 'As the capital of France, Paris is the seat of France\\'s national government. For the executive, the two chief officers each have their own official residences, which also serve as their offices. The President of the French Republic resides at the Élysée Palace.( The Prime Minister\\'s seat is at the Hôtel Matignon.( Government ministries are located in various parts of the city, many near the Hôtel Matignon.( [...] Appearance\\n\\nmove to sidebar hide\\n\\nCoordinates: 48°51′24″N 2°21′8″E / 48.85667°N 2.35222°E / 48.85667; 2.35222_region:FR-75C)\\n\\nImage 4: This is a good article. Click here for more information.\\n\\nImage 5: Page semi-protected\\n\\nFrom Wikipedia, the free encyclopedia\\n\\nCapital and largest city of France\\n\\nThis article is about the capital city of France. For other uses, see Paris (disambiguation) \"Paris (disambiguation)\"). [...] Paris (French pronunciation:( \"Help:IPA/French\")ⓘ) is the capital and largest city of France. With an estimated population of 2,048,472 residents in January 2025( in an area of more than 105 km 2 (41 sq mi),( Paris is the fourth-most populous city in the European Union and the 30th most densely populated city in the world in 2022.( Since the 17th century, Paris has been one of the world\\'s major centres of finance, diplomacy, commerce, culture, fashion, and gastronomy. Because of its leading', 'score': 0.8815438}, {'title': 'Paris, Capital city of France - The World Countries', 'url': 'https://theworldcountries.com/geo/capital-city/Paris', 'content': \"Paris (French pronunciation: \\\\[paʁi\\\\] ) is the capital and largest city of France. With an estimated population of 2,048,472 residents in January 2025 in an area of more than 105 km2 (41 sq mi), Paris is the fourth-most populous city in the European Union and the 30th most densely populated city in the world in 2022. Since the 17th century, Paris has been one of the world's major centres of finance, diplomacy, commerce, culture, fashion, and gastronomy. Because of its leading role in the arts [...] Where in the World is Paris found? Paris is the capital of France (French Republic), situated in the Western Europe subregion of Europe. In Paris, the currency used is Euro (€), which is the official currency used in France. The Latitude, Longitude cordinates of Paris are 48.8534, 2.3488.\\n\\n##### About Paris\\n\\n| \\nParis\\n\\n |\\n| --- |\\n| \\n\\nCapital city, commune and department\\n\\n |\\n| \\n\\nImage 4\\n\\nEiffel Tower and the Seine from Tour Saint-Jacques\\n\\nImage 5\\n\\nNotre-Dame\\n\\nImage 6\\n\\nSacré-Cœur\\n\\nImage 7 [...] Paris, Capital city of France - The World Countries\\n===============\\n\\n Image 1 Factbook\\n\\nOpen main menu\\n\\n   Home\\n   Africa\\n   Europe\\n   Asia\\n   South America\\n   North America\\n   Oceania\\n   Antarctica\\n\\n1.  Home\\n\\n3.  Europe\\n\\n5.  Western Europe\\n\\n7.  FR\\n\\n9.  Paris\\n\\n##### Paris - Introduction\\n\\nImage 2: User Country Flag\\n\\n7:37:55 PM\\n\\nFriday, April 18, 2025\\n\\namerica/los\\\\_angeles\\n\\nImage 3: Flag\\n\\n4:37:55 AM\\n\\nSaturday, April 19, 2025\\n\\nEurope/Paris\", 'score': 0.8808076}, {'title': 'What is the Capital of France? - WorldAtlas', 'url': 'https://www.worldatlas.com/articles/what-is-the-capital-of-france.html', 'content': 'Paris is the capital city of France. The city has an approximate area of 41 square miles with a population of 2,206,488 people as of 2018. Contrary to popular belief, the name of the city did not come from the Paris in Greek myths. Instead, the name Paris is derived from the city’s initial inhabitants who were part of the Celtic Parisii tribe. Sometimes, the city is called the City of Light for two reasons; it was among the first cities to adopt gas for lighting the streets and its role during [...] Published Time: 2018-06-29T15:23:00-04:00\\n\\nWhat is the Capital of France? - WorldAtlas\\n\\n===============\\n\\nWhat is the Capital of France?\\n==============================\\n\\nImage 1: Tourism has always been a major source of income for Paris. \\n\\nTourism has always been a major source of income for Paris. [...] As the capital city of France, the city plays host to the national government of France. Even the official residence of the president is in the city at the Élysée Palace while the Prime Minister is housed at the Hôtel Matignon. The Senate or the upper house meets at the Palais du Luxembourg while the Palais Bourbon is the meeting point for the Assemblée Nationale. The second highest public official after the President of France, the President of the Senate, stays at the Petit Luxembourg.', 'score': 0.87807417}]\n"
     ]
    }
   ],
   "source": [
    "print(search.invoke({\"query\":\"What is the capital of France?\"}))"
   ]
  },
  {
   "cell_type": "code",
   "execution_count": 54,
   "id": "5cb6d8e0",
   "metadata": {},
   "outputs": [],
   "source": [
    "tools = [multiply, search]"
   ]
  },
  {
   "cell_type": "code",
   "execution_count": 55,
   "id": "7f98c028",
   "metadata": {},
   "outputs": [
    {
     "data": {
      "text/plain": [
       "[StructuredTool(name='multiply', description='this is a multiplication tool', args_schema=<class 'langchain_core.utils.pydantic.multiply'>, func=<function multiply at 0x0000018B15736700>),\n",
       " StructuredTool(name='search', description='search the web for a query and return the results', args_schema=<class 'langchain_core.utils.pydantic.search'>, func=<function search at 0x0000018B157379C0>)]"
      ]
     },
     "execution_count": 55,
     "metadata": {},
     "output_type": "execute_result"
    }
   ],
   "source": [
    "tools"
   ]
  },
  {
   "cell_type": "code",
   "execution_count": 56,
   "id": "25f78bd2",
   "metadata": {},
   "outputs": [],
   "source": [
    "llm_with_tools=model.bind_tools(tools)"
   ]
  },
  {
   "cell_type": "code",
   "execution_count": 57,
   "id": "a78328d8",
   "metadata": {},
   "outputs": [],
   "source": [
    "result=llm_with_tools.invoke(\"what is current gdp of india?\")"
   ]
  },
  {
   "cell_type": "code",
   "execution_count": 58,
   "id": "2844446f",
   "metadata": {},
   "outputs": [
    {
     "data": {
      "text/plain": [
       "AIMessage(content='', additional_kwargs={'tool_calls': [{'id': 'jct33jkev', 'function': {'arguments': '{\"query\":\"current GDP of India\"}', 'name': 'search'}, 'type': 'function'}]}, response_metadata={'token_usage': {'completion_tokens': 181, 'prompt_tokens': 175, 'total_tokens': 356, 'completion_time': 0.748038753, 'prompt_time': 0.011011166, 'queue_time': 0.068513916, 'total_time': 0.759049919}, 'model_name': 'deepseek-r1-distill-llama-70b', 'system_fingerprint': 'fp_1bbe7845ec', 'finish_reason': 'tool_calls', 'logprobs': None}, id='run--456aa51c-a97f-460f-8cb1-db703c50708e-0', tool_calls=[{'name': 'search', 'args': {'query': 'current GDP of India'}, 'id': 'jct33jkev', 'type': 'tool_call'}], usage_metadata={'input_tokens': 175, 'output_tokens': 181, 'total_tokens': 356})"
      ]
     },
     "execution_count": 58,
     "metadata": {},
     "output_type": "execute_result"
    }
   ],
   "source": [
    "result"
   ]
  },
  {
   "cell_type": "code",
   "execution_count": 59,
   "id": "169838cb",
   "metadata": {},
   "outputs": [
    {
     "data": {
      "text/plain": [
       "''"
      ]
     },
     "execution_count": 59,
     "metadata": {},
     "output_type": "execute_result"
    }
   ],
   "source": [
    "result.content"
   ]
  },
  {
   "cell_type": "code",
   "execution_count": 60,
   "id": "ec0016ce",
   "metadata": {},
   "outputs": [
    {
     "data": {
      "text/plain": [
       "[{'name': 'search',\n",
       "  'args': {'query': 'current GDP of India'},\n",
       "  'id': 'jct33jkev',\n",
       "  'type': 'tool_call'}]"
      ]
     },
     "execution_count": 60,
     "metadata": {},
     "output_type": "execute_result"
    }
   ],
   "source": [
    "result.tool_calls"
   ]
  },
  {
   "cell_type": "code",
   "execution_count": 61,
   "id": "5b740741",
   "metadata": {},
   "outputs": [
    {
     "data": {
      "text/plain": [
       "'search'"
      ]
     },
     "execution_count": 61,
     "metadata": {},
     "output_type": "execute_result"
    }
   ],
   "source": [
    "result.tool_calls[0][\"name\"]"
   ]
  },
  {
   "cell_type": "code",
   "execution_count": 62,
   "id": "01f78458",
   "metadata": {},
   "outputs": [
    {
     "data": {
      "text/plain": [
       "{'query': 'current GDP of India'}"
      ]
     },
     "execution_count": 62,
     "metadata": {},
     "output_type": "execute_result"
    }
   ],
   "source": [
    "result.tool_calls[0][\"args\"]"
   ]
  },
  {
   "cell_type": "code",
   "execution_count": 63,
   "id": "7128b756",
   "metadata": {},
   "outputs": [
    {
     "data": {
      "text/plain": [
       "dict"
      ]
     },
     "execution_count": 63,
     "metadata": {},
     "output_type": "execute_result"
    }
   ],
   "source": [
    "type(result.tool_calls[0][\"args\"])"
   ]
  },
  {
   "cell_type": "code",
   "execution_count": 64,
   "id": "82d5cdf8",
   "metadata": {},
   "outputs": [],
   "source": [
    "tool_mapping={tool.name:tool for tool in tools}"
   ]
  },
  {
   "cell_type": "code",
   "execution_count": 65,
   "id": "cd347ba5",
   "metadata": {},
   "outputs": [
    {
     "data": {
      "text/plain": [
       "{'multiply': StructuredTool(name='multiply', description='this is a multiplication tool', args_schema=<class 'langchain_core.utils.pydantic.multiply'>, func=<function multiply at 0x0000018B15736700>),\n",
       " 'search': StructuredTool(name='search', description='search the web for a query and return the results', args_schema=<class 'langchain_core.utils.pydantic.search'>, func=<function search at 0x0000018B157379C0>)}"
      ]
     },
     "execution_count": 65,
     "metadata": {},
     "output_type": "execute_result"
    }
   ],
   "source": [
    "tool_mapping"
   ]
  },
  {
   "cell_type": "code",
   "execution_count": 66,
   "id": "d1c4143f",
   "metadata": {},
   "outputs": [
    {
     "data": {
      "text/plain": [
       "StructuredTool(name='search', description='search the web for a query and return the results', args_schema=<class 'langchain_core.utils.pydantic.search'>, func=<function search at 0x0000018B157379C0>)"
      ]
     },
     "execution_count": 66,
     "metadata": {},
     "output_type": "execute_result"
    }
   ],
   "source": [
    "tool_mapping[\"search\"]"
   ]
  },
  {
   "cell_type": "code",
   "execution_count": 67,
   "id": "0cb50022",
   "metadata": {},
   "outputs": [
    {
     "data": {
      "text/plain": [
       "'Result for current GDP of India is: \\n[{\\'title\\': \\'World GDP Ranking 2025 List - ClearTax\\', \\'url\\': \\'https://cleartax.in/s/world-gdp-ranking-list\\', \\'content\\': \"India is currently ranked as the 4th largest economy globally in 2025, surpassing Japan to secure the 4th position among the world\\'s top 10 largest economies, with a nominal GDP of $4.19 trillion in 2025. Moreover, the IMF forecasts that by 2027, India will overtake Germany to become the 3rd largest economy worldwide [...] With an estimated real GDP of Rs. 187.95 lakh crore in 2024-25, against the real GDP of Rs. 176.51 in 2023-24 generated by a population of over 1 billion, India is among the highest population-based economies in the world. Additionally, as per IMF projections, India\\'s GDP grow is at 6.2% in 2024-25 and 2025-26.This means India\\'s economic growth next fiscal year will be the fastest among major economies. Therefore, in the upcoming years, rising consumption and investments, both domestic and [...] ## India GDP Per Capita 2025 / India Per Capita Income 2025\\\\n\\\\nThough India\\'s rank in the World GDP Ranking 2025 list is fifth, the per capita income is substantially low. India\\'s per capita income of the population for 2025 is $2,880 (Approx Rs.2.4 lakh). Multiple factors have led to low per capita income in India compared to the top GDP countries.\", \\'score\\': 0.850382}, {\\'title\\': \\'India GDP PPP 2024 Estimate and 2025 Projection - World Economics\\', \\'url\\': \\'https://www.worldeconomics.com/GrossDomesticProduct/Real-GDP-PPP/India.aspx\\', \\'content\\': \"India GDP: $14.018 Trillion\\\\u200b\\\\u200b Looking ahead to 2025, projections suggest India\\'s 2025 GDP estimate could be $14.929 Trillion. This India GDP growth forecast for\", \\'score\\': 0.82082915}, {\\'title\\': \\'India GDP Annual Growth Rate - TRADING ECONOMICS\\', \\'url\\': \\'https://tradingeconomics.com/india/gdp-growth-annual\\', \\'content\\': \\'| Related | Last | Unit | Reference |\\\\n| --- | --- | --- | --- |\\\\n| Fiscal Year GDP Growth | 6.50 | percent | Mar 2025 |\\\\n| GDP Growth Rate YoY | 7.40 | percent | Mar 2025 |\\\\n| GDP Constant Prices | 51351.63 | INR Billion | Mar 2025 |\\\\n| GDP from Agriculture | 6773.89 | INR Billion | Mar 2025 |\\\\n| GDP from Construction | 4636.41 | INR Billion | Mar 2025 |\\\\n| GDP from Manufacturing | 8299.55 | INR Billion | Mar 2025 |\\\\n| GDP from Mining | 1013.49 | INR Billion | Mar 2025 | [...] ## The Gross Domestic Product (GDP) in India expanded 7.40 percent in the first quarter of 2025 over the same quarter of the previous year. GDP Annual Growth Rate in India averaged 6.03 percent from 1951 until 2025, reaching an all time high of 22.60 percent in the second quarter of 2021 and a record low of -23.10 percent in the second quarter of 2020. This page provides - India GDP Annual Growth Rate - actual values, historical data, forecast, chart, statistics, economic calendar and news. [...] | GDP from Public Administration | 5623.82 | INR Billion | Mar 2025 |\\\\n| GDP from Utilities | 1000.44 | INR Billion | Mar 2025 |\\\\n| GDP Growth Rate | 2.00 | percent | Mar 2025 |\\\\n| Gross Fixed Capital Formation | 17411.50 | INR Billion | Mar 2025 |\\', \\'score\\': 0.78846955}, {\\'title\\': \"Is India the world\\'s fourth largest economy? - The Hindu\", \\'url\\': \\'https://www.thehindu.com/business/Economy/is-india-the-worlds-fourth-largest-economy/article69645115.ece\\', \\'content\\': \"As per these projections, India\\'s GDP in 2025 was likely to be $4,187.03 billion, which will be marginally higher than the GDP of Japan at $4,\", \\'score\\': 0.77994305}, {\\'title\\': \\'Press Release:Press Information Bureau\\', \\'url\\': \\'https://pib.gov.in/PressReleasePage.aspx?PRID=2090875\\', \\'content\\': \\'Real GDP or GDP at Constant Prices is estimated to attain a level of ₹184.88 lakh crore in the financial year 2024-25, against the Provisional Estimate of GDP for the year 2023-24 of ₹173.82 lakh crore. The growth rate in Real GDP during 2024-25 is estimated at 6.4% as compared to 8.2% in 2023-24. Nominal GDP or GDP at Current Prices is estimated to attain a level of ₹324.11 lakh crore in the year 2024-25, against ₹295.36 lakh crore in 2023-24, showing a growth rate of 9.7%. [...] Real GDP or GDP at Constant Prices is estimated to attain a level of ₹184.88 lakh crore in the financial year 2024-25, against the Provisional Estimate of GDP for the year 2023-24 of ₹173.82 lakh crore. The growth rate in Real GDP during 2024-25 is estimated at 6.4% as compared to 8.2% in 2023-24. Nominal GDP or GDP at Current Prices is estimated to attain a level of ₹324.11 lakh crore in the year 2024-25, against ₹295.36 lakh crore in 2023-24, showing a growth rate of 9.7%. [...] compared to the growth rate of 2.5% in the previous Financial Year.     I. Annual GDP Estimates and Growth Rates         Real GDP or GDP at Constant Prices is estimated to attain a level of ₹184.88 lakh crore in the financial year 2024-25, against the Provisional Estimate of GDP for the year 2023-24 of ₹173.82 lakh crore. The growth rate in Real GDP during 2024-25 is estimated at 6.4% as compared to 8.2% in 2023-24. Nominal GDP or GDP at Current Prices is estimated to attain a level of ₹324.11\\', \\'score\\': 0.7728226}]'"
      ]
     },
     "execution_count": 67,
     "metadata": {},
     "output_type": "execute_result"
    }
   ],
   "source": [
    "tool_mapping[result.tool_calls[0][\"name\"]].invoke(result.tool_calls[0][\"args\"])"
   ]
  },
  {
   "cell_type": "code",
   "execution_count": 68,
   "id": "556b2aa6",
   "metadata": {},
   "outputs": [],
   "source": [
    "from typing import TypedDict,Sequence,Annotated"
   ]
  },
  {
   "cell_type": "code",
   "execution_count": 69,
   "id": "dce621af",
   "metadata": {},
   "outputs": [],
   "source": [
    "import operator"
   ]
  },
  {
   "cell_type": "code",
   "execution_count": 70,
   "id": "237663d8",
   "metadata": {},
   "outputs": [],
   "source": [
    "from langchain_core.messages import BaseMessage"
   ]
  },
  {
   "cell_type": "code",
   "execution_count": 71,
   "id": "0572e135",
   "metadata": {},
   "outputs": [],
   "source": [
    "class AgentState(TypedDict):\n",
    "    \"\"\"State for the Agent\"\"\"\n",
    "    messages: Annotated[Sequence[BaseMessage],operator.add]"
   ]
  },
  {
   "cell_type": "code",
   "execution_count": 72,
   "id": "3c22152a",
   "metadata": {},
   "outputs": [],
   "source": [
    "def invoke_model(state:AgentState):\n",
    "    messages=state[\"messages\"]\n",
    "    question=messages[-1]\n",
    "    response=llm_with_tools.invoke(question)\n",
    "    return {\"messages\":[response]}"
   ]
  },
  {
   "cell_type": "code",
   "execution_count": 73,
   "id": "c41cc278",
   "metadata": {},
   "outputs": [],
   "source": [
    "def invoke_tool(state:AgentState):\n",
    "    tool_details=state[\"messages\"][-1].tool_calls\n",
    "    \n",
    "    if tool_details is None:\n",
    "        return Exception(\"No tool calls found in the last message.\")\n",
    "    \n",
    "    print(f\"Seleted tool: {tool_details[0]['name']}\")\n",
    "    \n",
    "    if tool_details[0][\"name\"]==\"search\":\n",
    "        response=input(prompt=f\"[yes/no] do you want to continue with this expensive web search\")\n",
    "        if response.lower()==\"no\":\n",
    "            print(\"web search discarded by the user. exiting gracefully\")\n",
    "            raise Exception(\"Web search discarded by the user.\")\n",
    "            \n",
    "    \n",
    "    response=tool_mapping[tool_details[0][\"name\"]].invoke(tool_details[0][\"args\"])\n",
    "    return {\"messages\":[response]}\n",
    "            "
   ]
  },
  {
   "cell_type": "code",
   "execution_count": 74,
   "id": "f7c3b391",
   "metadata": {},
   "outputs": [],
   "source": [
    "def router(state:AgentState):\n",
    "    tool_calls=state[\"messages\"][-1].tool_calls\n",
    "    if len(tool_calls)>0:\n",
    "        return \"tool\"\n",
    "    else:\n",
    "        return \"end\""
   ]
  },
  {
   "cell_type": "code",
   "execution_count": 75,
   "id": "3cd4cf3c",
   "metadata": {},
   "outputs": [
    {
     "data": {
      "text/plain": [
       "[StructuredTool(name='multiply', description='this is a multiplication tool', args_schema=<class 'langchain_core.utils.pydantic.multiply'>, func=<function multiply at 0x0000018B15736700>),\n",
       " StructuredTool(name='search', description='search the web for a query and return the results', args_schema=<class 'langchain_core.utils.pydantic.search'>, func=<function search at 0x0000018B157379C0>)]"
      ]
     },
     "execution_count": 75,
     "metadata": {},
     "output_type": "execute_result"
    }
   ],
   "source": [
    "tools"
   ]
  },
  {
   "cell_type": "code",
   "execution_count": 76,
   "id": "65a6d74c",
   "metadata": {},
   "outputs": [],
   "source": [
    "from langgraph.graph import StateGraph,START,END"
   ]
  },
  {
   "cell_type": "code",
   "execution_count": 77,
   "id": "8ff5bec8",
   "metadata": {},
   "outputs": [
    {
     "data": {
      "text/plain": [
       "<langgraph.graph.state.StateGraph at 0x18b157e98d0>"
      ]
     },
     "execution_count": 77,
     "metadata": {},
     "output_type": "execute_result"
    }
   ],
   "source": [
    "graph=StateGraph(AgentState)\n",
    "graph.add_node(\"ai_assistant\", invoke_model)\n",
    "graph.add_node(\"tool\", invoke_tool)\n",
    "graph.add_conditional_edges(\"ai_assistant\",\n",
    "                            router,\n",
    "                            {\n",
    "                                \"tool\":\"tool\",\n",
    "                                \"end\":END\n",
    "                            }\n",
    "                            )\n",
    "graph.add_edge(\"tool\", END)\n",
    "graph.set_entry_point(\"ai_assistant\")\n"
   ]
  },
  {
   "cell_type": "code",
   "execution_count": 78,
   "id": "aed4e22a",
   "metadata": {},
   "outputs": [],
   "source": [
    "app=graph.compile()"
   ]
  },
  {
   "cell_type": "code",
   "execution_count": 79,
   "id": "7adeea3e",
   "metadata": {},
   "outputs": [
    {
     "data": {
      "image/png": "[encoded data removed]",
      "text/plain": [
       "<IPython.core.display.Image object>"
      ]
     },
     "metadata": {},
     "output_type": "display_data"
    }
   ],
   "source": [
    "from IPython.display import display,Image\n",
    "display(Image(app.get_graph().draw_mermaid_png()))"
   ]
  },
  {
   "cell_type": "code",
   "execution_count": 80,
   "id": "a4f714cc",
   "metadata": {},
   "outputs": [
    {
     "name": "stdout",
     "output_type": "stream",
     "text": [
      "Seleted tool: search\n"
     ]
    },
    {
     "data": {
      "text/plain": [
       "{'messages': ['What is the current gdp of the india?',\n",
       "  AIMessage(content='', additional_kwargs={'tool_calls': [{'id': 'fcvabn2rb', 'function': {'arguments': '{\"query\":\"current GDP of India\"}', 'name': 'search'}, 'type': 'function'}]}, response_metadata={'token_usage': {'completion_tokens': 102, 'prompt_tokens': 177, 'total_tokens': 279, 'completion_time': 0.418970539, 'prompt_time': 0.011106973, 'queue_time': 0.053741947000000005, 'total_time': 0.430077512}, 'model_name': 'deepseek-r1-distill-llama-70b', 'system_fingerprint': 'fp_1bbe7845ec', 'finish_reason': 'tool_calls', 'logprobs': None}, id='run--1ddc0ba1-9255-41cb-bbbd-efc1a0100c32-0', tool_calls=[{'name': 'search', 'args': {'query': 'current GDP of India'}, 'id': 'fcvabn2rb', 'type': 'tool_call'}], usage_metadata={'input_tokens': 177, 'output_tokens': 102, 'total_tokens': 279}),\n",
       "  'Result for current GDP of India is: \\n[{\\'title\\': \\'Economic Development Monthly Report: Analysis of Indian Economy - IBEF\\', \\'url\\': \\'https://www.ibef.org/economy/monthly-economic-report\\', \\'content\\': \"India has consistently demonstrated robust economic growth, emerging as one of the fastest-growing major economies globally. India is now the world\\'s fourth-largest economy and is projected to become the third largest by 2030-31 with a GDP of Rs. 6,32,91,000 crore (US$ 7.3 trillion). This transformation stems from a decade of focused governance, structural reforms, and strengthened global\", \\'score\\': 0.85157084}, {\\'title\\': \\'World GDP Ranking 2025 List - ClearTax\\', \\'url\\': \\'https://cleartax.in/s/world-gdp-ranking-list\\', \\'content\\': \"India is currently ranked as the 4th largest economy globally in 2025, surpassing Japan to secure the 4th position among the world\\'s top 10 largest economies, with a nominal GDP of $4.19 trillion in 2025. Moreover, the IMF forecasts that by 2027, India will overtake Germany to become the 3rd largest economy worldwide [...] With an estimated real GDP of Rs. 187.95 lakh crore in 2024-25, against the real GDP of Rs. 176.51 in 2023-24 generated by a population of over 1 billion, India is among the highest population-based economies in the world. Additionally, as per IMF projections, India\\'s GDP grow is at 6.2% in 2024-25 and 2025-26.This means India\\'s economic growth next fiscal year will be the fastest among major economies. Therefore, in the upcoming years, rising consumption and investments, both domestic and [...] ## India GDP Per Capita 2025 / India Per Capita Income 2025\\\\n\\\\nThough India\\'s rank in the World GDP Ranking 2025 list is fifth, the per capita income is substantially low. India\\'s per capita income of the population for 2025 is $2,880 (Approx Rs.2.4 lakh). Multiple factors have led to low per capita income in India compared to the top GDP countries.\", \\'score\\': 0.850382}, {\\'title\\': \\'India GDP PPP 2024 Estimate and 2025 Projection - World Economics\\', \\'url\\': \\'https://www.worldeconomics.com/GrossDomesticProduct/Real-GDP-PPP/India.aspx\\', \\'content\\': \"India GDP: $14.018 Trillion\\\\u200b\\\\u200b Looking ahead to 2025, projections suggest India\\'s 2025 GDP estimate could be $14.929 Trillion. This India GDP growth forecast for\", \\'score\\': 0.82082915}, {\\'title\\': \\'India GDP Annual Growth Rate - TRADING ECONOMICS\\', \\'url\\': \\'https://tradingeconomics.com/india/gdp-growth-annual\\', \\'content\\': \\'| Related | Last | Previous | Unit | Reference |\\\\n| --- | --- | --- | --- | --- |\\\\n| Fiscal Year GDP Growth | 6.50 | 9.20 | percent | Mar 2025 |\\\\n| GDP Growth Rate YoY | 7.40 | 6.40 | percent | Mar 2025 |\\\\n| GDP Constant Prices | 51351.63 | 47265.42 | INR Billion | Mar 2025 |\\\\n| GDP from Agriculture | 6773.89 | 7757.32 | INR Billion | Mar 2025 |\\\\n| GDP from Construction | 4636.41 | 3899.90 | INR Billion | Mar 2025 |\\\\n| GDP from Manufacturing | 8299.55 | 6960.49 | INR Billion | Mar 2025 | [...] ## The Gross Domestic Product (GDP) in India expanded 7.40 percent in the first quarter of 2025 over the same quarter of the previous year. GDP Annual Growth Rate in India averaged 6.03 percent from 1951 until 2025, reaching an all time high of 22.60 percent in the second quarter of 2021 and a record low of -23.10 percent in the second quarter of 2020. This page provides - India GDP Annual Growth Rate - actual values, historical data, forecast, chart, statistics, economic calendar and news. [...] | GDP from Mining | 1013.49 | 824.88 | INR Billion | Mar 2025 |\\\\n| GDP from Public Administration | 5623.82 | 5544.70 | INR Billion | Mar 2025 |\\\\n| GDP from Utilities | 1000.44 | 963.01 | INR Billion | Mar 2025 |\\\\n| GDP Growth Rate | 2.00 | 1.90 | percent | Mar 2025 |\\\\n| Gross Fixed Capital Formation | 17411.50 | 14991.34 | INR Billion | Mar 2025 |\\', \\'score\\': 0.78014404}, {\\'title\\': \\'India GDP Growth 2025 - StatisticsTimes.com\\', \\'url\\': \\'https://www.statisticstimes.com/economy/country/india-gdp-growth.php\\', \\'content\\': \\'GDP growth rates at current prices in 2024-25 is 9.89%, India has recorded the 3rd lowest nominal growth rate since year 2003-04. In the 2011-12 series, the average growth rate in 1951-2025 stands at 5.08%, reaching an all-time high of 9.69% in 2021-22 and a record low of -5.78% in 2020-21. During 6 years, growth was negative.\\', \\'score\\': 0.74652773}]']}"
      ]
     },
     "execution_count": 80,
     "metadata": {},
     "output_type": "execute_result"
    }
   ],
   "source": [
    "app.invoke({\"messages\":[\"What is the current gdp of the india?\"]})"
   ]
  },
  {
   "cell_type": "code",
   "execution_count": 81,
   "id": "f6326c98",
   "metadata": {},
   "outputs": [
    {
     "name": "stdout",
     "output_type": "stream",
     "text": [
      "Seleted tool: multiply\n"
     ]
    },
    {
     "data": {
      "text/plain": [
       "{'messages': ['What is the multiplication of 5 and 20?',\n",
       "  AIMessage(content='', additional_kwargs={'tool_calls': [{'id': '3apav2ntn', 'function': {'arguments': '{\"a\":5,\"b\":20}', 'name': 'multiply'}, 'type': 'function'}]}, response_metadata={'token_usage': {'completion_tokens': 285, 'prompt_tokens': 178, 'total_tokens': 463, 'completion_time': 1.164743037, 'prompt_time': 0.011124803, 'queue_time': 0.06696848899999999, 'total_time': 1.17586784}, 'model_name': 'deepseek-r1-distill-llama-70b', 'system_fingerprint': 'fp_1bbe7845ec', 'finish_reason': 'tool_calls', 'logprobs': None}, id='run--7c424cd3-785d-405e-821c-ff81511e1445-0', tool_calls=[{'name': 'multiply', 'args': {'a': 5, 'b': 20}, 'id': '3apav2ntn', 'type': 'tool_call'}], usage_metadata={'input_tokens': 178, 'output_tokens': 285, 'total_tokens': 463}),\n",
       "  100]}"
      ]
     },
     "execution_count": 81,
     "metadata": {},
     "output_type": "execute_result"
    }
   ],
   "source": [
    "\n",
    "app.invoke({\"messages\":[\"What is the multiplication of 5 and 20?\"]})"
   ]
  },
  {
   "cell_type": "code",
   "execution_count": 106,
   "id": "2ac72a8a",
   "metadata": {},
   "outputs": [],
   "source": [
    "def ai_assistant(state:AgentState):\n",
    "    response=llm_with_tools.invoke(state[\"messages\"])\n",
    "    return {\"messages\":[response]}"
   ]
  },
  {
   "cell_type": "code",
   "execution_count": 107,
   "id": "10179b82",
   "metadata": {},
   "outputs": [],
   "source": [
    "from langgraph.checkpoint.memory import MemorySaver "
   ]
  },
  {
   "cell_type": "code",
   "execution_count": 108,
   "id": "033abce7",
   "metadata": {},
   "outputs": [],
   "source": [
    "memory=MemorySaver()"
   ]
  },
  {
   "cell_type": "code",
   "execution_count": 109,
   "id": "0c47cb16",
   "metadata": {},
   "outputs": [],
   "source": [
    "from langgraph.prebuilt import ToolNode,tools_condition"
   ]
  },
  {
   "cell_type": "code",
   "execution_count": 110,
   "id": "885fe5f7",
   "metadata": {},
   "outputs": [],
   "source": [
    "tool_node=ToolNode(tools)"
   ]
  },
  {
   "cell_type": "code",
   "execution_count": 111,
   "id": "caa2332b",
   "metadata": {},
   "outputs": [],
   "source": [
    "workflow=StateGraph(AgentState)"
   ]
  },
  {
   "cell_type": "code",
   "execution_count": 112,
   "id": "43cc5820",
   "metadata": {},
   "outputs": [
    {
     "data": {
      "text/plain": [
       "<langgraph.graph.state.StateGraph at 0x18b15c29390>"
      ]
     },
     "execution_count": 112,
     "metadata": {},
     "output_type": "execute_result"
    }
   ],
   "source": [
    "workflow.add_node(\"ai_assistant\",ai_assistant)"
   ]
  },
  {
   "cell_type": "code",
   "execution_count": 113,
   "id": "d32b8ba6",
   "metadata": {},
   "outputs": [
    {
     "data": {
      "text/plain": [
       "<langgraph.graph.state.StateGraph at 0x18b15c29390>"
      ]
     },
     "execution_count": 113,
     "metadata": {},
     "output_type": "execute_result"
    }
   ],
   "source": [
    "workflow.add_node(\"tools\",tool_node)"
   ]
  },
  {
   "cell_type": "code",
   "execution_count": 114,
   "id": "86b46cfe",
   "metadata": {},
   "outputs": [
    {
     "data": {
      "text/plain": [
       "<langgraph.graph.state.StateGraph at 0x18b15c29390>"
      ]
     },
     "execution_count": 114,
     "metadata": {},
     "output_type": "execute_result"
    }
   ],
   "source": [
    "workflow.add_edge(START,\"ai_assistant\")"
   ]
  },
  {
   "cell_type": "code",
   "execution_count": 115,
   "id": "fa36739c",
   "metadata": {},
   "outputs": [
    {
     "data": {
      "text/plain": [
       "<langgraph.graph.state.StateGraph at 0x18b15c29390>"
      ]
     },
     "execution_count": 115,
     "metadata": {},
     "output_type": "execute_result"
    }
   ],
   "source": [
    "workflow.add_conditional_edges(\"ai_assistant\",\n",
    "                            tools_condition\n",
    "                            )"
   ]
  },
  {
   "cell_type": "code",
   "execution_count": 116,
   "id": "51eac8fa",
   "metadata": {},
   "outputs": [
    {
     "data": {
      "text/plain": [
       "<langgraph.graph.state.StateGraph at 0x18b15c29390>"
      ]
     },
     "execution_count": 116,
     "metadata": {},
     "output_type": "execute_result"
    }
   ],
   "source": [
    "workflow.add_edge(\"tools\",\"ai_assistant\")"
   ]
  },
  {
   "cell_type": "code",
   "execution_count": 117,
   "id": "4c42b807",
   "metadata": {},
   "outputs": [],
   "source": [
    "app2=workflow.compile(checkpointer=memory,interrupt_before=[\"tools\"])"
   ]
  },
  {
   "cell_type": "code",
   "execution_count": 118,
   "id": "b00e3339",
   "metadata": {},
   "outputs": [
    {
     "data": {
      "image/png": "[encoded data removed]",
      "text/plain": [
       "<IPython.core.display.Image object>"
      ]
     },
     "metadata": {},
     "output_type": "display_data"
    }
   ],
   "source": [
    "display(Image(app2.get_graph().draw_mermaid_png()))"
   ]
  },
  {
   "cell_type": "code",
   "execution_count": 119,
   "id": "91867a5f",
   "metadata": {},
   "outputs": [],
   "source": [
    "config={\"configurable\":{\"thread_id\":\"1\"}}"
   ]
  },
  {
   "cell_type": "code",
   "execution_count": 120,
   "id": "e51471d5",
   "metadata": {},
   "outputs": [],
   "source": [
    "from langchain_core.messages import HumanMessage"
   ]
  },
  {
   "cell_type": "code",
   "execution_count": 121,
   "id": "189f886c",
   "metadata": {},
   "outputs": [],
   "source": [
    "response=app2.invoke({\"messages\":[HumanMessage(\"What is the gdp of China?\")]},config=config)"
   ]
  },
  {
   "cell_type": "code",
   "execution_count": 122,
   "id": "506ed961",
   "metadata": {},
   "outputs": [
    {
     "data": {
      "text/plain": [
       "{'messages': [HumanMessage(content='What is the gdp of China?', additional_kwargs={}, response_metadata={}),\n",
       "  AIMessage(content='', additional_kwargs={'tool_calls': [{'id': 'yf14v6vjb', 'function': {'arguments': '{\"query\":\"China GDP\"}', 'name': 'search'}, 'type': 'function'}]}, response_metadata={'token_usage': {'completion_tokens': 89, 'prompt_tokens': 175, 'total_tokens': 264, 'completion_time': 0.438806541, 'prompt_time': 0.010988828, 'queue_time': 0.05636510200000001, 'total_time': 0.449795369}, 'model_name': 'deepseek-r1-distill-llama-70b', 'system_fingerprint': 'fp_1bbe7845ec', 'finish_reason': 'tool_calls', 'logprobs': None}, id='run--b111cb14-7be5-4865-8de4-35462ffa0034-0', tool_calls=[{'name': 'search', 'args': {'query': 'China GDP'}, 'id': 'yf14v6vjb', 'type': 'tool_call'}], usage_metadata={'input_tokens': 175, 'output_tokens': 89, 'total_tokens': 264})]}"
      ]
     },
     "execution_count": 122,
     "metadata": {},
     "output_type": "execute_result"
    }
   ],
   "source": [
    "response"
   ]
  },
  {
   "cell_type": "code",
   "execution_count": 123,
   "id": "6aebedf3",
   "metadata": {},
   "outputs": [],
   "source": [
    "snapshot=app2.get_state(config)"
   ]
  },
  {
   "cell_type": "code",
   "execution_count": 124,
   "id": "589bd513",
   "metadata": {},
   "outputs": [
    {
     "data": {
      "text/plain": [
       "StateSnapshot(values={'messages': [HumanMessage(content='What is the gdp of China?', additional_kwargs={}, response_metadata={}), AIMessage(content='', additional_kwargs={'tool_calls': [{'id': 'yf14v6vjb', 'function': {'arguments': '{\"query\":\"China GDP\"}', 'name': 'search'}, 'type': 'function'}]}, response_metadata={'token_usage': {'completion_tokens': 89, 'prompt_tokens': 175, 'total_tokens': 264, 'completion_time': 0.438806541, 'prompt_time': 0.010988828, 'queue_time': 0.05636510200000001, 'total_time': 0.449795369}, 'model_name': 'deepseek-r1-distill-llama-70b', 'system_fingerprint': 'fp_1bbe7845ec', 'finish_reason': 'tool_calls', 'logprobs': None}, id='run--b111cb14-7be5-4865-8de4-35462ffa0034-0', tool_calls=[{'name': 'search', 'args': {'query': 'China GDP'}, 'id': 'yf14v6vjb', 'type': 'tool_call'}], usage_metadata={'input_tokens': 175, 'output_tokens': 89, 'total_tokens': 264})]}, next=('tools',), config={'configurable': {'thread_id': '1', 'checkpoint_ns': '', 'checkpoint_id': '1f054a4e-393b-65a6-8001-db48abe6b37c'}}, metadata={'source': 'loop', 'writes': {'ai_assistant': {'messages': [AIMessage(content='', additional_kwargs={'tool_calls': [{'id': 'yf14v6vjb', 'function': {'arguments': '{\"query\":\"China GDP\"}', 'name': 'search'}, 'type': 'function'}]}, response_metadata={'token_usage': {'completion_tokens': 89, 'prompt_tokens': 175, 'total_tokens': 264, 'completion_time': 0.438806541, 'prompt_time': 0.010988828, 'queue_time': 0.05636510200000001, 'total_time': 0.449795369}, 'model_name': 'deepseek-r1-distill-llama-70b', 'system_fingerprint': 'fp_1bbe7845ec', 'finish_reason': 'tool_calls', 'logprobs': None}, id='run--b111cb14-7be5-4865-8de4-35462ffa0034-0', tool_calls=[{'name': 'search', 'args': {'query': 'China GDP'}, 'id': 'yf14v6vjb', 'type': 'tool_call'}], usage_metadata={'input_tokens': 175, 'output_tokens': 89, 'total_tokens': 264})]}}, 'step': 1, 'parents': {}, 'thread_id': '1'}, created_at='2025-06-29T04:52:41.796343+00:00', parent_config={'configurable': {'thread_id': '1', 'checkpoint_ns': '', 'checkpoint_id': '1f054a4e-286f-6fd3-8000-aa2e3cfef4af'}}, tasks=(PregelTask(id='1da6d5ce-ec75-fdaa-4090-e57ce2c523fb', name='tools', path=('__pregel_pull', 'tools'), error=None, interrupts=(), state=None, result=None),), interrupts=())"
      ]
     },
     "execution_count": 124,
     "metadata": {},
     "output_type": "execute_result"
    }
   ],
   "source": [
    "snapshot\n"
   ]
  },
  {
   "cell_type": "code",
   "execution_count": 125,
   "id": "a61ded53",
   "metadata": {},
   "outputs": [
    {
     "data": {
      "text/plain": [
       "('tools',)"
      ]
     },
     "execution_count": 125,
     "metadata": {},
     "output_type": "execute_result"
    }
   ],
   "source": [
    "snapshot.next"
   ]
  },
  {
   "cell_type": "code",
   "execution_count": 126,
   "id": "65d37b30",
   "metadata": {},
   "outputs": [],
   "source": [
    "last_message=snapshot.values[\"messages\"][-1]"
   ]
  },
  {
   "cell_type": "code",
   "execution_count": 127,
   "id": "258fd341",
   "metadata": {},
   "outputs": [
    {
     "data": {
      "text/plain": [
       "AIMessage(content='', additional_kwargs={'tool_calls': [{'id': 'yf14v6vjb', 'function': {'arguments': '{\"query\":\"China GDP\"}', 'name': 'search'}, 'type': 'function'}]}, response_metadata={'token_usage': {'completion_tokens': 89, 'prompt_tokens': 175, 'total_tokens': 264, 'completion_time': 0.438806541, 'prompt_time': 0.010988828, 'queue_time': 0.05636510200000001, 'total_time': 0.449795369}, 'model_name': 'deepseek-r1-distill-llama-70b', 'system_fingerprint': 'fp_1bbe7845ec', 'finish_reason': 'tool_calls', 'logprobs': None}, id='run--b111cb14-7be5-4865-8de4-35462ffa0034-0', tool_calls=[{'name': 'search', 'args': {'query': 'China GDP'}, 'id': 'yf14v6vjb', 'type': 'tool_call'}], usage_metadata={'input_tokens': 175, 'output_tokens': 89, 'total_tokens': 264})"
      ]
     },
     "execution_count": 127,
     "metadata": {},
     "output_type": "execute_result"
    }
   ],
   "source": [
    "last_message"
   ]
  },
  {
   "cell_type": "code",
   "execution_count": 128,
   "id": "f44281c3",
   "metadata": {},
   "outputs": [
    {
     "data": {
      "text/plain": [
       "{'messages': [HumanMessage(content='What is the gdp of China?', additional_kwargs={}, response_metadata={}),\n",
       "  AIMessage(content='', additional_kwargs={'tool_calls': [{'id': 'yf14v6vjb', 'function': {'arguments': '{\"query\":\"China GDP\"}', 'name': 'search'}, 'type': 'function'}]}, response_metadata={'token_usage': {'completion_tokens': 89, 'prompt_tokens': 175, 'total_tokens': 264, 'completion_time': 0.438806541, 'prompt_time': 0.010988828, 'queue_time': 0.05636510200000001, 'total_time': 0.449795369}, 'model_name': 'deepseek-r1-distill-llama-70b', 'system_fingerprint': 'fp_1bbe7845ec', 'finish_reason': 'tool_calls', 'logprobs': None}, id='run--b111cb14-7be5-4865-8de4-35462ffa0034-0', tool_calls=[{'name': 'search', 'args': {'query': 'China GDP'}, 'id': 'yf14v6vjb', 'type': 'tool_call'}], usage_metadata={'input_tokens': 175, 'output_tokens': 89, 'total_tokens': 264}),\n",
       "  ToolMessage(content='Result for China GDP is: \\n[{\\'title\\': \\'China: GDP at current prices 1985-2030| Statista\\', \\'url\\': \\'https://www.statista.com/statistics/263770/gross-domestic-product-gdp-of-china/\\', \\'content\\': \"In 2024, the gross domestic product (GDP) of China amounted to around 18.7 trillion U.S. dollars. In comparison to the GDP of the other BRIC countries India, Russia and Brazil, China came first that year and second in the world GDP ranking. The stagnation of China\\'s GDP in U.S. dollar terms in 2022 and 2023 was mainly due to the appreciation of the U.S. dollar. China\\'s real GDP growth was 3.1 percent in 2022 and 5.4 percent in 2023. In 2024, per capita GDP in China reached around 13,300 U.S. [...] Gross domestic product (GDP) is a primary economic indicator. It measures the total value of all goods and services produced in an economy over a certain time period. China\\'s economy used to grow quickly in the past, but the growth rate of China’s real GDP gradually slowed down in recent years, and year-on-year GDP growth is forecasted to range at only around four percent in the years after 2024. Since 2010, China has been the world’s second-largest economy, surpassing Japan. [...] | Characteristic | Gross domestic product in billion U.S. dollars |\\\\n| --- | --- |\\\\n| 2030\\\\\\\\ | 25,827.52 |\\\\n| 2029\\\\\\\\ | 24,454.65 |\\\\n| 2028\\\\\\\\ | 23,102.98 |\\\\n| 2027\\\\\\\\ | 21,706.81 |\\\\n| 2026\\\\\\\\ | 20,375.86 |\\\\n| 2025\\\\\\\\ | 19,231.71 |\\\\n| 2024 | 18,748.01 |\\\\n| 2023 | 18,270.35 |\\\\n| 2022 | 18,307.82 |\\\\n| 2021 | 18,190.8 |\\\\n| 2020 | 15,103.36 |\\\\n| 2019 | 14,572.41 |\\\\n| 2018 | 14,110.96 |\\\\n| 2017 | 12,503.3 |\\\\n| 2016 | 11,448 |\\\\n| 2015 | 11,307.23 |\\\\n| 2014 | 10,701.42 |\\\\n| 2013 | 9,782.78 |\\\\n| 2012 | 8,682.94 |\", \\'score\\': 0.90018827}, {\\'title\\': \\'China GDP | Historical Chart & Data - Macrotrends\\', \\'url\\': \\'https://www.macrotrends.net/global-metrics/countries/chn/china/gdp-gross-domestic-product\\', \\'content\\': \\'China GDP for 2022 was 17.882 trillion US dollars, a 0.34% increase from 2021.\\\\n   China GDP for 2021 was 17.820 trillion US dollars, a 21.33% increase from 2020.\\\\n   China GDP for 2020 was 14.688 trillion US dollars, a 2.86% increase from 2019. [...] China GDP 1960-2025 | MacroTrends\\\\n=============== \\\\n\\\\nX\\\\n\\\\n \\\\n\\\\nImage 1: Macrotrends Logo\\\\n\\\\nChina GDP 1960-2025\\\\n-------------------\\\\n\\\\nPopulation Economy Trade Health Education Development Labor Force Environment Crime Immigration Other\\\\n\\\\nGDP GDP Growth Rate GDP Per Capita Debt to GDP Inflation Rate Manufacturing GNI GNI Per Capita GNP\\\\n\\\\n##### China GDP for 2023 was 17.795 trillion US dollars, a 0.49% decline from 2022. [...] | Country Rankings |\\\\n| --- |\\\\n| Name | GDP (US $) |\\\\n| --- | --- |\\\\n| United States | $27.721T |\\\\n| China | $17.795T |\\\\n| Germany | $4.456T |\\\\n| Japan | $4.213T |\\\\n| India | $3.550T |\\\\n| United Kingdom | $3.340T |\\\\n| France | $3.031T |\\\\n| Italy | $2.255T |\\\\n| Brazil | $2.174T |\\\\n| Canada | $2.140T |\\\\n| Russia | $2.021T |\\\\n| Mexico | $1.789T |\\\\n| Australia | $1.724T |\\\\n| South Korea | $1.713T |\\\\n| Spain | $1.581T |\\\\n| Indonesia | $1.371T |\\\\n| Netherlands | $1.118T |\\\\n| Turkey | $1.108T |\\\\n| Saudi Arabia | $1.068T |\\', \\'score\\': 0.89997756}, {\\'title\\': \\'China GDP Annual Growth Rate - Trading Economics\\', \\'url\\': \\'https://tradingeconomics.com/china/gdp-growth-annual\\', \\'content\\': \"The Gross Domestic Product (GDP) in China expanded 5.40 percent in the first quarter of 2025 over the same quarter of the previous year. GDP Annual Growth Rate in China averaged 8.78 percent from 1989 until 2025, reaching an all time high of 18.90 percent in the first quarter of 2021 and a record low of -6.80 percent in the first quarter of 2020. This page provides - China GDP Annual Growth Rate - actual values, historical data, forecast, chart, statistics, economic calendar and news. China GDP [...] ### The Gross Domestic Product (GDP) in China expanded 5.40 percent in the first quarter of 2025 over the same quarter of the previous year. GDP Annual Growth Rate in China is expected to be 4.10 percent by the end of this quarter, according to Trading Economics global macro models and analysts expectations. In the long-term, the China GDP Annual Growth Rate is projected to trend around 4.70 percent in 2026 and 4.50 percent in 2027, according to our econometric models.\\\\n\\\\n%\\\\n\\\\n3Y5Y10YMAX [...] China’s economy grew 5.4% year-on-year in Q1 of 2025, maintaining the same pace as in Q4 and exceeding market expectations of 5.1%. It remained the strongest annual growth rate in 1-1/2 years amid Beijing\\'s ongoing stimulus. The latest GDP readings were also buoyed by robust March activity: industrial output rose at its fastest pace since June 2021, retail sales posted the biggest gain in over a year, and the surveyed jobless rate eased from a two-year high. Fixed asset investment also slightly\", \\'score\\': 0.8729662}, {\\'title\\': \\'Economy of China - Wikipedia\\', \\'url\\': \\'https://en.wikipedia.org/wiki/Economy_of_China\\', \\'content\\': \\'typeof=\"mw:File\"><span title=\"Increase\"><img alt=\"Increase\" src=\"//upload.wikimedia.org/wikipedia/commons/thumb/b/b0/Increase2.svg/20px-Increase2.svg.png\" decoding=\"async\" width=\"11\" height=\"11\" class=\"mw-file-element\" srcset=\"//upload.wikimedia.org/wikipedia/commons/thumb/b/b0/Increase2.svg/40px-Increase2.svg.png 2x\" data-file-width=\"300\" data-file-height=\"300\"></span></span> $40.72 trillion (PPP; 2025)<sup id=\"cite_ref-IMFCHN_5-1\" class=\"reference\"><span class=\"cite-bracket\">[</span>5<span [...] src=\"//upload.wikimedia.org/wikipedia/commons/thumb/b/b0/Increase2.svg/20px-Increase2.svg.png\" decoding=\"async\" width=\"11\" height=\"11\" class=\"mw-file-element\" srcset=\"//upload.wikimedia.org/wikipedia/commons/thumb/b/b0/Increase2.svg/40px-Increase2.svg.png 2x\" data-file-width=\"300\" data-file-height=\"300\"></span></span> 43.46% of GDP (2024)<sup id=\"cite_ref-IMF_2023_18-0\" class=\"reference\"><span class=\"cite-bracket\">[</span>17<span class=\"cite-bracket\">]</span></sup></td></tr><tr><th scope=\"row\" [...] the size of the Chinese economy by Purchasing Power Parity in 2010 was about $14.8 trillion rather than an official estimate at $10.1 trillion by IMF, meaning that China\\\\\\'s GDP was underestimated by 47 percent.[\\\\\\\\[129\\\\\\\\]](\\', \\'score\\': 0.8252664}, {\\'title\\': \\'Historical GDP of China - Wikipedia\\', \\'url\\': \\'https://en.wikipedia.org/wiki/Historical_GDP_of_China\\', \\'content\\': \"Current status\\\\n--------------\\\\n\\\\n[edit]\\\\n\\\\nImage 4\\\\n\\\\nProportion of world (countries with data) nominal GDP for the countries with the top 10 highest nominal GDP in 2018, from 1980 to 2018 with IMF projections until 2024(\\\\n\\\\nThe gross domestic product of China in 2019 was CN¥99.08651 trillion,( or US$14.4 trillion (nominal).( [...] From 1979 until 2010, China\\'s average annual GDP growth was 9.91%, reaching a historical high of 15.2% in 1984 and a record low of 3.8% in 1990. Based on the current price, the country\\'s average annual GDP growth in these 32 years was 15.8%, reaching an historical high of 36.41% in 1994 and a record low of 6.25% in 1999.\\\\n\\\\nChina NBS data\\\\n--------------\\\\n\\\\n[edit]\\\\n\\\\n### Annual GDP\\\\n\\\\n[edit]\\\\n\\\\nChina\\'s Historical Nominal GDP for 1952–present (current price) ( [...] (\\\\nCNYUSDCNY USD\\\\np 2024 134,908.40 18,943.29 5.0 95,749 13,445 5.1 1,408,975 7.1217\\\\n2023 129,427.17 18,367.06 5.4 91,746 13,020 5.5 1,410,710 7.0467\\\\n2022 123,402.94 18,346.88 3.1 87,385 12,992 3.1 1,412,175 6.7261\\\\n2021 117,382.30 18,194.57 8.6 83,111 12,882 8.5 1,412,360 6.4515\\\\n2020 103,486.76 15,003.30 2.3 73,338 10,632 2.1 1,411,100 6.8976\\\\n2019 100,587.24 14,581.03 6.1 71,453 10,358 5.7 1,407,745 6.8985\\\\n2018 93,601.01 14,144.68 6.8 66,726 10,083 6.3 1,402,760 6.6174\", \\'score\\': 0.82220376}]', name='search', tool_call_id='yf14v6vjb'),\n",
       "  AIMessage(content=\"As of 2024, China's GDP was approximately **18.7 trillion USD**, with a growth rate of around **5.4%** in the first quarter of 2025. This information is based on data from sources like Statista and Trading Economics.\", additional_kwargs={}, response_metadata={'token_usage': {'completion_tokens': 436, 'prompt_tokens': 2688, 'total_tokens': 3124, 'completion_time': 1.715016768, 'prompt_time': 0.198415932, 'queue_time': 0.05907190700000001, 'total_time': 1.9134327}, 'model_name': 'deepseek-r1-distill-llama-70b', 'system_fingerprint': 'fp_1bbe7845ec', 'finish_reason': 'stop', 'logprobs': None}, id='run--3c403048-5f5e-4587-948e-bdaef07e0187-0', usage_metadata={'input_tokens': 2688, 'output_tokens': 436, 'total_tokens': 3124})]}"
      ]
     },
     "execution_count": 128,
     "metadata": {},
     "output_type": "execute_result"
    }
   ],
   "source": [
    "app2.invoke(None,config) #none means resume the last state or resume the process"
   ]
  },
  {
   "cell_type": "code",
   "execution_count": 129,
   "id": "3a3d2b2d",
   "metadata": {},
   "outputs": [],
   "source": [
    "tool_details=last_message.tool_calls"
   ]
  },
  {
   "cell_type": "code",
   "execution_count": 130,
   "id": "461cf9b8",
   "metadata": {},
   "outputs": [
    {
     "data": {
      "text/plain": [
       "[{'name': 'search',\n",
       "  'args': {'query': 'China GDP'},\n",
       "  'id': 'yf14v6vjb',\n",
       "  'type': 'tool_call'}]"
      ]
     },
     "execution_count": 130,
     "metadata": {},
     "output_type": "execute_result"
    }
   ],
   "source": [
    "\n",
    "tool_details"
   ]
  },
  {
   "cell_type": "code",
   "execution_count": 131,
   "id": "9dad8153",
   "metadata": {},
   "outputs": [
    {
     "data": {
      "text/plain": [
       "'search'"
      ]
     },
     "execution_count": 131,
     "metadata": {},
     "output_type": "execute_result"
    }
   ],
   "source": [
    "tool_details[0][\"name\"]"
   ]
  },
  {
   "cell_type": "code",
   "execution_count": 134,
   "id": "6a691eab",
   "metadata": {},
   "outputs": [
    {
     "name": "stdout",
     "output_type": "stream",
     "text": [
      "{'messages': [HumanMessage(content='What is the gdp of China?', additional_kwargs={}, response_metadata={}), AIMessage(content='', additional_kwargs={'tool_calls': [{'id': 'yf14v6vjb', 'function': {'arguments': '{\"query\":\"China GDP\"}', 'name': 'search'}, 'type': 'function'}]}, response_metadata={'token_usage': {'completion_tokens': 89, 'prompt_tokens': 175, 'total_tokens': 264, 'completion_time': 0.438806541, 'prompt_time': 0.010988828, 'queue_time': 0.05636510200000001, 'total_time': 0.449795369}, 'model_name': 'deepseek-r1-distill-llama-70b', 'system_fingerprint': 'fp_1bbe7845ec', 'finish_reason': 'tool_calls', 'logprobs': None}, id='run--b111cb14-7be5-4865-8de4-35462ffa0034-0', tool_calls=[{'name': 'search', 'args': {'query': 'China GDP'}, 'id': 'yf14v6vjb', 'type': 'tool_call'}], usage_metadata={'input_tokens': 175, 'output_tokens': 89, 'total_tokens': 264}), ToolMessage(content='Result for China GDP is: \\n[{\\'title\\': \\'China: GDP at current prices 1985-2030| Statista\\', \\'url\\': \\'https://www.statista.com/statistics/263770/gross-domestic-product-gdp-of-china/\\', \\'content\\': \"In 2024, the gross domestic product (GDP) of China amounted to around 18.7 trillion U.S. dollars. In comparison to the GDP of the other BRIC countries India, Russia and Brazil, China came first that year and second in the world GDP ranking. The stagnation of China\\'s GDP in U.S. dollar terms in 2022 and 2023 was mainly due to the appreciation of the U.S. dollar. China\\'s real GDP growth was 3.1 percent in 2022 and 5.4 percent in 2023. In 2024, per capita GDP in China reached around 13,300 U.S. [...] Gross domestic product (GDP) is a primary economic indicator. It measures the total value of all goods and services produced in an economy over a certain time period. China\\'s economy used to grow quickly in the past, but the growth rate of China’s real GDP gradually slowed down in recent years, and year-on-year GDP growth is forecasted to range at only around four percent in the years after 2024. Since 2010, China has been the world’s second-largest economy, surpassing Japan. [...] | Characteristic | Gross domestic product in billion U.S. dollars |\\\\n| --- | --- |\\\\n| 2030\\\\\\\\ | 25,827.52 |\\\\n| 2029\\\\\\\\ | 24,454.65 |\\\\n| 2028\\\\\\\\ | 23,102.98 |\\\\n| 2027\\\\\\\\ | 21,706.81 |\\\\n| 2026\\\\\\\\ | 20,375.86 |\\\\n| 2025\\\\\\\\ | 19,231.71 |\\\\n| 2024 | 18,748.01 |\\\\n| 2023 | 18,270.35 |\\\\n| 2022 | 18,307.82 |\\\\n| 2021 | 18,190.8 |\\\\n| 2020 | 15,103.36 |\\\\n| 2019 | 14,572.41 |\\\\n| 2018 | 14,110.96 |\\\\n| 2017 | 12,503.3 |\\\\n| 2016 | 11,448 |\\\\n| 2015 | 11,307.23 |\\\\n| 2014 | 10,701.42 |\\\\n| 2013 | 9,782.78 |\\\\n| 2012 | 8,682.94 |\", \\'score\\': 0.90018827}, {\\'title\\': \\'China GDP | Historical Chart & Data - Macrotrends\\', \\'url\\': \\'https://www.macrotrends.net/global-metrics/countries/chn/china/gdp-gross-domestic-product\\', \\'content\\': \\'China GDP for 2022 was 17.882 trillion US dollars, a 0.34% increase from 2021.\\\\n   China GDP for 2021 was 17.820 trillion US dollars, a 21.33% increase from 2020.\\\\n   China GDP for 2020 was 14.688 trillion US dollars, a 2.86% increase from 2019. [...] China GDP 1960-2025 | MacroTrends\\\\n=============== \\\\n\\\\nX\\\\n\\\\n \\\\n\\\\nImage 1: Macrotrends Logo\\\\n\\\\nChina GDP 1960-2025\\\\n-------------------\\\\n\\\\nPopulation Economy Trade Health Education Development Labor Force Environment Crime Immigration Other\\\\n\\\\nGDP GDP Growth Rate GDP Per Capita Debt to GDP Inflation Rate Manufacturing GNI GNI Per Capita GNP\\\\n\\\\n##### China GDP for 2023 was 17.795 trillion US dollars, a 0.49% decline from 2022. [...] | Country Rankings |\\\\n| --- |\\\\n| Name | GDP (US $) |\\\\n| --- | --- |\\\\n| United States | $27.721T |\\\\n| China | $17.795T |\\\\n| Germany | $4.456T |\\\\n| Japan | $4.213T |\\\\n| India | $3.550T |\\\\n| United Kingdom | $3.340T |\\\\n| France | $3.031T |\\\\n| Italy | $2.255T |\\\\n| Brazil | $2.174T |\\\\n| Canada | $2.140T |\\\\n| Russia | $2.021T |\\\\n| Mexico | $1.789T |\\\\n| Australia | $1.724T |\\\\n| South Korea | $1.713T |\\\\n| Spain | $1.581T |\\\\n| Indonesia | $1.371T |\\\\n| Netherlands | $1.118T |\\\\n| Turkey | $1.108T |\\\\n| Saudi Arabia | $1.068T |\\', \\'score\\': 0.89997756}, {\\'title\\': \\'China GDP Annual Growth Rate - Trading Economics\\', \\'url\\': \\'https://tradingeconomics.com/china/gdp-growth-annual\\', \\'content\\': \"The Gross Domestic Product (GDP) in China expanded 5.40 percent in the first quarter of 2025 over the same quarter of the previous year. GDP Annual Growth Rate in China averaged 8.78 percent from 1989 until 2025, reaching an all time high of 18.90 percent in the first quarter of 2021 and a record low of -6.80 percent in the first quarter of 2020. This page provides - China GDP Annual Growth Rate - actual values, historical data, forecast, chart, statistics, economic calendar and news. China GDP [...] ### The Gross Domestic Product (GDP) in China expanded 5.40 percent in the first quarter of 2025 over the same quarter of the previous year. GDP Annual Growth Rate in China is expected to be 4.10 percent by the end of this quarter, according to Trading Economics global macro models and analysts expectations. In the long-term, the China GDP Annual Growth Rate is projected to trend around 4.70 percent in 2026 and 4.50 percent in 2027, according to our econometric models.\\\\n\\\\n%\\\\n\\\\n3Y5Y10YMAX [...] China’s economy grew 5.4% year-on-year in Q1 of 2025, maintaining the same pace as in Q4 and exceeding market expectations of 5.1%. It remained the strongest annual growth rate in 1-1/2 years amid Beijing\\'s ongoing stimulus. The latest GDP readings were also buoyed by robust March activity: industrial output rose at its fastest pace since June 2021, retail sales posted the biggest gain in over a year, and the surveyed jobless rate eased from a two-year high. Fixed asset investment also slightly\", \\'score\\': 0.8729662}, {\\'title\\': \\'Economy of China - Wikipedia\\', \\'url\\': \\'https://en.wikipedia.org/wiki/Economy_of_China\\', \\'content\\': \\'typeof=\"mw:File\"><span title=\"Increase\"><img alt=\"Increase\" src=\"//upload.wikimedia.org/wikipedia/commons/thumb/b/b0/Increase2.svg/20px-Increase2.svg.png\" decoding=\"async\" width=\"11\" height=\"11\" class=\"mw-file-element\" srcset=\"//upload.wikimedia.org/wikipedia/commons/thumb/b/b0/Increase2.svg/40px-Increase2.svg.png 2x\" data-file-width=\"300\" data-file-height=\"300\"></span></span> $40.72 trillion (PPP; 2025)<sup id=\"cite_ref-IMFCHN_5-1\" class=\"reference\"><span class=\"cite-bracket\">[</span>5<span [...] src=\"//upload.wikimedia.org/wikipedia/commons/thumb/b/b0/Increase2.svg/20px-Increase2.svg.png\" decoding=\"async\" width=\"11\" height=\"11\" class=\"mw-file-element\" srcset=\"//upload.wikimedia.org/wikipedia/commons/thumb/b/b0/Increase2.svg/40px-Increase2.svg.png 2x\" data-file-width=\"300\" data-file-height=\"300\"></span></span> 43.46% of GDP (2024)<sup id=\"cite_ref-IMF_2023_18-0\" class=\"reference\"><span class=\"cite-bracket\">[</span>17<span class=\"cite-bracket\">]</span></sup></td></tr><tr><th scope=\"row\" [...] the size of the Chinese economy by Purchasing Power Parity in 2010 was about $14.8 trillion rather than an official estimate at $10.1 trillion by IMF, meaning that China\\\\\\'s GDP was underestimated by 47 percent.[\\\\\\\\[129\\\\\\\\]](\\', \\'score\\': 0.8252664}, {\\'title\\': \\'Historical GDP of China - Wikipedia\\', \\'url\\': \\'https://en.wikipedia.org/wiki/Historical_GDP_of_China\\', \\'content\\': \"Current status\\\\n--------------\\\\n\\\\n[edit]\\\\n\\\\nImage 4\\\\n\\\\nProportion of world (countries with data) nominal GDP for the countries with the top 10 highest nominal GDP in 2018, from 1980 to 2018 with IMF projections until 2024(\\\\n\\\\nThe gross domestic product of China in 2019 was CN¥99.08651 trillion,( or US$14.4 trillion (nominal).( [...] From 1979 until 2010, China\\'s average annual GDP growth was 9.91%, reaching a historical high of 15.2% in 1984 and a record low of 3.8% in 1990. Based on the current price, the country\\'s average annual GDP growth in these 32 years was 15.8%, reaching an historical high of 36.41% in 1994 and a record low of 6.25% in 1999.\\\\n\\\\nChina NBS data\\\\n--------------\\\\n\\\\n[edit]\\\\n\\\\n### Annual GDP\\\\n\\\\n[edit]\\\\n\\\\nChina\\'s Historical Nominal GDP for 1952–present (current price) ( [...] (\\\\nCNYUSDCNY USD\\\\np 2024 134,908.40 18,943.29 5.0 95,749 13,445 5.1 1,408,975 7.1217\\\\n2023 129,427.17 18,367.06 5.4 91,746 13,020 5.5 1,410,710 7.0467\\\\n2022 123,402.94 18,346.88 3.1 87,385 12,992 3.1 1,412,175 6.7261\\\\n2021 117,382.30 18,194.57 8.6 83,111 12,882 8.5 1,412,360 6.4515\\\\n2020 103,486.76 15,003.30 2.3 73,338 10,632 2.1 1,411,100 6.8976\\\\n2019 100,587.24 14,581.03 6.1 71,453 10,358 5.7 1,407,745 6.8985\\\\n2018 93,601.01 14,144.68 6.8 66,726 10,083 6.3 1,402,760 6.6174\", \\'score\\': 0.82220376}]', name='search', tool_call_id='yf14v6vjb'), AIMessage(content=\"As of 2024, China's GDP was approximately **18.7 trillion USD**, with a growth rate of around **5.4%** in the first quarter of 2025. This information is based on data from sources like Statista and Trading Economics.\", additional_kwargs={}, response_metadata={'token_usage': {'completion_tokens': 436, 'prompt_tokens': 2688, 'total_tokens': 3124, 'completion_time': 1.715016768, 'prompt_time': 0.198415932, 'queue_time': 0.05907190700000001, 'total_time': 1.9134327}, 'model_name': 'deepseek-r1-distill-llama-70b', 'system_fingerprint': 'fp_1bbe7845ec', 'finish_reason': 'stop', 'logprobs': None}, id='run--3c403048-5f5e-4587-948e-bdaef07e0187-0', usage_metadata={'input_tokens': 2688, 'output_tokens': 436, 'total_tokens': 3124})]}\n"
     ]
    }
   ],
   "source": [
    "if tool_details[0][\"name\"]== \"search\":\n",
    "    user_input=input(prompt=f\"[yes/no] do you want to continue with {tool_details[0]['name']}?\").lower()\n",
    "    if user_input==\"no\":\n",
    "        print(\"web tool discarded\")\n",
    "        raise Exception(\"Web tool discarded by the user.\")\n",
    "    else:\n",
    "        response=app2.invoke(None,config)\n",
    "        print(response)\n",
    "else:\n",
    "    response=app2.invoke(None,config)\n",
    "    print(response)\n",
    "    "
   ]
  },
  {
   "cell_type": "code",
   "execution_count": null,
   "id": "9768c72b",
   "metadata": {},
   "outputs": [],
   "source": []
  }
 ],
 "metadata": {
  "kernelspec": {
   "display_name": "agentic_venv",
   "language": "python",
   "name": "python3"
  },
  "language_info": {
   "codemirror_mode": {
    "name": "ipython",
    "version": 3
   },
   "file_extension": ".py",
   "mimetype": "text/x-python",
   "name": "python",
   "nbconvert_exporter": "python",
   "pygments_lexer": "ipython3",
   "version": "3.11.13"
  }
 },
 "nbformat": 4,
 "nbformat_minor": 5
}
