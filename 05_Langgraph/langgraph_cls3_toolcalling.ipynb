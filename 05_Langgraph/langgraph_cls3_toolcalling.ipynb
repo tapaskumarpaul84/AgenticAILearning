{
 "cells": [
  {
   "cell_type": "code",
   "execution_count": 1,
   "id": "dc7fdeeb",
   "metadata": {},
   "outputs": [],
   "source": [
    "import os\n",
    "from dotenv import load_dotenv"
   ]
  },
  {
   "cell_type": "code",
   "execution_count": 2,
   "id": "92a2b7ac",
   "metadata": {},
   "outputs": [],
   "source": [
    "load_dotenv()\n",
    "os.environ[\"GROQ_API_KEY\"]=os.getenv(\"GROQ_API_KEY\")"
   ]
  },
  {
   "cell_type": "code",
   "execution_count": 3,
   "id": "d2bc4c00",
   "metadata": {},
   "outputs": [],
   "source": [
    "model_name=\"deepseek-r1-distill-llama-70b\""
   ]
  },
  {
   "cell_type": "code",
   "execution_count": 4,
   "id": "cfb3e132",
   "metadata": {},
   "outputs": [],
   "source": [
    "from langchain_groq import ChatGroq"
   ]
  },
  {
   "cell_type": "code",
   "execution_count": 5,
   "id": "1b2be299",
   "metadata": {},
   "outputs": [],
   "source": [
    "llm=ChatGroq(model_name=model_name)"
   ]
  },
  {
   "cell_type": "code",
   "execution_count": 6,
   "id": "a9dcb11d",
   "metadata": {},
   "outputs": [
    {
     "name": "stdout",
     "output_type": "stream",
     "text": [
      "<think>\n",
      "Greetings! I'm DeepSeek-R1, an artificial intelligence assistant created by DeepSeek. I'm at your service and would be delighted to assist you with any inquiries or tasks you may have.\n",
      "</think>\n",
      "\n",
      "Greetings! I'm DeepSeek-R1, an artificial intelligence assistant created by DeepSeek. I'm at your service and would be delighted to assist you with any inquiries or tasks you may have.\n"
     ]
    }
   ],
   "source": [
    "print(llm.invoke(\"What is your name?\").content)"
   ]
  },
  {
   "cell_type": "code",
   "execution_count": 63,
   "id": "0a150cc3",
   "metadata": {},
   "outputs": [],
   "source": [
    "import operator\n",
    "from typing import List\n",
    "from pydantic import BaseModel,Field\n",
    "from typing import TypedDict,Annotated,Sequence\n",
    "from langchain_core.messages import BaseMessage\n",
    "from langchain_core.output_parsers import StrOutputParser\n",
    "from langchain_core.runnables import RunnablePassthrough\n",
    "from langchain_core.prompts import PromptTemplate,ChatPromptTemplate\n",
    "from langchain_core.messages import AIMessage,HumanMessage\n",
    "from langgraph.graph import Graph,StateGraph,MessagesState,START,END\n",
    "from langgraph.graph.message import add_messages\n",
    "from langchain_core.tools import tool\n",
    "from langgraph.prebuilt import ToolNode"
   ]
  },
  {
   "cell_type": "code",
   "execution_count": 35,
   "id": "4150a3b3",
   "metadata": {},
   "outputs": [],
   "source": [
    "def call_model(state:MessagesState):\n",
    "    question=state['messages']\n",
    "    \n",
    "    print(f\"Current messages: {question}\")\n",
    "    response=llm.invoke(question)\n",
    "    return {\"messages\":[response]}"
   ]
  },
  {
   "cell_type": "code",
   "execution_count": 36,
   "id": "e627dc5b",
   "metadata": {},
   "outputs": [],
   "source": [
    "state={'messages':[\"Hello How are you?\"]}"
   ]
  },
  {
   "cell_type": "code",
   "execution_count": 37,
   "id": "2b86e14d",
   "metadata": {},
   "outputs": [
    {
     "name": "stdout",
     "output_type": "stream",
     "text": [
      "Current messages: ['Hello How are you?']\n"
     ]
    },
    {
     "data": {
      "text/plain": [
       "{'messages': [AIMessage(content=\"<think>\\n\\n</think>\\n\\nHello! I'm just a virtual assistant, so I don't have feelings, but I'm here and ready to help you with whatever you need. How are you doing? 😊\", additional_kwargs={}, response_metadata={'token_usage': {'completion_tokens': 42, 'prompt_tokens': 8, 'total_tokens': 50, 'completion_time': 0.197598225, 'prompt_time': 0.000156168, 'queue_time': 0.056653922, 'total_time': 0.197754393}, 'model_name': 'deepseek-r1-distill-llama-70b', 'system_fingerprint': 'fp_1bbe7845ec', 'finish_reason': 'stop', 'logprobs': None}, id='run--0ce22540-2462-4f24-a279-b5198f1cab49-0', usage_metadata={'input_tokens': 8, 'output_tokens': 42, 'total_tokens': 50})]}"
      ]
     },
     "execution_count": 37,
     "metadata": {},
     "output_type": "execute_result"
    }
   ],
   "source": [
    "call_model(state)"
   ]
  },
  {
   "cell_type": "code",
   "execution_count": 38,
   "id": "2f8c66a3",
   "metadata": {},
   "outputs": [],
   "source": [
    "workflow=StateGraph(MessagesState)"
   ]
  },
  {
   "cell_type": "code",
   "execution_count": 39,
   "id": "b2d033d4",
   "metadata": {},
   "outputs": [
    {
     "data": {
      "text/plain": [
       "<langgraph.graph.state.StateGraph at 0x175ee57bbd0>"
      ]
     },
     "execution_count": 39,
     "metadata": {},
     "output_type": "execute_result"
    }
   ],
   "source": [
    "workflow.add_node('mybot',call_model)"
   ]
  },
  {
   "cell_type": "code",
   "execution_count": 40,
   "id": "8751e787",
   "metadata": {},
   "outputs": [
    {
     "data": {
      "text/plain": [
       "<langgraph.graph.state.StateGraph at 0x175ee57bbd0>"
      ]
     },
     "execution_count": 40,
     "metadata": {},
     "output_type": "execute_result"
    }
   ],
   "source": [
    "workflow.add_edge(START,'mybot')"
   ]
  },
  {
   "cell_type": "code",
   "execution_count": 41,
   "id": "4ad542af",
   "metadata": {},
   "outputs": [
    {
     "data": {
      "text/plain": [
       "<langgraph.graph.state.StateGraph at 0x175ee57bbd0>"
      ]
     },
     "execution_count": 41,
     "metadata": {},
     "output_type": "execute_result"
    }
   ],
   "source": [
    "workflow.add_edge('mybot',END)"
   ]
  },
  {
   "cell_type": "code",
   "execution_count": 42,
   "id": "7f8f2e37",
   "metadata": {},
   "outputs": [],
   "source": [
    "app=workflow.compile()"
   ]
  },
  {
   "cell_type": "code",
   "execution_count": 43,
   "id": "b683e595",
   "metadata": {},
   "outputs": [],
   "source": [
    "from IPython.display import display,Image"
   ]
  },
  {
   "cell_type": "code",
   "execution_count": 44,
   "id": "5129cede",
   "metadata": {},
   "outputs": [
    {
     "data": {
      "image/png": "[encoded data removed]",
      "text/plain": [
       "<IPython.core.display.Image object>"
      ]
     },
     "metadata": {},
     "output_type": "display_data"
    }
   ],
   "source": [
    "display(Image(app.get_graph().draw_mermaid_png()))"
   ]
  },
  {
   "cell_type": "code",
   "execution_count": 45,
   "id": "51bc370a",
   "metadata": {},
   "outputs": [],
   "source": [
    "state={\"messages\":[\"What is gdp of India?\"]}"
   ]
  },
  {
   "cell_type": "code",
   "execution_count": 46,
   "id": "57e92bb3",
   "metadata": {},
   "outputs": [
    {
     "name": "stdout",
     "output_type": "stream",
     "text": [
      "Current messages: [HumanMessage(content='What is gdp of India?', additional_kwargs={}, response_metadata={}, id='47356288-df5a-4957-8415-fc6ff56b1b59')]\n"
     ]
    },
    {
     "data": {
      "text/plain": [
       "{'messages': [HumanMessage(content='What is gdp of India?', additional_kwargs={}, response_metadata={}, id='47356288-df5a-4957-8415-fc6ff56b1b59'),\n",
       "  AIMessage(content=\"<think>\\n\\n</think>\\n\\nAs of the latest available data, India's GDP (Gross Domestic Product) is approximately **$3.4 trillion** (nominal, 2023 estimates). This makes India the **5th largest economy** in the world, surpassing the UK. \\n\\nFor more precise and updated figures, you can refer to recent reports from sources like the **International Monetary Fund (IMF)** or India's **National Statistical Office (NSO)**.\", additional_kwargs={}, response_metadata={'token_usage': {'completion_tokens': 96, 'prompt_tokens': 10, 'total_tokens': 106, 'completion_time': 0.35852819, 'prompt_time': 0.000363515, 'queue_time': 0.195648604, 'total_time': 0.358891705}, 'model_name': 'deepseek-r1-distill-llama-70b', 'system_fingerprint': 'fp_1bbe7845ec', 'finish_reason': 'stop', 'logprobs': None}, id='run--3ed110f1-8c26-439b-9c85-feefdc3e9fad-0', usage_metadata={'input_tokens': 10, 'output_tokens': 96, 'total_tokens': 106})]}"
      ]
     },
     "execution_count": 46,
     "metadata": {},
     "output_type": "execute_result"
    }
   ],
   "source": [
    "app.invoke(state)"
   ]
  },
  {
   "cell_type": "code",
   "execution_count": 48,
   "id": "c8193831",
   "metadata": {},
   "outputs": [
    {
     "name": "stdout",
     "output_type": "stream",
     "text": [
      "Current messages: [HumanMessage(content='What is gdp of India?', additional_kwargs={}, response_metadata={}, id='02963f8a-c37d-459c-9068-a136623ce97b')]\n",
      "This is from node:  mybot\n",
      "--------\n",
      "{'messages': [AIMessage(content=\"<think>\\n\\n</think>\\n\\nAs of the latest available data, India's GDP (Gross Domestic Product) is approximately **$3.4 trillion** (nominal) and around **$11.5 trillion** (PPP) as of 2023. For the most accurate and up-to-date information, refer to the latest reports from the **World Bank** or **IMF**.\", additional_kwargs={}, response_metadata={'token_usage': {'completion_tokens': 79, 'prompt_tokens': 10, 'total_tokens': 89, 'completion_time': 0.29043365, 'prompt_time': 0.000191187, 'queue_time': 0.053363224, 'total_time': 0.290624837}, 'model_name': 'deepseek-r1-distill-llama-70b', 'system_fingerprint': 'fp_1bbe7845ec', 'finish_reason': 'stop', 'logprobs': None}, id='run--5b95325c-c6b5-4654-a824-24e2803ada40-0', usage_metadata={'input_tokens': 10, 'output_tokens': 79, 'total_tokens': 89})]}\n",
      "\n",
      "\n"
     ]
    }
   ],
   "source": [
    "for output in app.stream(state):\n",
    "\n",
    "    for key,value in output.items():\n",
    "        print(\"This is from node: \",key)\n",
    "        print(\"--------\")\n",
    "        print(value)\n",
    "        print(\"\\n\")"
   ]
  },
  {
   "cell_type": "code",
   "execution_count": null,
   "id": "aa63c483",
   "metadata": {},
   "outputs": [],
   "source": []
  },
  {
   "cell_type": "markdown",
   "id": "d6a5af14",
   "metadata": {},
   "source": [
    "## Tool integration"
   ]
  },
  {
   "cell_type": "code",
   "execution_count": 49,
   "id": "6a148fb4",
   "metadata": {},
   "outputs": [],
   "source": [
    "@tool\n",
    "def temp_search(query:str):\n",
    "    \"\"\"This is for searching temperature of any place\"\"\"\n",
    "    if 'delhi' in query.lower():\n",
    "        return \"The Temp is 45 C and sunny.\"\n",
    "    return \"The temp is 25 C and cloudy.\""
   ]
  },
  {
   "cell_type": "code",
   "execution_count": 50,
   "id": "e7d1ebd5",
   "metadata": {},
   "outputs": [
    {
     "data": {
      "text/plain": [
       "'The temp is 25 C and cloudy.'"
      ]
     },
     "execution_count": 50,
     "metadata": {},
     "output_type": "execute_result"
    }
   ],
   "source": [
    "temp_search.invoke(\"What is the weather of Kolkata\")"
   ]
  },
  {
   "cell_type": "code",
   "execution_count": 51,
   "id": "b4a8438a",
   "metadata": {},
   "outputs": [
    {
     "data": {
      "text/plain": [
       "'The Temp is 45 C and sunny.'"
      ]
     },
     "execution_count": 51,
     "metadata": {},
     "output_type": "execute_result"
    }
   ],
   "source": [
    "temp_search.invoke(\"What is the weather of Delhi\")"
   ]
  },
  {
   "cell_type": "code",
   "execution_count": 52,
   "id": "dc1dd0f2",
   "metadata": {},
   "outputs": [],
   "source": [
    "tools=[temp_search]"
   ]
  },
  {
   "cell_type": "code",
   "execution_count": null,
   "id": "37a47581",
   "metadata": {},
   "outputs": [],
   "source": []
  },
  {
   "cell_type": "code",
   "execution_count": 53,
   "id": "759d9ca7",
   "metadata": {},
   "outputs": [],
   "source": [
    "llm_with_tool=llm.bind_tools(tools)"
   ]
  },
  {
   "cell_type": "code",
   "execution_count": 58,
   "id": "147255d1",
   "metadata": {},
   "outputs": [
    {
     "data": {
      "text/plain": [
       "AIMessage(content='<think>\\n\\n</think>\\n\\nAs of my last update in July 2024, I cannot provide real-time weather information. However, Delhi generally experiences a hot semi-arid climate with extreme weather conditions. Summers are extremely hot, with temperatures often reaching 45°C (113°F) or higher. Winters are cool, with temperatures ranging from 2°C (36°F) to 15°C (59°F). Monsoon season typically occurs between July and September, bringing heavy rainfall. For the most current weather information, I recommend checking a reliable weather service or app.', additional_kwargs={}, response_metadata={'token_usage': {'completion_tokens': 114, 'prompt_tokens': 10, 'total_tokens': 124, 'completion_time': 0.414545455, 'prompt_time': 0.000206757, 'queue_time': 0.054820682999999995, 'total_time': 0.414752212}, 'model_name': 'deepseek-r1-distill-llama-70b', 'system_fingerprint': 'fp_1bbe7845ec', 'finish_reason': 'stop', 'logprobs': None}, id='run--fc013ffd-0e6a-4ac0-9949-385ea4c48bc5-0', usage_metadata={'input_tokens': 10, 'output_tokens': 114, 'total_tokens': 124})"
      ]
     },
     "execution_count": 58,
     "metadata": {},
     "output_type": "execute_result"
    }
   ],
   "source": [
    "llm.invoke(\"What is the weather of Delhi?\")"
   ]
  },
  {
   "cell_type": "code",
   "execution_count": 55,
   "id": "94e5016a",
   "metadata": {},
   "outputs": [],
   "source": [
    "response=llm_with_tool.invoke(\"What is the weather of delhi?\")"
   ]
  },
  {
   "cell_type": "code",
   "execution_count": 56,
   "id": "a8599f2e",
   "metadata": {},
   "outputs": [
    {
     "data": {
      "text/plain": [
       "''"
      ]
     },
     "execution_count": 56,
     "metadata": {},
     "output_type": "execute_result"
    }
   ],
   "source": [
    "response.content"
   ]
  },
  {
   "cell_type": "code",
   "execution_count": 57,
   "id": "0f90048a",
   "metadata": {},
   "outputs": [
    {
     "data": {
      "text/plain": [
       "[{'name': 'temp_search',\n",
       "  'args': {'query': 'Delhi'},\n",
       "  'id': 'zp48b2eka',\n",
       "  'type': 'tool_call'}]"
      ]
     },
     "execution_count": 57,
     "metadata": {},
     "output_type": "execute_result"
    }
   ],
   "source": [
    "response.tool_calls"
   ]
  },
  {
   "cell_type": "code",
   "execution_count": 59,
   "id": "427245b2",
   "metadata": {},
   "outputs": [],
   "source": [
    "def call_model(state:MessagesState):\n",
    "    question=state['messages']\n",
    "    response=llm_with_tool.invoke(question)\n",
    "    return {\"messages\":[response]}"
   ]
  },
  {
   "cell_type": "code",
   "execution_count": 60,
   "id": "146c9dd5",
   "metadata": {},
   "outputs": [],
   "source": [
    "state={\"messages\":[\"What is the weather of delhi?\"]}"
   ]
  },
  {
   "cell_type": "code",
   "execution_count": 61,
   "id": "3e946f18",
   "metadata": {},
   "outputs": [
    {
     "data": {
      "text/plain": [
       "{'messages': [AIMessage(content='', additional_kwargs={'tool_calls': [{'id': 'dfwwp58tr', 'function': {'arguments': '{\"query\":\"delhi\"}', 'name': 'temp_search'}, 'type': 'function'}]}, response_metadata={'token_usage': {'completion_tokens': 165, 'prompt_tokens': 133, 'total_tokens': 298, 'completion_time': 0.880590474, 'prompt_time': 0.008584245, 'queue_time': 0.056884425, 'total_time': 0.889174719}, 'model_name': 'deepseek-r1-distill-llama-70b', 'system_fingerprint': 'fp_1bbe7845ec', 'finish_reason': 'tool_calls', 'logprobs': None}, id='run--bade4a4f-1462-46f1-9c79-dbcd98677898-0', tool_calls=[{'name': 'temp_search', 'args': {'query': 'delhi'}, 'id': 'dfwwp58tr', 'type': 'tool_call'}], usage_metadata={'input_tokens': 133, 'output_tokens': 165, 'total_tokens': 298})]}"
      ]
     },
     "execution_count": 61,
     "metadata": {},
     "output_type": "execute_result"
    }
   ],
   "source": [
    "call_model(state)"
   ]
  },
  {
   "cell_type": "code",
   "execution_count": 214,
   "id": "cc6eebc2",
   "metadata": {},
   "outputs": [],
   "source": [
    "def router_function(state:MessagesState):\n",
    "    message=state[\"messages\"]\n",
    "    last_message=message[-1]\n",
    "    if last_message.tool_calls:\n",
    "        return 'mytools'\n",
    "    return END"
   ]
  },
  {
   "cell_type": "code",
   "execution_count": 215,
   "id": "ddaf29dc",
   "metadata": {},
   "outputs": [
    {
     "data": {
      "text/plain": [
       "[StructuredTool(name='temp_search', description='This is for searching temperature of any place', args_schema=<class 'langchain_core.utils.pydantic.temp_search'>, func=<function temp_search at 0x00000175EEFE3A60>)]"
      ]
     },
     "execution_count": 215,
     "metadata": {},
     "output_type": "execute_result"
    }
   ],
   "source": [
    "tools"
   ]
  },
  {
   "cell_type": "code",
   "execution_count": 216,
   "id": "76338b03",
   "metadata": {},
   "outputs": [],
   "source": [
    "tool_node=ToolNode(tools)"
   ]
  },
  {
   "cell_type": "code",
   "execution_count": 217,
   "id": "b6e70fda",
   "metadata": {},
   "outputs": [
    {
     "data": {
      "text/plain": [
       "tools(tags=None, recurse=True, explode_args=False, func_accepts_config=True, func_accepts={'store': ('__pregel_store', None)}, tools_by_name={'temp_search': StructuredTool(name='temp_search', description='This is for searching temperature of any place', args_schema=<class 'langchain_core.utils.pydantic.temp_search'>, func=<function temp_search at 0x00000175EEFE3A60>)}, tool_to_state_args={'temp_search': {}}, tool_to_store_arg={'temp_search': None}, handle_tool_errors=True, messages_key='messages')"
      ]
     },
     "execution_count": 217,
     "metadata": {},
     "output_type": "execute_result"
    }
   ],
   "source": [
    "tool_node"
   ]
  },
  {
   "cell_type": "code",
   "execution_count": 236,
   "id": "d2a2ebd1",
   "metadata": {},
   "outputs": [],
   "source": [
    "workflow2=StateGraph(MessagesState)"
   ]
  },
  {
   "cell_type": "code",
   "execution_count": 237,
   "id": "97c55117",
   "metadata": {},
   "outputs": [
    {
     "data": {
      "text/plain": [
       "<langgraph.graph.state.StateGraph at 0x175ef630510>"
      ]
     },
     "execution_count": 237,
     "metadata": {},
     "output_type": "execute_result"
    }
   ],
   "source": [
    "workflow2.add_node('llm_with_tool',call_model)"
   ]
  },
  {
   "cell_type": "code",
   "execution_count": 238,
   "id": "91dff4ba",
   "metadata": {},
   "outputs": [
    {
     "data": {
      "text/plain": [
       "<langgraph.graph.state.StateGraph at 0x175ef630510>"
      ]
     },
     "execution_count": 238,
     "metadata": {},
     "output_type": "execute_result"
    }
   ],
   "source": [
    "workflow2.add_node('tools',tool_node)"
   ]
  },
  {
   "cell_type": "code",
   "execution_count": 239,
   "id": "87bb2d8c",
   "metadata": {},
   "outputs": [
    {
     "data": {
      "text/plain": [
       "<langgraph.graph.state.StateGraph at 0x175ef630510>"
      ]
     },
     "execution_count": 239,
     "metadata": {},
     "output_type": "execute_result"
    }
   ],
   "source": [
    "workflow2.add_edge(START,'llm_with_tool')"
   ]
  },
  {
   "cell_type": "code",
   "execution_count": 240,
   "id": "bb12fd78",
   "metadata": {},
   "outputs": [
    {
     "data": {
      "text/plain": [
       "<langgraph.graph.state.StateGraph at 0x175ef630510>"
      ]
     },
     "execution_count": 240,
     "metadata": {},
     "output_type": "execute_result"
    }
   ],
   "source": [
    "workflow2.add_conditional_edges(\n",
    "    \"llm_with_tool\",router_function,\n",
    "    {\"mytools\":\"tools\",\n",
    "     END:END}\n",
    ")"
   ]
  },
  {
   "cell_type": "code",
   "execution_count": 241,
   "id": "8479faf5",
   "metadata": {},
   "outputs": [],
   "source": [
    "app2=workflow2.compile()"
   ]
  },
  {
   "cell_type": "code",
   "execution_count": 242,
   "id": "ac585755",
   "metadata": {},
   "outputs": [
    {
     "data": {
      "image/png": "[encoded data removed]",
      "text/plain": [
       "<IPython.core.display.Image object>"
      ]
     },
     "metadata": {},
     "output_type": "display_data"
    }
   ],
   "source": [
    "display(Image(app2.get_graph().draw_mermaid_png()))"
   ]
  },
  {
   "cell_type": "code",
   "execution_count": 243,
   "id": "6a40d73f",
   "metadata": {},
   "outputs": [
    {
     "data": {
      "text/plain": [
       "{'messages': [HumanMessage(content='What is the weather of Kolkata?', additional_kwargs={}, response_metadata={}, id='225f1f1c-3f24-4d16-94fa-ee85a86acb94'),\n",
       "  AIMessage(content='', additional_kwargs={'tool_calls': [{'id': '0zbrbh6rv', 'function': {'arguments': '{\"query\":\"Kolkata\"}', 'name': 'temp_search'}, 'type': 'function'}]}, response_metadata={'token_usage': {'completion_tokens': 71, 'prompt_tokens': 132, 'total_tokens': 203, 'completion_time': 0.377464313, 'prompt_time': 0.010553042, 'queue_time': 0.054456975000000005, 'total_time': 0.388017355}, 'model_name': 'deepseek-r1-distill-llama-70b', 'system_fingerprint': 'fp_1bbe7845ec', 'finish_reason': 'tool_calls', 'logprobs': None}, id='run--4a05f3b7-d63a-41cd-8820-0aed880f1ef3-0', tool_calls=[{'name': 'temp_search', 'args': {'query': 'Kolkata'}, 'id': '0zbrbh6rv', 'type': 'tool_call'}], usage_metadata={'input_tokens': 132, 'output_tokens': 71, 'total_tokens': 203}),\n",
       "  ToolMessage(content='The temp is 25 C and cloudy.', name='temp_search', id='d1391a61-817c-4d04-a9e3-74d78de01cbc', tool_call_id='0zbrbh6rv')]}"
      ]
     },
     "execution_count": 243,
     "metadata": {},
     "output_type": "execute_result"
    }
   ],
   "source": [
    "app2.invoke({\"messages\":[\"What is the weather of Kolkata?\"]})"
   ]
  },
  {
   "cell_type": "code",
   "execution_count": 244,
   "id": "9c35c6b3",
   "metadata": {},
   "outputs": [
    {
     "data": {
      "text/plain": [
       "{'messages': [HumanMessage(content='What is the weather of Delhi?', additional_kwargs={}, response_metadata={}, id='3cba0dce-96df-4c84-8087-e2eb38a92bd1'),\n",
       "  AIMessage(content='', additional_kwargs={'tool_calls': [{'id': 'hdfse7qt6', 'function': {'arguments': '{\"query\":\"Delhi\"}', 'name': 'temp_search'}, 'type': 'function'}]}, response_metadata={'token_usage': {'completion_tokens': 82, 'prompt_tokens': 132, 'total_tokens': 214, 'completion_time': 0.368358712, 'prompt_time': 0.016254741, 'queue_time': 0.05409396899999999, 'total_time': 0.384613453}, 'model_name': 'deepseek-r1-distill-llama-70b', 'system_fingerprint': 'fp_1bbe7845ec', 'finish_reason': 'tool_calls', 'logprobs': None}, id='run--f984cddb-c1c5-4eb7-8dde-775e0dfc0bae-0', tool_calls=[{'name': 'temp_search', 'args': {'query': 'Delhi'}, 'id': 'hdfse7qt6', 'type': 'tool_call'}], usage_metadata={'input_tokens': 132, 'output_tokens': 82, 'total_tokens': 214}),\n",
       "  ToolMessage(content='The Temp is 45 C and sunny.', name='temp_search', id='c00d83d9-a195-4078-912b-6691816f976f', tool_call_id='hdfse7qt6')]}"
      ]
     },
     "execution_count": 244,
     "metadata": {},
     "output_type": "execute_result"
    }
   ],
   "source": [
    "app2.invoke({\"messages\":[\"What is the weather of Delhi?\"]})"
   ]
  },
  {
   "cell_type": "code",
   "execution_count": 245,
   "id": "a47e148e",
   "metadata": {},
   "outputs": [
    {
     "data": {
      "text/plain": [
       "{'messages': [HumanMessage(content='What is the capital of India?', additional_kwargs={}, response_metadata={}, id='582f2189-703b-4cf3-9e97-a857990cd82d'),\n",
       "  AIMessage(content=\"I'm unable to assist with that query as it's outside of my available tools.\", additional_kwargs={}, response_metadata={'token_usage': {'completion_tokens': 180, 'prompt_tokens': 132, 'total_tokens': 312, 'completion_time': 1.077674959, 'prompt_time': 0.049463975, 'queue_time': 0.056742425000000006, 'total_time': 1.127138934}, 'model_name': 'deepseek-r1-distill-llama-70b', 'system_fingerprint': 'fp_1bbe7845ec', 'finish_reason': 'stop', 'logprobs': None}, id='run--84a38124-b09f-45da-99e2-c0724cdbf83f-0', usage_metadata={'input_tokens': 132, 'output_tokens': 180, 'total_tokens': 312})]}"
      ]
     },
     "execution_count": 245,
     "metadata": {},
     "output_type": "execute_result"
    }
   ],
   "source": [
    "app2.invoke({\"messages\":[\"What is the capital of India?\"]})"
   ]
  },
  {
   "cell_type": "code",
   "execution_count": 246,
   "id": "7122b527",
   "metadata": {},
   "outputs": [
    {
     "data": {
      "text/plain": [
       "{'messages': [HumanMessage(content='Hi', additional_kwargs={}, response_metadata={}, id='66c9dd04-e19a-4d57-b180-1a83015f3af1'),\n",
       "  AIMessage(content='', additional_kwargs={'tool_calls': [{'id': 'tp0nkbwjm', 'function': {'arguments': '{\"query\":\"Paris\"}', 'name': 'temp_search'}, 'type': 'function'}]}, response_metadata={'token_usage': {'completion_tokens': 121, 'prompt_tokens': 126, 'total_tokens': 247, 'completion_time': 0.666552539, 'prompt_time': 0.008227714, 'queue_time': 0.055305086, 'total_time': 0.674780253}, 'model_name': 'deepseek-r1-distill-llama-70b', 'system_fingerprint': 'fp_1bbe7845ec', 'finish_reason': 'tool_calls', 'logprobs': None}, id='run--88a91a0e-4427-4bd0-855f-45be07f9157d-0', tool_calls=[{'name': 'temp_search', 'args': {'query': 'Paris'}, 'id': 'tp0nkbwjm', 'type': 'tool_call'}], usage_metadata={'input_tokens': 126, 'output_tokens': 121, 'total_tokens': 247}),\n",
       "  ToolMessage(content='The temp is 25 C and cloudy.', name='temp_search', id='fadda5b8-b2ef-42c7-ad6b-c07e2c8b4d4b', tool_call_id='tp0nkbwjm')]}"
      ]
     },
     "execution_count": 246,
     "metadata": {},
     "output_type": "execute_result"
    }
   ],
   "source": [
    "app2.invoke({\"messages\":[\"Hi\"]})"
   ]
  },
  {
   "cell_type": "code",
   "execution_count": 247,
   "id": "d35f331c",
   "metadata": {},
   "outputs": [
    {
     "name": "stdout",
     "output_type": "stream",
     "text": [
      "The Temp is 45 C and sunny.\n"
     ]
    }
   ],
   "source": [
    "response=app2.invoke({\"messages\":[\"What is the capital of India?\"]})\n",
    "print(response['messages'][-1].content)"
   ]
  },
  {
   "cell_type": "code",
   "execution_count": 248,
   "id": "1c8a7145",
   "metadata": {},
   "outputs": [
    {
     "name": "stderr",
     "output_type": "stream",
     "text": [
      "Adding an edge to a graph that has already been compiled. This will not be reflected in the compiled graph.\n"
     ]
    },
    {
     "data": {
      "text/plain": [
       "<langgraph.graph.state.StateGraph at 0x175ef630510>"
      ]
     },
     "execution_count": 248,
     "metadata": {},
     "output_type": "execute_result"
    }
   ],
   "source": [
    "workflow2.add_edge('tools','llm_with_tool')"
   ]
  },
  {
   "cell_type": "code",
   "execution_count": 249,
   "id": "a24f884f",
   "metadata": {},
   "outputs": [],
   "source": [
    "app3=workflow2.compile()"
   ]
  },
  {
   "cell_type": "code",
   "execution_count": 250,
   "id": "a1655fbc",
   "metadata": {},
   "outputs": [
    {
     "data": {
      "image/png": "[encoded data removed]",
      "text/plain": [
       "<IPython.core.display.Image object>"
      ]
     },
     "metadata": {},
     "output_type": "display_data"
    }
   ],
   "source": [
    "display(Image(app3.get_graph().draw_mermaid_png()))"
   ]
  },
  {
   "cell_type": "code",
   "execution_count": 251,
   "id": "135a9d50",
   "metadata": {},
   "outputs": [
    {
     "name": "stdout",
     "output_type": "stream",
     "text": [
      "This is from node:  llm_with_tool\n",
      "--------\n",
      "{'messages': [AIMessage(content='', additional_kwargs={'tool_calls': [{'id': 'pbc3nqme3', 'function': {'arguments': '{\"query\":\"Delhi\"}', 'name': 'temp_search'}, 'type': 'function'}]}, response_metadata={'token_usage': {'completion_tokens': 112, 'prompt_tokens': 133, 'total_tokens': 245, 'completion_time': 0.433941008, 'prompt_time': 0.00856371, 'queue_time': 0.05568392999999999, 'total_time': 0.442504718}, 'model_name': 'deepseek-r1-distill-llama-70b', 'system_fingerprint': 'fp_1bbe7845ec', 'finish_reason': 'tool_calls', 'logprobs': None}, id='run--d970f807-84b6-4a3a-9cea-65498cd13dd3-0', tool_calls=[{'name': 'temp_search', 'args': {'query': 'Delhi'}, 'id': 'pbc3nqme3', 'type': 'tool_call'}], usage_metadata={'input_tokens': 133, 'output_tokens': 112, 'total_tokens': 245})]}\n",
      "\n",
      "\n",
      "This is from node:  tools\n",
      "--------\n",
      "{'messages': [ToolMessage(content='The Temp is 45 C and sunny.', name='temp_search', id='f15a1897-3861-482f-a1d8-d66f1ddde183', tool_call_id='pbc3nqme3')]}\n",
      "\n",
      "\n",
      "This is from node:  llm_with_tool\n",
      "--------\n",
      "{'messages': [AIMessage(content='', additional_kwargs={'tool_calls': [{'id': '8aw8g3tx0', 'function': {'arguments': '{\"query\":\"Delhi\"}', 'name': 'temp_search'}, 'type': 'function'}]}, response_metadata={'token_usage': {'completion_tokens': 134, 'prompt_tokens': 192, 'total_tokens': 326, 'completion_time': 0.62509412, 'prompt_time': 0.011854033, 'queue_time': 0.055343107, 'total_time': 0.636948153}, 'model_name': 'deepseek-r1-distill-llama-70b', 'system_fingerprint': 'fp_1bbe7845ec', 'finish_reason': 'tool_calls', 'logprobs': None}, id='run--4fe6b471-b212-4cb0-b45b-275e793fc369-0', tool_calls=[{'name': 'temp_search', 'args': {'query': 'Delhi'}, 'id': '8aw8g3tx0', 'type': 'tool_call'}], usage_metadata={'input_tokens': 192, 'output_tokens': 134, 'total_tokens': 326})]}\n",
      "\n",
      "\n",
      "This is from node:  tools\n",
      "--------\n",
      "{'messages': [ToolMessage(content='The Temp is 45 C and sunny.', name='temp_search', id='1d1b819b-5778-437c-89cb-673dfe0b6352', tool_call_id='8aw8g3tx0')]}\n",
      "\n",
      "\n",
      "This is from node:  llm_with_tool\n",
      "--------\n",
      "{'messages': [AIMessage(content='The current temperature in Delhi is **45°C and sunny**.', additional_kwargs={}, response_metadata={'token_usage': {'completion_tokens': 90, 'prompt_tokens': 251, 'total_tokens': 341, 'completion_time': 0.502923689, 'prompt_time': 0.01631919, 'queue_time': 0.05429619000000001, 'total_time': 0.519242879}, 'model_name': 'deepseek-r1-distill-llama-70b', 'system_fingerprint': 'fp_1bbe7845ec', 'finish_reason': 'stop', 'logprobs': None}, id='run--07a8d1a3-c763-4b73-a6d6-582e04769cfd-0', usage_metadata={'input_tokens': 251, 'output_tokens': 90, 'total_tokens': 341})]}\n",
      "\n",
      "\n"
     ]
    }
   ],
   "source": [
    "for output in app3.stream({\"messages\":[\"What is the weather in delhi?\"]}):\n",
    "\n",
    "    for key,value in output.items():\n",
    "        print(\"This is from node: \",key)\n",
    "        print(\"--------\")\n",
    "        print(value)\n",
    "        print(\"\\n\")"
   ]
  },
  {
   "cell_type": "code",
   "execution_count": 252,
   "id": "33139f76",
   "metadata": {},
   "outputs": [],
   "source": [
    "from langgraph.checkpoint.memory import MemorySaver\n",
    "memory=MemorySaver()"
   ]
  },
  {
   "cell_type": "code",
   "execution_count": 257,
   "id": "1e8d6c3d",
   "metadata": {},
   "outputs": [
    {
     "data": {
      "text/plain": [
       "<langgraph.graph.state.StateGraph at 0x175ef4d60d0>"
      ]
     },
     "execution_count": 257,
     "metadata": {},
     "output_type": "execute_result"
    }
   ],
   "source": [
    "workflow3=StateGraph(MessagesState)\n",
    "workflow3.add_node('llm_with_tool',call_model)\n",
    "workflow3.add_node('tools',tool_node)\n",
    "workflow3.add_edge(START,'llm_with_tool')\n",
    "workflow3.add_conditional_edges(\n",
    "    \"llm_with_tool\",router_function,\n",
    "    {\"mytools\":\"tools\",\n",
    "     END:END}\n",
    ")\n",
    "workflow3.add_edge('tools','llm_with_tool')"
   ]
  },
  {
   "cell_type": "code",
   "execution_count": 258,
   "id": "994812cf",
   "metadata": {},
   "outputs": [],
   "source": [
    "app4=workflow3.compile(checkpointer=memory)"
   ]
  },
  {
   "cell_type": "code",
   "execution_count": 259,
   "id": "50b0fd60",
   "metadata": {},
   "outputs": [
    {
     "data": {
      "image/png": "[encoded data removed]",
      "text/plain": [
       "<IPython.core.display.Image object>"
      ]
     },
     "metadata": {},
     "output_type": "display_data"
    }
   ],
   "source": [
    "display(Image(app4.get_graph().draw_mermaid_png()))"
   ]
  },
  {
   "cell_type": "code",
   "execution_count": 260,
   "id": "b2e28837",
   "metadata": {},
   "outputs": [],
   "source": [
    "config={\"configurable\":{\"thread_id\":\"1\"}}"
   ]
  },
  {
   "cell_type": "code",
   "execution_count": 261,
   "id": "fcc200f9",
   "metadata": {},
   "outputs": [],
   "source": [
    "events=app4.stream({\"messages\":[\"What is the weather in new delhi?\"]},config=config,stream_mode='values')"
   ]
  },
  {
   "cell_type": "code",
   "execution_count": 262,
   "id": "2db6795d",
   "metadata": {},
   "outputs": [
    {
     "name": "stdout",
     "output_type": "stream",
     "text": [
      "================================\u001b[1m Human Message \u001b[0m=================================\n",
      "\n",
      "What is the weather in new delhi?\n",
      "==================================\u001b[1m Ai Message \u001b[0m==================================\n",
      "Tool Calls:\n",
      "  temp_search (vj0wtxgv7)\n",
      " Call ID: vj0wtxgv7\n",
      "  Args:\n",
      "    query: New Delhi\n",
      "=================================\u001b[1m Tool Message \u001b[0m=================================\n",
      "Name: temp_search\n",
      "\n",
      "The Temp is 45 C and sunny.\n",
      "==================================\u001b[1m Ai Message \u001b[0m==================================\n",
      "Tool Calls:\n",
      "  temp_search (1bdtnmy0a)\n",
      " Call ID: 1bdtnmy0a\n",
      "  Args:\n",
      "    query: New Delhi\n",
      "=================================\u001b[1m Tool Message \u001b[0m=================================\n",
      "Name: temp_search\n",
      "\n",
      "The Temp is 45 C and sunny.\n",
      "==================================\u001b[1m Ai Message \u001b[0m==================================\n",
      "\n",
      "The temperature in New Delhi is 45°C and sunny.\n"
     ]
    }
   ],
   "source": [
    "for event in events:\n",
    "    event[\"messages\"][-1].pretty_print()"
   ]
  },
  {
   "cell_type": "code",
   "execution_count": 263,
   "id": "af35bb0d",
   "metadata": {},
   "outputs": [],
   "source": [
    "events=app4.stream({\"messages\":[\"What is the weather in kolkata?\"]},config=config,stream_mode='values')"
   ]
  },
  {
   "cell_type": "code",
   "execution_count": 264,
   "id": "777cf025",
   "metadata": {},
   "outputs": [
    {
     "name": "stdout",
     "output_type": "stream",
     "text": [
      "================================\u001b[1m Human Message \u001b[0m=================================\n",
      "\n",
      "What is the weather in kolkata?\n",
      "==================================\u001b[1m Ai Message \u001b[0m==================================\n",
      "Tool Calls:\n",
      "  temp_search (4nxwm5800)\n",
      " Call ID: 4nxwm5800\n",
      "  Args:\n",
      "    query: Kolkata\n",
      "=================================\u001b[1m Tool Message \u001b[0m=================================\n",
      "Name: temp_search\n",
      "\n",
      "The temp is 25 C and cloudy.\n",
      "==================================\u001b[1m Ai Message \u001b[0m==================================\n",
      "\n",
      "The weather in Kolkata is 25°C and cloudy.\n"
     ]
    }
   ],
   "source": [
    "for event in events:\n",
    "    event[\"messages\"][-1].pretty_print()"
   ]
  },
  {
   "cell_type": "code",
   "execution_count": 265,
   "id": "7fcba2ca",
   "metadata": {},
   "outputs": [],
   "source": [
    "events=app4.stream({\"messages\":[\"What is the capital of India?\"]},config=config,stream_mode='values')"
   ]
  },
  {
   "cell_type": "code",
   "execution_count": 266,
   "id": "4752b4c9",
   "metadata": {},
   "outputs": [
    {
     "name": "stdout",
     "output_type": "stream",
     "text": [
      "================================\u001b[1m Human Message \u001b[0m=================================\n",
      "\n",
      "What is the capital of India?\n",
      "==================================\u001b[1m Ai Message \u001b[0m==================================\n",
      "\n",
      "The capital of India is New Delhi.\n"
     ]
    }
   ],
   "source": [
    "for event in events:\n",
    "    event[\"messages\"][-1].pretty_print()"
   ]
  },
  {
   "cell_type": "code",
   "execution_count": 267,
   "id": "5f9b4cfe",
   "metadata": {},
   "outputs": [
    {
     "data": {
      "text/plain": [
       "{'v': 3,\n",
       " 'ts': '2025-06-25T03:56:18.207370+00:00',\n",
       " 'id': '1f051785-9260-616a-800d-fb5bbe3b9a38',\n",
       " 'channel_versions': {'__start__': '00000000000000000000000000000014.0.5637555941791194',\n",
       "  'messages': '00000000000000000000000000000015.0.8105873318776151',\n",
       "  'branch:to:llm_with_tool': '00000000000000000000000000000015.0.30861765895460613',\n",
       "  'branch:to:tools': '00000000000000000000000000000011.0.21638303998599473'},\n",
       " 'versions_seen': {'__input__': {},\n",
       "  '__start__': {'__start__': '00000000000000000000000000000013.0.9916365064089692'},\n",
       "  'llm_with_tool': {'branch:to:llm_with_tool': '00000000000000000000000000000014.0.2628413535001659'},\n",
       "  'tools': {'branch:to:tools': '00000000000000000000000000000010.0.03465891137817245'}},\n",
       " 'channel_values': {'messages': [HumanMessage(content='What is the weather in new delhi?', additional_kwargs={}, response_metadata={}, id='f070b649-3383-42a6-9266-a1f26be13d60'),\n",
       "   AIMessage(content='', additional_kwargs={'tool_calls': [{'id': 'vj0wtxgv7', 'function': {'arguments': '{\"query\":\"New Delhi\"}', 'name': 'temp_search'}, 'type': 'function'}]}, response_metadata={'token_usage': {'completion_tokens': 92, 'prompt_tokens': 134, 'total_tokens': 226, 'completion_time': 0.40044887, 'prompt_time': 0.008577235, 'queue_time': 0.052755912999999995, 'total_time': 0.409026105}, 'model_name': 'deepseek-r1-distill-llama-70b', 'system_fingerprint': 'fp_1bbe7845ec', 'finish_reason': 'tool_calls', 'logprobs': None}, id='run--bebe0a7f-9d02-4bdf-9de2-224c7a41bbc3-0', tool_calls=[{'name': 'temp_search', 'args': {'query': 'New Delhi'}, 'id': 'vj0wtxgv7', 'type': 'tool_call'}], usage_metadata={'input_tokens': 134, 'output_tokens': 92, 'total_tokens': 226}),\n",
       "   ToolMessage(content='The Temp is 45 C and sunny.', name='temp_search', id='786b558d-ea75-4f11-9c54-435dc504075c', tool_call_id='vj0wtxgv7'),\n",
       "   AIMessage(content='', additional_kwargs={'tool_calls': [{'id': '1bdtnmy0a', 'function': {'arguments': '{\"query\":\"New Delhi\"}', 'name': 'temp_search'}, 'type': 'function'}]}, response_metadata={'token_usage': {'completion_tokens': 155, 'prompt_tokens': 192, 'total_tokens': 347, 'completion_time': 0.677629793, 'prompt_time': 0.018280882, 'queue_time': 0.05315998200000001, 'total_time': 0.695910675}, 'model_name': 'deepseek-r1-distill-llama-70b', 'system_fingerprint': 'fp_1bbe7845ec', 'finish_reason': 'tool_calls', 'logprobs': None}, id='run--405d86a6-cf57-495c-bdec-d890120745d9-0', tool_calls=[{'name': 'temp_search', 'args': {'query': 'New Delhi'}, 'id': '1bdtnmy0a', 'type': 'tool_call'}], usage_metadata={'input_tokens': 192, 'output_tokens': 155, 'total_tokens': 347}),\n",
       "   ToolMessage(content='The Temp is 45 C and sunny.', name='temp_search', id='af212f44-8648-49be-974e-875701acd2a1', tool_call_id='1bdtnmy0a'),\n",
       "   AIMessage(content='The temperature in New Delhi is 45°C and sunny.', additional_kwargs={}, response_metadata={'token_usage': {'completion_tokens': 149, 'prompt_tokens': 250, 'total_tokens': 399, 'completion_time': 0.696448488, 'prompt_time': 0.016204095, 'queue_time': 0.05511342599999999, 'total_time': 0.712652583}, 'model_name': 'deepseek-r1-distill-llama-70b', 'system_fingerprint': 'fp_1bbe7845ec', 'finish_reason': 'stop', 'logprobs': None}, id='run--dd1f546c-e4ec-4696-9982-0f41689e2477-0', usage_metadata={'input_tokens': 250, 'output_tokens': 149, 'total_tokens': 399}),\n",
       "   HumanMessage(content='What is the weather in kolkata?', additional_kwargs={}, response_metadata={}, id='7b3e9223-2af7-47ac-a1fb-5f750b9e4597'),\n",
       "   AIMessage(content='', additional_kwargs={'tool_calls': [{'id': '4nxwm5800', 'function': {'arguments': '{\"query\":\"Kolkata\"}', 'name': 'temp_search'}, 'type': 'function'}]}, response_metadata={'token_usage': {'completion_tokens': 113, 'prompt_tokens': 273, 'total_tokens': 386, 'completion_time': 0.528229687, 'prompt_time': 0.025049431, 'queue_time': 0.05579630000000001, 'total_time': 0.553279118}, 'model_name': 'deepseek-r1-distill-llama-70b', 'system_fingerprint': 'fp_1bbe7845ec', 'finish_reason': 'tool_calls', 'logprobs': None}, id='run--3bba14a5-3a0c-40dd-b963-da3e712de3dd-0', tool_calls=[{'name': 'temp_search', 'args': {'query': 'Kolkata'}, 'id': '4nxwm5800', 'type': 'tool_call'}], usage_metadata={'input_tokens': 273, 'output_tokens': 113, 'total_tokens': 386}),\n",
       "   ToolMessage(content='The temp is 25 C and cloudy.', name='temp_search', id='ad4ed400-079e-4a02-8745-e033f5b76cd5', tool_call_id='4nxwm5800'),\n",
       "   AIMessage(content='The weather in Kolkata is 25°C and cloudy.', additional_kwargs={}, response_metadata={'token_usage': {'completion_tokens': 111, 'prompt_tokens': 330, 'total_tokens': 441, 'completion_time': 0.537166209, 'prompt_time': 0.020747968, 'queue_time': 0.055994312, 'total_time': 0.557914177}, 'model_name': 'deepseek-r1-distill-llama-70b', 'system_fingerprint': 'fp_1bbe7845ec', 'finish_reason': 'stop', 'logprobs': None}, id='run--41b3654d-9be4-45db-92b4-4ecb2c7f8550-0', usage_metadata={'input_tokens': 330, 'output_tokens': 111, 'total_tokens': 441}),\n",
       "   HumanMessage(content='What is the capital of India?', additional_kwargs={}, response_metadata={}, id='14716aa6-fb13-45ec-9d58-035b82c8d84e'),\n",
       "   AIMessage(content='The capital of India is New Delhi.', additional_kwargs={}, response_metadata={'token_usage': {'completion_tokens': 162, 'prompt_tokens': 351, 'total_tokens': 513, 'completion_time': 0.849019239, 'prompt_time': 0.029576993, 'queue_time': 0.052378987, 'total_time': 0.878596232}, 'model_name': 'deepseek-r1-distill-llama-70b', 'system_fingerprint': 'fp_1bbe7845ec', 'finish_reason': 'stop', 'logprobs': None}, id='run--c304f2ed-5a5a-4583-ab47-e71e167a1f80-0', usage_metadata={'input_tokens': 351, 'output_tokens': 162, 'total_tokens': 513})]},\n",
       " 'pending_sends': []}"
      ]
     },
     "execution_count": 267,
     "metadata": {},
     "output_type": "execute_result"
    }
   ],
   "source": [
    "memory.get(config=config)"
   ]
  },
  {
   "cell_type": "code",
   "execution_count": 268,
   "id": "2419a0a2",
   "metadata": {},
   "outputs": [],
   "source": [
    "events=app4.stream({\"messages\":[\"In which city the temp is 45 degree?\"]},config=config,stream_mode='values')"
   ]
  },
  {
   "cell_type": "code",
   "execution_count": 269,
   "id": "45b74b13",
   "metadata": {},
   "outputs": [
    {
     "name": "stdout",
     "output_type": "stream",
     "text": [
      "================================\u001b[1m Human Message \u001b[0m=================================\n",
      "\n",
      "In which city the temp is 45 degree?\n",
      "==================================\u001b[1m Ai Message \u001b[0m==================================\n",
      "\n",
      "The temperature in New Delhi is 45 degrees.\n"
     ]
    }
   ],
   "source": [
    "for event in events:\n",
    "    event[\"messages\"][-1].pretty_print()"
   ]
  },
  {
   "cell_type": "code",
   "execution_count": 270,
   "id": "81534690",
   "metadata": {},
   "outputs": [
    {
     "data": {
      "text/plain": [
       "{'v': 3,\n",
       " 'ts': '2025-06-25T04:01:13.648329+00:00',\n",
       " 'id': '1f051790-93eb-67dc-8010-42e5a7c6c1ca',\n",
       " 'channel_versions': {'__start__': '00000000000000000000000000000017.0.5276229719847891',\n",
       "  'messages': '00000000000000000000000000000018.0.6754163629953427',\n",
       "  'branch:to:llm_with_tool': '00000000000000000000000000000018.0.8884870544873068',\n",
       "  'branch:to:tools': '00000000000000000000000000000011.0.21638303998599473'},\n",
       " 'versions_seen': {'__input__': {},\n",
       "  '__start__': {'__start__': '00000000000000000000000000000016.0.12046425109405945'},\n",
       "  'llm_with_tool': {'branch:to:llm_with_tool': '00000000000000000000000000000017.0.6360524313945811'},\n",
       "  'tools': {'branch:to:tools': '00000000000000000000000000000010.0.03465891137817245'}},\n",
       " 'channel_values': {'messages': [HumanMessage(content='What is the weather in new delhi?', additional_kwargs={}, response_metadata={}, id='f070b649-3383-42a6-9266-a1f26be13d60'),\n",
       "   AIMessage(content='', additional_kwargs={'tool_calls': [{'id': 'vj0wtxgv7', 'function': {'arguments': '{\"query\":\"New Delhi\"}', 'name': 'temp_search'}, 'type': 'function'}]}, response_metadata={'token_usage': {'completion_tokens': 92, 'prompt_tokens': 134, 'total_tokens': 226, 'completion_time': 0.40044887, 'prompt_time': 0.008577235, 'queue_time': 0.052755912999999995, 'total_time': 0.409026105}, 'model_name': 'deepseek-r1-distill-llama-70b', 'system_fingerprint': 'fp_1bbe7845ec', 'finish_reason': 'tool_calls', 'logprobs': None}, id='run--bebe0a7f-9d02-4bdf-9de2-224c7a41bbc3-0', tool_calls=[{'name': 'temp_search', 'args': {'query': 'New Delhi'}, 'id': 'vj0wtxgv7', 'type': 'tool_call'}], usage_metadata={'input_tokens': 134, 'output_tokens': 92, 'total_tokens': 226}),\n",
       "   ToolMessage(content='The Temp is 45 C and sunny.', name='temp_search', id='786b558d-ea75-4f11-9c54-435dc504075c', tool_call_id='vj0wtxgv7'),\n",
       "   AIMessage(content='', additional_kwargs={'tool_calls': [{'id': '1bdtnmy0a', 'function': {'arguments': '{\"query\":\"New Delhi\"}', 'name': 'temp_search'}, 'type': 'function'}]}, response_metadata={'token_usage': {'completion_tokens': 155, 'prompt_tokens': 192, 'total_tokens': 347, 'completion_time': 0.677629793, 'prompt_time': 0.018280882, 'queue_time': 0.05315998200000001, 'total_time': 0.695910675}, 'model_name': 'deepseek-r1-distill-llama-70b', 'system_fingerprint': 'fp_1bbe7845ec', 'finish_reason': 'tool_calls', 'logprobs': None}, id='run--405d86a6-cf57-495c-bdec-d890120745d9-0', tool_calls=[{'name': 'temp_search', 'args': {'query': 'New Delhi'}, 'id': '1bdtnmy0a', 'type': 'tool_call'}], usage_metadata={'input_tokens': 192, 'output_tokens': 155, 'total_tokens': 347}),\n",
       "   ToolMessage(content='The Temp is 45 C and sunny.', name='temp_search', id='af212f44-8648-49be-974e-875701acd2a1', tool_call_id='1bdtnmy0a'),\n",
       "   AIMessage(content='The temperature in New Delhi is 45°C and sunny.', additional_kwargs={}, response_metadata={'token_usage': {'completion_tokens': 149, 'prompt_tokens': 250, 'total_tokens': 399, 'completion_time': 0.696448488, 'prompt_time': 0.016204095, 'queue_time': 0.05511342599999999, 'total_time': 0.712652583}, 'model_name': 'deepseek-r1-distill-llama-70b', 'system_fingerprint': 'fp_1bbe7845ec', 'finish_reason': 'stop', 'logprobs': None}, id='run--dd1f546c-e4ec-4696-9982-0f41689e2477-0', usage_metadata={'input_tokens': 250, 'output_tokens': 149, 'total_tokens': 399}),\n",
       "   HumanMessage(content='What is the weather in kolkata?', additional_kwargs={}, response_metadata={}, id='7b3e9223-2af7-47ac-a1fb-5f750b9e4597'),\n",
       "   AIMessage(content='', additional_kwargs={'tool_calls': [{'id': '4nxwm5800', 'function': {'arguments': '{\"query\":\"Kolkata\"}', 'name': 'temp_search'}, 'type': 'function'}]}, response_metadata={'token_usage': {'completion_tokens': 113, 'prompt_tokens': 273, 'total_tokens': 386, 'completion_time': 0.528229687, 'prompt_time': 0.025049431, 'queue_time': 0.05579630000000001, 'total_time': 0.553279118}, 'model_name': 'deepseek-r1-distill-llama-70b', 'system_fingerprint': 'fp_1bbe7845ec', 'finish_reason': 'tool_calls', 'logprobs': None}, id='run--3bba14a5-3a0c-40dd-b963-da3e712de3dd-0', tool_calls=[{'name': 'temp_search', 'args': {'query': 'Kolkata'}, 'id': '4nxwm5800', 'type': 'tool_call'}], usage_metadata={'input_tokens': 273, 'output_tokens': 113, 'total_tokens': 386}),\n",
       "   ToolMessage(content='The temp is 25 C and cloudy.', name='temp_search', id='ad4ed400-079e-4a02-8745-e033f5b76cd5', tool_call_id='4nxwm5800'),\n",
       "   AIMessage(content='The weather in Kolkata is 25°C and cloudy.', additional_kwargs={}, response_metadata={'token_usage': {'completion_tokens': 111, 'prompt_tokens': 330, 'total_tokens': 441, 'completion_time': 0.537166209, 'prompt_time': 0.020747968, 'queue_time': 0.055994312, 'total_time': 0.557914177}, 'model_name': 'deepseek-r1-distill-llama-70b', 'system_fingerprint': 'fp_1bbe7845ec', 'finish_reason': 'stop', 'logprobs': None}, id='run--41b3654d-9be4-45db-92b4-4ecb2c7f8550-0', usage_metadata={'input_tokens': 330, 'output_tokens': 111, 'total_tokens': 441}),\n",
       "   HumanMessage(content='What is the capital of India?', additional_kwargs={}, response_metadata={}, id='14716aa6-fb13-45ec-9d58-035b82c8d84e'),\n",
       "   AIMessage(content='The capital of India is New Delhi.', additional_kwargs={}, response_metadata={'token_usage': {'completion_tokens': 162, 'prompt_tokens': 351, 'total_tokens': 513, 'completion_time': 0.849019239, 'prompt_time': 0.029576993, 'queue_time': 0.052378987, 'total_time': 0.878596232}, 'model_name': 'deepseek-r1-distill-llama-70b', 'system_fingerprint': 'fp_1bbe7845ec', 'finish_reason': 'stop', 'logprobs': None}, id='run--c304f2ed-5a5a-4583-ab47-e71e167a1f80-0', usage_metadata={'input_tokens': 351, 'output_tokens': 162, 'total_tokens': 513}),\n",
       "   HumanMessage(content='In which city the temp is 45 degree?', additional_kwargs={}, response_metadata={}, id='27c84020-6423-4076-bc14-5a7d74187668'),\n",
       "   AIMessage(content='The temperature in New Delhi is 45 degrees.', additional_kwargs={}, response_metadata={'token_usage': {'completion_tokens': 11, 'prompt_tokens': 372, 'total_tokens': 383, 'completion_time': 0.04, 'prompt_time': 0.030910222, 'queue_time': 0.058786588, 'total_time': 0.070910222}, 'model_name': 'deepseek-r1-distill-llama-70b', 'system_fingerprint': 'fp_1bbe7845ec', 'finish_reason': 'stop', 'logprobs': None}, id='run--1c57aea4-72f7-4fec-8760-3b214ad11213-0', usage_metadata={'input_tokens': 372, 'output_tokens': 11, 'total_tokens': 383})]},\n",
       " 'pending_sends': []}"
      ]
     },
     "execution_count": 270,
     "metadata": {},
     "output_type": "execute_result"
    }
   ],
   "source": [
    "memory.get(config=config)"
   ]
  },
  {
   "cell_type": "code",
   "execution_count": null,
   "id": "5ba6b5f1",
   "metadata": {},
   "outputs": [],
   "source": []
  }
 ],
 "metadata": {
  "kernelspec": {
   "display_name": "agentic_venv",
   "language": "python",
   "name": "python3"
  },
  "language_info": {
   "codemirror_mode": {
    "name": "ipython",
    "version": 3
   },
   "file_extension": ".py",
   "mimetype": "text/x-python",
   "name": "python",
   "nbconvert_exporter": "python",
   "pygments_lexer": "ipython3",
   "version": "3.11.13"
  }
 },
 "nbformat": 4,
 "nbformat_minor": 5
}
