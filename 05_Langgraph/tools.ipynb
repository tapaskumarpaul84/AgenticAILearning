{
 "cells": [
  {
   "cell_type": "code",
   "execution_count": 1,
   "id": "0bb0a072",
   "metadata": {},
   "outputs": [],
   "source": [
    "from langchain_community.tools import WikipediaQueryRun\n",
    "from langchain_community.utilities import WikipediaAPIWrapper"
   ]
  },
  {
   "cell_type": "code",
   "execution_count": 2,
   "id": "f45eb4e1",
   "metadata": {},
   "outputs": [],
   "source": [
    "api_wrapper=WikipediaAPIWrapper(top_k_results=5,doc_content_chars_max=500)"
   ]
  },
  {
   "cell_type": "code",
   "execution_count": 3,
   "id": "25221db7",
   "metadata": {},
   "outputs": [],
   "source": [
    "wiki_tool=WikipediaQueryRun(api_wrapper=api_wrapper)"
   ]
  },
  {
   "cell_type": "code",
   "execution_count": 4,
   "id": "a17ae4a5",
   "metadata": {},
   "outputs": [
    {
     "data": {
      "text/plain": [
       "'wikipedia'"
      ]
     },
     "execution_count": 4,
     "metadata": {},
     "output_type": "execute_result"
    }
   ],
   "source": [
    "wiki_tool.name"
   ]
  },
  {
   "cell_type": "code",
   "execution_count": 5,
   "id": "3e52d489",
   "metadata": {},
   "outputs": [
    {
     "data": {
      "text/plain": [
       "'A wrapper around Wikipedia. Useful for when you need to answer general questions about people, places, companies, facts, historical events, or other subjects. Input should be a search query.'"
      ]
     },
     "execution_count": 5,
     "metadata": {},
     "output_type": "execute_result"
    }
   ],
   "source": [
    "wiki_tool.description"
   ]
  },
  {
   "cell_type": "code",
   "execution_count": 6,
   "id": "67c1bd63",
   "metadata": {},
   "outputs": [
    {
     "data": {
      "text/plain": [
       "{'query': {'description': 'query to look up on wikipedia',\n",
       "  'title': 'Query',\n",
       "  'type': 'string'}}"
      ]
     },
     "execution_count": 6,
     "metadata": {},
     "output_type": "execute_result"
    }
   ],
   "source": [
    "wiki_tool.args"
   ]
  },
  {
   "cell_type": "code",
   "execution_count": 7,
   "id": "e6a69773",
   "metadata": {},
   "outputs": [
    {
     "data": {
      "text/plain": [
       "\"Page: Donald Trump\\nSummary: Donald John Trump (born June 14, 1946) is an American politician, media personality, and businessman who is the 47th president of the United States. A member of the Republican Party, he served as the 45th president from 2017 to 2021.\\nBorn into a wealthy family in the New York City borough of Queens, Trump graduated from the University of Pennsylvania in 1968 with a bachelor's degree in economics. He became the president of his family's real estate business in 1971, re\""
      ]
     },
     "execution_count": 7,
     "metadata": {},
     "output_type": "execute_result"
    }
   ],
   "source": [
    "wiki_tool.run({\"query\":\"donald trump\"})"
   ]
  },
  {
   "cell_type": "code",
   "execution_count": 8,
   "id": "1bc9ad3c",
   "metadata": {},
   "outputs": [
    {
     "data": {
      "text/plain": [
       "'Page: South Africa national cricket team\\nSummary: The South Africa men\\'s national cricket team, also known as the Proteas, represents South Africa in men\\'s international cricket and is administered by Cricket South Africa. South Africa is a full member of the International Cricket Council. The team\\'s nickname derives from South Africa\\'s national flower, Protea cynaroides, commonly known as the \"King Protea\". South Africa are the current World Test Champions.\\nSouth Africa entered first-class and '"
      ]
     },
     "execution_count": 8,
     "metadata": {},
     "output_type": "execute_result"
    }
   ],
   "source": [
    "wiki_tool.run(\"South Africa cricket\")"
   ]
  },
  {
   "cell_type": "code",
   "execution_count": 9,
   "id": "460cac60",
   "metadata": {},
   "outputs": [],
   "source": [
    "from langchain_community.tools import YouTubeSearchTool"
   ]
  },
  {
   "cell_type": "code",
   "execution_count": 10,
   "id": "d941d8f4",
   "metadata": {},
   "outputs": [],
   "source": [
    "tools=YouTubeSearchTool()"
   ]
  },
  {
   "cell_type": "code",
   "execution_count": 11,
   "id": "e4ae1ae0",
   "metadata": {},
   "outputs": [
    {
     "data": {
      "text/plain": [
       "'youtube_search'"
      ]
     },
     "execution_count": 11,
     "metadata": {},
     "output_type": "execute_result"
    }
   ],
   "source": [
    "tools.name"
   ]
  },
  {
   "cell_type": "code",
   "execution_count": 12,
   "id": "dc34dfc5",
   "metadata": {},
   "outputs": [
    {
     "data": {
      "text/plain": [
       "'search for youtube videos associated with a person. the input to this tool should be a comma separated list, the first part contains a person name and the second a number that is the maximum number of video results to return aka num_results. the second part is optional'"
      ]
     },
     "execution_count": 12,
     "metadata": {},
     "output_type": "execute_result"
    }
   ],
   "source": [
    "tools.description"
   ]
  },
  {
   "cell_type": "code",
   "execution_count": 14,
   "id": "a17ee3d6",
   "metadata": {},
   "outputs": [
    {
     "data": {
      "text/plain": [
       "\"['https://www.youtube.com/watch?v=JxgmHe2NyeY&pp=ygUKS3Jpc2ggTmFpaw%3D%3D', 'https://www.youtube.com/watch?v=TYEqenKrbaM&pp=ygUKS3Jpc2ggTmFpaw%3D%3D']\""
      ]
     },
     "execution_count": 14,
     "metadata": {},
     "output_type": "execute_result"
    }
   ],
   "source": [
    "tools.run(\"Krish Naik\")"
   ]
  },
  {
   "cell_type": "code",
   "execution_count": 17,
   "id": "e3a1be0b",
   "metadata": {},
   "outputs": [],
   "source": [
    "from dotenv import load_dotenv\n",
    "import os\n",
    "load_dotenv()\n",
    "\n",
    "os.environ[\"TAVILY_API_KEY\"]=os.getenv(\"TAVILY_API_KEY\")"
   ]
  },
  {
   "cell_type": "code",
   "execution_count": 15,
   "id": "37ea26dd",
   "metadata": {},
   "outputs": [],
   "source": [
    "from langchain_community.tools.tavily_search import TavilySearchResults"
   ]
  },
  {
   "cell_type": "code",
   "execution_count": 18,
   "id": "add16bf6",
   "metadata": {},
   "outputs": [],
   "source": [
    "tool=TavilySearchResults()"
   ]
  },
  {
   "cell_type": "code",
   "execution_count": 19,
   "id": "b7645e6e",
   "metadata": {},
   "outputs": [
    {
     "data": {
      "text/plain": [
       "[{'title': '2025 ICC World Test Championship final - Wikipedia',\n",
       "  'url': 'https://en.wikipedia.org/wiki/2025_ICC_World_Test_Championship_final',\n",
       "  'content': '| | [Australia](/wiki/Australia_national_cricket_team \"Australia national cricket team\") | [South Africa](/wiki/South_Africa_national_cricket_team \"South Africa national cricket team\") | | --- | --- | | [Australia](/wiki/Australia \"Australia\") | [South Africa](/wiki/South_Africa \"South Africa\") | | 212 | 138 | |  |  | | & | & | | 207 | 282/5 | |  |  | | |\\n| **South Africa won by 5 wickets** | |\\n| Date | 11–14 June 2025 | [...] The **2025 ICC World Test Championship final** was a [Test cricket](/wiki/Test_cricket \"Test cricket\") match played at [Lord\\'s](/wiki/Lord%27s \"Lord\\'s\"), London from 11 to 14 June to determine the winner of the [2023–2025 ICC World Test Championship](/wiki/2023%E2%80%932025_ICC_World_Test_Championship \"2023–2025 ICC World Test Championship\"). It was played between [Australia](/wiki/Australia_national_cricket_team \"Australia national cricket team\") and [South [...] ![](//upload.wikimedia.org/wikipedia/en/thumb/7/70/2025_World_Test_Championship_Final.png/250px-2025_World_Test_Championship_Final.png)\\n\\n| [Australia](/wiki/Australia_national_cricket_team \"Australia national cricket team\") | [South Africa](/wiki/South_Africa_national_cricket_team \"South Africa national cricket team\") |\\n| --- | --- |\\n| [Australia](/wiki/Australia \"Australia\") | [South Africa](/wiki/South_Africa \"South Africa\") |\\n| 212 | 138 |\\n|  |  |\\n| & | & |\\n| 207 | 282/5 |\\n|  |  |',\n",
       "  'score': 0.5530473},\n",
       " {'title': '2023–2025 ICC World Test Championship - Wikipedia',\n",
       "  'url': 'https://en.wikipedia.org/wiki/2023%E2%80%932025_ICC_World_Test_Championship',\n",
       "  'content': '| [Australia](https://en.wikipedia.org/wiki/Australia_national_cricket_team \"Australia national cricket team\")\\xa0![Image 13](https://upload.wikimedia.org/wikipedia/commons/thumb/8/88/Flag_of_Australia_%28converted%29.svg/40px-Flag_of_Australia_%28converted%29.svg.png) | — | — | — | [3–1](https://en.wikipedia.org/wiki/2023%E2%80%932025_ICC_World_Test_Championship#Border%E2%80%93Gavaskar_Trophy_(Australia_v_India)) \\\\[5\\\\] | — | [...] [England](https://en.wikipedia.org/wiki/England_cricket_team \"England cricket team\") and [Australia](https://en.wikipedia.org/wiki/Australia_national_cricket_team \"Australia national cricket team\"),[\\\\[1\\\\]](https://en.wikipedia.org/wiki/2023%E2%80%932025_ICC_World_Test_Championship#cite_note-1) and is scheduled to finish in June 2025 with the [final](https://en.wikipedia.org/wiki/2025_ICC_World_Test_Championship_final \"2025 ICC World Test Championship final\") match to be played between [South [...] Updated to match(es) played on 9 February 2025. Source: ICC Men\\'s FTP[\\\\[7\\\\]](https://en.wikipedia.org/wiki/2023%E2%80%932025_ICC_World_Test_Championship#cite_note-FTP-7)  \\nLegend: Blue = home team win; Yellow = draw; Red = away team win.',\n",
       "  'score': 0.34052956}]"
      ]
     },
     "execution_count": 19,
     "metadata": {},
     "output_type": "execute_result"
    }
   ],
   "source": [
    "tool.invoke({\"query\":\"Who won the WTC cup 2025?\"})"
   ]
  },
  {
   "cell_type": "code",
   "execution_count": 20,
   "id": "59f3fefb",
   "metadata": {},
   "outputs": [
    {
     "data": {
      "text/plain": [
       "[{'title': 'Weather for Kolkata, West Bengal, India - Time and Date',\n",
       "  'url': 'https://www.timeanddate.com/weather/india/kolkata',\n",
       "  'content': '|  |  |\\n| --- | --- |\\n| Location: | Calcutta / Dum Dum |\\n| Current Time: | Jun 22, 2025 at 11:48:28 am |\\n| Latest Report: | Jun 22, 2025 at 11:30 am |\\n| Visibility: | 2\\xa0mi |\\n| Pressure: | 29.56 \"Hg |\\n| Humidity: | 94% |\\n| Dew Point: | 79\\xa0°F |\\n\\n![Location of Kolkata](//c.tadst.com/gfx/citymap/in-10.png?9 \"Map showing the location of Kolkata. Click map to see the location on our worldwide Time Zone Map.\")\\n![Location](//c.tadst.com/gfx/n/icon/icon-map-pin.png \"Location of Kolkata\") [...] | Amount of Rain | 0.04\" | 0.07\" | 0.03\" | 0.19\" | 0.07\" | 0.04\" | 0.09\" |\\n| Amount of Snow | 0.00\" | 0.00\" | 0.00\" | 0.00\" | 0.00\" | 0.00\" | 0.00\" |\\n|  |  |  |  |  |  |  |  |\\n| --- | --- | --- | --- | --- | --- | --- | --- |\\n| \\\\* Updated Sunday, June 22, 2025 6:32:29 am Kolkata time - Weather by CustomWeather, © 2025 | | | | | | | |',\n",
       "  'score': 0.95696133},\n",
       " {'title': 'Hourly forecast for Kolkata, West Bengal, India - Time and Date',\n",
       "  'url': 'https://www.timeanddate.com/weather/india/kolkata/hourly',\n",
       "  'content': '| 10:00 am |  | 90\\xa0°F | Isolated tstorms. Overcast. | 109\\xa0°F | 7 mph | ↑ | 75% | 43% | 0.00\" (snow) 0.01\" (rain) |\\n| 11:00 am |  | 91\\xa0°F | Isolated tstorms. Overcast. | 111\\xa0°F | 8 mph | ↑ | 73% | 46% | 0.00\" (snow) 0.01\" (rain) |\\n|  |  |  |  |  |  |  |  |  |  |\\n| --- | --- | --- | --- | --- | --- | --- | --- | --- | --- |\\n| \\\\* Updated Sunday, June 22, 2025 6:32:28 am Kolkata time - Weather by CustomWeather, © 2025 | | | | | | | | | | [...] |  | Conditions | | | Comfort | | | | Precipitation | |\\n| --- | --- | --- | --- | --- | --- | --- | --- | --- | --- |\\n| Time |  | Temp | Weather | Feels Like | Wind |  | Humidity | Chance | Amount |\\n| 12:00 pm Sun, Jun 22 |  | 91\\xa0°F | Passing showers. Overcast. | 109\\xa0°F | 7 mph | ↑ | 71% | 45% | 0.00\" (snow) 0.00\" (rain) |\\n| 1:00 pm |  | 91\\xa0°F | Passing showers. Overcast. | 110\\xa0°F | 8 mph | ↑ | 71% | 51% | 0.00\" (snow) 0.01\" (rain) | [...] | 10:00 pm |  | 85\\xa0°F | Passing showers. Overcast. | 98\\xa0°F | 9 mph | ↑ | 85% | 35% | 0.00\" (snow) 0.00\" (rain) |\\n| 11:00 pm |  | 84\\xa0°F | Passing showers. Overcast. | 97\\xa0°F | 9 mph | ↑ | 86% | 39% | 0.00\" (snow) 0.00\" (rain) |\\n| 12:00 am Mon, Jun 23 |  | 84\\xa0°F | Passing showers. Overcast. | 96\\xa0°F | 8 mph | ↑ | 87% | 35% | 0.00\" (snow) 0.00\" (rain) |\\n| 1:00 am |  | 83\\xa0°F | Passing showers. Overcast. | 95\\xa0°F | 7 mph | ↑ | 87% | 30% | 0.00\" (snow) 0.00\" (rain) |',\n",
       "  'score': 0.9132521},\n",
       " {'title': 'Kolkata weather in June 2025 - Weather25.com',\n",
       "  'url': 'https://www.weather25.com/asia/india/west-bengal/kolkata?page=month&month=June',\n",
       "  'content': '| [22 Light rain shower 35° /29°](https://www.weather25.com/asia/india/west-bengal/kolkata?page=today \"Weather in 22 june 2025\") | [23 Light rain shower 35° /29°](https://www.weather25.com/asia/india/west-bengal/kolkata?page=tomorrow \"Weather in 23 june 2025\") | [24 Light rain shower 35° /28°](https://www.weather25.com/asia/india/west-bengal/kolkata?page=day#date=2025-06-24 \"Weather in 24 june 2025\") | [25 Light rain shower 33° [...] ![Light rain shower]( \"Light rain shower\")\\n![Patchy light rain with thunder]( \"Patchy light rain with thunder\")\\n![Patchy light rain with thunder]( \"Patchy light rain with thunder\")\\n![Thundery outbreaks possible]( \"Thundery outbreaks possible\")\\n![Partly cloudy]( \"Partly cloudy\")\\n![Sunny]( \"Sunny\")\\n![Patchy rain possible]( \"Patchy rain possible\")\\n![Light rain shower]( \"Light rain shower\")\\n![Torrential rain shower]( \"Torrential rain shower\")\\n![Light rain shower]( \"Light rain shower\") [...] ![Thundery outbreaks possible]( \"Thundery outbreaks possible\")\\n![Thundery outbreaks possible]( \"Thundery outbreaks possible\")\\n![Sunny]( \"Sunny\")\\n![Thundery outbreaks possible]( \"Thundery outbreaks possible\")\\n![Thundery outbreaks possible]( \"Thundery outbreaks possible\")\\n![Thundery outbreaks possible]( \"Thundery outbreaks possible\")\\n![Patchy rain possible]( \"Patchy rain possible\")\\n![Sunny]( \"Sunny\")\\n![Patchy rain possible]( \"Patchy rain possible\")\\n![Partly cloudy]( \"Partly cloudy\")',\n",
       "  'score': 0.8995547},\n",
       " {'title': 'Kolkata weather: Warm, humid day with high chance of rain expected',\n",
       "  'url': 'https://timesofindia.indiatimes.com/city/kolkata/kolkata-weather-forecast-rainy-and-humid-day-ahead-with-a-cooling-trend/articleshow/122000549.cms',\n",
       "  'content': '![Numerology Predictions Today, June 22, 2025: Read your personalized forecast for numbers 1 to 9](https://static.toiimg.com/photo/83033472.cms)\\n![5 style lessons to take from Meghan Markle](https://static.toiimg.com/photo/83033472.cms)\\n![US-based celebrity health expert suggests natural alternatives to common medications](https://static.toiimg.com/photo/83033472.cms)\\n![5 simple steps to instantly quiet an overthinking mind](https://static.toiimg.com/photo/83033472.cms)',\n",
       "  'score': 0.8588255},\n",
       " {'title': 'Weather in Kolkata in June 2025 - Detailed Forecast',\n",
       "  'url': 'https://www.easeweather.com/asia/india/west-bengal/kolkata/june',\n",
       "  'content': '| [23 Patchy rain possible 35°](https://www.easeweather.com/asia/india/west-bengal/kolkata/tomorrow \"Weather for June 23 2025\") | [24 Moderate rain 35°](https://www.easeweather.com/asia/india/west-bengal/kolkata/day#date=2025-06-24 \"Weather for June 24 2025\") | [25 Moderate rain 32°](https://www.easeweather.com/asia/india/west-bengal/kolkata/day#date=2025-06-25 \"Weather for June 25 2025\") | [26 Moderate rain 32°](https://www.easeweather.com/asia/india/west-bengal/kolkata/day#date=2025-06-26 [...] | [23 Jun.](https://www.easeweather.com/asia/india/west-bengal/kolkata/tomorrow \"The weather in Kolkata on the 23rd of June\") | Patchy rain possible Patchy rain possible | 35° /28° | 4.3\\xa0mm | 1.8 |  |\\n| [24 Jun.](https://www.easeweather.com/asia/india/west-bengal/kolkata/day#date=2025-06-24 \"The weather in Kolkata on the 24th of June\") | Moderate rain Moderate rain | 35° /28° | 8.8\\xa0mm | 2.4 |  | [...] | [21 Jun.](https://www.easeweather.com/asia/india/west-bengal/kolkata/past#day=21&month=6 \"The weather in Kolkata on the 21st of June\") | Cloudy Cloudy | 37° /28° | 13.2\\xa0mm | 8 |  |\\n| [22 Jun.](https://www.easeweather.com/asia/india/west-bengal/kolkata/today \"The weather in Kolkata on the 22nd of June\") | Patchy rain possible Patchy rain possible | 36° /28° | 4.2\\xa0mm | 2 |  |',\n",
       "  'score': 0.8512743}]"
      ]
     },
     "execution_count": 20,
     "metadata": {},
     "output_type": "execute_result"
    }
   ],
   "source": [
    "tool.run(\"Current weather in Kolkata\")"
   ]
  },
  {
   "cell_type": "code",
   "execution_count": null,
   "id": "9c7a9c0f",
   "metadata": {},
   "outputs": [],
   "source": []
  },
  {
   "cell_type": "markdown",
   "id": "63e84b4e",
   "metadata": {},
   "source": [
    "Custom tool"
   ]
  },
  {
   "cell_type": "code",
   "execution_count": 21,
   "id": "c730c42a",
   "metadata": {},
   "outputs": [],
   "source": [
    "##simple function\n",
    "\n",
    "def multiply(a:int,b:int)->int:\n",
    "    return a*b"
   ]
  },
  {
   "cell_type": "code",
   "execution_count": 22,
   "id": "73f6d1f0",
   "metadata": {},
   "outputs": [
    {
     "data": {
      "text/plain": [
       "50"
      ]
     },
     "execution_count": 22,
     "metadata": {},
     "output_type": "execute_result"
    }
   ],
   "source": [
    "multiply(5,10)"
   ]
  },
  {
   "cell_type": "code",
   "execution_count": 23,
   "id": "dcbceac3",
   "metadata": {},
   "outputs": [],
   "source": [
    "### funtions as decorator and custom langchain tool\n",
    "\n",
    "from langchain.tools import tool"
   ]
  },
  {
   "cell_type": "code",
   "execution_count": 25,
   "id": "d56e3c04",
   "metadata": {},
   "outputs": [],
   "source": [
    "@tool\n",
    "def multiply(a:int,b:int)->int:\n",
    "    '''This is for multiply two integers'''\n",
    "    return a*b"
   ]
  },
  {
   "cell_type": "code",
   "execution_count": 27,
   "id": "4ced115e",
   "metadata": {},
   "outputs": [
    {
     "data": {
      "text/plain": [
       "50"
      ]
     },
     "execution_count": 27,
     "metadata": {},
     "output_type": "execute_result"
    }
   ],
   "source": [
    "multiply.invoke({\"a\":10,\"b\":5})"
   ]
  },
  {
   "cell_type": "code",
   "execution_count": 28,
   "id": "d23b33ea",
   "metadata": {},
   "outputs": [
    {
     "data": {
      "text/plain": [
       "'This is for multiply two integers'"
      ]
     },
     "execution_count": 28,
     "metadata": {},
     "output_type": "execute_result"
    }
   ],
   "source": [
    "multiply.description"
   ]
  },
  {
   "cell_type": "code",
   "execution_count": 29,
   "id": "c669aeba",
   "metadata": {},
   "outputs": [
    {
     "data": {
      "text/plain": [
       "{'a': {'title': 'A', 'type': 'integer'},\n",
       " 'b': {'title': 'B', 'type': 'integer'}}"
      ]
     },
     "execution_count": 29,
     "metadata": {},
     "output_type": "execute_result"
    }
   ],
   "source": [
    "multiply.args"
   ]
  },
  {
   "cell_type": "code",
   "execution_count": 31,
   "id": "33b46c0f",
   "metadata": {},
   "outputs": [],
   "source": [
    "@tool\n",
    "def calculate_word_length(word:str)-> int:\n",
    "    '''This is used to calculate the length of the word'''\n",
    "    return len(word)"
   ]
  },
  {
   "cell_type": "code",
   "execution_count": 32,
   "id": "e9bfe5f5",
   "metadata": {},
   "outputs": [
    {
     "data": {
      "text/plain": [
       "5"
      ]
     },
     "execution_count": 32,
     "metadata": {},
     "output_type": "execute_result"
    }
   ],
   "source": [
    "calculate_word_length.invoke('tapas')"
   ]
  },
  {
   "cell_type": "code",
   "execution_count": 33,
   "id": "c3e61b63",
   "metadata": {},
   "outputs": [
    {
     "data": {
      "text/plain": [
       "'This is used to calculate the length of the word'"
      ]
     },
     "execution_count": 33,
     "metadata": {},
     "output_type": "execute_result"
    }
   ],
   "source": [
    "calculate_word_length.description"
   ]
  },
  {
   "cell_type": "code",
   "execution_count": 34,
   "id": "5558bc8f",
   "metadata": {},
   "outputs": [
    {
     "name": "stderr",
     "output_type": "stream",
     "text": [
      "C:\\Users\\Hp\\AppData\\Local\\Temp\\ipykernel_6584\\1935013382.py:1: LangChainDeprecationWarning: The method `BaseTool.__call__` was deprecated in langchain-core 0.1.47 and will be removed in 1.0. Use :meth:`~invoke` instead.\n",
      "  calculate_word_length(\"This is rainy season\")\n"
     ]
    },
    {
     "data": {
      "text/plain": [
       "20"
      ]
     },
     "execution_count": 34,
     "metadata": {},
     "output_type": "execute_result"
    }
   ],
   "source": [
    "calculate_word_length(\"This is rainy season\")"
   ]
  },
  {
   "cell_type": "code",
   "execution_count": 36,
   "id": "e237a4c9",
   "metadata": {},
   "outputs": [],
   "source": [
    "@tool\n",
    "def call_gmail_api(args):\n",
    "    \"\"\"This function is for calling the gmail api for automating mail communication.\"\"\"\n",
    "    pass"
   ]
  },
  {
   "cell_type": "code",
   "execution_count": null,
   "id": "695a1d01",
   "metadata": {},
   "outputs": [],
   "source": []
  },
  {
   "cell_type": "code",
   "execution_count": null,
   "id": "71a8251f",
   "metadata": {},
   "outputs": [],
   "source": []
  }
 ],
 "metadata": {
  "kernelspec": {
   "display_name": "agentic_venv",
   "language": "python",
   "name": "python3"
  },
  "language_info": {
   "codemirror_mode": {
    "name": "ipython",
    "version": 3
   },
   "file_extension": ".py",
   "mimetype": "text/x-python",
   "name": "python",
   "nbconvert_exporter": "python",
   "pygments_lexer": "ipython3",
   "version": "3.11.13"
  }
 },
 "nbformat": 4,
 "nbformat_minor": 5
}
