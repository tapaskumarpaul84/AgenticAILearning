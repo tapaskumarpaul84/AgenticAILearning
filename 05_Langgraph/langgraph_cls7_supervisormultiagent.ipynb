{
 "cells": [
  {
   "cell_type": "code",
   "execution_count": 2,
   "id": "0789292f",
   "metadata": {},
   "outputs": [
    {
     "data": {
      "text/plain": [
       "True"
      ]
     },
     "execution_count": 2,
     "metadata": {},
     "output_type": "execute_result"
    }
   ],
   "source": [
    "from dotenv import load_dotenv\n",
    "load_dotenv()"
   ]
  },
  {
   "cell_type": "code",
   "execution_count": 3,
   "id": "effdae46",
   "metadata": {},
   "outputs": [],
   "source": [
    "from langchain_groq import ChatGroq"
   ]
  },
  {
   "cell_type": "code",
   "execution_count": 4,
   "id": "9f153117",
   "metadata": {},
   "outputs": [],
   "source": [
    "llm=ChatGroq(model=\"deepseek-r1-distill-llama-70b\")"
   ]
  },
  {
   "cell_type": "code",
   "execution_count": 5,
   "id": "87fa4c81",
   "metadata": {},
   "outputs": [
    {
     "name": "stdout",
     "output_type": "stream",
     "text": [
      "<think>\n",
      "Okay, so I need to figure out the capital of France. Hmm, I'm not entirely sure, but I think it's a city that starts with a 'P'. Let me see... Paris maybe? I've heard of Paris before, it's a famous city with things like the Eiffel Tower and the Louvre Museum. But wait, is that the capital? I'm a bit confused because sometimes cities can be well-known but not necessarily the capital. For example, New York is a big city in the US, but the capital is Washington D.C. So, does France have a similar setup?\n",
      "\n",
      "I remember learning that some countries have their capital in a city that's not the largest or most famous. But I think in France's case, Paris is both the largest city and the capital. I've also heard of other cities in France like Lyon, Marseille, and Nice, but I don't think any of those are the capital. \n",
      "\n",
      "Wait, maybe I should think about government. Where is the French government located? I believe the President of France resides in Paris, so that would make sense as the capital. Also, I think the Elysée Palace is where the President works, and that's in Paris. So that must be it. \n",
      "\n",
      "I'm trying to recall any other information. I know that France is divided into regions, and Paris is part of the Île-de-France region. Capitals are usually the seats of government, so having the central government in Paris makes it the capital. Plus, when I think of embassies and international relations, countries have their embassies in the capital, and I'm pretty sure the embassy of France in other countries is in their respective capitals, so it makes sense that Paris is France's capital.\n",
      "\n",
      "Wait, is there any chance it's another city? Maybe I'm mixing it up with another country. Let me think about other European capitals. London is the capital of the UK, Berlin for Germany, Madrid for Spain, Rome for Italy, Amsterdam for the Netherlands... No, I don't think I'm confusing it with another country. Paris seems to fit.\n",
      "\n",
      "Also, when I think of major events, like the signing of treaties or historical events, many took place in Paris, which suggests it's the political center. So, putting it all together, I'm pretty confident that Paris is the capital of France. I don't see any other city in France that's more prominent in terms of government and international recognition.\n",
      "</think>\n",
      "\n",
      "The capital of France is Paris. This conclusion is drawn from recognizing Paris as the seat of the French government, the location of significant landmarks like the Eiffel Tower and the Louvre, and the presence of governmental institutions such as the Élysée Palace. Additionally, Paris is the most prominent city in France and serves as the center for international relations and events, solidifying its status as the capital.\n"
     ]
    }
   ],
   "source": [
    "print(llm.invoke(\"What is the capital of France?\").content)"
   ]
  },
  {
   "cell_type": "code",
   "execution_count": 6,
   "id": "8d6943d4",
   "metadata": {},
   "outputs": [],
   "source": [
    "import os\n",
    "from langchain_community.tools.tavily_search import TavilySearchResults\n",
    "TAVILY_API_KEY=os.getenv(\"TAVILY_API_KEY\")\n",
    "search_tool=TavilySearchResults(tavily_api_key=TAVILY_API_KEY)"
   ]
  },
  {
   "cell_type": "code",
   "execution_count": 7,
   "id": "6875a903",
   "metadata": {},
   "outputs": [
    {
     "data": {
      "text/plain": [
       "[{'title': 'Paris facts: the capital of France in history',\n",
       "  'url': 'https://home.adelphi.edu/~ca19535/page%204.html',\n",
       "  'content': 'page 4\\n\\n===============\\n\\nHomeSpainSydneySan FranciscoParisLas VegasMaui\\n\\n Paris, France\\n\\nImage 1\\n\\nParis facts: Paris, the capital of France\\n---------------------------------------------\\n\\nParis is the capital of France, the largest country of Europe with 550 000 km2 (65 millions inhabitants).\\n\\nParis has 2.234 million inhabitants end 2011. She is the core of Ile de France region (12 million people). [...] Before Paris, the capital of France was Lyon (under the Romans). Paris first became the capital of France in 508 under King Clovis. After centuries with no unique capital of France, Paris retrieved its status of capital of France under King Philippe Auguste, who reigned between 1180 and 1223. You can see remains of the Philippe August Paris walls in the passageway between the Louvre parking and Louvre Museum [...] Paris remained the capital of France until today, with one four year interruption. During German occupation (WW2 , 1940-1944), the capital of France was Vichy.\\n\\ngo to top\\n\\nReference:',\n",
       "  'score': 0.89166987},\n",
       " {'title': 'Paris - Simple English Wikipedia, the free encyclopedia',\n",
       "  'url': 'https://simple.wikipedia.org/wiki/Paris',\n",
       "  'content': 'Wikipedia\\n\\n# Paris\\n\\nParis (nicknamed the \"City of light\") is the capital city \"Capital (city)\") of France, and the largest city in France. The area is 105 square kilometres (41 square miles), and around 2.15 million people live there. If suburbs are counted, the population of the Paris area rises to 10.7 million people. It is the most densely populated city in the European Union, with 20.653 people per square kilometer.',\n",
       "  'score': 0.88372874},\n",
       " {'title': 'Paris - Wikipedia',\n",
       "  'url': 'https://en.wikipedia.org/wiki/Paris',\n",
       "  'content': 'As the capital of France, Paris is the seat of France\\'s national government. For the executive, the two chief officers each have their own official residences, which also serve as their offices. The President of the French Republic resides at the Élysée Palace.( The Prime Minister\\'s seat is at the Hôtel Matignon.( Government ministries are located in various parts of the city, many near the Hôtel Matignon.( [...] Appearance\\n\\nmove to sidebar hide\\n\\nCoordinates: 48°51′24″N 2°21′8″E / 48.85667°N 2.35222°E / 48.85667; 2.35222_region:FR-75C)\\n\\nImage 4: This is a good article. Click here for more information.\\n\\nImage 5: Page semi-protected\\n\\nFrom Wikipedia, the free encyclopedia\\n\\nCapital and largest city of France\\n\\nThis article is about the capital city of France. For other uses, see Paris (disambiguation) \"Paris (disambiguation)\"). [...] Paris (French pronunciation:( \"Help:IPA/French\")ⓘ) is the capital and largest city of France. With an estimated population of 2,048,472 residents in January 2025( in an area of more than 105 km 2 (41 sq mi),( Paris is the fourth-most populous city in the European Union and the 30th most densely populated city in the world in 2022.( Since the 17th century, Paris has been one of the world\\'s major centres of finance, diplomacy, commerce, culture, fashion, and gastronomy. Because of its leading',\n",
       "  'score': 0.8815438},\n",
       " {'title': 'What is the Capital of France? - WorldAtlas',\n",
       "  'url': 'https://www.worldatlas.com/articles/what-is-the-capital-of-france.html',\n",
       "  'content': 'Paris is the capital city of France. The city has an approximate area of 41 square miles with a population of 2,206,488 people as of 2018. Contrary to popular belief, the name of the city did not come from the Paris in Greek myths. Instead, the name Paris is derived from the city’s initial inhabitants who were part of the Celtic Parisii tribe. Sometimes, the city is called the City of Light for two reasons; it was among the first cities to adopt gas for lighting the streets and its role during [...] Published Time: 2018-06-29T15:23:00-04:00\\n\\nWhat is the Capital of France? - WorldAtlas\\n\\n===============\\n\\nWhat is the Capital of France?\\n==============================\\n\\nImage 1: Tourism has always been a major source of income for Paris. \\n\\nTourism has always been a major source of income for Paris. [...] As the capital city of France, the city plays host to the national government of France. Even the official residence of the president is in the city at the Élysée Palace while the Prime Minister is housed at the Hôtel Matignon. The Senate or the upper house meets at the Palais du Luxembourg while the Palais Bourbon is the meeting point for the Assemblée Nationale. The second highest public official after the President of France, the President of the Senate, stays at the Petit Luxembourg.',\n",
       "  'score': 0.87807417},\n",
       " {'title': 'Paris - Wikiwand',\n",
       "  'url': 'https://www.wikiwand.com/en/articles/Paris',\n",
       "  'content': 'As the capital of France, Paris is the seat of France\\'s national government. For the executive, the two chief officers each have their own official residences, which also serve as their offices. The President of the French Republic resides at the Élysée Palace.(./Paris#cite_note-121) The Prime Minister\\'s seat is at the Hôtel Matignon.(./Paris#cite_note-122)(./Paris#cite_note-FOOTNOTEKnappWright200693–94-123) Government ministries are located in various parts of the city, many near the Hôtel [...] Paris (French pronunciation: ( \"Help:IPA/French\") ⓘ) is the capital and largest city of France. With an estimated population of 2,048,472 residents in January 2025(./Paris#cite_note-pop2025-3) in an area of more than 105 km2 (41 sq mi),(./Paris#cite_note-pop2019-4) Paris is the fourth-most populous city in the European Union and the 30th most densely populated city in the world in 2022.(./Paris#cite_note-5) Since the 17th century, Paris has been one of the world\\'s major centres of finance, [...] With 200,000 inhabitants in 1328, Paris, then already the capital of France, was the most populous city of Europe. By comparison, London in 1300 had 80,000 inhabitants.(./Paris#cite_note-ParisDigest-39) By the early fourteenth century, so much filth had collected inside urban Europe that French and Italian cities were naming streets after human waste. In medieval Paris, several street names were inspired by merde, the French word for \"shit\".(./Paris#cite_note-40)\\n\\nThumb',\n",
       "  'score': 0.875031}]"
      ]
     },
     "execution_count": 7,
     "metadata": {},
     "output_type": "execute_result"
    }
   ],
   "source": [
    "search_tool.invoke(\"What is the capital of France?\")"
   ]
  },
  {
   "cell_type": "code",
   "execution_count": 8,
   "id": "3183c708",
   "metadata": {},
   "outputs": [],
   "source": [
    "my_code = \"\"\"\n",
    "x=10\n",
    "y=x+10\n",
    "print(y)\n",
    "\"\"\""
   ]
  },
  {
   "cell_type": "code",
   "execution_count": 9,
   "id": "171d65b3",
   "metadata": {},
   "outputs": [],
   "source": [
    "from langchain_experimental.utilities import PythonREPL"
   ]
  },
  {
   "cell_type": "code",
   "execution_count": 10,
   "id": "3267f842",
   "metadata": {},
   "outputs": [],
   "source": [
    "repl=PythonREPL()"
   ]
  },
  {
   "cell_type": "code",
   "execution_count": 11,
   "id": "9309ab31",
   "metadata": {},
   "outputs": [
    {
     "name": "stderr",
     "output_type": "stream",
     "text": [
      "Python REPL can execute arbitrary code. Use with caution.\n"
     ]
    },
    {
     "data": {
      "text/plain": [
       "'20\\n'"
      ]
     },
     "execution_count": 11,
     "metadata": {},
     "output_type": "execute_result"
    }
   ],
   "source": [
    "repl.run(my_code)"
   ]
  },
  {
   "cell_type": "code",
   "execution_count": 13,
   "id": "fc9175da",
   "metadata": {},
   "outputs": [],
   "source": [
    "from typing import Annotated"
   ]
  },
  {
   "cell_type": "code",
   "execution_count": 14,
   "id": "5feb7c99",
   "metadata": {},
   "outputs": [],
   "source": [
    "from langchain_core.tools import tool"
   ]
  },
  {
   "cell_type": "code",
   "execution_count": 15,
   "id": "8eb964e5",
   "metadata": {},
   "outputs": [],
   "source": [
    "@tool\n",
    "def python_repl_tool(code: Annotated[str, \"The python code to execute to generate your chart.\"]):\n",
    "    \"\"\"Use this to execute python code and do math. If you want to see the output of a value,\n",
    "    you should print it out with `print(...)`. This is visible to the user.\"\"\"\n",
    "    \n",
    "    try:\n",
    "        result = repl.run(code)\n",
    "    except BaseException as e:\n",
    "        return f\"Failed to execute. Error: {repr(e)}\"\n",
    "    \n",
    "    result_str = f\"Successfully executed:\\n\\`\\`\\`python\\n{code}\\n\\`\\`\\`\\nStdout: {result}\"\n",
    "    return result_str"
   ]
  },
  {
   "cell_type": "code",
   "execution_count": 16,
   "id": "75c393e3",
   "metadata": {},
   "outputs": [
    {
     "data": {
      "text/plain": [
       "'Successfully executed:\\n\\\\`\\\\`\\\\`python\\nx=10\\ny=x+10\\nprint(y)\\n\\\\`\\\\`\\\\`\\nStdout: 20\\n'"
      ]
     },
     "execution_count": 16,
     "metadata": {},
     "output_type": "execute_result"
    }
   ],
   "source": [
    "python_repl_tool.invoke(\"x=10\\ny=x+10\\nprint(y)\")"
   ]
  },
  {
   "cell_type": "code",
   "execution_count": 17,
   "id": "6dd48dfc",
   "metadata": {},
   "outputs": [
    {
     "data": {
      "text/plain": [
       "'Successfully executed:\\n\\\\`\\\\`\\\\`python\\n\\nx=10\\ny=x+10\\nprint(y)\\n\\n\\\\`\\\\`\\\\`\\nStdout: 20\\n'"
      ]
     },
     "execution_count": 17,
     "metadata": {},
     "output_type": "execute_result"
    }
   ],
   "source": [
    "python_repl_tool.invoke(my_code)"
   ]
  },
  {
   "cell_type": "code",
   "execution_count": 18,
   "id": "f098a528",
   "metadata": {},
   "outputs": [],
   "source": [
    "members=[\"researcher\",\"coder\"]"
   ]
  },
  {
   "cell_type": "code",
   "execution_count": 19,
   "id": "37c464bf",
   "metadata": {},
   "outputs": [
    {
     "data": {
      "text/plain": [
       "['researcher', 'coder']"
      ]
     },
     "execution_count": 19,
     "metadata": {},
     "output_type": "execute_result"
    }
   ],
   "source": [
    "members"
   ]
  },
  {
   "cell_type": "code",
   "execution_count": 20,
   "id": "9bd562ba",
   "metadata": {},
   "outputs": [],
   "source": [
    "options = members+[\"FINISH\"]"
   ]
  },
  {
   "cell_type": "code",
   "execution_count": 21,
   "id": "95877f1c",
   "metadata": {},
   "outputs": [
    {
     "data": {
      "text/plain": [
       "['researcher', 'coder', 'FINISH']"
      ]
     },
     "execution_count": 21,
     "metadata": {},
     "output_type": "execute_result"
    }
   ],
   "source": [
    "options"
   ]
  },
  {
   "cell_type": "code",
   "execution_count": 22,
   "id": "5a200ba2",
   "metadata": {},
   "outputs": [],
   "source": [
    "from typing import Literal"
   ]
  },
  {
   "cell_type": "code",
   "execution_count": 23,
   "id": "11d9ca47",
   "metadata": {},
   "outputs": [],
   "source": [
    "from typing_extensions import TypedDict"
   ]
  },
  {
   "cell_type": "code",
   "execution_count": 24,
   "id": "9704b6ca",
   "metadata": {},
   "outputs": [],
   "source": [
    "class Router(TypedDict):\n",
    "    next: Literal['researcher', 'coder', 'FINISH']"
   ]
  },
  {
   "cell_type": "code",
   "execution_count": 25,
   "id": "a9a10212",
   "metadata": {},
   "outputs": [],
   "source": [
    "from langgraph.graph import MessagesState,StateGraph,START, END"
   ]
  },
  {
   "cell_type": "code",
   "execution_count": 26,
   "id": "c9ca8cd1",
   "metadata": {},
   "outputs": [],
   "source": [
    "class State(MessagesState):\n",
    "    next:str"
   ]
  },
  {
   "cell_type": "code",
   "execution_count": 27,
   "id": "99409b00",
   "metadata": {},
   "outputs": [],
   "source": [
    "system_prompt = f\"\"\"\"\n",
    "You are a supervisor, tasked with managing a conversation between the following workers: {members}. \n",
    "Given the following user request, respond with the worker to act next. \n",
    "Each worker will perform a task and respond with their results and status. \n",
    "When finished, respond with FINISH.\n",
    "\"\"\""
   ]
  },
  {
   "cell_type": "code",
   "execution_count": 28,
   "id": "21550171",
   "metadata": {},
   "outputs": [
    {
     "data": {
      "text/plain": [
       "'\"\\nYou are a supervisor, tasked with managing a conversation between the following workers: [\\'researcher\\', \\'coder\\']. \\nGiven the following user request, respond with the worker to act next. \\nEach worker will perform a task and respond with their results and status. \\nWhen finished, respond with FINISH.\\n'"
      ]
     },
     "execution_count": 28,
     "metadata": {},
     "output_type": "execute_result"
    }
   ],
   "source": [
    "system_prompt"
   ]
  },
  {
   "cell_type": "code",
   "execution_count": 29,
   "id": "10611d06",
   "metadata": {},
   "outputs": [],
   "source": [
    "from langgraph.types import Command"
   ]
  },
  {
   "cell_type": "code",
   "execution_count": 35,
   "id": "42dd6a97",
   "metadata": {},
   "outputs": [],
   "source": [
    "def supervisor_agent(state:State)->Command[Literal['researcher', 'coder', '__end__']]:\n",
    "    \n",
    "    messages = [{\"role\": \"system\", \"content\": system_prompt},] + state[\"messages\"]\n",
    "    \n",
    "    llm_with_structure_output=llm.with_structured_output(Router)\n",
    "    \n",
    "    response=llm_with_structure_output.invoke(messages)\n",
    "    \n",
    "    #this is my next worker agent\n",
    "    goto=response[\"next\"]\n",
    "    \n",
    "    print(\"**********BELOW IS MY GOTO***************\")\n",
    "    \n",
    "    print(goto)\n",
    "    \n",
    "    if goto == \"FINISH\":\n",
    "        goto=END\n",
    "        \n",
    "    return Command(goto=goto, update={\"next\":goto})\n",
    "   "
   ]
  },
  {
   "cell_type": "code",
   "execution_count": 36,
   "id": "9058400e",
   "metadata": {},
   "outputs": [],
   "source": [
    "from langgraph.prebuilt import create_react_agent\n",
    "from langchain_core.messages import AIMessage, HumanMessage"
   ]
  },
  {
   "cell_type": "code",
   "execution_count": 37,
   "id": "6e59af60",
   "metadata": {},
   "outputs": [],
   "source": [
    "def research_agent(state: State) -> Command[Literal[\"supervisor\"]]:\n",
    "    \n",
    "    research_agent = create_react_agent(llm, tools=[search_tool], prompt=\"You are a researcher. DO NOT do any math.\")\n",
    "    \n",
    "    result=research_agent.invoke(state)\n",
    "    \n",
    "    return Command(\n",
    "        update={\n",
    "            \"messages\": [\n",
    "                HumanMessage(content=result[\"messages\"][-1].content, name=\"researcher\")\n",
    "            ]\n",
    "        },\n",
    "        goto=\"supervisor\",\n",
    "    )\n",
    "    "
   ]
  },
  {
   "cell_type": "code",
   "execution_count": 38,
   "id": "a219dfbb",
   "metadata": {},
   "outputs": [],
   "source": [
    "def coder_agent(state:State)->Command[Literal['supervisor']]:\n",
    "    code_agent=create_react_agent(llm,tools=[python_repl_tool], prompt=\"You are a coder. DO NOT do any research.\")\n",
    "    result=code_agent.invoke(state)\n",
    "    \n",
    "    return Command(\n",
    "        update={\n",
    "            \"messages\": [\n",
    "                HumanMessage(content=result[\"messages\"][-1].content, name=\"coder\")\n",
    "            ]\n",
    "        },\n",
    "        goto=\"supervisor\",\n",
    "    )"
   ]
  },
  {
   "cell_type": "code",
   "execution_count": 39,
   "id": "fedc82b8",
   "metadata": {},
   "outputs": [],
   "source": [
    "graph=StateGraph(State)\n",
    "graph.add_node(\"supervisor\", supervisor_agent)\n",
    "graph.add_node(\"researcher\", researcher_agent)\n",
    "graph.add_node(\"coder\", coder_agent)\n",
    "graph.add_edge(START, \"supervisor\")\n",
    "app=graph.compile()"
   ]
  },
  {
   "cell_type": "code",
   "execution_count": 40,
   "id": "e7a0986c",
   "metadata": {},
   "outputs": [],
   "source": [
    "from IPython.display import display,Image"
   ]
  },
  {
   "cell_type": "code",
   "execution_count": 41,
   "id": "6db8cf23",
   "metadata": {},
   "outputs": [
    {
     "data": {
      "image/png": "[encoded data removed]",
      "text/plain": [
       "<IPython.core.display.Image object>"
      ]
     },
     "metadata": {},
     "output_type": "display_data"
    }
   ],
   "source": [
    "display(Image(app.get_graph().draw_mermaid_png()))"
   ]
  },
  {
   "cell_type": "code",
   "execution_count": 42,
   "id": "3ed80b05",
   "metadata": {},
   "outputs": [
    {
     "name": "stdout",
     "output_type": "stream",
     "text": [
      "**********BELOW IS MY GOTO***************\n",
      "coder\n",
      "((), {'supervisor': {'next': 'coder'}})\n",
      "**********BELOW IS MY STATE***************\n",
      "(('coder:52d9c350-4592-a941-e266-dd1113e56e89',), {'agent': {'messages': [AIMessage(content='', additional_kwargs={'tool_calls': [{'id': 'v5kzx3s89', 'function': {'arguments': '{\"code\":\"import math\\\\nsqrt_42 = math.sqrt(42)\\\\nprint(\\\\\"The square root of 42 is\\\\\", sqrt_42)\"}', 'name': 'python_repl_tool'}, 'type': 'function'}]}, response_metadata={'token_usage': {'completion_tokens': 407, 'prompt_tokens': 189, 'total_tokens': 596, 'completion_time': 6.167494265, 'prompt_time': 0.102786263, 'queue_time': 0.9944192219999999, 'total_time': 6.270280528}, 'model_name': 'deepseek-r1-distill-llama-70b', 'system_fingerprint': 'fp_1bbe7845ec', 'finish_reason': 'tool_calls', 'logprobs': None}, id='run--8aeea830-361f-4651-92ef-f4f5e5672910-0', tool_calls=[{'name': 'python_repl_tool', 'args': {'code': 'import math\\nsqrt_42 = math.sqrt(42)\\nprint(\"The square root of 42 is\", sqrt_42)'}, 'id': 'v5kzx3s89', 'type': 'tool_call'}], usage_metadata={'input_tokens': 189, 'output_tokens': 407, 'total_tokens': 596})]}})\n",
      "**********BELOW IS MY STATE***************\n",
      "(('coder:52d9c350-4592-a941-e266-dd1113e56e89',), {'tools': {'messages': [ToolMessage(content='Successfully executed:\\n\\\\`\\\\`\\\\`python\\nimport math\\nsqrt_42 = math.sqrt(42)\\nprint(\"The square root of 42 is\", sqrt_42)\\n\\\\`\\\\`\\\\`\\nStdout: The square root of 42 is 6.48074069840786\\n', name='python_repl_tool', id='650700c1-c45c-41b7-ad67-ab9d5b46d998', tool_call_id='v5kzx3s89')]}})\n",
      "**********BELOW IS MY STATE***************\n",
      "(('coder:52d9c350-4592-a941-e266-dd1113e56e89',), {'agent': {'messages': [AIMessage(content='', additional_kwargs={'tool_calls': [{'id': 'd1t1sgvat', 'function': {'arguments': '{\"code\":\"import math\\\\nsqrt_42 = math.sqrt(42)\\\\nprint(\\\\\"The square root of 42 is\\\\\", sqrt_42)\"}', 'name': 'python_repl_tool'}, 'type': 'function'}]}, response_metadata={'token_usage': {'completion_tokens': 242, 'prompt_tokens': 325, 'total_tokens': 567, 'completion_time': 0.943590152, 'prompt_time': 0.12276692, 'queue_time': 4.903501511, 'total_time': 1.066357072}, 'model_name': 'deepseek-r1-distill-llama-70b', 'system_fingerprint': 'fp_1bbe7845ec', 'finish_reason': 'tool_calls', 'logprobs': None}, id='run--246e6c85-c615-4904-8df2-96328a579eae-0', tool_calls=[{'name': 'python_repl_tool', 'args': {'code': 'import math\\nsqrt_42 = math.sqrt(42)\\nprint(\"The square root of 42 is\", sqrt_42)'}, 'id': 'd1t1sgvat', 'type': 'tool_call'}], usage_metadata={'input_tokens': 325, 'output_tokens': 242, 'total_tokens': 567})]}})\n",
      "**********BELOW IS MY STATE***************\n",
      "(('coder:52d9c350-4592-a941-e266-dd1113e56e89',), {'tools': {'messages': [ToolMessage(content='Successfully executed:\\n\\\\`\\\\`\\\\`python\\nimport math\\nsqrt_42 = math.sqrt(42)\\nprint(\"The square root of 42 is\", sqrt_42)\\n\\\\`\\\\`\\\\`\\nStdout: The square root of 42 is 6.48074069840786\\n', name='python_repl_tool', id='5c19dfc5-1e06-409d-8c88-6b8de84adf1d', tool_call_id='d1t1sgvat')]}})\n",
      "**********BELOW IS MY STATE***************\n",
      "(('coder:52d9c350-4592-a941-e266-dd1113e56e89',), {'agent': {'messages': [AIMessage(content='The square root of 42 is approximately 6.4807.', additional_kwargs={}, response_metadata={'token_usage': {'completion_tokens': 330, 'prompt_tokens': 460, 'total_tokens': 790, 'completion_time': 1.2, 'prompt_time': 0.041145887, 'queue_time': 0.05815802800000001, 'total_time': 1.241145887}, 'model_name': 'deepseek-r1-distill-llama-70b', 'system_fingerprint': 'fp_1bbe7845ec', 'finish_reason': 'stop', 'logprobs': None}, id='run--8eeb5e70-0a96-4bf0-94e7-c3bdd88d9d93-0', usage_metadata={'input_tokens': 460, 'output_tokens': 330, 'total_tokens': 790})]}})\n",
      "**********BELOW IS MY STATE***************\n",
      "((), {'coder': {'messages': [HumanMessage(content='The square root of 42 is approximately 6.4807.', additional_kwargs={}, response_metadata={}, name='coder')]}})\n",
      "**********BELOW IS MY STATE***************\n",
      "**********BELOW IS MY GOTO***************\n",
      "researcher\n",
      "((), {'supervisor': {'next': 'researcher'}})\n",
      "**********BELOW IS MY STATE***************\n",
      "((), {'researcher': None})\n",
      "**********BELOW IS MY STATE***************\n"
     ]
    }
   ],
   "source": [
    "for s in app.stream({\"messages\": [(\"user\", \"What's the square root of 42?\")]}, subgraphs=True):\n",
    "    print(s)\n",
    "    print(\"**********BELOW IS MY STATE***************\")"
   ]
  },
  {
   "cell_type": "code",
   "execution_count": 46,
   "id": "ed39de47",
   "metadata": {},
   "outputs": [
    {
     "name": "stdout",
     "output_type": "stream",
     "text": [
      "**********BELOW IS MY GOTO***************\n",
      "coder\n",
      "((), {'supervisor': {'next': 'coder'}})\n",
      "**********BELOW IS MY STATE***************\n",
      "(('coder:cf0cc0ff-1570-5db5-fec8-44418f743d3b',), {'agent': {'messages': [AIMessage(content='', additional_kwargs={'tool_calls': [{'id': 'gdr0sfc7z', 'function': {'arguments': '{\"code\":\"print(53 * 53)\"}', 'name': 'python_repl_tool'}, 'type': 'function'}]}, response_metadata={'token_usage': {'completion_tokens': 348, 'prompt_tokens': 187, 'total_tokens': 535, 'completion_time': 1.318903615, 'prompt_time': 0.012507675, 'queue_time': 0.05865426500000001, 'total_time': 1.3314112900000001}, 'model_name': 'deepseek-r1-distill-llama-70b', 'system_fingerprint': 'fp_1bbe7845ec', 'finish_reason': 'tool_calls', 'logprobs': None}, id='run--90bc0f5c-2e56-4acb-aac6-0de7102f260d-0', tool_calls=[{'name': 'python_repl_tool', 'args': {'code': 'print(53 * 53)'}, 'id': 'gdr0sfc7z', 'type': 'tool_call'}], usage_metadata={'input_tokens': 187, 'output_tokens': 348, 'total_tokens': 535})]}})\n",
      "**********BELOW IS MY STATE***************\n",
      "(('coder:cf0cc0ff-1570-5db5-fec8-44418f743d3b',), {'tools': {'messages': [ToolMessage(content='Successfully executed:\\n\\\\`\\\\`\\\\`python\\nprint(53 * 53)\\n\\\\`\\\\`\\\\`\\nStdout: 2809\\n', name='python_repl_tool', id='408233d3-97a7-4dd0-9c85-e50de1a68b58', tool_call_id='gdr0sfc7z')]}})\n",
      "**********BELOW IS MY STATE***************\n",
      "(('coder:cf0cc0ff-1570-5db5-fec8-44418f743d3b',), {'agent': {'messages': [AIMessage(content='The square of 53 is calculated as follows:\\n\\n53 multiplied by 53 equals 2809.\\n\\n**Answer:** 2809', additional_kwargs={}, response_metadata={'token_usage': {'completion_tokens': 135, 'prompt_tokens': 272, 'total_tokens': 407, 'completion_time': 0.557763817, 'prompt_time': 0.017941029, 'queue_time': 0.052865836, 'total_time': 0.575704846}, 'model_name': 'deepseek-r1-distill-llama-70b', 'system_fingerprint': 'fp_1bbe7845ec', 'finish_reason': 'stop', 'logprobs': None}, id='run--ef5d74c5-9986-4fd3-85c7-9d1e566fdf3f-0', usage_metadata={'input_tokens': 272, 'output_tokens': 135, 'total_tokens': 407})]}})\n",
      "**********BELOW IS MY STATE***************\n",
      "((), {'coder': {'messages': [HumanMessage(content='The square of 53 is calculated as follows:\\n\\n53 multiplied by 53 equals 2809.\\n\\n**Answer:** 2809', additional_kwargs={}, response_metadata={}, name='coder')]}})\n",
      "**********BELOW IS MY STATE***************\n",
      "**********BELOW IS MY GOTO***************\n",
      "researcher\n",
      "((), {'supervisor': {'next': 'researcher'}})\n",
      "**********BELOW IS MY STATE***************\n",
      "((), {'researcher': None})\n",
      "**********BELOW IS MY STATE***************\n"
     ]
    }
   ],
   "source": [
    "for s in app.stream({\"messages\": [(\"user\", \"what is square of 53?\")]}, subgraphs=True):\n",
    "    print(s)\n",
    "    print(\"**********BELOW IS MY STATE***************\")"
   ]
  },
  {
   "cell_type": "code",
   "execution_count": 47,
   "id": "4448a92a",
   "metadata": {},
   "outputs": [
    {
     "name": "stdout",
     "output_type": "stream",
     "text": [
      "**********BELOW IS MY GOTO***************\n",
      "coder\n",
      "**********BELOW IS MY GOTO***************\n",
      "coder\n",
      "**********BELOW IS MY GOTO***************\n",
      "researcher\n"
     ]
    },
    {
     "data": {
      "text/plain": [
       "((),\n",
       " {'messages': [HumanMessage(content='Please provide me an effitient python code for prime number?', additional_kwargs={}, response_metadata={}, id='e424e83e-0f16-44a2-9ee1-6fc853d48470'),\n",
       "   HumanMessage(content=\"Here's an efficient Python function to check for prime numbers using the 6k ± 1 optimization:\\n\\n```python\\ndef is_prime(n):\\n    if n <= 1:\\n        return False\\n    if n <= 3:\\n        return True\\n    if n % 2 == 0 or n % 3 == 0:\\n        return False\\n    i = 5\\n    w = 2\\n    while i * i <= n:\\n        if n % i == 0:\\n            return False\\n        i += w\\n        w = 6 - w\\n    return True\\n\\n# Example usage\\nprint(is_prime(101))  # Should return True\\n```\\n\\nThis function efficiently checks for primality by:\\n1. Handling small numbers directly\\n2. Eliminating even numbers and multiples of 3 early\\n3. Checking divisibility using the 6k ± 1 optimization\\n4. Only checking up to the square root of n\", additional_kwargs={}, response_metadata={}, name='coder', id='ea7d6770-cf83-4d22-a4d0-9ae28121f954'),\n",
       "   HumanMessage(content=\"Here's an efficient Python function to check if a number is prime, utilizing the 6k ± 1 optimization:\\n\\n```python\\ndef is_prime(n):\\n    if n <= 1:\\n        return False\\n    if n <= 3:\\n        return True\\n    if n % 2 == 0 or n % 3 == 0:\\n        return False\\n    i = 5\\n    w = 2\\n    while i * i <= n:\\n        if n % i == 0:\\n            return False\\n        i += w\\n        w = 6 - w\\n    return True\\n\\n# Example usage\\nprint(is_prime(101))  # Should return True\\n```\\n\\n**Explanation:**\\n\\n1. **Handle Small Numbers and Even Multiples:**\\n   - Numbers less than or equal to 1 are not prime.\\n   - Numbers 2 and 3 are prime.\\n   - Even numbers and multiples of 3 (other than 2 and 3) are not prime.\\n\\n2. **6k ± 1 Optimization:**\\n   - Start checking from 5.\\n   - Use a variable `w` to alternate between adding 2 and 4, effectively checking numbers of the form 6k ± 1.\\n\\n3. **Check Up to Square Root:**\\n   - Only check divisors up to the square root of `n` for efficiency.\\n   - If no divisors are found, the number is prime.\\n\\nThis method efficiently reduces the number of checks required, making it suitable for larger numbers.\", additional_kwargs={}, response_metadata={}, name='coder', id='a3beecce-95bc-4245-85bb-57b8f434f759')],\n",
       "  'next': 'researcher'})"
      ]
     },
     "execution_count": 47,
     "metadata": {},
     "output_type": "execute_result"
    }
   ],
   "source": [
    "app.invoke({\"messages\": [(\"user\", \"Please provide me an effitient python code for prime number?\")]}, subgraphs=True)"
   ]
  },
  {
   "cell_type": "code",
   "execution_count": null,
   "id": "d892ada3",
   "metadata": {},
   "outputs": [],
   "source": []
  }
 ],
 "metadata": {
  "kernelspec": {
   "display_name": "agentic_venv",
   "language": "python",
   "name": "python3"
  },
  "language_info": {
   "codemirror_mode": {
    "name": "ipython",
    "version": 3
   },
   "file_extension": ".py",
   "mimetype": "text/x-python",
   "name": "python",
   "nbconvert_exporter": "python",
   "pygments_lexer": "ipython3",
   "version": "3.11.13"
  }
 },
 "nbformat": 4,
 "nbformat_minor": 5
}
