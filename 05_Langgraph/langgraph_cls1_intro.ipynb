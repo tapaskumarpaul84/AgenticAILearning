{
 "cells": [
  {
   "cell_type": "code",
   "execution_count": 3,
   "id": "92d86455",
   "metadata": {},
   "outputs": [],
   "source": [
    "from langchain_community.tools import WikipediaQueryRun"
   ]
  },
  {
   "cell_type": "code",
   "execution_count": 1,
   "id": "1289442d",
   "metadata": {},
   "outputs": [],
   "source": [
    "def function1(input1):\n",
    "    return input1 + \"from first function\""
   ]
  },
  {
   "cell_type": "code",
   "execution_count": null,
   "id": "91bff52e",
   "metadata": {},
   "outputs": [],
   "source": [
    "def function2(input2):\n",
    "    return input2 + \" paul from second function\""
   ]
  },
  {
   "cell_type": "code",
   "execution_count": 3,
   "id": "d7b83c22",
   "metadata": {},
   "outputs": [],
   "source": [
    "def function3(input3):\n",
    "    return input3 + \"from third function\""
   ]
  },
  {
   "cell_type": "code",
   "execution_count": 4,
   "id": "faf08ed3",
   "metadata": {},
   "outputs": [],
   "source": [
    "from langgraph.graph import Graph"
   ]
  },
  {
   "cell_type": "code",
   "execution_count": 5,
   "id": "00de146d",
   "metadata": {},
   "outputs": [],
   "source": [
    "workflow1=Graph()"
   ]
  },
  {
   "cell_type": "code",
   "execution_count": 6,
   "id": "ba1091dd",
   "metadata": {},
   "outputs": [
    {
     "data": {
      "text/plain": [
       "<langgraph.graph.graph.Graph at 0x2716bdb5610>"
      ]
     },
     "execution_count": 6,
     "metadata": {},
     "output_type": "execute_result"
    }
   ],
   "source": [
    "workflow1.add_node(\"fun1\",function1)"
   ]
  },
  {
   "cell_type": "code",
   "execution_count": 7,
   "id": "154d6d6f",
   "metadata": {},
   "outputs": [
    {
     "data": {
      "text/plain": [
       "<langgraph.graph.graph.Graph at 0x2716bdb5610>"
      ]
     },
     "execution_count": 7,
     "metadata": {},
     "output_type": "execute_result"
    }
   ],
   "source": [
    "workflow1.add_node(\"fun2\",function2)"
   ]
  },
  {
   "cell_type": "code",
   "execution_count": 8,
   "id": "986f5237",
   "metadata": {},
   "outputs": [
    {
     "data": {
      "text/plain": [
       "<langgraph.graph.graph.Graph at 0x2716bdb5610>"
      ]
     },
     "execution_count": 8,
     "metadata": {},
     "output_type": "execute_result"
    }
   ],
   "source": [
    "workflow1.add_edge(\"fun1\",\"fun2\")"
   ]
  },
  {
   "cell_type": "code",
   "execution_count": 9,
   "id": "d11109cd",
   "metadata": {},
   "outputs": [
    {
     "data": {
      "text/plain": [
       "<langgraph.graph.graph.Graph at 0x2716bdb5610>"
      ]
     },
     "execution_count": 9,
     "metadata": {},
     "output_type": "execute_result"
    }
   ],
   "source": [
    "workflow1.set_entry_point(\"fun1\")"
   ]
  },
  {
   "cell_type": "code",
   "execution_count": 10,
   "id": "16447f1c",
   "metadata": {},
   "outputs": [
    {
     "data": {
      "text/plain": [
       "<langgraph.graph.graph.Graph at 0x2716bdb5610>"
      ]
     },
     "execution_count": 10,
     "metadata": {},
     "output_type": "execute_result"
    }
   ],
   "source": [
    "workflow1.set_finish_point(\"fun2\")"
   ]
  },
  {
   "cell_type": "code",
   "execution_count": 11,
   "id": "c5cc5f09",
   "metadata": {},
   "outputs": [],
   "source": [
    "app=workflow1.compile()"
   ]
  },
  {
   "cell_type": "code",
   "execution_count": 12,
   "id": "6fe813a9",
   "metadata": {},
   "outputs": [],
   "source": [
    "from IPython.display import Image, display"
   ]
  },
  {
   "cell_type": "code",
   "execution_count": 13,
   "id": "c771b507",
   "metadata": {},
   "outputs": [
    {
     "data": {
      "text/plain": [
       "Graph(nodes={'fun1': Node(id='fun1', name='fun1', data=fun1(tags=None, recurse=True, explode_args=False, func_accepts_config=False, func_accepts={}), metadata=None), 'fun2': Node(id='fun2', name='fun2', data=fun2(tags=None, recurse=True, explode_args=False, func_accepts_config=False, func_accepts={}), metadata=None), '__start__': Node(id='__start__', name='__start__', data=None, metadata=None), '__end__': Node(id='__end__', name='__end__', data=None, metadata=None)}, edges=[Edge(source='__start__', target='fun1', data=None, conditional=False), Edge(source='fun1', target='fun2', data=None, conditional=False), Edge(source='fun2', target='__end__', data=None, conditional=False)])"
      ]
     },
     "execution_count": 13,
     "metadata": {},
     "output_type": "execute_result"
    }
   ],
   "source": [
    "app.get_graph()"
   ]
  },
  {
   "cell_type": "code",
   "execution_count": 14,
   "id": "c87ac5fb",
   "metadata": {},
   "outputs": [
    {
     "data": {
      "image/png": "[encoded data removed]",
      "text/plain": [
       "<IPython.core.display.Image object>"
      ]
     },
     "metadata": {},
     "output_type": "display_data"
    }
   ],
   "source": [
    "display(Image(app.get_graph().draw_mermaid_png()))"
   ]
  },
  {
   "cell_type": "code",
   "execution_count": 15,
   "id": "321e8c6d",
   "metadata": {},
   "outputs": [
    {
     "data": {
      "text/plain": [
       "'Hi I am Tapas from first function paul from second function'"
      ]
     },
     "execution_count": 15,
     "metadata": {},
     "output_type": "execute_result"
    }
   ],
   "source": [
    "app.invoke(\"Hi I am Tapas \")"
   ]
  },
  {
   "cell_type": "code",
   "execution_count": 17,
   "id": "5578945e",
   "metadata": {},
   "outputs": [
    {
     "name": "stdout",
     "output_type": "stream",
     "text": [
      "Here is the output from fun1\n",
      "-----------------\n",
      "I am Tapas from first function\n",
      "\n",
      "\n",
      "Here is the output from fun2\n",
      "-----------------\n",
      "I am Tapas from first function paul from second function\n",
      "\n",
      "\n"
     ]
    }
   ],
   "source": [
    "for output in app.stream(\"I am Tapas \"):\n",
    "    for key,value in output.items():\n",
    "        print(f\"Here is the output from {key}\")\n",
    "        print(\"-----------------\")\n",
    "        print(value)\n",
    "        print(\"\\n\")"
   ]
  },
  {
   "cell_type": "code",
   "execution_count": 40,
   "id": "38661072",
   "metadata": {},
   "outputs": [],
   "source": [
    "from langchain_google_genai import ChatGoogleGenerativeAI\n",
    "\n"
   ]
  },
  {
   "cell_type": "code",
   "execution_count": 41,
   "id": "b5e5d4fc",
   "metadata": {},
   "outputs": [],
   "source": [
    "def llm_call(input1):\n",
    "    model=ChatGoogleGenerativeAI(model='gemini-1.5-flash')\n",
    "    output=model.invoke(input1)\n",
    "    return output.content"
   ]
  },
  {
   "cell_type": "code",
   "execution_count": 42,
   "id": "7cf53d36",
   "metadata": {},
   "outputs": [],
   "source": [
    "def token_counter(input2):\n",
    "    token=input2.split()\n",
    "    token_len=len(token)\n",
    "    return f\"Total token in generated answer is {token_len}\""
   ]
  },
  {
   "cell_type": "code",
   "execution_count": 43,
   "id": "52e7780b",
   "metadata": {},
   "outputs": [],
   "source": [
    "workflow2=Graph()"
   ]
  },
  {
   "cell_type": "code",
   "execution_count": 44,
   "id": "4b3ccb9b",
   "metadata": {},
   "outputs": [
    {
     "data": {
      "text/plain": [
       "<langgraph.graph.graph.Graph at 0x2716f137fd0>"
      ]
     },
     "execution_count": 44,
     "metadata": {},
     "output_type": "execute_result"
    }
   ],
   "source": [
    "workflow2.add_node('My_LLM',llm_call)"
   ]
  },
  {
   "cell_type": "code",
   "execution_count": 45,
   "id": "7cf7dd4c",
   "metadata": {},
   "outputs": [
    {
     "data": {
      "text/plain": [
       "<langgraph.graph.graph.Graph at 0x2716f137fd0>"
      ]
     },
     "execution_count": 45,
     "metadata": {},
     "output_type": "execute_result"
    }
   ],
   "source": [
    "workflow2.add_node(\"My_token_counter\",token_counter)"
   ]
  },
  {
   "cell_type": "code",
   "execution_count": 46,
   "id": "c2876930",
   "metadata": {},
   "outputs": [
    {
     "data": {
      "text/plain": [
       "<langgraph.graph.graph.Graph at 0x2716f137fd0>"
      ]
     },
     "execution_count": 46,
     "metadata": {},
     "output_type": "execute_result"
    }
   ],
   "source": [
    "workflow2.add_edge('My_LLM','My_token_counter')"
   ]
  },
  {
   "cell_type": "code",
   "execution_count": 47,
   "id": "9d12722a",
   "metadata": {},
   "outputs": [
    {
     "data": {
      "text/plain": [
       "<langgraph.graph.graph.Graph at 0x2716f137fd0>"
      ]
     },
     "execution_count": 47,
     "metadata": {},
     "output_type": "execute_result"
    }
   ],
   "source": [
    "workflow2.set_entry_point('My_LLM')"
   ]
  },
  {
   "cell_type": "code",
   "execution_count": 48,
   "id": "f66e993a",
   "metadata": {},
   "outputs": [
    {
     "data": {
      "text/plain": [
       "<langgraph.graph.graph.Graph at 0x2716f137fd0>"
      ]
     },
     "execution_count": 48,
     "metadata": {},
     "output_type": "execute_result"
    }
   ],
   "source": [
    "workflow2.set_finish_point(\"My_token_counter\")"
   ]
  },
  {
   "cell_type": "code",
   "execution_count": 49,
   "id": "bb4657c5",
   "metadata": {},
   "outputs": [],
   "source": [
    "app2=workflow2.compile()"
   ]
  },
  {
   "cell_type": "code",
   "execution_count": 50,
   "id": "79b43bbd",
   "metadata": {},
   "outputs": [
    {
     "data": {
      "image/png": "[encoded data removed]",
      "text/plain": [
       "<IPython.core.display.Image object>"
      ]
     },
     "metadata": {},
     "output_type": "display_data"
    }
   ],
   "source": [
    "display(Image(app2.get_graph().draw_mermaid_png()))"
   ]
  },
  {
   "cell_type": "code",
   "execution_count": 51,
   "id": "02d83b9f",
   "metadata": {},
   "outputs": [
    {
     "data": {
      "text/plain": [
       "'Total token in generated answer is 308'"
      ]
     },
     "execution_count": 51,
     "metadata": {},
     "output_type": "execute_result"
    }
   ],
   "source": [
    "app2.invoke(\"Tell me about India's capital city.\")"
   ]
  },
  {
   "cell_type": "code",
   "execution_count": 52,
   "id": "9ea77292",
   "metadata": {},
   "outputs": [
    {
     "data": {
      "text/plain": [
       "'Total token in generated answer is 503'"
      ]
     },
     "execution_count": 52,
     "metadata": {},
     "output_type": "execute_result"
    }
   ],
   "source": [
    "app2.invoke(\"Tell me about Tata enterprise in details.\")"
   ]
  },
  {
   "cell_type": "code",
   "execution_count": 54,
   "id": "ce2cf00a",
   "metadata": {},
   "outputs": [
    {
     "name": "stdout",
     "output_type": "stream",
     "text": [
      "This is from My_LLM\n",
      "------------\n",
      "Tata Enterprises is not a single entity, but rather a massive **conglomerate** – a network of over 100 independent operating companies – under the Tata Group umbrella.  It's one of India's oldest and largest multinational conglomerates, with a presence in nearly every sector imaginable.\n",
      "\n",
      "Here's a breakdown of key aspects:\n",
      "\n",
      "* **History and Founding:**  Founded in 1868 by Jamsetji Tata, the group started with a textile mill and has since grown organically and through acquisitions into a global powerhouse.  Its history is deeply intertwined with India's own development.\n",
      "\n",
      "* **Structure and Ownership:** While technically a network of independent companies, the Tata Trusts, a group of philanthropic trusts, hold significant ownership and influence over the group's strategic direction.  This unique structure emphasizes long-term value creation and social responsibility.\n",
      "\n",
      "* **Major Businesses:** The group's diverse portfolio includes:\n",
      "    * **Automotive:** Tata Motors (cars, trucks, buses), Jaguar Land Rover\n",
      "    * **Steel:** Tata Steel\n",
      "    * **IT Services:** Tata Consultancy Services (TCS), one of the world's largest IT services companies\n",
      "    * **Consumer Goods:** Tata Consumer Products (tea, coffee, etc.), Titan Company (watches, jewellery)\n",
      "    * **Telecommunications:** Tata Teleservices (though significantly scaled back)\n",
      "    * **Hospitality:** Taj Hotels Palaces Resorts Safaris\n",
      "    * **Chemicals:** Tata Chemicals\n",
      "    * **Energy:** Tata Power\n",
      "    * **Infrastructure:** Tata Projects\n",
      "    * **And many more...**\n",
      "\n",
      "* **Global Reach:** Tata companies operate in numerous countries across the globe, not just India.  Their international presence is particularly strong in the automotive, IT services, and hospitality sectors.\n",
      "\n",
      "* **Values and Philosophy:** The Tata Group is known for its strong emphasis on ethical business practices, social responsibility, and long-term sustainability.  This is deeply ingrained in its culture and is a key differentiator.\n",
      "\n",
      "* **Challenges:** Like any large conglomerate, Tata faces challenges such as navigating global economic fluctuations, competition, and maintaining consistent performance across its diverse businesses.  The group also faces the ongoing challenge of balancing its commitment to social responsibility with the demands of profitability.\n",
      "\n",
      "\n",
      "In short, Tata Enterprises (or more accurately, the Tata Group) is a complex and influential entity that has significantly impacted India's economic and social landscape and continues to be a major player on the global stage.  It's more than just a business; it's a legacy built on a combination of entrepreneurial spirit, ethical values, and a long-term vision.\n",
      "\n",
      "\n",
      "This is from My_token_counter\n",
      "------------\n",
      "Total token in generated answer is 372\n",
      "\n",
      "\n"
     ]
    }
   ],
   "source": [
    "for output in app2.stream(\"Tell me about Tata enterprise.\"):\n",
    "    for key,value in output.items():\n",
    "        print(f\"This is from {key}\")\n",
    "        print(\"------------\")\n",
    "        print(value)\n",
    "        print(\"\\n\")"
   ]
  },
  {
   "cell_type": "code",
   "execution_count": null,
   "id": "b871e5fa",
   "metadata": {},
   "outputs": [],
   "source": []
  }
 ],
 "metadata": {
  "kernelspec": {
   "display_name": "agentic_venv",
   "language": "python",
   "name": "python3"
  },
  "language_info": {
   "codemirror_mode": {
    "name": "ipython",
    "version": 3
   },
   "file_extension": ".py",
   "mimetype": "text/x-python",
   "name": "python",
   "nbconvert_exporter": "python",
   "pygments_lexer": "ipython3",
   "version": "3.11.13"
  }
 },
 "nbformat": 4,
 "nbformat_minor": 5
}
